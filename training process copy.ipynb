{
  "cells": [
    {
      "cell_type": "code",
      "execution_count": 1,
      "metadata": {},
      "outputs": [
        {
          "name": "stderr",
          "output_type": "stream",
          "text": [
            "c:\\Users\\123\\Desktop\\torch cuda\\.venv\\lib\\site-packages\\torchaudio\\backend\\utils.py:74: UserWarning: No audio backend is available.\n",
            "  warnings.warn(\"No audio backend is available.\")\n",
            "c:\\Users\\123\\Desktop\\torch cuda\\.venv\\lib\\site-packages\\tqdm\\auto.py:21: TqdmWarning: IProgress not found. Please update jupyter and ipywidgets. See https://ipywidgets.readthedocs.io/en/stable/user_install.html\n",
            "  from .autonotebook import tqdm as notebook_tqdm\n"
          ]
        }
      ],
      "source": [
        "import numpy as np\n",
        "import torch\n",
        "\n",
        "from ssd.utils_ssd300 import dboxes300_coco\n",
        "from ssd.create_model import nvidia_ssd\n",
        "from ssd.utils_ssd300 import Encoder\n",
        "from ssd.model import Loss, SSD300\n",
        "from ssd.SSD_Transformers import SSDTransformer\n",
        "from utils.utils import set_seed\n",
        "from train_model import train_model\n",
        "from ssd.model_eval import model_evaluate\n",
        "\n",
        "\n",
        "from torch.utils.data import DataLoader\n",
        "\n",
        "from config.config import Configs\n",
        "from ssd.model_eval import model_evaluate\n",
        "\n",
        "from ssd.decode_results import Processing as processing\n",
        "from ssd.loader_crowdhuman import CrowdHuman\n"
      ]
    },
    {
      "cell_type": "code",
      "execution_count": 2,
      "metadata": {},
      "outputs": [
        {
          "data": {
            "text/plain": [
              "<All keys matched successfully>"
            ]
          },
          "execution_count": 2,
          "metadata": {},
          "output_type": "execute_result"
        }
      ],
      "source": [
        "device = 'cuda'\n",
        "ssd_300 = nvidia_ssd(device=device, pretrainded_custom=False, pretrained_default=True)\n",
        "\n",
        "feat_ext_w = ssd_300.feature_extractor.state_dict()\n",
        "\n",
        "model = SSD300(label_num=3)\n",
        "model = model.cuda()\n",
        "\n",
        "model.feature_extractor.load_state_dict(feat_ext_w)\n"
      ]
    },
    {
      "cell_type": "code",
      "execution_count": 3,
      "metadata": {},
      "outputs": [
        {
          "name": "stdout",
          "output_type": "stream",
          "text": [
            "load annotation file:  data\\annotation_train.json\n",
            "load annotation file:  data\\annotation_val.json\n",
            "load annotation file:  data\\annotation_test.json\n"
          ]
        }
      ],
      "source": [
        "batch_size = 32\n",
        "device = \"cuda\"\n",
        "\n",
        "for param in model.parameters():\n",
        "    param.requires_grad = True\n",
        "\n",
        "for param in model.feature_extractor.parameters():\n",
        "    param.requires_grad = False\n",
        "\n",
        "dboxes = dboxes300_coco()\n",
        "encoder = Encoder(dboxes)\n",
        "\n",
        "loss_func = Loss(dboxes, device=device)\n",
        "transformers_ssd_train = SSDTransformer(dboxes, size=(300, 300), val=False)\n",
        "transformers_ssd_val = SSDTransformer(dboxes, size=(300, 300), val=True)\n",
        "set_seed()\n",
        "data_train = CrowdHuman(\n",
        "    img_folder=\"data\\\\train\\\\\",\n",
        "    annotate_file=\"data\\\\annotation_train.json\",\n",
        "    transform=transformers_ssd_train,\n",
        "    use_head_bbx=True,\n",
        ")\n",
        "\n",
        "\n",
        "train_dataloader = DataLoader(\n",
        "    data_train,\n",
        "    batch_size=batch_size,\n",
        "    shuffle=True \n",
        ")\n",
        "\n",
        "\n",
        "data_val = CrowdHuman(\n",
        "    img_folder=\"data\\\\val\\\\\",\n",
        "    annotate_file=\"data\\\\annotation_val.json\",\n",
        "    transform=transformers_ssd_val,\n",
        "    use_head_bbx=True,\n",
        ")\n",
        "\n",
        "val_dataloader = DataLoader(\n",
        "    data_val,\n",
        "    batch_size=batch_size,\n",
        "    shuffle=False,  \n",
        ")\n",
        "\n",
        "\n",
        "data_test = CrowdHuman(\n",
        "    img_folder=\"data\\\\test\\\\\",\n",
        "    annotate_file=\"data\\\\annotation_test.json\",\n",
        "    transform=transformers_ssd_val,\n",
        "    use_head_bbx=True,\n",
        ")\n",
        "\n",
        "test_dataloader = DataLoader(\n",
        "    data_test,\n",
        "    batch_size=batch_size,\n",
        "    shuffle=False,  \n",
        ")\n",
        "\n",
        "\n",
        "# https://www.kaggle.com/code/billiemage/understand-lr-scheduler-with-simple-examples\n",
        "params = [p for p in model.parameters() if p.requires_grad]\n",
        "optimizer = torch.optim.Adam(params, lr=0.001)\n",
        "\n",
        "scheduler = torch.optim.lr_scheduler.ReduceLROnPlateau(\n",
        "    optimizer=optimizer, patience=4,threshold = 1e-3, verbose=True, factor=0.5, mode = 'max'\n",
        ")"
      ]
    },
    {
      "cell_type": "code",
      "execution_count": 20,
      "metadata": {},
      "outputs": [],
      "source": [
        "checkpoint = torch.load('weight\\state best_model_at_19_200.pth')"
      ]
    },
    {
      "cell_type": "code",
      "execution_count": 4,
      "metadata": {},
      "outputs": [
        {
          "ename": "NameError",
          "evalue": "name 'checkpoint' is not defined",
          "output_type": "error",
          "traceback": [
            "\u001b[1;31m---------------------------------------------------------------------------\u001b[0m",
            "\u001b[1;31mNameError\u001b[0m                                 Traceback (most recent call last)",
            "Cell \u001b[1;32mIn[4], line 1\u001b[0m\n\u001b[1;32m----> 1\u001b[0m checkpoint\u001b[39m.\u001b[39mkeys()\n",
            "\u001b[1;31mNameError\u001b[0m: name 'checkpoint' is not defined"
          ]
        }
      ],
      "source": [
        "checkpoint.keys()"
      ]
    },
    {
      "cell_type": "code",
      "execution_count": 11,
      "metadata": {},
      "outputs": [],
      "source": [
        "checkpoint = torch.load('weight\\\\state best_model_at_adam2.pth')\n",
        "model.load_state_dict(checkpoint['model'])\n",
        "#optimizer.load_state_dict(checkpoint['optimizer_state'])\n",
        "#scheduler.load_state_dict(checkpoint['lr_scheduler_state'])\n",
        "for param in model.parameters():\n",
        "    param.requires_grad = True\n",
        "\n",
        "for param in model.feature_extractor.parameters():\n",
        "    param.requires_grad = False"
      ]
    },
    {
      "cell_type": "code",
      "execution_count": 12,
      "metadata": {},
      "outputs": [
        {
          "name": "stdout",
          "output_type": "stream",
          "text": [
            "Evaluating\n"
          ]
        },
        {
          "name": "stderr",
          "output_type": "stream",
          "text": [
            "100%|\u2588\u2588\u2588\u2588\u2588\u2588\u2588\u2588\u2588\u2588| 47/47 [04:09<00:00,  5.31s/it]\n"
          ]
        }
      ],
      "source": [
        "res2 = model_evaluate(\n",
        "    model = model,\n",
        "    encoder = encoder,\n",
        "    val_dataloader = test_dataloader,\n",
        "    device=device,\n",
        "    use_pick_best=False,\n",
        "    threshold = Configs.decode_result[\"pic_threshold\"]\n",
        ")"
      ]
    },
    {
      "cell_type": "code",
      "execution_count": 14,
      "metadata": {},
      "outputs": [
        {
          "data": {
            "text/plain": [
              "{'map': tensor(0.1682),\n",
              " 'map_50': tensor(0.3849),\n",
              " 'map_75': tensor(0.1273),\n",
              " 'map_small': tensor(0.0188),\n",
              " 'map_medium': tensor(0.1921),\n",
              " 'map_large': tensor(0.3968),\n",
              " 'mar_1': tensor(0.0249),\n",
              " 'mar_10': tensor(0.1502),\n",
              " 'mar_100': tensor(0.2364),\n",
              " 'mar_small': tensor(0.0603),\n",
              " 'mar_medium': tensor(0.2761),\n",
              " 'mar_large': tensor(0.4846),\n",
              " 'map_per_class': tensor(-1.),\n",
              " 'mar_100_per_class': tensor(-1.),\n",
              " 'classes': tensor([1, 2], dtype=torch.int32)}"
            ]
          },
          "execution_count": 14,
          "metadata": {},
          "output_type": "execute_result"
        }
      ],
      "source": [
        "res2"
      ]
    },
    {
      "cell_type": "code",
      "execution_count": null,
      "metadata": {},
      "outputs": [],
      "source": []
    },
    {
      "cell_type": "code",
      "execution_count": 17,
      "metadata": {},
      "outputs": [
        {
          "data": {
            "text/plain": [
              "{'map': tensor(8.3266e-06),\n",
              " 'map_50': tensor(4.9525e-05),\n",
              " 'map_75': tensor(8.8619e-07),\n",
              " 'map_small': tensor(0.0001),\n",
              " 'map_medium': tensor(1.3026e-05),\n",
              " 'map_large': tensor(1.2189e-05),\n",
              " 'mar_1': tensor(1.4826e-05),\n",
              " 'mar_10': tensor(0.0002),\n",
              " 'mar_100': tensor(0.0015),\n",
              " 'mar_small': tensor(4.2412e-05),\n",
              " 'mar_medium': tensor(0.0034),\n",
              " 'mar_large': tensor(0.0035),\n",
              " 'map_per_class': tensor(-1.),\n",
              " 'mar_100_per_class': tensor(-1.),\n",
              " 'classes': tensor([1, 2], dtype=torch.int32)}"
            ]
          },
          "execution_count": 17,
          "metadata": {},
          "output_type": "execute_result"
        }
      ],
      "source": [
        "res2"
      ]
    },
    {
      "cell_type": "code",
      "execution_count": 9,
      "metadata": {},
      "outputs": [
        {
          "data": {
            "text/plain": [
              "{'map': tensor(0.1473),\n",
              " 'map_50': tensor(0.3136),\n",
              " 'map_75': tensor(0.1213),\n",
              " 'map_small': tensor(0.0141),\n",
              " 'map_medium': tensor(0.1637),\n",
              " 'map_large': tensor(0.3634),\n",
              " 'mar_1': tensor(0.0248),\n",
              " 'mar_10': tensor(0.1440),\n",
              " 'mar_100': tensor(0.1817),\n",
              " 'mar_small': tensor(0.0252),\n",
              " 'mar_medium': tensor(0.2084),\n",
              " 'mar_large': tensor(0.4266),\n",
              " 'map_per_class': tensor(-1.),\n",
              " 'mar_100_per_class': tensor(-1.),\n",
              " 'classes': tensor([1, 2], dtype=torch.int32)}"
            ]
          },
          "execution_count": 9,
          "metadata": {},
          "output_type": "execute_result"
        }
      ],
      "source": [
        "res1"
      ]
    },
    {
      "cell_type": "code",
      "execution_count": null,
      "metadata": {},
      "outputs": [],
      "source": []
    },
    {
      "cell_type": "code",
      "execution_count": 5,
      "metadata": {},
      "outputs": [
        {
          "name": "stdout",
          "output_type": "stream",
          "text": [
            "Evaluating\n"
          ]
        },
        {
          "name": "stderr",
          "output_type": "stream",
          "text": [
            "100%|\u2588\u2588\u2588\u2588\u2588\u2588\u2588\u2588\u2588\u2588| 47/47 [04:10<00:00,  5.33s/it]\n",
            "c:\\Users\\123\\Desktop\\torch cuda\\.venv\\lib\\site-packages\\torchmetrics\\utilities\\prints.py:42: UserWarning: Encountered more than 100 detections in a single image. This means that certain detections with the lowest scores will be ignored, that may have an undesirable impact on performance. Please consider adjusting the `max_detection_threshold` to suit your use case. To disable this warning, set attribute class `warn_on_many_detections=False`, after initializing the metric.\n",
            "  warnings.warn(*args, **kwargs)  # noqa: B028\n"
          ]
        }
      ],
      "source": [
        "res = model_evaluate(\n",
        "    model = model,\n",
        "    encoder = encoder,\n",
        "    val_dataloader = test_dataloader,\n",
        "    device=device,\n",
        "    use_pick_best=False,\n",
        "    threshold = Configs.decode_result[\"pic_threshold\"]\n",
        ")"
      ]
    },
    {
      "cell_type": "code",
      "execution_count": 6,
      "metadata": {},
      "outputs": [
        {
          "data": {
            "text/plain": [
              "{'map': tensor(0.1682),\n",
              " 'map_50': tensor(0.3849),\n",
              " 'map_75': tensor(0.1273),\n",
              " 'map_small': tensor(0.0188),\n",
              " 'map_medium': tensor(0.1921),\n",
              " 'map_large': tensor(0.3968),\n",
              " 'mar_1': tensor(0.0249),\n",
              " 'mar_10': tensor(0.1502),\n",
              " 'mar_100': tensor(0.2364),\n",
              " 'mar_small': tensor(0.0603),\n",
              " 'mar_medium': tensor(0.2761),\n",
              " 'mar_large': tensor(0.4846),\n",
              " 'map_per_class': tensor(-1.),\n",
              " 'mar_100_per_class': tensor(-1.),\n",
              " 'classes': tensor([1, 2], dtype=torch.int32)}"
            ]
          },
          "execution_count": 6,
          "metadata": {},
          "output_type": "execute_result"
        }
      ],
      "source": [
        "res"
      ]
    },
    {
      "cell_type": "code",
      "execution_count": null,
      "metadata": {},
      "outputs": [],
      "source": []
    },
    {
      "cell_type": "code",
      "execution_count": 8,
      "metadata": {},
      "outputs": [],
      "source": [
        "checkpoint = torch.load('weight\\state best_model_at_adam1.pth')\n",
        "model.load_state_dict(checkpoint['model'])\n",
        "optimizer.load_state_dict(checkpoint['optimizer_state'])\n",
        "#scheduler.load_state_dict(checkpoint['lr_scheduler_state'])\n",
        "for param in model.parameters():\n",
        "    param.requires_grad = True\n",
        "\n",
        "for param in model.feature_extractor.parameters():\n",
        "    param.requires_grad = False"
      ]
    },
    {
      "cell_type": "code",
      "execution_count": 19,
      "metadata": {},
      "outputs": [
        {
          "data": {
            "text/plain": [
              "Adam (\n",
              "Parameter Group 0\n",
              "    amsgrad: False\n",
              "    betas: (0.9, 0.999)\n",
              "    capturable: False\n",
              "    differentiable: False\n",
              "    eps: 1e-08\n",
              "    foreach: None\n",
              "    fused: None\n",
              "    lr: 0.001\n",
              "    maximize: False\n",
              "    weight_decay: 0\n",
              ")"
            ]
          },
          "execution_count": 19,
          "metadata": {},
          "output_type": "execute_result"
        }
      ],
      "source": [
        "optimizer"
      ]
    },
    {
      "cell_type": "code",
      "execution_count": 23,
      "metadata": {},
      "outputs": [
        {
          "name": "stdout",
          "output_type": "stream",
          "text": [
            "\n",
            "EPOCH 1 of 100\n",
            "Training\n"
          ]
        },
        {
          "name": "stderr",
          "output_type": "stream",
          "text": [
            "100%|\u2588\u2588\u2588\u2588\u2588\u2588\u2588\u2588\u2588\u2588| 235/235 [08:05<00:00,  2.07s/it]\n"
          ]
        },
        {
          "name": "stdout",
          "output_type": "stream",
          "text": [
            "Evaluating\n"
          ]
        },
        {
          "name": "stderr",
          "output_type": "stream",
          "text": [
            "100%|\u2588\u2588\u2588\u2588\u2588\u2588\u2588\u2588\u2588\u2588| 47/47 [04:04<00:00,  5.20s/it]\n"
          ]
        },
        {
          "name": "stdout",
          "output_type": "stream",
          "text": [
            "Epoch #1 train loss: 4.816\n",
            "Epoch #1 mAP: 0.12595567107200623\n",
            "Epoch #1 mAP_50: 0.3397454619407654\n",
            "Epoch #1 best mAP: 0.12595567107200623 at epoch = 1\n",
            "Took 13.181 minutes for epoch 1\n",
            "\n",
            "EPOCH 2 of 100\n",
            "Training\n"
          ]
        },
        {
          "name": "stderr",
          "output_type": "stream",
          "text": [
            "100%|\u2588\u2588\u2588\u2588\u2588\u2588\u2588\u2588\u2588\u2588| 235/235 [08:02<00:00,  2.05s/it]\n"
          ]
        },
        {
          "name": "stdout",
          "output_type": "stream",
          "text": [
            "Evaluating\n"
          ]
        },
        {
          "name": "stderr",
          "output_type": "stream",
          "text": [
            "100%|\u2588\u2588\u2588\u2588\u2588\u2588\u2588\u2588\u2588\u2588| 47/47 [04:15<00:00,  5.44s/it]\n"
          ]
        },
        {
          "name": "stdout",
          "output_type": "stream",
          "text": [
            "Epoch #2 train loss: 4.129\n",
            "Epoch #2 mAP: 0.12814216315746307\n",
            "Epoch #2 mAP_50: 0.3350874185562134\n",
            "Epoch #2 best mAP: 0.12814216315746307 at epoch = 2\n",
            "Took 13.273 minutes for epoch 2\n",
            "\n",
            "EPOCH 3 of 100\n",
            "Training\n"
          ]
        },
        {
          "name": "stderr",
          "output_type": "stream",
          "text": [
            "100%|\u2588\u2588\u2588\u2588\u2588\u2588\u2588\u2588\u2588\u2588| 235/235 [08:29<00:00,  2.17s/it]\n"
          ]
        },
        {
          "name": "stdout",
          "output_type": "stream",
          "text": [
            "Evaluating\n"
          ]
        },
        {
          "name": "stderr",
          "output_type": "stream",
          "text": [
            "100%|\u2588\u2588\u2588\u2588\u2588\u2588\u2588\u2588\u2588\u2588| 47/47 [04:03<00:00,  5.18s/it]\n"
          ]
        },
        {
          "name": "stdout",
          "output_type": "stream",
          "text": [
            "Epoch #3 train loss: 4.019\n",
            "Epoch #3 mAP: 0.13561387360095978\n",
            "Epoch #3 mAP_50: 0.3398529589176178\n",
            "Epoch #3 best mAP: 0.13561387360095978 at epoch = 3\n",
            "Took 13.507 minutes for epoch 3\n",
            "\n",
            "EPOCH 4 of 100\n",
            "Training\n"
          ]
        },
        {
          "name": "stderr",
          "output_type": "stream",
          "text": [
            "100%|\u2588\u2588\u2588\u2588\u2588\u2588\u2588\u2588\u2588\u2588| 235/235 [08:29<00:00,  2.17s/it]\n"
          ]
        },
        {
          "name": "stdout",
          "output_type": "stream",
          "text": [
            "Evaluating\n"
          ]
        },
        {
          "name": "stderr",
          "output_type": "stream",
          "text": [
            "100%|\u2588\u2588\u2588\u2588\u2588\u2588\u2588\u2588\u2588\u2588| 47/47 [04:08<00:00,  5.29s/it]\n"
          ]
        },
        {
          "name": "stdout",
          "output_type": "stream",
          "text": [
            "Epoch #4 train loss: 3.980\n",
            "Epoch #4 mAP: 0.14416079223155975\n",
            "Epoch #4 mAP_50: 0.3588882386684418\n",
            "Epoch #4 best mAP: 0.14416079223155975 at epoch = 4\n",
            "Took 13.608 minutes for epoch 4\n",
            "\n",
            "EPOCH 5 of 100\n",
            "Training\n"
          ]
        },
        {
          "name": "stderr",
          "output_type": "stream",
          "text": [
            "100%|\u2588\u2588\u2588\u2588\u2588\u2588\u2588\u2588\u2588\u2588| 235/235 [08:31<00:00,  2.18s/it]\n"
          ]
        },
        {
          "name": "stdout",
          "output_type": "stream",
          "text": [
            "Evaluating\n"
          ]
        },
        {
          "name": "stderr",
          "output_type": "stream",
          "text": [
            "100%|\u2588\u2588\u2588\u2588\u2588\u2588\u2588\u2588\u2588\u2588| 47/47 [04:08<00:00,  5.29s/it]\n"
          ]
        },
        {
          "name": "stdout",
          "output_type": "stream",
          "text": [
            "Epoch #5 train loss: 3.924\n",
            "Epoch #5 mAP: 0.1413436233997345\n",
            "Epoch #5 mAP_50: 0.344051718711853\n",
            "Epoch #5 best mAP: 0.14416079223155975 at epoch = 4\n",
            "Took 13.689 minutes for epoch 5\n",
            "\n",
            "EPOCH 6 of 100\n",
            "Training\n"
          ]
        },
        {
          "name": "stderr",
          "output_type": "stream",
          "text": [
            "100%|\u2588\u2588\u2588\u2588\u2588\u2588\u2588\u2588\u2588\u2588| 235/235 [08:29<00:00,  2.17s/it]\n"
          ]
        },
        {
          "name": "stdout",
          "output_type": "stream",
          "text": [
            "Evaluating\n"
          ]
        },
        {
          "name": "stderr",
          "output_type": "stream",
          "text": [
            "100%|\u2588\u2588\u2588\u2588\u2588\u2588\u2588\u2588\u2588\u2588| 47/47 [04:09<00:00,  5.31s/it]\n"
          ]
        },
        {
          "name": "stdout",
          "output_type": "stream",
          "text": [
            "Epoch #6 train loss: 3.928\n",
            "Epoch #6 mAP: 0.14296184480190277\n",
            "Epoch #6 mAP_50: 0.3533254563808441\n",
            "Epoch #6 best mAP: 0.14416079223155975 at epoch = 4\n",
            "Took 13.641 minutes for epoch 6\n",
            "\n",
            "EPOCH 7 of 100\n",
            "Training\n"
          ]
        },
        {
          "name": "stderr",
          "output_type": "stream",
          "text": [
            "100%|\u2588\u2588\u2588\u2588\u2588\u2588\u2588\u2588\u2588\u2588| 235/235 [08:30<00:00,  2.17s/it]\n"
          ]
        },
        {
          "name": "stdout",
          "output_type": "stream",
          "text": [
            "Evaluating\n"
          ]
        },
        {
          "name": "stderr",
          "output_type": "stream",
          "text": [
            "100%|\u2588\u2588\u2588\u2588\u2588\u2588\u2588\u2588\u2588\u2588| 47/47 [04:06<00:00,  5.24s/it]\n"
          ]
        },
        {
          "name": "stdout",
          "output_type": "stream",
          "text": [
            "Epoch #7 train loss: 3.880\n",
            "Epoch #7 mAP: 0.1452462375164032\n",
            "Epoch #7 mAP_50: 0.3564397990703583\n",
            "Epoch #7 best mAP: 0.1452462375164032 at epoch = 7\n",
            "Took 13.635 minutes for epoch 7\n",
            "\n",
            "EPOCH 8 of 100\n",
            "Training\n"
          ]
        },
        {
          "name": "stderr",
          "output_type": "stream",
          "text": [
            "100%|\u2588\u2588\u2588\u2588\u2588\u2588\u2588\u2588\u2588\u2588| 235/235 [08:32<00:00,  2.18s/it]\n"
          ]
        },
        {
          "name": "stdout",
          "output_type": "stream",
          "text": [
            "Evaluating\n"
          ]
        },
        {
          "name": "stderr",
          "output_type": "stream",
          "text": [
            "100%|\u2588\u2588\u2588\u2588\u2588\u2588\u2588\u2588\u2588\u2588| 47/47 [04:03<00:00,  5.18s/it]\n"
          ]
        },
        {
          "name": "stdout",
          "output_type": "stream",
          "text": [
            "Epoch #8 train loss: 3.885\n",
            "Epoch #8 mAP: 0.14846225082874298\n",
            "Epoch #8 mAP_50: 0.3592079281806946\n",
            "Epoch #8 best mAP: 0.14846225082874298 at epoch = 8\n",
            "Took 13.621 minutes for epoch 8\n",
            "\n",
            "EPOCH 9 of 100\n",
            "Training\n"
          ]
        },
        {
          "name": "stderr",
          "output_type": "stream",
          "text": [
            "100%|\u2588\u2588\u2588\u2588\u2588\u2588\u2588\u2588\u2588\u2588| 235/235 [08:29<00:00,  2.17s/it]\n"
          ]
        },
        {
          "name": "stdout",
          "output_type": "stream",
          "text": [
            "Evaluating\n"
          ]
        },
        {
          "name": "stderr",
          "output_type": "stream",
          "text": [
            "100%|\u2588\u2588\u2588\u2588\u2588\u2588\u2588\u2588\u2588\u2588| 47/47 [04:09<00:00,  5.32s/it]\n"
          ]
        },
        {
          "name": "stdout",
          "output_type": "stream",
          "text": [
            "Epoch #9 train loss: 3.859\n",
            "Epoch #9 mAP: 0.14281083643436432\n",
            "Epoch #9 mAP_50: 0.35254985094070435\n",
            "Epoch #9 best mAP: 0.14846225082874298 at epoch = 8\n",
            "Took 13.597 minutes for epoch 9\n",
            "\n",
            "EPOCH 10 of 100\n",
            "Training\n"
          ]
        },
        {
          "name": "stderr",
          "output_type": "stream",
          "text": [
            "100%|\u2588\u2588\u2588\u2588\u2588\u2588\u2588\u2588\u2588\u2588| 235/235 [08:24<00:00,  2.15s/it]\n"
          ]
        },
        {
          "name": "stdout",
          "output_type": "stream",
          "text": [
            "Evaluating\n"
          ]
        },
        {
          "name": "stderr",
          "output_type": "stream",
          "text": [
            "100%|\u2588\u2588\u2588\u2588\u2588\u2588\u2588\u2588\u2588\u2588| 47/47 [04:05<00:00,  5.21s/it]\n"
          ]
        },
        {
          "name": "stdout",
          "output_type": "stream",
          "text": [
            "Epoch #10 train loss: 3.876\n",
            "Epoch #10 mAP: 0.14704522490501404\n",
            "Epoch #10 mAP_50: 0.3567724823951721\n",
            "Epoch #10 best mAP: 0.14846225082874298 at epoch = 8\n",
            "Took 13.460 minutes for epoch 10\n",
            "\n",
            "EPOCH 11 of 100\n",
            "Training\n"
          ]
        },
        {
          "name": "stderr",
          "output_type": "stream",
          "text": [
            "100%|\u2588\u2588\u2588\u2588\u2588\u2588\u2588\u2588\u2588\u2588| 235/235 [08:33<00:00,  2.19s/it]\n"
          ]
        },
        {
          "name": "stdout",
          "output_type": "stream",
          "text": [
            "Evaluating\n"
          ]
        },
        {
          "name": "stderr",
          "output_type": "stream",
          "text": [
            "100%|\u2588\u2588\u2588\u2588\u2588\u2588\u2588\u2588\u2588\u2588| 47/47 [04:05<00:00,  5.22s/it]\n"
          ]
        },
        {
          "name": "stdout",
          "output_type": "stream",
          "text": [
            "Epoch #11 train loss: 3.845\n",
            "Epoch #11 mAP: 0.14175532758235931\n",
            "Epoch #11 mAP_50: 0.34487929940223694\n",
            "Epoch #11 best mAP: 0.14846225082874298 at epoch = 8\n",
            "Took 13.582 minutes for epoch 11\n",
            "\n",
            "EPOCH 12 of 100\n",
            "Training\n"
          ]
        },
        {
          "name": "stderr",
          "output_type": "stream",
          "text": [
            "100%|\u2588\u2588\u2588\u2588\u2588\u2588\u2588\u2588\u2588\u2588| 235/235 [08:32<00:00,  2.18s/it]\n"
          ]
        },
        {
          "name": "stdout",
          "output_type": "stream",
          "text": [
            "Evaluating\n"
          ]
        },
        {
          "name": "stderr",
          "output_type": "stream",
          "text": [
            "100%|\u2588\u2588\u2588\u2588\u2588\u2588\u2588\u2588\u2588\u2588| 47/47 [04:14<00:00,  5.41s/it]\n"
          ]
        },
        {
          "name": "stdout",
          "output_type": "stream",
          "text": [
            "Epoch #12 train loss: 3.826\n",
            "Epoch #12 mAP: 0.14019568264484406\n",
            "Epoch #12 mAP_50: 0.341690331697464\n",
            "Epoch #12 best mAP: 0.14846225082874298 at epoch = 8\n",
            "Took 13.814 minutes for epoch 12\n",
            "\n",
            "EPOCH 13 of 100\n",
            "Training\n"
          ]
        },
        {
          "name": "stderr",
          "output_type": "stream",
          "text": [
            "100%|\u2588\u2588\u2588\u2588\u2588\u2588\u2588\u2588\u2588\u2588| 235/235 [08:35<00:00,  2.20s/it]\n"
          ]
        },
        {
          "name": "stdout",
          "output_type": "stream",
          "text": [
            "Evaluating\n"
          ]
        },
        {
          "name": "stderr",
          "output_type": "stream",
          "text": [
            "100%|\u2588\u2588\u2588\u2588\u2588\u2588\u2588\u2588\u2588\u2588| 47/47 [04:11<00:00,  5.35s/it]\n"
          ]
        },
        {
          "name": "stdout",
          "output_type": "stream",
          "text": [
            "Epoch #13 train loss: 3.840\n",
            "Epoch #13 mAP: 0.15053057670593262\n",
            "Epoch #13 mAP_50: 0.36319833993911743\n",
            "Epoch #13 best mAP: 0.15053057670593262 at epoch = 13\n",
            "Took 13.815 minutes for epoch 13\n",
            "\n",
            "EPOCH 14 of 100\n",
            "Training\n"
          ]
        },
        {
          "name": "stderr",
          "output_type": "stream",
          "text": [
            "100%|\u2588\u2588\u2588\u2588\u2588\u2588\u2588\u2588\u2588\u2588| 235/235 [08:27<00:00,  2.16s/it]\n"
          ]
        },
        {
          "name": "stdout",
          "output_type": "stream",
          "text": [
            "Evaluating\n"
          ]
        },
        {
          "name": "stderr",
          "output_type": "stream",
          "text": [
            "100%|\u2588\u2588\u2588\u2588\u2588\u2588\u2588\u2588\u2588\u2588| 47/47 [04:12<00:00,  5.37s/it]\n"
          ]
        },
        {
          "name": "stdout",
          "output_type": "stream",
          "text": [
            "Epoch #14 train loss: 3.802\n",
            "Epoch #14 mAP: 0.14837698638439178\n",
            "Epoch #14 mAP_50: 0.35655948519706726\n",
            "Epoch #14 best mAP: 0.15053057670593262 at epoch = 13\n",
            "Took 13.638 minutes for epoch 14\n",
            "\n",
            "EPOCH 15 of 100\n",
            "Training\n"
          ]
        },
        {
          "name": "stderr",
          "output_type": "stream",
          "text": [
            "100%|\u2588\u2588\u2588\u2588\u2588\u2588\u2588\u2588\u2588\u2588| 235/235 [08:27<00:00,  2.16s/it]\n"
          ]
        },
        {
          "name": "stdout",
          "output_type": "stream",
          "text": [
            "Evaluating\n"
          ]
        },
        {
          "name": "stderr",
          "output_type": "stream",
          "text": [
            "100%|\u2588\u2588\u2588\u2588\u2588\u2588\u2588\u2588\u2588\u2588| 47/47 [04:00<00:00,  5.12s/it]\n"
          ]
        },
        {
          "name": "stdout",
          "output_type": "stream",
          "text": [
            "Epoch #15 train loss: 3.806\n",
            "Epoch #15 mAP: 0.14577282965183258\n",
            "Epoch #15 mAP_50: 0.35739460587501526\n",
            "Epoch #15 best mAP: 0.15053057670593262 at epoch = 13\n",
            "Took 13.411 minutes for epoch 15\n",
            "\n",
            "EPOCH 16 of 100\n",
            "Training\n"
          ]
        },
        {
          "name": "stderr",
          "output_type": "stream",
          "text": [
            "100%|\u2588\u2588\u2588\u2588\u2588\u2588\u2588\u2588\u2588\u2588| 235/235 [08:29<00:00,  2.17s/it]\n"
          ]
        },
        {
          "name": "stdout",
          "output_type": "stream",
          "text": [
            "Evaluating\n"
          ]
        },
        {
          "name": "stderr",
          "output_type": "stream",
          "text": [
            "100%|\u2588\u2588\u2588\u2588\u2588\u2588\u2588\u2588\u2588\u2588| 47/47 [04:14<00:00,  5.42s/it]\n"
          ]
        },
        {
          "name": "stdout",
          "output_type": "stream",
          "text": [
            "Epoch #16 train loss: 3.807\n",
            "Epoch #16 mAP: 0.14916107058525085\n",
            "Epoch #16 mAP_50: 0.3630758225917816\n",
            "Epoch #16 best mAP: 0.15053057670593262 at epoch = 13\n",
            "Took 13.735 minutes for epoch 16\n",
            "\n",
            "EPOCH 17 of 100\n",
            "Training\n"
          ]
        },
        {
          "name": "stderr",
          "output_type": "stream",
          "text": [
            "100%|\u2588\u2588\u2588\u2588\u2588\u2588\u2588\u2588\u2588\u2588| 235/235 [08:02<00:00,  2.06s/it]\n"
          ]
        },
        {
          "name": "stdout",
          "output_type": "stream",
          "text": [
            "Evaluating\n"
          ]
        },
        {
          "name": "stderr",
          "output_type": "stream",
          "text": [
            "100%|\u2588\u2588\u2588\u2588\u2588\u2588\u2588\u2588\u2588\u2588| 47/47 [03:40<00:00,  4.70s/it]\n"
          ]
        },
        {
          "name": "stdout",
          "output_type": "stream",
          "text": [
            "Epoch #17 train loss: 3.798\n",
            "Epoch #17 mAP: 0.15163205564022064\n",
            "Epoch #17 mAP_50: 0.365223228931427\n",
            "Epoch #17 best mAP: 0.15163205564022064 at epoch = 17\n",
            "Took 12.724 minutes for epoch 17\n",
            "\n",
            "EPOCH 18 of 100\n",
            "Training\n"
          ]
        },
        {
          "name": "stderr",
          "output_type": "stream",
          "text": [
            "100%|\u2588\u2588\u2588\u2588\u2588\u2588\u2588\u2588\u2588\u2588| 235/235 [08:24<00:00,  2.15s/it]\n"
          ]
        },
        {
          "name": "stdout",
          "output_type": "stream",
          "text": [
            "Evaluating\n"
          ]
        },
        {
          "name": "stderr",
          "output_type": "stream",
          "text": [
            "100%|\u2588\u2588\u2588\u2588\u2588\u2588\u2588\u2588\u2588\u2588| 47/47 [03:58<00:00,  5.08s/it]\n"
          ]
        },
        {
          "name": "stdout",
          "output_type": "stream",
          "text": [
            "Epoch #18 train loss: 3.807\n",
            "Epoch #18 mAP: 0.14569346606731415\n",
            "Epoch #18 mAP_50: 0.35522937774658203\n",
            "Epoch #18 best mAP: 0.15163205564022064 at epoch = 17\n",
            "Took 13.344 minutes for epoch 18\n",
            "\n",
            "EPOCH 19 of 100\n",
            "Training\n"
          ]
        },
        {
          "name": "stderr",
          "output_type": "stream",
          "text": [
            "100%|\u2588\u2588\u2588\u2588\u2588\u2588\u2588\u2588\u2588\u2588| 235/235 [08:23<00:00,  2.14s/it]\n"
          ]
        },
        {
          "name": "stdout",
          "output_type": "stream",
          "text": [
            "Evaluating\n"
          ]
        },
        {
          "name": "stderr",
          "output_type": "stream",
          "text": [
            "100%|\u2588\u2588\u2588\u2588\u2588\u2588\u2588\u2588\u2588\u2588| 47/47 [03:57<00:00,  5.06s/it]\n"
          ]
        },
        {
          "name": "stdout",
          "output_type": "stream",
          "text": [
            "Epoch #19 train loss: 3.800\n",
            "Epoch #19 mAP: 0.1500578671693802\n",
            "Epoch #19 mAP_50: 0.3593083620071411\n",
            "Epoch #19 best mAP: 0.15163205564022064 at epoch = 17\n",
            "Took 13.305 minutes for epoch 19\n",
            "\n",
            "EPOCH 20 of 100\n",
            "Training\n"
          ]
        },
        {
          "name": "stderr",
          "output_type": "stream",
          "text": [
            "100%|\u2588\u2588\u2588\u2588\u2588\u2588\u2588\u2588\u2588\u2588| 235/235 [08:25<00:00,  2.15s/it]\n"
          ]
        },
        {
          "name": "stdout",
          "output_type": "stream",
          "text": [
            "Evaluating\n"
          ]
        },
        {
          "name": "stderr",
          "output_type": "stream",
          "text": [
            "100%|\u2588\u2588\u2588\u2588\u2588\u2588\u2588\u2588\u2588\u2588| 47/47 [04:11<00:00,  5.35s/it]\n"
          ]
        },
        {
          "name": "stdout",
          "output_type": "stream",
          "text": [
            "Epoch #20 train loss: 3.789\n",
            "Epoch #20 mAP: 0.14693403244018555\n",
            "Epoch #20 mAP_50: 0.3608900010585785\n",
            "Epoch #20 best mAP: 0.15163205564022064 at epoch = 17\n",
            "Took 13.599 minutes for epoch 20\n",
            "\n",
            "EPOCH 21 of 100\n",
            "Training\n"
          ]
        },
        {
          "name": "stderr",
          "output_type": "stream",
          "text": [
            "100%|\u2588\u2588\u2588\u2588\u2588\u2588\u2588\u2588\u2588\u2588| 235/235 [08:27<00:00,  2.16s/it]\n"
          ]
        },
        {
          "name": "stdout",
          "output_type": "stream",
          "text": [
            "Evaluating\n"
          ]
        },
        {
          "name": "stderr",
          "output_type": "stream",
          "text": [
            "100%|\u2588\u2588\u2588\u2588\u2588\u2588\u2588\u2588\u2588\u2588| 47/47 [03:50<00:00,  4.91s/it]\n"
          ]
        },
        {
          "name": "stdout",
          "output_type": "stream",
          "text": [
            "Epoch #21 train loss: 3.780\n",
            "Epoch #21 mAP: 0.14978408813476562\n",
            "Epoch #21 mAP_50: 0.354947030544281\n",
            "Epoch #21 best mAP: 0.15163205564022064 at epoch = 17\n",
            "Took 13.265 minutes for epoch 21\n",
            "\n",
            "EPOCH 22 of 100\n",
            "Training\n"
          ]
        },
        {
          "name": "stderr",
          "output_type": "stream",
          "text": [
            "100%|\u2588\u2588\u2588\u2588\u2588\u2588\u2588\u2588\u2588\u2588| 235/235 [08:29<00:00,  2.17s/it]\n"
          ]
        },
        {
          "name": "stdout",
          "output_type": "stream",
          "text": [
            "Evaluating\n"
          ]
        },
        {
          "name": "stderr",
          "output_type": "stream",
          "text": [
            "100%|\u2588\u2588\u2588\u2588\u2588\u2588\u2588\u2588\u2588\u2588| 47/47 [04:07<00:00,  5.26s/it]\n"
          ]
        },
        {
          "name": "stdout",
          "output_type": "stream",
          "text": [
            "Epoch #22 train loss: 3.788\n",
            "Epoch #22 mAP: 0.14746353030204773\n",
            "Epoch #22 mAP_50: 0.35738605260849\n",
            "Epoch #22 best mAP: 0.15163205564022064 at epoch = 17\n",
            "Took 13.588 minutes for epoch 22\n",
            "Epoch 00022: reducing learning rate of group 0 to 5.0000e-04.\n",
            "\n",
            "EPOCH 23 of 100\n",
            "Training\n"
          ]
        },
        {
          "name": "stderr",
          "output_type": "stream",
          "text": [
            "100%|\u2588\u2588\u2588\u2588\u2588\u2588\u2588\u2588\u2588\u2588| 235/235 [08:24<00:00,  2.15s/it]\n"
          ]
        },
        {
          "name": "stdout",
          "output_type": "stream",
          "text": [
            "Evaluating\n"
          ]
        },
        {
          "name": "stderr",
          "output_type": "stream",
          "text": [
            "100%|\u2588\u2588\u2588\u2588\u2588\u2588\u2588\u2588\u2588\u2588| 47/47 [04:08<00:00,  5.30s/it]\n"
          ]
        },
        {
          "name": "stdout",
          "output_type": "stream",
          "text": [
            "Epoch #23 train loss: 3.701\n",
            "Epoch #23 mAP: 0.1538369357585907\n",
            "Epoch #23 mAP_50: 0.36559370160102844\n",
            "Epoch #23 best mAP: 0.1538369357585907 at epoch = 23\n",
            "Took 13.560 minutes for epoch 23\n",
            "\n",
            "EPOCH 24 of 100\n",
            "Training\n"
          ]
        },
        {
          "name": "stderr",
          "output_type": "stream",
          "text": [
            "100%|\u2588\u2588\u2588\u2588\u2588\u2588\u2588\u2588\u2588\u2588| 235/235 [08:25<00:00,  2.15s/it]\n"
          ]
        },
        {
          "name": "stdout",
          "output_type": "stream",
          "text": [
            "Evaluating\n"
          ]
        },
        {
          "name": "stderr",
          "output_type": "stream",
          "text": [
            "100%|\u2588\u2588\u2588\u2588\u2588\u2588\u2588\u2588\u2588\u2588| 47/47 [04:15<00:00,  5.44s/it]\n"
          ]
        },
        {
          "name": "stdout",
          "output_type": "stream",
          "text": [
            "Epoch #24 train loss: 3.688\n",
            "Epoch #24 mAP: 0.15135790407657623\n",
            "Epoch #24 mAP_50: 0.3554108142852783\n",
            "Epoch #24 best mAP: 0.1538369357585907 at epoch = 23\n",
            "Took 13.664 minutes for epoch 24\n",
            "\n",
            "EPOCH 25 of 100\n",
            "Training\n"
          ]
        },
        {
          "name": "stderr",
          "output_type": "stream",
          "text": [
            "100%|\u2588\u2588\u2588\u2588\u2588\u2588\u2588\u2588\u2588\u2588| 235/235 [08:14<00:00,  2.10s/it]\n"
          ]
        },
        {
          "name": "stdout",
          "output_type": "stream",
          "text": [
            "Evaluating\n"
          ]
        },
        {
          "name": "stderr",
          "output_type": "stream",
          "text": [
            "100%|\u2588\u2588\u2588\u2588\u2588\u2588\u2588\u2588\u2588\u2588| 47/47 [04:09<00:00,  5.30s/it]\n"
          ]
        },
        {
          "name": "stdout",
          "output_type": "stream",
          "text": [
            "Epoch #25 train loss: 3.689\n",
            "Epoch #25 mAP: 0.15496256947517395\n",
            "Epoch #25 mAP_50: 0.36702635884284973\n",
            "Epoch #25 best mAP: 0.15496256947517395 at epoch = 25\n",
            "Took 13.384 minutes for epoch 25\n",
            "\n",
            "EPOCH 26 of 100\n",
            "Training\n"
          ]
        },
        {
          "name": "stderr",
          "output_type": "stream",
          "text": [
            "100%|\u2588\u2588\u2588\u2588\u2588\u2588\u2588\u2588\u2588\u2588| 235/235 [08:15<00:00,  2.11s/it]\n"
          ]
        },
        {
          "name": "stdout",
          "output_type": "stream",
          "text": [
            "Evaluating\n"
          ]
        },
        {
          "name": "stderr",
          "output_type": "stream",
          "text": [
            "100%|\u2588\u2588\u2588\u2588\u2588\u2588\u2588\u2588\u2588\u2588| 47/47 [04:04<00:00,  5.21s/it]\n"
          ]
        },
        {
          "name": "stdout",
          "output_type": "stream",
          "text": [
            "Epoch #26 train loss: 3.670\n",
            "Epoch #26 mAP: 0.15388408303260803\n",
            "Epoch #26 mAP_50: 0.3661898374557495\n",
            "Epoch #26 best mAP: 0.15496256947517395 at epoch = 25\n",
            "Took 13.316 minutes for epoch 26\n",
            "\n",
            "EPOCH 27 of 100\n",
            "Training\n"
          ]
        },
        {
          "name": "stderr",
          "output_type": "stream",
          "text": [
            "100%|\u2588\u2588\u2588\u2588\u2588\u2588\u2588\u2588\u2588\u2588| 235/235 [08:28<00:00,  2.16s/it]\n"
          ]
        },
        {
          "name": "stdout",
          "output_type": "stream",
          "text": [
            "Evaluating\n"
          ]
        },
        {
          "name": "stderr",
          "output_type": "stream",
          "text": [
            "100%|\u2588\u2588\u2588\u2588\u2588\u2588\u2588\u2588\u2588\u2588| 47/47 [04:14<00:00,  5.41s/it]\n"
          ]
        },
        {
          "name": "stdout",
          "output_type": "stream",
          "text": [
            "Epoch #27 train loss: 3.689\n",
            "Epoch #27 mAP: 0.15681391954421997\n",
            "Epoch #27 mAP_50: 0.36658185720443726\n",
            "Epoch #27 best mAP: 0.15681391954421997 at epoch = 27\n",
            "Took 13.676 minutes for epoch 27\n",
            "\n",
            "EPOCH 28 of 100\n",
            "Training\n"
          ]
        },
        {
          "name": "stderr",
          "output_type": "stream",
          "text": [
            "100%|\u2588\u2588\u2588\u2588\u2588\u2588\u2588\u2588\u2588\u2588| 235/235 [08:26<00:00,  2.16s/it]\n"
          ]
        },
        {
          "name": "stdout",
          "output_type": "stream",
          "text": [
            "Evaluating\n"
          ]
        },
        {
          "name": "stderr",
          "output_type": "stream",
          "text": [
            "100%|\u2588\u2588\u2588\u2588\u2588\u2588\u2588\u2588\u2588\u2588| 47/47 [04:12<00:00,  5.38s/it]\n"
          ]
        },
        {
          "name": "stdout",
          "output_type": "stream",
          "text": [
            "Epoch #28 train loss: 3.670\n",
            "Epoch #28 mAP: 0.15520049631595612\n",
            "Epoch #28 mAP_50: 0.3656555116176605\n",
            "Epoch #28 best mAP: 0.15681391954421997 at epoch = 27\n",
            "Took 13.668 minutes for epoch 28\n",
            "\n",
            "EPOCH 29 of 100\n",
            "Training\n"
          ]
        },
        {
          "name": "stderr",
          "output_type": "stream",
          "text": [
            "100%|\u2588\u2588\u2588\u2588\u2588\u2588\u2588\u2588\u2588\u2588| 235/235 [08:26<00:00,  2.16s/it]\n"
          ]
        },
        {
          "name": "stdout",
          "output_type": "stream",
          "text": [
            "Evaluating\n"
          ]
        },
        {
          "name": "stderr",
          "output_type": "stream",
          "text": [
            "100%|\u2588\u2588\u2588\u2588\u2588\u2588\u2588\u2588\u2588\u2588| 47/47 [04:12<00:00,  5.37s/it]\n"
          ]
        },
        {
          "name": "stdout",
          "output_type": "stream",
          "text": [
            "Epoch #29 train loss: 3.667\n",
            "Epoch #29 mAP: 0.15601509809494019\n",
            "Epoch #29 mAP_50: 0.3660939931869507\n",
            "Epoch #29 best mAP: 0.15681391954421997 at epoch = 27\n",
            "Took 13.632 minutes for epoch 29\n",
            "\n",
            "EPOCH 30 of 100\n",
            "Training\n"
          ]
        },
        {
          "name": "stderr",
          "output_type": "stream",
          "text": [
            "100%|\u2588\u2588\u2588\u2588\u2588\u2588\u2588\u2588\u2588\u2588| 235/235 [08:27<00:00,  2.16s/it]\n"
          ]
        },
        {
          "name": "stdout",
          "output_type": "stream",
          "text": [
            "Evaluating\n"
          ]
        },
        {
          "name": "stderr",
          "output_type": "stream",
          "text": [
            "100%|\u2588\u2588\u2588\u2588\u2588\u2588\u2588\u2588\u2588\u2588| 47/47 [04:13<00:00,  5.40s/it]\n"
          ]
        },
        {
          "name": "stdout",
          "output_type": "stream",
          "text": [
            "Epoch #30 train loss: 3.669\n",
            "Epoch #30 mAP: 0.15608137845993042\n",
            "Epoch #30 mAP_50: 0.37392932176589966\n",
            "Epoch #30 best mAP: 0.15681391954421997 at epoch = 27\n",
            "Took 13.706 minutes for epoch 30\n",
            "\n",
            "EPOCH 31 of 100\n",
            "Training\n"
          ]
        },
        {
          "name": "stderr",
          "output_type": "stream",
          "text": [
            "100%|\u2588\u2588\u2588\u2588\u2588\u2588\u2588\u2588\u2588\u2588| 235/235 [08:28<00:00,  2.17s/it]\n"
          ]
        },
        {
          "name": "stdout",
          "output_type": "stream",
          "text": [
            "Evaluating\n"
          ]
        },
        {
          "name": "stderr",
          "output_type": "stream",
          "text": [
            "100%|\u2588\u2588\u2588\u2588\u2588\u2588\u2588\u2588\u2588\u2588| 47/47 [04:08<00:00,  5.28s/it]\n"
          ]
        },
        {
          "name": "stdout",
          "output_type": "stream",
          "text": [
            "Epoch #31 train loss: 3.662\n",
            "Epoch #31 mAP: 0.158222496509552\n",
            "Epoch #31 mAP_50: 0.37282124161720276\n",
            "Epoch #31 best mAP: 0.158222496509552 at epoch = 31\n",
            "Took 13.628 minutes for epoch 31\n",
            "\n",
            "EPOCH 32 of 100\n",
            "Training\n"
          ]
        },
        {
          "name": "stderr",
          "output_type": "stream",
          "text": [
            "100%|\u2588\u2588\u2588\u2588\u2588\u2588\u2588\u2588\u2588\u2588| 235/235 [08:35<00:00,  2.19s/it]\n"
          ]
        },
        {
          "name": "stdout",
          "output_type": "stream",
          "text": [
            "Evaluating\n"
          ]
        },
        {
          "name": "stderr",
          "output_type": "stream",
          "text": [
            "100%|\u2588\u2588\u2588\u2588\u2588\u2588\u2588\u2588\u2588\u2588| 47/47 [04:01<00:00,  5.14s/it]\n"
          ]
        },
        {
          "name": "stdout",
          "output_type": "stream",
          "text": [
            "Epoch #32 train loss: 3.657\n",
            "Epoch #32 mAP: 0.15742714703083038\n",
            "Epoch #32 mAP_50: 0.3675680160522461\n",
            "Epoch #32 best mAP: 0.158222496509552 at epoch = 31\n",
            "Took 13.533 minutes for epoch 32\n",
            "\n",
            "EPOCH 33 of 100\n",
            "Training\n"
          ]
        },
        {
          "name": "stderr",
          "output_type": "stream",
          "text": [
            "100%|\u2588\u2588\u2588\u2588\u2588\u2588\u2588\u2588\u2588\u2588| 235/235 [08:33<00:00,  2.18s/it]\n"
          ]
        },
        {
          "name": "stdout",
          "output_type": "stream",
          "text": [
            "Evaluating\n"
          ]
        },
        {
          "name": "stderr",
          "output_type": "stream",
          "text": [
            "100%|\u2588\u2588\u2588\u2588\u2588\u2588\u2588\u2588\u2588\u2588| 47/47 [04:09<00:00,  5.32s/it]\n"
          ]
        },
        {
          "name": "stdout",
          "output_type": "stream",
          "text": [
            "Epoch #33 train loss: 3.661\n",
            "Epoch #33 mAP: 0.15058468282222748\n",
            "Epoch #33 mAP_50: 0.36075249314308167\n",
            "Epoch #33 best mAP: 0.158222496509552 at epoch = 31\n",
            "Took 13.697 minutes for epoch 33\n",
            "\n",
            "EPOCH 34 of 100\n",
            "Training\n"
          ]
        },
        {
          "name": "stderr",
          "output_type": "stream",
          "text": [
            "100%|\u2588\u2588\u2588\u2588\u2588\u2588\u2588\u2588\u2588\u2588| 235/235 [08:32<00:00,  2.18s/it]\n"
          ]
        },
        {
          "name": "stdout",
          "output_type": "stream",
          "text": [
            "Evaluating\n"
          ]
        },
        {
          "name": "stderr",
          "output_type": "stream",
          "text": [
            "100%|\u2588\u2588\u2588\u2588\u2588\u2588\u2588\u2588\u2588\u2588| 47/47 [04:07<00:00,  5.27s/it]\n"
          ]
        },
        {
          "name": "stdout",
          "output_type": "stream",
          "text": [
            "Epoch #34 train loss: 3.657\n",
            "Epoch #34 mAP: 0.15704965591430664\n",
            "Epoch #34 mAP_50: 0.3672828674316406\n",
            "Epoch #34 best mAP: 0.158222496509552 at epoch = 31\n",
            "Took 13.645 minutes for epoch 34\n",
            "\n",
            "EPOCH 35 of 100\n",
            "Training\n"
          ]
        },
        {
          "name": "stderr",
          "output_type": "stream",
          "text": [
            "100%|\u2588\u2588\u2588\u2588\u2588\u2588\u2588\u2588\u2588\u2588| 235/235 [08:31<00:00,  2.18s/it]\n"
          ]
        },
        {
          "name": "stdout",
          "output_type": "stream",
          "text": [
            "Evaluating\n"
          ]
        },
        {
          "name": "stderr",
          "output_type": "stream",
          "text": [
            "100%|\u2588\u2588\u2588\u2588\u2588\u2588\u2588\u2588\u2588\u2588| 47/47 [04:11<00:00,  5.34s/it]\n"
          ]
        },
        {
          "name": "stdout",
          "output_type": "stream",
          "text": [
            "Epoch #35 train loss: 3.649\n",
            "Epoch #35 mAP: 0.15381130576133728\n",
            "Epoch #35 mAP_50: 0.36244574189186096\n",
            "Epoch #35 best mAP: 0.158222496509552 at epoch = 31\n",
            "Took 13.700 minutes for epoch 35\n",
            "\n",
            "EPOCH 36 of 100\n",
            "Training\n"
          ]
        },
        {
          "name": "stderr",
          "output_type": "stream",
          "text": [
            "100%|\u2588\u2588\u2588\u2588\u2588\u2588\u2588\u2588\u2588\u2588| 235/235 [08:25<00:00,  2.15s/it]\n"
          ]
        },
        {
          "name": "stdout",
          "output_type": "stream",
          "text": [
            "Evaluating\n"
          ]
        },
        {
          "name": "stderr",
          "output_type": "stream",
          "text": [
            "100%|\u2588\u2588\u2588\u2588\u2588\u2588\u2588\u2588\u2588\u2588| 47/47 [04:08<00:00,  5.29s/it]\n"
          ]
        },
        {
          "name": "stdout",
          "output_type": "stream",
          "text": [
            "Epoch #36 train loss: 3.633\n",
            "Epoch #36 mAP: 0.15551626682281494\n",
            "Epoch #36 mAP_50: 0.36595436930656433\n",
            "Epoch #36 best mAP: 0.158222496509552 at epoch = 31\n",
            "Took 13.577 minutes for epoch 36\n",
            "Epoch 00036: reducing learning rate of group 0 to 2.5000e-04.\n",
            "\n",
            "EPOCH 37 of 100\n",
            "Training\n"
          ]
        },
        {
          "name": "stderr",
          "output_type": "stream",
          "text": [
            "100%|\u2588\u2588\u2588\u2588\u2588\u2588\u2588\u2588\u2588\u2588| 235/235 [08:26<00:00,  2.16s/it]\n"
          ]
        },
        {
          "name": "stdout",
          "output_type": "stream",
          "text": [
            "Evaluating\n"
          ]
        },
        {
          "name": "stderr",
          "output_type": "stream",
          "text": [
            "100%|\u2588\u2588\u2588\u2588\u2588\u2588\u2588\u2588\u2588\u2588| 47/47 [04:03<00:00,  5.17s/it]\n"
          ]
        },
        {
          "name": "stdout",
          "output_type": "stream",
          "text": [
            "Epoch #37 train loss: 3.612\n",
            "Epoch #37 mAP: 0.15701010823249817\n",
            "Epoch #37 mAP_50: 0.36670994758605957\n",
            "Epoch #37 best mAP: 0.158222496509552 at epoch = 31\n",
            "Took 13.463 minutes for epoch 37\n",
            "\n",
            "EPOCH 38 of 100\n",
            "Training\n"
          ]
        },
        {
          "name": "stderr",
          "output_type": "stream",
          "text": [
            "100%|\u2588\u2588\u2588\u2588\u2588\u2588\u2588\u2588\u2588\u2588| 235/235 [08:27<00:00,  2.16s/it]\n"
          ]
        },
        {
          "name": "stdout",
          "output_type": "stream",
          "text": [
            "Evaluating\n"
          ]
        },
        {
          "name": "stderr",
          "output_type": "stream",
          "text": [
            "100%|\u2588\u2588\u2588\u2588\u2588\u2588\u2588\u2588\u2588\u2588| 47/47 [04:12<00:00,  5.36s/it]\n"
          ]
        },
        {
          "name": "stdout",
          "output_type": "stream",
          "text": [
            "Epoch #38 train loss: 3.588\n",
            "Epoch #38 mAP: 0.15944340825080872\n",
            "Epoch #38 mAP_50: 0.3729017376899719\n",
            "Epoch #38 best mAP: 0.15944340825080872 at epoch = 38\n",
            "Took 13.636 minutes for epoch 38\n",
            "\n",
            "EPOCH 39 of 100\n",
            "Training\n"
          ]
        },
        {
          "name": "stderr",
          "output_type": "stream",
          "text": [
            "100%|\u2588\u2588\u2588\u2588\u2588\u2588\u2588\u2588\u2588\u2588| 235/235 [08:26<00:00,  2.16s/it]\n"
          ]
        },
        {
          "name": "stdout",
          "output_type": "stream",
          "text": [
            "Evaluating\n"
          ]
        },
        {
          "name": "stderr",
          "output_type": "stream",
          "text": [
            "100%|\u2588\u2588\u2588\u2588\u2588\u2588\u2588\u2588\u2588\u2588| 47/47 [04:13<00:00,  5.40s/it]\n"
          ]
        },
        {
          "name": "stdout",
          "output_type": "stream",
          "text": [
            "Epoch #39 train loss: 3.602\n",
            "Epoch #39 mAP: 0.1584402322769165\n",
            "Epoch #39 mAP_50: 0.3723629117012024\n",
            "Epoch #39 best mAP: 0.15944340825080872 at epoch = 38\n",
            "Took 13.673 minutes for epoch 39\n",
            "\n",
            "EPOCH 40 of 100\n",
            "Training\n"
          ]
        },
        {
          "name": "stderr",
          "output_type": "stream",
          "text": [
            "100%|\u2588\u2588\u2588\u2588\u2588\u2588\u2588\u2588\u2588\u2588| 235/235 [08:29<00:00,  2.17s/it]\n"
          ]
        },
        {
          "name": "stdout",
          "output_type": "stream",
          "text": [
            "Evaluating\n"
          ]
        },
        {
          "name": "stderr",
          "output_type": "stream",
          "text": [
            "100%|\u2588\u2588\u2588\u2588\u2588\u2588\u2588\u2588\u2588\u2588| 47/47 [04:09<00:00,  5.30s/it]\n"
          ]
        },
        {
          "name": "stdout",
          "output_type": "stream",
          "text": [
            "Epoch #40 train loss: 3.584\n",
            "Epoch #40 mAP: 0.1582161784172058\n",
            "Epoch #40 mAP_50: 0.3687458634376526\n",
            "Epoch #40 best mAP: 0.15944340825080872 at epoch = 38\n",
            "Took 13.626 minutes for epoch 40\n",
            "\n",
            "EPOCH 41 of 100\n",
            "Training\n"
          ]
        },
        {
          "name": "stderr",
          "output_type": "stream",
          "text": [
            "100%|\u2588\u2588\u2588\u2588\u2588\u2588\u2588\u2588\u2588\u2588| 235/235 [08:28<00:00,  2.16s/it]\n"
          ]
        },
        {
          "name": "stdout",
          "output_type": "stream",
          "text": [
            "Evaluating\n"
          ]
        },
        {
          "name": "stderr",
          "output_type": "stream",
          "text": [
            "100%|\u2588\u2588\u2588\u2588\u2588\u2588\u2588\u2588\u2588\u2588| 47/47 [04:04<00:00,  5.19s/it]\n"
          ]
        },
        {
          "name": "stdout",
          "output_type": "stream",
          "text": [
            "Epoch #41 train loss: 3.594\n",
            "Epoch #41 mAP: 0.15959858894348145\n",
            "Epoch #41 mAP_50: 0.3733041286468506\n",
            "Epoch #41 best mAP: 0.15959858894348145 at epoch = 41\n",
            "Took 13.509 minutes for epoch 41\n",
            "\n",
            "EPOCH 42 of 100\n",
            "Training\n"
          ]
        },
        {
          "name": "stderr",
          "output_type": "stream",
          "text": [
            "100%|\u2588\u2588\u2588\u2588\u2588\u2588\u2588\u2588\u2588\u2588| 235/235 [08:30<00:00,  2.17s/it]\n"
          ]
        },
        {
          "name": "stdout",
          "output_type": "stream",
          "text": [
            "Evaluating\n"
          ]
        },
        {
          "name": "stderr",
          "output_type": "stream",
          "text": [
            "100%|\u2588\u2588\u2588\u2588\u2588\u2588\u2588\u2588\u2588\u2588| 47/47 [04:06<00:00,  5.23s/it]\n"
          ]
        },
        {
          "name": "stdout",
          "output_type": "stream",
          "text": [
            "Epoch #42 train loss: 3.583\n",
            "Epoch #42 mAP: 0.15903206169605255\n",
            "Epoch #42 mAP_50: 0.37270253896713257\n",
            "Epoch #42 best mAP: 0.15959858894348145 at epoch = 41\n",
            "Took 13.611 minutes for epoch 42\n",
            "\n",
            "EPOCH 43 of 100\n",
            "Training\n"
          ]
        },
        {
          "name": "stderr",
          "output_type": "stream",
          "text": [
            "100%|\u2588\u2588\u2588\u2588\u2588\u2588\u2588\u2588\u2588\u2588| 235/235 [08:32<00:00,  2.18s/it]\n"
          ]
        },
        {
          "name": "stdout",
          "output_type": "stream",
          "text": [
            "Evaluating\n"
          ]
        },
        {
          "name": "stderr",
          "output_type": "stream",
          "text": [
            "100%|\u2588\u2588\u2588\u2588\u2588\u2588\u2588\u2588\u2588\u2588| 47/47 [04:15<00:00,  5.43s/it]\n"
          ]
        },
        {
          "name": "stdout",
          "output_type": "stream",
          "text": [
            "Epoch #43 train loss: 3.582\n",
            "Epoch #43 mAP: 0.1576504409313202\n",
            "Epoch #43 mAP_50: 0.3687477707862854\n",
            "Epoch #43 best mAP: 0.15959858894348145 at epoch = 41\n",
            "Took 13.779 minutes for epoch 43\n",
            "Epoch 00043: reducing learning rate of group 0 to 1.2500e-04.\n",
            "\n",
            "EPOCH 44 of 100\n",
            "Training\n"
          ]
        },
        {
          "name": "stderr",
          "output_type": "stream",
          "text": [
            "100%|\u2588\u2588\u2588\u2588\u2588\u2588\u2588\u2588\u2588\u2588| 235/235 [08:32<00:00,  2.18s/it]\n"
          ]
        },
        {
          "name": "stdout",
          "output_type": "stream",
          "text": [
            "Evaluating\n"
          ]
        },
        {
          "name": "stderr",
          "output_type": "stream",
          "text": [
            "100%|\u2588\u2588\u2588\u2588\u2588\u2588\u2588\u2588\u2588\u2588| 47/47 [04:11<00:00,  5.36s/it]\n"
          ]
        },
        {
          "name": "stdout",
          "output_type": "stream",
          "text": [
            "Epoch #44 train loss: 3.567\n",
            "Epoch #44 mAP: 0.15981793403625488\n",
            "Epoch #44 mAP_50: 0.37153616547584534\n",
            "Epoch #44 best mAP: 0.15981793403625488 at epoch = 44\n",
            "Took 13.718 minutes for epoch 44\n",
            "\n",
            "EPOCH 45 of 100\n",
            "Training\n"
          ]
        },
        {
          "name": "stderr",
          "output_type": "stream",
          "text": [
            "100%|\u2588\u2588\u2588\u2588\u2588\u2588\u2588\u2588\u2588\u2588| 235/235 [08:31<00:00,  2.17s/it]\n"
          ]
        },
        {
          "name": "stdout",
          "output_type": "stream",
          "text": [
            "Evaluating\n"
          ]
        },
        {
          "name": "stderr",
          "output_type": "stream",
          "text": [
            "100%|\u2588\u2588\u2588\u2588\u2588\u2588\u2588\u2588\u2588\u2588| 47/47 [04:08<00:00,  5.28s/it]\n"
          ]
        },
        {
          "name": "stdout",
          "output_type": "stream",
          "text": [
            "Epoch #45 train loss: 3.550\n",
            "Epoch #45 mAP: 0.161332368850708\n",
            "Epoch #45 mAP_50: 0.3747577369213104\n",
            "Epoch #45 best mAP: 0.161332368850708 at epoch = 45\n",
            "Took 13.645 minutes for epoch 45\n",
            "\n",
            "EPOCH 46 of 100\n",
            "Training\n"
          ]
        },
        {
          "name": "stderr",
          "output_type": "stream",
          "text": [
            "100%|\u2588\u2588\u2588\u2588\u2588\u2588\u2588\u2588\u2588\u2588| 235/235 [08:30<00:00,  2.17s/it]\n"
          ]
        },
        {
          "name": "stdout",
          "output_type": "stream",
          "text": [
            "Evaluating\n"
          ]
        },
        {
          "name": "stderr",
          "output_type": "stream",
          "text": [
            "100%|\u2588\u2588\u2588\u2588\u2588\u2588\u2588\u2588\u2588\u2588| 47/47 [04:09<00:00,  5.30s/it]\n"
          ]
        },
        {
          "name": "stdout",
          "output_type": "stream",
          "text": [
            "Epoch #46 train loss: 3.566\n",
            "Epoch #46 mAP: 0.16128532588481903\n",
            "Epoch #46 mAP_50: 0.37370026111602783\n",
            "Epoch #46 best mAP: 0.161332368850708 at epoch = 45\n",
            "Took 13.663 minutes for epoch 46\n",
            "\n",
            "EPOCH 47 of 100\n",
            "Training\n"
          ]
        },
        {
          "name": "stderr",
          "output_type": "stream",
          "text": [
            "100%|\u2588\u2588\u2588\u2588\u2588\u2588\u2588\u2588\u2588\u2588| 235/235 [08:27<00:00,  2.16s/it]\n"
          ]
        },
        {
          "name": "stdout",
          "output_type": "stream",
          "text": [
            "Evaluating\n"
          ]
        },
        {
          "name": "stderr",
          "output_type": "stream",
          "text": [
            "100%|\u2588\u2588\u2588\u2588\u2588\u2588\u2588\u2588\u2588\u2588| 47/47 [04:11<00:00,  5.34s/it]\n"
          ]
        },
        {
          "name": "stdout",
          "output_type": "stream",
          "text": [
            "Epoch #47 train loss: 3.544\n",
            "Epoch #47 mAP: 0.15909168124198914\n",
            "Epoch #47 mAP_50: 0.3685673177242279\n",
            "Epoch #47 best mAP: 0.161332368850708 at epoch = 45\n",
            "Took 13.596 minutes for epoch 47\n",
            "\n",
            "EPOCH 48 of 100\n",
            "Training\n"
          ]
        },
        {
          "name": "stderr",
          "output_type": "stream",
          "text": [
            "100%|\u2588\u2588\u2588\u2588\u2588\u2588\u2588\u2588\u2588\u2588| 235/235 [08:36<00:00,  2.20s/it]\n"
          ]
        },
        {
          "name": "stdout",
          "output_type": "stream",
          "text": [
            "Evaluating\n"
          ]
        },
        {
          "name": "stderr",
          "output_type": "stream",
          "text": [
            "100%|\u2588\u2588\u2588\u2588\u2588\u2588\u2588\u2588\u2588\u2588| 47/47 [04:09<00:00,  5.30s/it]\n"
          ]
        },
        {
          "name": "stdout",
          "output_type": "stream",
          "text": [
            "Epoch #48 train loss: 3.548\n",
            "Epoch #48 mAP: 0.16133245825767517\n",
            "Epoch #48 mAP_50: 0.374667763710022\n",
            "Epoch #48 best mAP: 0.16133245825767517 at epoch = 48\n",
            "Took 13.757 minutes for epoch 48\n",
            "\n",
            "EPOCH 49 of 100\n",
            "Training\n"
          ]
        },
        {
          "name": "stderr",
          "output_type": "stream",
          "text": [
            "100%|\u2588\u2588\u2588\u2588\u2588\u2588\u2588\u2588\u2588\u2588| 235/235 [08:29<00:00,  2.17s/it]\n"
          ]
        },
        {
          "name": "stdout",
          "output_type": "stream",
          "text": [
            "Evaluating\n"
          ]
        },
        {
          "name": "stderr",
          "output_type": "stream",
          "text": [
            "100%|\u2588\u2588\u2588\u2588\u2588\u2588\u2588\u2588\u2588\u2588| 47/47 [04:11<00:00,  5.35s/it]\n"
          ]
        },
        {
          "name": "stdout",
          "output_type": "stream",
          "text": [
            "Epoch #49 train loss: 3.568\n",
            "Epoch #49 mAP: 0.16050389409065247\n",
            "Epoch #49 mAP_50: 0.3719382584095001\n",
            "Epoch #49 best mAP: 0.16133245825767517 at epoch = 48\n",
            "Took 13.674 minutes for epoch 49\n",
            "\n",
            "EPOCH 50 of 100\n",
            "Training\n"
          ]
        },
        {
          "name": "stderr",
          "output_type": "stream",
          "text": [
            "100%|\u2588\u2588\u2588\u2588\u2588\u2588\u2588\u2588\u2588\u2588| 235/235 [08:26<00:00,  2.15s/it]\n"
          ]
        },
        {
          "name": "stdout",
          "output_type": "stream",
          "text": [
            "Evaluating\n"
          ]
        },
        {
          "name": "stderr",
          "output_type": "stream",
          "text": [
            "100%|\u2588\u2588\u2588\u2588\u2588\u2588\u2588\u2588\u2588\u2588| 47/47 [04:07<00:00,  5.27s/it]\n"
          ]
        },
        {
          "name": "stdout",
          "output_type": "stream",
          "text": [
            "Epoch #50 train loss: 3.547\n",
            "Epoch #50 mAP: 0.16043458878993988\n",
            "Epoch #50 mAP_50: 0.37092769145965576\n",
            "Epoch #50 best mAP: 0.16133245825767517 at epoch = 48\n",
            "Took 13.555 minutes for epoch 50\n",
            "Epoch 00050: reducing learning rate of group 0 to 6.2500e-05.\n",
            "\n",
            "EPOCH 51 of 100\n",
            "Training\n"
          ]
        },
        {
          "name": "stderr",
          "output_type": "stream",
          "text": [
            "100%|\u2588\u2588\u2588\u2588\u2588\u2588\u2588\u2588\u2588\u2588| 235/235 [08:26<00:00,  2.16s/it]\n"
          ]
        },
        {
          "name": "stdout",
          "output_type": "stream",
          "text": [
            "Evaluating\n"
          ]
        },
        {
          "name": "stderr",
          "output_type": "stream",
          "text": [
            "100%|\u2588\u2588\u2588\u2588\u2588\u2588\u2588\u2588\u2588\u2588| 47/47 [04:09<00:00,  5.31s/it]\n"
          ]
        },
        {
          "name": "stdout",
          "output_type": "stream",
          "text": [
            "Epoch #51 train loss: 3.535\n",
            "Epoch #51 mAP: 0.1618148237466812\n",
            "Epoch #51 mAP_50: 0.37371259927749634\n",
            "Epoch #51 best mAP: 0.1618148237466812 at epoch = 51\n",
            "Took 13.576 minutes for epoch 51\n",
            "\n",
            "EPOCH 52 of 100\n",
            "Training\n"
          ]
        },
        {
          "name": "stderr",
          "output_type": "stream",
          "text": [
            "100%|\u2588\u2588\u2588\u2588\u2588\u2588\u2588\u2588\u2588\u2588| 235/235 [08:37<00:00,  2.20s/it]\n"
          ]
        },
        {
          "name": "stdout",
          "output_type": "stream",
          "text": [
            "Evaluating\n"
          ]
        },
        {
          "name": "stderr",
          "output_type": "stream",
          "text": [
            "100%|\u2588\u2588\u2588\u2588\u2588\u2588\u2588\u2588\u2588\u2588| 47/47 [04:11<00:00,  5.36s/it]\n"
          ]
        },
        {
          "name": "stdout",
          "output_type": "stream",
          "text": [
            "Epoch #52 train loss: 3.544\n",
            "Epoch #52 mAP: 0.16180475056171417\n",
            "Epoch #52 mAP_50: 0.37437695264816284\n",
            "Epoch #52 best mAP: 0.1618148237466812 at epoch = 51\n",
            "Took 13.803 minutes for epoch 52\n",
            "\n",
            "EPOCH 53 of 100\n",
            "Training\n"
          ]
        },
        {
          "name": "stderr",
          "output_type": "stream",
          "text": [
            "100%|\u2588\u2588\u2588\u2588\u2588\u2588\u2588\u2588\u2588\u2588| 235/235 [08:29<00:00,  2.17s/it]\n"
          ]
        },
        {
          "name": "stdout",
          "output_type": "stream",
          "text": [
            "Evaluating\n"
          ]
        },
        {
          "name": "stderr",
          "output_type": "stream",
          "text": [
            "100%|\u2588\u2588\u2588\u2588\u2588\u2588\u2588\u2588\u2588\u2588| 47/47 [04:11<00:00,  5.35s/it]\n"
          ]
        },
        {
          "name": "stdout",
          "output_type": "stream",
          "text": [
            "Epoch #53 train loss: 3.530\n",
            "Epoch #53 mAP: 0.16116979718208313\n",
            "Epoch #53 mAP_50: 0.37347033619880676\n",
            "Epoch #53 best mAP: 0.1618148237466812 at epoch = 51\n",
            "Took 13.672 minutes for epoch 53\n",
            "\n",
            "EPOCH 54 of 100\n",
            "Training\n"
          ]
        },
        {
          "name": "stderr",
          "output_type": "stream",
          "text": [
            "100%|\u2588\u2588\u2588\u2588\u2588\u2588\u2588\u2588\u2588\u2588| 235/235 [08:18<00:00,  2.12s/it]\n"
          ]
        },
        {
          "name": "stdout",
          "output_type": "stream",
          "text": [
            "Evaluating\n"
          ]
        },
        {
          "name": "stderr",
          "output_type": "stream",
          "text": [
            "100%|\u2588\u2588\u2588\u2588\u2588\u2588\u2588\u2588\u2588\u2588| 47/47 [04:12<00:00,  5.38s/it]\n"
          ]
        },
        {
          "name": "stdout",
          "output_type": "stream",
          "text": [
            "Epoch #54 train loss: 3.542\n",
            "Epoch #54 mAP: 0.1594243347644806\n",
            "Epoch #54 mAP_50: 0.3685891330242157\n",
            "Epoch #54 best mAP: 0.1618148237466812 at epoch = 51\n",
            "Took 13.498 minutes for epoch 54\n",
            "\n",
            "EPOCH 55 of 100\n",
            "Training\n"
          ]
        },
        {
          "name": "stderr",
          "output_type": "stream",
          "text": [
            "100%|\u2588\u2588\u2588\u2588\u2588\u2588\u2588\u2588\u2588\u2588| 235/235 [08:26<00:00,  2.15s/it]\n"
          ]
        },
        {
          "name": "stdout",
          "output_type": "stream",
          "text": [
            "Evaluating\n"
          ]
        },
        {
          "name": "stderr",
          "output_type": "stream",
          "text": [
            "100%|\u2588\u2588\u2588\u2588\u2588\u2588\u2588\u2588\u2588\u2588| 47/47 [04:13<00:00,  5.38s/it]\n"
          ]
        },
        {
          "name": "stdout",
          "output_type": "stream",
          "text": [
            "Epoch #55 train loss: 3.537\n",
            "Epoch #55 mAP: 0.16026879847049713\n",
            "Epoch #55 mAP_50: 0.3693034052848816\n",
            "Epoch #55 best mAP: 0.1618148237466812 at epoch = 51\n",
            "Took 13.626 minutes for epoch 55\n",
            "\n",
            "EPOCH 56 of 100\n",
            "Training\n"
          ]
        },
        {
          "name": "stderr",
          "output_type": "stream",
          "text": [
            "100%|\u2588\u2588\u2588\u2588\u2588\u2588\u2588\u2588\u2588\u2588| 235/235 [08:27<00:00,  2.16s/it]\n"
          ]
        },
        {
          "name": "stdout",
          "output_type": "stream",
          "text": [
            "Evaluating\n"
          ]
        },
        {
          "name": "stderr",
          "output_type": "stream",
          "text": [
            "100%|\u2588\u2588\u2588\u2588\u2588\u2588\u2588\u2588\u2588\u2588| 47/47 [04:08<00:00,  5.29s/it]\n"
          ]
        },
        {
          "name": "stdout",
          "output_type": "stream",
          "text": [
            "Epoch #56 train loss: 3.519\n",
            "Epoch #56 mAP: 0.16093751788139343\n",
            "Epoch #56 mAP_50: 0.3725297749042511\n",
            "Epoch #56 best mAP: 0.1618148237466812 at epoch = 51\n",
            "Took 13.591 minutes for epoch 56\n",
            "Epoch 00056: reducing learning rate of group 0 to 3.1250e-05.\n",
            "\n",
            "EPOCH 57 of 100\n",
            "Training\n"
          ]
        },
        {
          "name": "stderr",
          "output_type": "stream",
          "text": [
            "100%|\u2588\u2588\u2588\u2588\u2588\u2588\u2588\u2588\u2588\u2588| 235/235 [08:31<00:00,  2.17s/it]\n"
          ]
        },
        {
          "name": "stdout",
          "output_type": "stream",
          "text": [
            "Evaluating\n"
          ]
        },
        {
          "name": "stderr",
          "output_type": "stream",
          "text": [
            "100%|\u2588\u2588\u2588\u2588\u2588\u2588\u2588\u2588\u2588\u2588| 47/47 [04:12<00:00,  5.37s/it]\n"
          ]
        },
        {
          "name": "stdout",
          "output_type": "stream",
          "text": [
            "Epoch #57 train loss: 3.548\n",
            "Epoch #57 mAP: 0.16148516535758972\n",
            "Epoch #57 mAP_50: 0.3726278245449066\n",
            "Epoch #57 best mAP: 0.1618148237466812 at epoch = 51\n",
            "Took 13.712 minutes for epoch 57\n",
            "\n",
            "EPOCH 58 of 100\n",
            "Training\n"
          ]
        },
        {
          "name": "stderr",
          "output_type": "stream",
          "text": [
            "100%|\u2588\u2588\u2588\u2588\u2588\u2588\u2588\u2588\u2588\u2588| 235/235 [08:21<00:00,  2.14s/it]\n"
          ]
        },
        {
          "name": "stdout",
          "output_type": "stream",
          "text": [
            "Evaluating\n"
          ]
        },
        {
          "name": "stderr",
          "output_type": "stream",
          "text": [
            "100%|\u2588\u2588\u2588\u2588\u2588\u2588\u2588\u2588\u2588\u2588| 47/47 [04:13<00:00,  5.40s/it]\n"
          ]
        },
        {
          "name": "stdout",
          "output_type": "stream",
          "text": [
            "Epoch #58 train loss: 3.515\n",
            "Epoch #58 mAP: 0.16156652569770813\n",
            "Epoch #58 mAP_50: 0.37347087264060974\n",
            "Epoch #58 best mAP: 0.1618148237466812 at epoch = 51\n",
            "Took 13.579 minutes for epoch 58\n",
            "\n",
            "EPOCH 59 of 100\n",
            "Training\n"
          ]
        },
        {
          "name": "stderr",
          "output_type": "stream",
          "text": [
            "100%|\u2588\u2588\u2588\u2588\u2588\u2588\u2588\u2588\u2588\u2588| 235/235 [08:28<00:00,  2.16s/it]\n"
          ]
        },
        {
          "name": "stdout",
          "output_type": "stream",
          "text": [
            "Evaluating\n"
          ]
        },
        {
          "name": "stderr",
          "output_type": "stream",
          "text": [
            "100%|\u2588\u2588\u2588\u2588\u2588\u2588\u2588\u2588\u2588\u2588| 47/47 [04:14<00:00,  5.42s/it]\n"
          ]
        },
        {
          "name": "stdout",
          "output_type": "stream",
          "text": [
            "Epoch #59 train loss: 3.534\n",
            "Epoch #59 mAP: 0.1620064079761505\n",
            "Epoch #59 mAP_50: 0.3737896978855133\n",
            "Epoch #59 best mAP: 0.1620064079761505 at epoch = 59\n",
            "Took 13.711 minutes for epoch 59\n",
            "\n",
            "EPOCH 60 of 100\n",
            "Training\n"
          ]
        },
        {
          "name": "stderr",
          "output_type": "stream",
          "text": [
            "100%|\u2588\u2588\u2588\u2588\u2588\u2588\u2588\u2588\u2588\u2588| 235/235 [08:35<00:00,  2.20s/it]\n"
          ]
        },
        {
          "name": "stdout",
          "output_type": "stream",
          "text": [
            "Evaluating\n"
          ]
        },
        {
          "name": "stderr",
          "output_type": "stream",
          "text": [
            "100%|\u2588\u2588\u2588\u2588\u2588\u2588\u2588\u2588\u2588\u2588| 47/47 [04:12<00:00,  5.38s/it]\n"
          ]
        },
        {
          "name": "stdout",
          "output_type": "stream",
          "text": [
            "Epoch #60 train loss: 3.524\n",
            "Epoch #60 mAP: 0.16176030039787292\n",
            "Epoch #60 mAP_50: 0.37165072560310364\n",
            "Epoch #60 best mAP: 0.1620064079761505 at epoch = 59\n",
            "Took 13.792 minutes for epoch 60\n",
            "\n",
            "EPOCH 61 of 100\n",
            "Training\n"
          ]
        },
        {
          "name": "stderr",
          "output_type": "stream",
          "text": [
            "100%|\u2588\u2588\u2588\u2588\u2588\u2588\u2588\u2588\u2588\u2588| 235/235 [08:27<00:00,  2.16s/it]\n"
          ]
        },
        {
          "name": "stdout",
          "output_type": "stream",
          "text": [
            "Evaluating\n"
          ]
        },
        {
          "name": "stderr",
          "output_type": "stream",
          "text": [
            "100%|\u2588\u2588\u2588\u2588\u2588\u2588\u2588\u2588\u2588\u2588| 47/47 [04:14<00:00,  5.42s/it]\n"
          ]
        },
        {
          "name": "stdout",
          "output_type": "stream",
          "text": [
            "Epoch #61 train loss: 3.530\n",
            "Epoch #61 mAP: 0.16074718534946442\n",
            "Epoch #61 mAP_50: 0.37079015374183655\n",
            "Epoch #61 best mAP: 0.1620064079761505 at epoch = 59\n",
            "Took 13.679 minutes for epoch 61\n",
            "\n",
            "EPOCH 62 of 100\n",
            "Training\n"
          ]
        },
        {
          "name": "stderr",
          "output_type": "stream",
          "text": [
            "100%|\u2588\u2588\u2588\u2588\u2588\u2588\u2588\u2588\u2588\u2588| 235/235 [08:32<00:00,  2.18s/it]\n"
          ]
        },
        {
          "name": "stdout",
          "output_type": "stream",
          "text": [
            "Evaluating\n"
          ]
        },
        {
          "name": "stderr",
          "output_type": "stream",
          "text": [
            "100%|\u2588\u2588\u2588\u2588\u2588\u2588\u2588\u2588\u2588\u2588| 47/47 [04:13<00:00,  5.38s/it]\n"
          ]
        },
        {
          "name": "stdout",
          "output_type": "stream",
          "text": [
            "Epoch #62 train loss: 3.524\n",
            "Epoch #62 mAP: 0.1613367646932602\n",
            "Epoch #62 mAP_50: 0.37151089310646057\n",
            "Epoch #62 best mAP: 0.1620064079761505 at epoch = 59\n",
            "Took 13.746 minutes for epoch 62\n",
            "\n",
            "EPOCH 63 of 100\n",
            "Training\n"
          ]
        },
        {
          "name": "stderr",
          "output_type": "stream",
          "text": [
            "100%|\u2588\u2588\u2588\u2588\u2588\u2588\u2588\u2588\u2588\u2588| 235/235 [08:26<00:00,  2.15s/it]\n"
          ]
        },
        {
          "name": "stdout",
          "output_type": "stream",
          "text": [
            "Evaluating\n"
          ]
        },
        {
          "name": "stderr",
          "output_type": "stream",
          "text": [
            "100%|\u2588\u2588\u2588\u2588\u2588\u2588\u2588\u2588\u2588\u2588| 47/47 [04:12<00:00,  5.37s/it]\n"
          ]
        },
        {
          "name": "stdout",
          "output_type": "stream",
          "text": [
            "Epoch #63 train loss: 3.536\n",
            "Epoch #63 mAP: 0.16152022778987885\n",
            "Epoch #63 mAP_50: 0.37298718094825745\n",
            "Epoch #63 best mAP: 0.1620064079761505 at epoch = 59\n",
            "Took 13.641 minutes for epoch 63\n",
            "\n",
            "EPOCH 64 of 100\n",
            "Training\n"
          ]
        },
        {
          "name": "stderr",
          "output_type": "stream",
          "text": [
            "100%|\u2588\u2588\u2588\u2588\u2588\u2588\u2588\u2588\u2588\u2588| 235/235 [08:29<00:00,  2.17s/it]\n"
          ]
        },
        {
          "name": "stdout",
          "output_type": "stream",
          "text": [
            "Evaluating\n"
          ]
        },
        {
          "name": "stderr",
          "output_type": "stream",
          "text": [
            "100%|\u2588\u2588\u2588\u2588\u2588\u2588\u2588\u2588\u2588\u2588| 47/47 [04:11<00:00,  5.35s/it]\n"
          ]
        },
        {
          "name": "stdout",
          "output_type": "stream",
          "text": [
            "Epoch #64 train loss: 3.522\n",
            "Epoch #64 mAP: 0.1615249365568161\n",
            "Epoch #64 mAP_50: 0.37180912494659424\n",
            "Epoch #64 best mAP: 0.1620064079761505 at epoch = 59\n",
            "Took 13.660 minutes for epoch 64\n",
            "Epoch 00064: reducing learning rate of group 0 to 1.5625e-05.\n",
            "\n",
            "EPOCH 65 of 100\n",
            "Training\n"
          ]
        },
        {
          "name": "stderr",
          "output_type": "stream",
          "text": [
            "100%|\u2588\u2588\u2588\u2588\u2588\u2588\u2588\u2588\u2588\u2588| 235/235 [08:29<00:00,  2.17s/it]\n"
          ]
        },
        {
          "name": "stdout",
          "output_type": "stream",
          "text": [
            "Evaluating\n"
          ]
        },
        {
          "name": "stderr",
          "output_type": "stream",
          "text": [
            "100%|\u2588\u2588\u2588\u2588\u2588\u2588\u2588\u2588\u2588\u2588| 47/47 [04:12<00:00,  5.37s/it]\n"
          ]
        },
        {
          "name": "stdout",
          "output_type": "stream",
          "text": [
            "Epoch #65 train loss: 3.526\n",
            "Epoch #65 mAP: 0.16143134236335754\n",
            "Epoch #65 mAP_50: 0.37165993452072144\n",
            "Epoch #65 best mAP: 0.1620064079761505 at epoch = 59\n",
            "Took 13.683 minutes for epoch 65\n",
            "\n",
            "EPOCH 66 of 100\n",
            "Training\n"
          ]
        },
        {
          "name": "stderr",
          "output_type": "stream",
          "text": [
            "100%|\u2588\u2588\u2588\u2588\u2588\u2588\u2588\u2588\u2588\u2588| 235/235 [08:35<00:00,  2.19s/it]\n"
          ]
        },
        {
          "name": "stdout",
          "output_type": "stream",
          "text": [
            "Evaluating\n"
          ]
        },
        {
          "name": "stderr",
          "output_type": "stream",
          "text": [
            "100%|\u2588\u2588\u2588\u2588\u2588\u2588\u2588\u2588\u2588\u2588| 47/47 [04:12<00:00,  5.38s/it]\n"
          ]
        },
        {
          "name": "stdout",
          "output_type": "stream",
          "text": [
            "Epoch #66 train loss: 3.514\n",
            "Epoch #66 mAP: 0.16127215325832367\n",
            "Epoch #66 mAP_50: 0.3715251684188843\n",
            "Epoch #66 best mAP: 0.1620064079761505 at epoch = 59\n",
            "Took 13.800 minutes for epoch 66\n",
            "\n",
            "EPOCH 67 of 100\n",
            "Training\n"
          ]
        },
        {
          "name": "stderr",
          "output_type": "stream",
          "text": [
            "100%|\u2588\u2588\u2588\u2588\u2588\u2588\u2588\u2588\u2588\u2588| 235/235 [08:29<00:00,  2.17s/it]\n"
          ]
        },
        {
          "name": "stdout",
          "output_type": "stream",
          "text": [
            "Evaluating\n"
          ]
        },
        {
          "name": "stderr",
          "output_type": "stream",
          "text": [
            "100%|\u2588\u2588\u2588\u2588\u2588\u2588\u2588\u2588\u2588\u2588| 47/47 [04:11<00:00,  5.36s/it]\n"
          ]
        },
        {
          "name": "stdout",
          "output_type": "stream",
          "text": [
            "Epoch #67 train loss: 3.516\n",
            "Epoch #67 mAP: 0.16162113845348358\n",
            "Epoch #67 mAP_50: 0.37204599380493164\n",
            "Epoch #67 best mAP: 0.1620064079761505 at epoch = 59\n",
            "Took 13.663 minutes for epoch 67\n",
            "\n",
            "EPOCH 68 of 100\n",
            "Training\n"
          ]
        },
        {
          "name": "stderr",
          "output_type": "stream",
          "text": [
            "100%|\u2588\u2588\u2588\u2588\u2588\u2588\u2588\u2588\u2588\u2588| 235/235 [08:36<00:00,  2.20s/it]\n"
          ]
        },
        {
          "name": "stdout",
          "output_type": "stream",
          "text": [
            "Evaluating\n"
          ]
        },
        {
          "name": "stderr",
          "output_type": "stream",
          "text": [
            "100%|\u2588\u2588\u2588\u2588\u2588\u2588\u2588\u2588\u2588\u2588| 47/47 [04:12<00:00,  5.38s/it]\n"
          ]
        },
        {
          "name": "stdout",
          "output_type": "stream",
          "text": [
            "Epoch #68 train loss: 3.508\n",
            "Epoch #68 mAP: 0.16205228865146637\n",
            "Epoch #68 mAP_50: 0.37283533811569214\n",
            "Epoch #68 best mAP: 0.16205228865146637 at epoch = 68\n",
            "Took 13.793 minutes for epoch 68\n",
            "\n",
            "EPOCH 69 of 100\n",
            "Training\n"
          ]
        },
        {
          "name": "stderr",
          "output_type": "stream",
          "text": [
            "100%|\u2588\u2588\u2588\u2588\u2588\u2588\u2588\u2588\u2588\u2588| 235/235 [08:33<00:00,  2.19s/it]\n"
          ]
        },
        {
          "name": "stdout",
          "output_type": "stream",
          "text": [
            "Evaluating\n"
          ]
        },
        {
          "name": "stderr",
          "output_type": "stream",
          "text": [
            "100%|\u2588\u2588\u2588\u2588\u2588\u2588\u2588\u2588\u2588\u2588| 47/47 [04:12<00:00,  5.38s/it]\n"
          ]
        },
        {
          "name": "stdout",
          "output_type": "stream",
          "text": [
            "Epoch #69 train loss: 3.515\n",
            "Epoch #69 mAP: 0.16110827028751373\n",
            "Epoch #69 mAP_50: 0.3711434602737427\n",
            "Epoch #69 best mAP: 0.16205228865146637 at epoch = 68\n",
            "Took 13.772 minutes for epoch 69\n",
            "Epoch 00069: reducing learning rate of group 0 to 7.8125e-06.\n",
            "\n",
            "EPOCH 70 of 100\n",
            "Training\n"
          ]
        },
        {
          "name": "stderr",
          "output_type": "stream",
          "text": [
            "100%|\u2588\u2588\u2588\u2588\u2588\u2588\u2588\u2588\u2588\u2588| 235/235 [08:23<00:00,  2.14s/it]\n"
          ]
        },
        {
          "name": "stdout",
          "output_type": "stream",
          "text": [
            "Evaluating\n"
          ]
        },
        {
          "name": "stderr",
          "output_type": "stream",
          "text": [
            "100%|\u2588\u2588\u2588\u2588\u2588\u2588\u2588\u2588\u2588\u2588| 47/47 [04:12<00:00,  5.37s/it]\n"
          ]
        },
        {
          "name": "stdout",
          "output_type": "stream",
          "text": [
            "Epoch #70 train loss: 3.528\n",
            "Epoch #70 mAP: 0.1617841273546219\n",
            "Epoch #70 mAP_50: 0.3722611367702484\n",
            "Epoch #70 best mAP: 0.16205228865146637 at epoch = 68\n",
            "Took 13.581 minutes for epoch 70\n",
            "\n",
            "EPOCH 71 of 100\n",
            "Training\n"
          ]
        },
        {
          "name": "stderr",
          "output_type": "stream",
          "text": [
            "100%|\u2588\u2588\u2588\u2588\u2588\u2588\u2588\u2588\u2588\u2588| 235/235 [08:22<00:00,  2.14s/it]\n"
          ]
        },
        {
          "name": "stdout",
          "output_type": "stream",
          "text": [
            "Evaluating\n"
          ]
        },
        {
          "name": "stderr",
          "output_type": "stream",
          "text": [
            "100%|\u2588\u2588\u2588\u2588\u2588\u2588\u2588\u2588\u2588\u2588| 47/47 [04:12<00:00,  5.37s/it]\n"
          ]
        },
        {
          "name": "stdout",
          "output_type": "stream",
          "text": [
            "Epoch #71 train loss: 3.519\n",
            "Epoch #71 mAP: 0.1620413213968277\n",
            "Epoch #71 mAP_50: 0.3741265833377838\n",
            "Epoch #71 best mAP: 0.16205228865146637 at epoch = 68\n",
            "Took 13.566 minutes for epoch 71\n",
            "\n",
            "EPOCH 72 of 100\n",
            "Training\n"
          ]
        },
        {
          "name": "stderr",
          "output_type": "stream",
          "text": [
            "100%|\u2588\u2588\u2588\u2588\u2588\u2588\u2588\u2588\u2588\u2588| 235/235 [08:20<00:00,  2.13s/it]\n"
          ]
        },
        {
          "name": "stdout",
          "output_type": "stream",
          "text": [
            "Evaluating\n"
          ]
        },
        {
          "name": "stderr",
          "output_type": "stream",
          "text": [
            "100%|\u2588\u2588\u2588\u2588\u2588\u2588\u2588\u2588\u2588\u2588| 47/47 [04:11<00:00,  5.36s/it]\n"
          ]
        },
        {
          "name": "stdout",
          "output_type": "stream",
          "text": [
            "Epoch #72 train loss: 3.501\n",
            "Epoch #72 mAP: 0.16163550317287445\n",
            "Epoch #72 mAP_50: 0.37225571274757385\n",
            "Epoch #72 best mAP: 0.16205228865146637 at epoch = 68\n",
            "Took 13.521 minutes for epoch 72\n",
            "\n",
            "EPOCH 73 of 100\n",
            "Training\n"
          ]
        },
        {
          "name": "stderr",
          "output_type": "stream",
          "text": [
            "100%|\u2588\u2588\u2588\u2588\u2588\u2588\u2588\u2588\u2588\u2588| 235/235 [08:25<00:00,  2.15s/it]\n"
          ]
        },
        {
          "name": "stdout",
          "output_type": "stream",
          "text": [
            "Evaluating\n"
          ]
        },
        {
          "name": "stderr",
          "output_type": "stream",
          "text": [
            "100%|\u2588\u2588\u2588\u2588\u2588\u2588\u2588\u2588\u2588\u2588| 47/47 [04:11<00:00,  5.35s/it]\n"
          ]
        },
        {
          "name": "stdout",
          "output_type": "stream",
          "text": [
            "Epoch #73 train loss: 3.513\n",
            "Epoch #73 mAP: 0.1618315428495407\n",
            "Epoch #73 mAP_50: 0.37363219261169434\n",
            "Epoch #73 best mAP: 0.16205228865146637 at epoch = 68\n",
            "Took 13.602 minutes for epoch 73\n",
            "\n",
            "EPOCH 74 of 100\n",
            "Training\n"
          ]
        },
        {
          "name": "stderr",
          "output_type": "stream",
          "text": [
            "100%|\u2588\u2588\u2588\u2588\u2588\u2588\u2588\u2588\u2588\u2588| 235/235 [08:32<00:00,  2.18s/it]\n"
          ]
        },
        {
          "name": "stdout",
          "output_type": "stream",
          "text": [
            "Evaluating\n"
          ]
        },
        {
          "name": "stderr",
          "output_type": "stream",
          "text": [
            "100%|\u2588\u2588\u2588\u2588\u2588\u2588\u2588\u2588\u2588\u2588| 47/47 [04:12<00:00,  5.37s/it]\n"
          ]
        },
        {
          "name": "stdout",
          "output_type": "stream",
          "text": [
            "Epoch #74 train loss: 3.514\n",
            "Epoch #74 mAP: 0.16174350678920746\n",
            "Epoch #74 mAP_50: 0.372723251581192\n",
            "Epoch #74 best mAP: 0.16205228865146637 at epoch = 68\n",
            "Took 13.739 minutes for epoch 74\n",
            "Epoch 00074: reducing learning rate of group 0 to 3.9063e-06.\n",
            "\n",
            "EPOCH 75 of 100\n",
            "Training\n"
          ]
        },
        {
          "name": "stderr",
          "output_type": "stream",
          "text": [
            "100%|\u2588\u2588\u2588\u2588\u2588\u2588\u2588\u2588\u2588\u2588| 235/235 [08:27<00:00,  2.16s/it]\n"
          ]
        },
        {
          "name": "stdout",
          "output_type": "stream",
          "text": [
            "Evaluating\n"
          ]
        },
        {
          "name": "stderr",
          "output_type": "stream",
          "text": [
            "100%|\u2588\u2588\u2588\u2588\u2588\u2588\u2588\u2588\u2588\u2588| 47/47 [04:13<00:00,  5.39s/it]\n"
          ]
        },
        {
          "name": "stdout",
          "output_type": "stream",
          "text": [
            "Epoch #75 train loss: 3.504\n",
            "Epoch #75 mAP: 0.16195355355739594\n",
            "Epoch #75 mAP_50: 0.37303176522254944\n",
            "Epoch #75 best mAP: 0.16205228865146637 at epoch = 68\n",
            "Took 13.660 minutes for epoch 75\n",
            "\n",
            "EPOCH 76 of 100\n",
            "Training\n"
          ]
        },
        {
          "name": "stderr",
          "output_type": "stream",
          "text": [
            "100%|\u2588\u2588\u2588\u2588\u2588\u2588\u2588\u2588\u2588\u2588| 235/235 [08:26<00:00,  2.16s/it]\n"
          ]
        },
        {
          "name": "stdout",
          "output_type": "stream",
          "text": [
            "Evaluating\n"
          ]
        },
        {
          "name": "stderr",
          "output_type": "stream",
          "text": [
            "100%|\u2588\u2588\u2588\u2588\u2588\u2588\u2588\u2588\u2588\u2588| 47/47 [04:10<00:00,  5.33s/it]\n"
          ]
        },
        {
          "name": "stdout",
          "output_type": "stream",
          "text": [
            "Epoch #76 train loss: 3.514\n",
            "Epoch #76 mAP: 0.1622740477323532\n",
            "Epoch #76 mAP_50: 0.3740725815296173\n",
            "Epoch #76 best mAP: 0.1622740477323532 at epoch = 76\n",
            "Took 13.599 minutes for epoch 76\n",
            "\n",
            "EPOCH 77 of 100\n",
            "Training\n"
          ]
        },
        {
          "name": "stderr",
          "output_type": "stream",
          "text": [
            "100%|\u2588\u2588\u2588\u2588\u2588\u2588\u2588\u2588\u2588\u2588| 235/235 [08:28<00:00,  2.16s/it]\n"
          ]
        },
        {
          "name": "stdout",
          "output_type": "stream",
          "text": [
            "Evaluating\n"
          ]
        },
        {
          "name": "stderr",
          "output_type": "stream",
          "text": [
            "100%|\u2588\u2588\u2588\u2588\u2588\u2588\u2588\u2588\u2588\u2588| 47/47 [04:11<00:00,  5.36s/it]\n"
          ]
        },
        {
          "name": "stdout",
          "output_type": "stream",
          "text": [
            "Epoch #77 train loss: 3.503\n",
            "Epoch #77 mAP: 0.16176395118236542\n",
            "Epoch #77 mAP_50: 0.3727841079235077\n",
            "Epoch #77 best mAP: 0.1622740477323532 at epoch = 76\n",
            "Took 13.655 minutes for epoch 77\n",
            "\n",
            "EPOCH 78 of 100\n",
            "Training\n"
          ]
        },
        {
          "name": "stderr",
          "output_type": "stream",
          "text": [
            "100%|\u2588\u2588\u2588\u2588\u2588\u2588\u2588\u2588\u2588\u2588| 235/235 [08:23<00:00,  2.14s/it]\n"
          ]
        },
        {
          "name": "stdout",
          "output_type": "stream",
          "text": [
            "Evaluating\n"
          ]
        },
        {
          "name": "stderr",
          "output_type": "stream",
          "text": [
            "100%|\u2588\u2588\u2588\u2588\u2588\u2588\u2588\u2588\u2588\u2588| 47/47 [04:13<00:00,  5.39s/it]\n"
          ]
        },
        {
          "name": "stdout",
          "output_type": "stream",
          "text": [
            "Epoch #78 train loss: 3.514\n",
            "Epoch #78 mAP: 0.16181613504886627\n",
            "Epoch #78 mAP_50: 0.3725610375404358\n",
            "Epoch #78 best mAP: 0.1622740477323532 at epoch = 76\n",
            "Took 13.602 minutes for epoch 78\n",
            "\n",
            "EPOCH 79 of 100\n",
            "Training\n"
          ]
        },
        {
          "name": "stderr",
          "output_type": "stream",
          "text": [
            "100%|\u2588\u2588\u2588\u2588\u2588\u2588\u2588\u2588\u2588\u2588| 235/235 [08:26<00:00,  2.16s/it]\n"
          ]
        },
        {
          "name": "stdout",
          "output_type": "stream",
          "text": [
            "Evaluating\n"
          ]
        },
        {
          "name": "stderr",
          "output_type": "stream",
          "text": [
            "100%|\u2588\u2588\u2588\u2588\u2588\u2588\u2588\u2588\u2588\u2588| 47/47 [04:12<00:00,  5.36s/it]\n"
          ]
        },
        {
          "name": "stdout",
          "output_type": "stream",
          "text": [
            "Epoch #79 train loss: 3.499\n",
            "Epoch #79 mAP: 0.16200248897075653\n",
            "Epoch #79 mAP_50: 0.37286919355392456\n",
            "Epoch #79 best mAP: 0.1622740477323532 at epoch = 76\n",
            "Took 13.633 minutes for epoch 79\n",
            "\n",
            "EPOCH 80 of 100\n",
            "Training\n"
          ]
        },
        {
          "name": "stderr",
          "output_type": "stream",
          "text": [
            "100%|\u2588\u2588\u2588\u2588\u2588\u2588\u2588\u2588\u2588\u2588| 235/235 [08:22<00:00,  2.14s/it]\n"
          ]
        },
        {
          "name": "stdout",
          "output_type": "stream",
          "text": [
            "Evaluating\n"
          ]
        },
        {
          "name": "stderr",
          "output_type": "stream",
          "text": [
            "100%|\u2588\u2588\u2588\u2588\u2588\u2588\u2588\u2588\u2588\u2588| 47/47 [04:12<00:00,  5.38s/it]\n"
          ]
        },
        {
          "name": "stdout",
          "output_type": "stream",
          "text": [
            "Epoch #80 train loss: 3.509\n",
            "Epoch #80 mAP: 0.16223253309726715\n",
            "Epoch #80 mAP_50: 0.3738481104373932\n",
            "Epoch #80 best mAP: 0.1622740477323532 at epoch = 76\n",
            "Took 13.583 minutes for epoch 80\n",
            "\n",
            "EPOCH 81 of 100\n",
            "Training\n"
          ]
        },
        {
          "name": "stderr",
          "output_type": "stream",
          "text": [
            "100%|\u2588\u2588\u2588\u2588\u2588\u2588\u2588\u2588\u2588\u2588| 235/235 [08:31<00:00,  2.18s/it]\n"
          ]
        },
        {
          "name": "stdout",
          "output_type": "stream",
          "text": [
            "Evaluating\n"
          ]
        },
        {
          "name": "stderr",
          "output_type": "stream",
          "text": [
            "100%|\u2588\u2588\u2588\u2588\u2588\u2588\u2588\u2588\u2588\u2588| 47/47 [04:13<00:00,  5.38s/it]\n"
          ]
        },
        {
          "name": "stdout",
          "output_type": "stream",
          "text": [
            "Epoch #81 train loss: 3.516\n",
            "Epoch #81 mAP: 0.16221122443675995\n",
            "Epoch #81 mAP_50: 0.3742051422595978\n",
            "Epoch #81 best mAP: 0.1622740477323532 at epoch = 76\n",
            "Took 13.723 minutes for epoch 81\n",
            "Epoch 00081: reducing learning rate of group 0 to 1.9531e-06.\n",
            "\n",
            "EPOCH 82 of 100\n",
            "Training\n"
          ]
        },
        {
          "name": "stderr",
          "output_type": "stream",
          "text": [
            "100%|\u2588\u2588\u2588\u2588\u2588\u2588\u2588\u2588\u2588\u2588| 235/235 [08:32<00:00,  2.18s/it]\n"
          ]
        },
        {
          "name": "stdout",
          "output_type": "stream",
          "text": [
            "Evaluating\n"
          ]
        },
        {
          "name": "stderr",
          "output_type": "stream",
          "text": [
            "100%|\u2588\u2588\u2588\u2588\u2588\u2588\u2588\u2588\u2588\u2588| 47/47 [04:11<00:00,  5.35s/it]\n"
          ]
        },
        {
          "name": "stdout",
          "output_type": "stream",
          "text": [
            "Epoch #82 train loss: 3.513\n",
            "Epoch #82 mAP: 0.16225820779800415\n",
            "Epoch #82 mAP_50: 0.37393710017204285\n",
            "Epoch #82 best mAP: 0.1622740477323532 at epoch = 76\n",
            "Took 13.723 minutes for epoch 82\n",
            "\n",
            "EPOCH 83 of 100\n",
            "Training\n"
          ]
        },
        {
          "name": "stderr",
          "output_type": "stream",
          "text": [
            "100%|\u2588\u2588\u2588\u2588\u2588\u2588\u2588\u2588\u2588\u2588| 235/235 [08:29<00:00,  2.17s/it]\n"
          ]
        },
        {
          "name": "stdout",
          "output_type": "stream",
          "text": [
            "Evaluating\n"
          ]
        },
        {
          "name": "stderr",
          "output_type": "stream",
          "text": [
            "100%|\u2588\u2588\u2588\u2588\u2588\u2588\u2588\u2588\u2588\u2588| 47/47 [04:13<00:00,  5.39s/it]\n"
          ]
        },
        {
          "name": "stdout",
          "output_type": "stream",
          "text": [
            "Epoch #83 train loss: 3.510\n",
            "Epoch #83 mAP: 0.1622755080461502\n",
            "Epoch #83 mAP_50: 0.37403222918510437\n",
            "Epoch #83 best mAP: 0.1622755080461502 at epoch = 83\n",
            "Took 13.696 minutes for epoch 83\n",
            "\n",
            "EPOCH 84 of 100\n",
            "Training\n"
          ]
        },
        {
          "name": "stderr",
          "output_type": "stream",
          "text": [
            "100%|\u2588\u2588\u2588\u2588\u2588\u2588\u2588\u2588\u2588\u2588| 235/235 [08:28<00:00,  2.16s/it]\n"
          ]
        },
        {
          "name": "stdout",
          "output_type": "stream",
          "text": [
            "Evaluating\n"
          ]
        },
        {
          "name": "stderr",
          "output_type": "stream",
          "text": [
            "100%|\u2588\u2588\u2588\u2588\u2588\u2588\u2588\u2588\u2588\u2588| 47/47 [04:12<00:00,  5.37s/it]\n"
          ]
        },
        {
          "name": "stdout",
          "output_type": "stream",
          "text": [
            "Epoch #84 train loss: 3.502\n",
            "Epoch #84 mAP: 0.16227464377880096\n",
            "Epoch #84 mAP_50: 0.3739195466041565\n",
            "Epoch #84 best mAP: 0.1622755080461502 at epoch = 83\n",
            "Took 13.666 minutes for epoch 84\n",
            "\n",
            "EPOCH 85 of 100\n",
            "Training\n"
          ]
        },
        {
          "name": "stderr",
          "output_type": "stream",
          "text": [
            "100%|\u2588\u2588\u2588\u2588\u2588\u2588\u2588\u2588\u2588\u2588| 235/235 [08:26<00:00,  2.15s/it]\n"
          ]
        },
        {
          "name": "stdout",
          "output_type": "stream",
          "text": [
            "Evaluating\n"
          ]
        },
        {
          "name": "stderr",
          "output_type": "stream",
          "text": [
            "100%|\u2588\u2588\u2588\u2588\u2588\u2588\u2588\u2588\u2588\u2588| 47/47 [04:12<00:00,  5.36s/it]\n"
          ]
        },
        {
          "name": "stdout",
          "output_type": "stream",
          "text": [
            "Epoch #85 train loss: 3.516\n",
            "Epoch #85 mAP: 0.16219624876976013\n",
            "Epoch #85 mAP_50: 0.37376195192337036\n",
            "Epoch #85 best mAP: 0.1622755080461502 at epoch = 83\n",
            "Took 13.623 minutes for epoch 85\n",
            "\n",
            "EPOCH 86 of 100\n",
            "Training\n"
          ]
        },
        {
          "name": "stderr",
          "output_type": "stream",
          "text": [
            "100%|\u2588\u2588\u2588\u2588\u2588\u2588\u2588\u2588\u2588\u2588| 235/235 [08:25<00:00,  2.15s/it]\n"
          ]
        },
        {
          "name": "stdout",
          "output_type": "stream",
          "text": [
            "Evaluating\n"
          ]
        },
        {
          "name": "stderr",
          "output_type": "stream",
          "text": [
            "100%|\u2588\u2588\u2588\u2588\u2588\u2588\u2588\u2588\u2588\u2588| 47/47 [04:12<00:00,  5.37s/it]\n"
          ]
        },
        {
          "name": "stdout",
          "output_type": "stream",
          "text": [
            "Epoch #86 train loss: 3.519\n",
            "Epoch #86 mAP: 0.16203731298446655\n",
            "Epoch #86 mAP_50: 0.37307024002075195\n",
            "Epoch #86 best mAP: 0.1622755080461502 at epoch = 83\n",
            "Took 13.618 minutes for epoch 86\n",
            "Epoch 00086: reducing learning rate of group 0 to 9.7656e-07.\n",
            "\n",
            "EPOCH 87 of 100\n",
            "Training\n"
          ]
        },
        {
          "name": "stderr",
          "output_type": "stream",
          "text": [
            "100%|\u2588\u2588\u2588\u2588\u2588\u2588\u2588\u2588\u2588\u2588| 235/235 [08:38<00:00,  2.21s/it]\n"
          ]
        },
        {
          "name": "stdout",
          "output_type": "stream",
          "text": [
            "Evaluating\n"
          ]
        },
        {
          "name": "stderr",
          "output_type": "stream",
          "text": [
            "100%|\u2588\u2588\u2588\u2588\u2588\u2588\u2588\u2588\u2588\u2588| 47/47 [04:12<00:00,  5.37s/it]\n"
          ]
        },
        {
          "name": "stdout",
          "output_type": "stream",
          "text": [
            "Epoch #87 train loss: 3.512\n",
            "Epoch #87 mAP: 0.1621369570493698\n",
            "Epoch #87 mAP_50: 0.373447448015213\n",
            "Epoch #87 best mAP: 0.1622755080461502 at epoch = 83\n",
            "Took 13.826 minutes for epoch 87\n",
            "\n",
            "EPOCH 88 of 100\n",
            "Training\n"
          ]
        },
        {
          "name": "stderr",
          "output_type": "stream",
          "text": [
            "100%|\u2588\u2588\u2588\u2588\u2588\u2588\u2588\u2588\u2588\u2588| 235/235 [08:30<00:00,  2.17s/it]\n"
          ]
        },
        {
          "name": "stdout",
          "output_type": "stream",
          "text": [
            "Evaluating\n"
          ]
        },
        {
          "name": "stderr",
          "output_type": "stream",
          "text": [
            "100%|\u2588\u2588\u2588\u2588\u2588\u2588\u2588\u2588\u2588\u2588| 47/47 [04:12<00:00,  5.36s/it]\n"
          ]
        },
        {
          "name": "stdout",
          "output_type": "stream",
          "text": [
            "Epoch #88 train loss: 3.513\n",
            "Epoch #88 mAP: 0.162178173661232\n",
            "Epoch #88 mAP_50: 0.3734161853790283\n",
            "Epoch #88 best mAP: 0.1622755080461502 at epoch = 83\n",
            "Took 13.703 minutes for epoch 88\n",
            "\n",
            "EPOCH 89 of 100\n",
            "Training\n"
          ]
        },
        {
          "name": "stderr",
          "output_type": "stream",
          "text": [
            "100%|\u2588\u2588\u2588\u2588\u2588\u2588\u2588\u2588\u2588\u2588| 235/235 [08:27<00:00,  2.16s/it]\n"
          ]
        },
        {
          "name": "stdout",
          "output_type": "stream",
          "text": [
            "Evaluating\n"
          ]
        },
        {
          "name": "stderr",
          "output_type": "stream",
          "text": [
            "100%|\u2588\u2588\u2588\u2588\u2588\u2588\u2588\u2588\u2588\u2588| 47/47 [04:11<00:00,  5.36s/it]\n"
          ]
        },
        {
          "name": "stdout",
          "output_type": "stream",
          "text": [
            "Epoch #89 train loss: 3.509\n",
            "Epoch #89 mAP: 0.16217097640037537\n",
            "Epoch #89 mAP_50: 0.37350836396217346\n",
            "Epoch #89 best mAP: 0.1622755080461502 at epoch = 83\n",
            "Took 13.642 minutes for epoch 89\n",
            "\n",
            "EPOCH 90 of 100\n",
            "Training\n"
          ]
        },
        {
          "name": "stderr",
          "output_type": "stream",
          "text": [
            "100%|\u2588\u2588\u2588\u2588\u2588\u2588\u2588\u2588\u2588\u2588| 235/235 [08:22<00:00,  2.14s/it]\n"
          ]
        },
        {
          "name": "stdout",
          "output_type": "stream",
          "text": [
            "Evaluating\n"
          ]
        },
        {
          "name": "stderr",
          "output_type": "stream",
          "text": [
            "100%|\u2588\u2588\u2588\u2588\u2588\u2588\u2588\u2588\u2588\u2588| 47/47 [04:13<00:00,  5.39s/it]\n"
          ]
        },
        {
          "name": "stdout",
          "output_type": "stream",
          "text": [
            "Epoch #90 train loss: 3.516\n",
            "Epoch #90 mAP: 0.16208559274673462\n",
            "Epoch #90 mAP_50: 0.37288427352905273\n",
            "Epoch #90 best mAP: 0.1622755080461502 at epoch = 83\n",
            "Took 13.595 minutes for epoch 90\n",
            "\n",
            "EPOCH 91 of 100\n",
            "Training\n"
          ]
        },
        {
          "name": "stderr",
          "output_type": "stream",
          "text": [
            "100%|\u2588\u2588\u2588\u2588\u2588\u2588\u2588\u2588\u2588\u2588| 235/235 [08:36<00:00,  2.20s/it]\n"
          ]
        },
        {
          "name": "stdout",
          "output_type": "stream",
          "text": [
            "Evaluating\n"
          ]
        },
        {
          "name": "stderr",
          "output_type": "stream",
          "text": [
            "100%|\u2588\u2588\u2588\u2588\u2588\u2588\u2588\u2588\u2588\u2588| 47/47 [04:12<00:00,  5.36s/it]\n"
          ]
        },
        {
          "name": "stdout",
          "output_type": "stream",
          "text": [
            "Epoch #91 train loss: 3.532\n",
            "Epoch #91 mAP: 0.16219660639762878\n",
            "Epoch #91 mAP_50: 0.3736344575881958\n",
            "Epoch #91 best mAP: 0.1622755080461502 at epoch = 83\n",
            "Took 13.799 minutes for epoch 91\n",
            "Epoch 00091: reducing learning rate of group 0 to 4.8828e-07.\n",
            "\n",
            "EPOCH 92 of 100\n",
            "Training\n"
          ]
        },
        {
          "name": "stderr",
          "output_type": "stream",
          "text": [
            "100%|\u2588\u2588\u2588\u2588\u2588\u2588\u2588\u2588\u2588\u2588| 235/235 [08:34<00:00,  2.19s/it]\n"
          ]
        },
        {
          "name": "stdout",
          "output_type": "stream",
          "text": [
            "Evaluating\n"
          ]
        },
        {
          "name": "stderr",
          "output_type": "stream",
          "text": [
            "100%|\u2588\u2588\u2588\u2588\u2588\u2588\u2588\u2588\u2588\u2588| 47/47 [04:12<00:00,  5.37s/it]\n"
          ]
        },
        {
          "name": "stdout",
          "output_type": "stream",
          "text": [
            "Epoch #92 train loss: 3.529\n",
            "Epoch #92 mAP: 0.16226717829704285\n",
            "Epoch #92 mAP_50: 0.3738020062446594\n",
            "Epoch #92 best mAP: 0.1622755080461502 at epoch = 83\n",
            "Took 13.758 minutes for epoch 92\n",
            "\n",
            "EPOCH 93 of 100\n",
            "Training\n"
          ]
        },
        {
          "name": "stderr",
          "output_type": "stream",
          "text": [
            "100%|\u2588\u2588\u2588\u2588\u2588\u2588\u2588\u2588\u2588\u2588| 235/235 [08:33<00:00,  2.19s/it]\n"
          ]
        },
        {
          "name": "stdout",
          "output_type": "stream",
          "text": [
            "Evaluating\n"
          ]
        },
        {
          "name": "stderr",
          "output_type": "stream",
          "text": [
            "100%|\u2588\u2588\u2588\u2588\u2588\u2588\u2588\u2588\u2588\u2588| 47/47 [04:12<00:00,  5.38s/it]\n"
          ]
        },
        {
          "name": "stdout",
          "output_type": "stream",
          "text": [
            "Epoch #93 train loss: 3.522\n",
            "Epoch #93 mAP: 0.16224288940429688\n",
            "Epoch #93 mAP_50: 0.37374362349510193\n",
            "Epoch #93 best mAP: 0.1622755080461502 at epoch = 83\n",
            "Took 13.760 minutes for epoch 93\n",
            "\n",
            "EPOCH 94 of 100\n",
            "Training\n"
          ]
        },
        {
          "name": "stderr",
          "output_type": "stream",
          "text": [
            "100%|\u2588\u2588\u2588\u2588\u2588\u2588\u2588\u2588\u2588\u2588| 235/235 [08:30<00:00,  2.17s/it]\n"
          ]
        },
        {
          "name": "stdout",
          "output_type": "stream",
          "text": [
            "Evaluating\n"
          ]
        },
        {
          "name": "stderr",
          "output_type": "stream",
          "text": [
            "100%|\u2588\u2588\u2588\u2588\u2588\u2588\u2588\u2588\u2588\u2588| 47/47 [04:13<00:00,  5.40s/it]\n"
          ]
        },
        {
          "name": "stdout",
          "output_type": "stream",
          "text": [
            "Epoch #94 train loss: 3.507\n",
            "Epoch #94 mAP: 0.16223251819610596\n",
            "Epoch #94 mAP_50: 0.3737126886844635\n",
            "Epoch #94 best mAP: 0.1622755080461502 at epoch = 83\n",
            "Took 13.721 minutes for epoch 94\n",
            "\n",
            "EPOCH 95 of 100\n",
            "Training\n"
          ]
        },
        {
          "name": "stderr",
          "output_type": "stream",
          "text": [
            "100%|\u2588\u2588\u2588\u2588\u2588\u2588\u2588\u2588\u2588\u2588| 235/235 [08:28<00:00,  2.17s/it]\n"
          ]
        },
        {
          "name": "stdout",
          "output_type": "stream",
          "text": [
            "Evaluating\n"
          ]
        },
        {
          "name": "stderr",
          "output_type": "stream",
          "text": [
            "100%|\u2588\u2588\u2588\u2588\u2588\u2588\u2588\u2588\u2588\u2588| 47/47 [04:12<00:00,  5.36s/it]\n"
          ]
        },
        {
          "name": "stdout",
          "output_type": "stream",
          "text": [
            "Epoch #95 train loss: 3.524\n",
            "Epoch #95 mAP: 0.16225965321063995\n",
            "Epoch #95 mAP_50: 0.37380027770996094\n",
            "Epoch #95 best mAP: 0.1622755080461502 at epoch = 83\n",
            "Took 13.674 minutes for epoch 95\n",
            "\n",
            "EPOCH 96 of 100\n",
            "Training\n"
          ]
        },
        {
          "name": "stderr",
          "output_type": "stream",
          "text": [
            "100%|\u2588\u2588\u2588\u2588\u2588\u2588\u2588\u2588\u2588\u2588| 235/235 [08:32<00:00,  2.18s/it]\n"
          ]
        },
        {
          "name": "stdout",
          "output_type": "stream",
          "text": [
            "Evaluating\n"
          ]
        },
        {
          "name": "stderr",
          "output_type": "stream",
          "text": [
            "100%|\u2588\u2588\u2588\u2588\u2588\u2588\u2588\u2588\u2588\u2588| 47/47 [04:11<00:00,  5.36s/it]\n"
          ]
        },
        {
          "name": "stdout",
          "output_type": "stream",
          "text": [
            "Epoch #96 train loss: 3.518\n",
            "Epoch #96 mAP: 0.16216285526752472\n",
            "Epoch #96 mAP_50: 0.3731442987918854\n",
            "Epoch #96 best mAP: 0.1622755080461502 at epoch = 83\n",
            "Took 13.711 minutes for epoch 96\n",
            "Epoch 00096: reducing learning rate of group 0 to 2.4414e-07.\n",
            "\n",
            "EPOCH 97 of 100\n",
            "Training\n"
          ]
        },
        {
          "name": "stderr",
          "output_type": "stream",
          "text": [
            "100%|\u2588\u2588\u2588\u2588\u2588\u2588\u2588\u2588\u2588\u2588| 235/235 [08:24<00:00,  2.15s/it]\n"
          ]
        },
        {
          "name": "stdout",
          "output_type": "stream",
          "text": [
            "Evaluating\n"
          ]
        },
        {
          "name": "stderr",
          "output_type": "stream",
          "text": [
            "100%|\u2588\u2588\u2588\u2588\u2588\u2588\u2588\u2588\u2588\u2588| 47/47 [04:12<00:00,  5.37s/it]\n"
          ]
        },
        {
          "name": "stdout",
          "output_type": "stream",
          "text": [
            "Epoch #97 train loss: 3.509\n",
            "Epoch #97 mAP: 0.16221953928470612\n",
            "Epoch #97 mAP_50: 0.3737650215625763\n",
            "Epoch #97 best mAP: 0.1622755080461502 at epoch = 83\n",
            "Took 13.606 minutes for epoch 97\n",
            "\n",
            "EPOCH 98 of 100\n",
            "Training\n"
          ]
        },
        {
          "name": "stderr",
          "output_type": "stream",
          "text": [
            "100%|\u2588\u2588\u2588\u2588\u2588\u2588\u2588\u2588\u2588\u2588| 235/235 [08:32<00:00,  2.18s/it]\n"
          ]
        },
        {
          "name": "stdout",
          "output_type": "stream",
          "text": [
            "Evaluating\n"
          ]
        },
        {
          "name": "stderr",
          "output_type": "stream",
          "text": [
            "100%|\u2588\u2588\u2588\u2588\u2588\u2588\u2588\u2588\u2588\u2588| 47/47 [04:11<00:00,  5.35s/it]\n"
          ]
        },
        {
          "name": "stdout",
          "output_type": "stream",
          "text": [
            "Epoch #98 train loss: 3.520\n",
            "Epoch #98 mAP: 0.1622077226638794\n",
            "Epoch #98 mAP_50: 0.3738251328468323\n",
            "Epoch #98 best mAP: 0.1622755080461502 at epoch = 83\n",
            "Took 13.715 minutes for epoch 98\n",
            "\n",
            "EPOCH 99 of 100\n",
            "Training\n"
          ]
        },
        {
          "name": "stderr",
          "output_type": "stream",
          "text": [
            "100%|\u2588\u2588\u2588\u2588\u2588\u2588\u2588\u2588\u2588\u2588| 235/235 [08:23<00:00,  2.14s/it]\n"
          ]
        },
        {
          "name": "stdout",
          "output_type": "stream",
          "text": [
            "Evaluating\n"
          ]
        },
        {
          "name": "stderr",
          "output_type": "stream",
          "text": [
            "100%|\u2588\u2588\u2588\u2588\u2588\u2588\u2588\u2588\u2588\u2588| 47/47 [04:11<00:00,  5.36s/it]\n"
          ]
        },
        {
          "name": "stdout",
          "output_type": "stream",
          "text": [
            "Epoch #99 train loss: 3.526\n",
            "Epoch #99 mAP: 0.16209669411182404\n",
            "Epoch #99 mAP_50: 0.37306541204452515\n",
            "Epoch #99 best mAP: 0.1622755080461502 at epoch = 83\n",
            "Took 13.568 minutes for epoch 99\n",
            "\n",
            "EPOCH 100 of 100\n",
            "Training\n"
          ]
        },
        {
          "name": "stderr",
          "output_type": "stream",
          "text": [
            "100%|\u2588\u2588\u2588\u2588\u2588\u2588\u2588\u2588\u2588\u2588| 235/235 [08:37<00:00,  2.20s/it]\n"
          ]
        },
        {
          "name": "stdout",
          "output_type": "stream",
          "text": [
            "Evaluating\n"
          ]
        },
        {
          "name": "stderr",
          "output_type": "stream",
          "text": [
            "100%|\u2588\u2588\u2588\u2588\u2588\u2588\u2588\u2588\u2588\u2588| 47/47 [04:13<00:00,  5.39s/it]\n"
          ]
        },
        {
          "name": "stdout",
          "output_type": "stream",
          "text": [
            "Epoch #100 train loss: 3.518\n",
            "Epoch #100 mAP: 0.16215237975120544\n",
            "Epoch #100 mAP_50: 0.373604953289032\n",
            "Epoch #100 best mAP: 0.1622755080461502 at epoch = 83\n",
            "Took 13.834 minutes for epoch 100\n"
          ]
        }
      ],
      "source": [
        "train_model(\n",
        "    model=model,\n",
        "    encoder = encoder,\n",
        "    num_epoch=100,\n",
        "    optimizer=optimizer,\n",
        "    loss_func = loss_func,\n",
        "    train_dataloader = train_dataloader,\n",
        "    val_dataloader = val_dataloader,\n",
        "    device  = device,\n",
        "    scheduler=scheduler,\n",
        "    path_to_save=Configs.path_to_save_state_model,\n",
        "    use_pick_best=Configs.use_pick_best_in_eval\n",
        ")"
      ]
    },
    {
      "cell_type": "code",
      "execution_count": null,
      "metadata": {},
      "outputs": [],
      "source": []
    },
    {
      "cell_type": "code",
      "execution_count": null,
      "metadata": {},
      "outputs": [],
      "source": [
        "checkpoint = torch.load('weight\\state best_model_at_adam1.pth')\n",
        "model.load_state_dict(checkpoint['model'])\n",
        "optimizer.load_state_dict(checkpoint['optimizer_state'])\n",
        "scheduler.load_state_dict(checkpoint['lr_scheduler_state'])\n",
        "for param in model.parameters():\n",
        "    param.requires_grad = True\n",
        "\n",
        "for param in model.feature_extractor.parameters():\n",
        "    param.requires_grad = False"
      ]
    },
    {
      "cell_type": "code",
      "execution_count": null,
      "metadata": {},
      "outputs": [],
      "source": []
    },
    {
      "cell_type": "code",
      "execution_count": null,
      "metadata": {},
      "outputs": [],
      "source": []
    },
    {
      "cell_type": "code",
      "execution_count": 14,
      "metadata": {},
      "outputs": [
        {
          "name": "stdout",
          "output_type": "stream",
          "text": [
            "Evaluating\n"
          ]
        },
        {
          "name": "stderr",
          "output_type": "stream",
          "text": [
            "100%|\u2588\u2588\u2588\u2588\u2588\u2588\u2588\u2588\u2588\u2588| 47/47 [04:14<00:00,  5.42s/it]\n"
          ]
        }
      ],
      "source": [
        "x = model_evaluate(\n",
        "    model = model,\n",
        "    encoder = encoder,\n",
        "    val_dataloader = val_dataloader,\n",
        "    device=device,\n",
        "    use_pick_best=False,\n",
        "    threshold = Configs.decode_result[\"pic_threshold\"]\n",
        ")"
      ]
    },
    {
      "cell_type": "code",
      "execution_count": 15,
      "metadata": {},
      "outputs": [
        {
          "data": {
            "text/plain": [
              "{'map': tensor(0.1314),\n",
              " 'map_50': tensor(0.3248),\n",
              " 'map_75': tensor(0.0852),\n",
              " 'map_small': tensor(0.0134),\n",
              " 'map_medium': tensor(0.1513),\n",
              " 'map_large': tensor(0.3177),\n",
              " 'mar_1': tensor(0.0222),\n",
              " 'mar_10': tensor(0.1280),\n",
              " 'mar_100': tensor(0.1951),\n",
              " 'mar_small': tensor(0.0449),\n",
              " 'mar_medium': tensor(0.2280),\n",
              " 'mar_large': tensor(0.4136),\n",
              " 'map_per_class': tensor(-1.),\n",
              " 'mar_100_per_class': tensor(-1.),\n",
              " 'classes': tensor([1, 2], dtype=torch.int32)}"
            ]
          },
          "execution_count": 15,
          "metadata": {},
          "output_type": "execute_result"
        }
      ],
      "source": [
        "x"
      ]
    },
    {
      "cell_type": "code",
      "execution_count": null,
      "metadata": {},
      "outputs": [],
      "source": []
    },
    {
      "cell_type": "code",
      "execution_count": null,
      "metadata": {},
      "outputs": [],
      "source": [
        "\n",
        "checkpoint = torch.load('weight\\state best_model_at_19_monin.pth')\n",
        "model.load_state_dict(checkpoint['model_state'])\n",
        "optimizer.load_state_dict(checkpoint['optimizer_state'])\n",
        "scheduler.load_state_dict(checkpoint['lr_scheduler_state'])\n",
        "for param in model.parameters():\n",
        "    param.requires_grad = True\n",
        "\n",
        "for param in model.feature_extractor.parameters():\n",
        "    param.requires_grad = False"
      ]
    },
    {
      "cell_type": "code",
      "execution_count": null,
      "metadata": {},
      "outputs": [],
      "source": []
    },
    {
      "cell_type": "code",
      "execution_count": null,
      "metadata": {},
      "outputs": [],
      "source": []
    },
    {
      "cell_type": "code",
      "execution_count": null,
      "metadata": {},
      "outputs": [],
      "source": []
    }
  ],
  "metadata": {
    "kernelspec": {
      "display_name": ".venv",
      "language": "python",
      "name": "python3"
    },
    "language_info": {
      "codemirror_mode": {
        "name": "ipython",
        "version": 3
      },
      "file_extension": ".py",
      "mimetype": "text/x-python",
      "name": "python",
      "nbconvert_exporter": "python",
      "pygments_lexer": "ipython3",
      "version": "3.9.0"
    },
    "orig_nbformat": 4
  },
  "nbformat": 4,
  "nbformat_minor": 2
}
