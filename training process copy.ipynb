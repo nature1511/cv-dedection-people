{
  "cells": [
    {
      "cell_type": "code",
      "execution_count": 1,
      "metadata": {},
      "outputs": [
        {
          "name": "stderr",
          "output_type": "stream",
          "text": [
            "c:\\Users\\123\\Desktop\\torch cuda\\.venv\\lib\\site-packages\\torchaudio\\backend\\utils.py:74: UserWarning: No audio backend is available.\n",
            "  warnings.warn(\"No audio backend is available.\")\n",
            "c:\\Users\\123\\Desktop\\torch cuda\\.venv\\lib\\site-packages\\tqdm\\auto.py:21: TqdmWarning: IProgress not found. Please update jupyter and ipywidgets. See https://ipywidgets.readthedocs.io/en/stable/user_install.html\n",
            "  from .autonotebook import tqdm as notebook_tqdm\n"
          ]
        }
      ],
      "source": [
        "import numpy as np\n",
        "import torch\n",
        "\n",
        "from ssd.utils_ssd300 import dboxes300_coco\n",
        "from ssd.create_model import nvidia_ssd\n",
        "from ssd.utils_ssd300 import Encoder\n",
        "from ssd.model import Loss, SSD300\n",
        "from ssd.SSD_Transformers import SSDTransformer\n",
        "from utils.utils import set_seed\n",
        "from train_model import train_model\n",
        "from ssd.model_eval import model_evaluate\n",
        "\n",
        "\n",
        "from torch.utils.data import DataLoader\n",
        "\n",
        "from config.config import Configs\n",
        "from ssd.model_eval import model_evaluate\n",
        "\n",
        "from ssd.decode_results import Processing as processing\n",
        "from ssd.loaser_crowdhuman import CrowdHuman\n"
      ]
    },
    {
      "cell_type": "code",
      "execution_count": 2,
      "metadata": {},
      "outputs": [
        {
          "data": {
            "text/plain": [
              "<All keys matched successfully>"
            ]
          },
          "execution_count": 2,
          "metadata": {},
          "output_type": "execute_result"
        }
      ],
      "source": [
        "device = 'cuda'\n",
        "ssd_300 = nvidia_ssd(device=device, pretrainded_custom=False, pretrained_default=True)\n",
        "\n",
        "feat_ext_w = ssd_300.feature_extractor.state_dict()\n",
        "\n",
        "model = SSD300(label_num=3)\n",
        "model = model.cuda()\n",
        "\n",
        "model.feature_extractor.load_state_dict(feat_ext_w)\n"
      ]
    },
    {
      "cell_type": "code",
      "execution_count": 5,
      "metadata": {},
      "outputs": [
        {
          "name": "stdout",
          "output_type": "stream",
          "text": [
            "load annotation file:  data\\annotation_train.json\n",
            "load annotation file:  data\\annotation_val.json\n"
          ]
        }
      ],
      "source": [
        "batch_size = 32\n",
        "device = \"cuda\"\n",
        "\n",
        "for param in model.parameters():\n",
        "    param.requires_grad = True\n",
        "\n",
        "for param in model.feature_extractor.parameters():\n",
        "    param.requires_grad = False\n",
        "\n",
        "dboxes = dboxes300_coco()\n",
        "encoder = Encoder(dboxes)\n",
        "\n",
        "loss_func = Loss(dboxes, device=device)\n",
        "transformers_ssd_train = SSDTransformer(dboxes, size=(300, 300), val=False)\n",
        "transformers_ssd_val = SSDTransformer(dboxes, size=(300, 300), val=True)\n",
        "set_seed()\n",
        "data_train = CrowdHuman(\n",
        "    img_folder=\"data\\\\train\\\\\",\n",
        "    annotate_file=\"data\\\\annotation_train.json\",\n",
        "    transform=transformers_ssd_train,\n",
        "    use_head_bbx=True,\n",
        ")\n",
        "\n",
        "\n",
        "train_dataloader = DataLoader(\n",
        "    data_train,\n",
        "    batch_size=batch_size,\n",
        "    shuffle=True \n",
        ")\n",
        "\n",
        "\n",
        "data_val = CrowdHuman(\n",
        "    img_folder=\"data\\\\val\\\\\",\n",
        "    annotate_file=\"data\\\\annotation_val.json\",\n",
        "    transform=transformers_ssd_val,\n",
        "    use_head_bbx=True,\n",
        ")\n",
        "\n",
        "val_dataloader = DataLoader(\n",
        "    data_val,\n",
        "    batch_size=batch_size,\n",
        "    shuffle=False,  \n",
        ")\n",
        "\n",
        "\n",
        "# https://www.kaggle.com/code/billiemage/understand-lr-scheduler-with-simple-examples\n",
        "params = [p for p in model.parameters() if p.requires_grad]\n",
        "optimizer = torch.optim.SGD(params, lr=3.25e-3, momentum=0.9, nesterov=True)\n",
        "\n",
        "scheduler = torch.optim.lr_scheduler.ReduceLROnPlateau(\n",
        "    optimizer=optimizer, patience=4,threshold = 1e-3, verbose=True, factor=0.5, mode = 'min'\n",
        ")"
      ]
    },
    {
      "cell_type": "code",
      "execution_count": 6,
      "metadata": {},
      "outputs": [
        {
          "name": "stdout",
          "output_type": "stream",
          "text": [
            "\n",
            "EPOCH 1 of 80\n",
            "Training\n"
          ]
        },
        {
          "name": "stderr",
          "output_type": "stream",
          "text": [
            " 26%|\u2588\u2588\u258c       | 61/235 [05:31<15:46,  5.44s/it]\n"
          ]
        },
        {
          "ename": "KeyboardInterrupt",
          "evalue": "",
          "output_type": "error",
          "traceback": [
            "\u001b[1;31m---------------------------------------------------------------------------\u001b[0m",
            "\u001b[1;31mKeyboardInterrupt\u001b[0m                         Traceback (most recent call last)",
            "Cell \u001b[1;32mIn[6], line 1\u001b[0m\n\u001b[1;32m----> 1\u001b[0m train_model(\n\u001b[0;32m      2\u001b[0m     model\u001b[39m=\u001b[39;49mmodel,\n\u001b[0;32m      3\u001b[0m     encoder \u001b[39m=\u001b[39;49m encoder,\n\u001b[0;32m      4\u001b[0m     num_epoch\u001b[39m=\u001b[39;49m\u001b[39m80\u001b[39;49m,\n\u001b[0;32m      5\u001b[0m     optimizer\u001b[39m=\u001b[39;49moptimizer,\n\u001b[0;32m      6\u001b[0m     loss_func \u001b[39m=\u001b[39;49m loss_func,\n\u001b[0;32m      7\u001b[0m     train_dataloader \u001b[39m=\u001b[39;49m train_dataloader,\n\u001b[0;32m      8\u001b[0m     val_dataloader \u001b[39m=\u001b[39;49m val_dataloader,\n\u001b[0;32m      9\u001b[0m     device  \u001b[39m=\u001b[39;49m device,\n\u001b[0;32m     10\u001b[0m     scheduler\u001b[39m=\u001b[39;49mscheduler,\n\u001b[0;32m     11\u001b[0m     path_to_save\u001b[39m=\u001b[39;49mConfigs\u001b[39m.\u001b[39;49mpath_to_save_state_model,\n\u001b[0;32m     12\u001b[0m     use_pick_best\u001b[39m=\u001b[39;49mConfigs\u001b[39m.\u001b[39;49muse_pick_best_in_eval\n\u001b[0;32m     13\u001b[0m )\n",
            "File \u001b[1;32mc:\\Users\\123\\Desktop\\torch cuda\\train_model.py:30\u001b[0m, in \u001b[0;36mtrain_model\u001b[1;34m(model, encoder, num_epoch, optimizer, loss_func, train_dataloader, val_dataloader, device, scheduler, path_to_save, use_pick_best)\u001b[0m\n\u001b[0;32m     28\u001b[0m \u001b[39mprint\u001b[39m(\u001b[39mf\u001b[39m\u001b[39m\"\u001b[39m\u001b[39m\\n\u001b[39;00m\u001b[39mEPOCH \u001b[39m\u001b[39m{\u001b[39;00mepoch\u001b[39m+\u001b[39m\u001b[39m1\u001b[39m\u001b[39m}\u001b[39;00m\u001b[39m of \u001b[39m\u001b[39m{\u001b[39;00mnum_epoch\u001b[39m}\u001b[39;00m\u001b[39m\"\u001b[39m)\n\u001b[0;32m     29\u001b[0m start \u001b[39m=\u001b[39m time\u001b[39m.\u001b[39mtime()\n\u001b[1;32m---> 30\u001b[0m losses \u001b[39m=\u001b[39m train_one_loop(\n\u001b[0;32m     31\u001b[0m     model\u001b[39m=\u001b[39;49mmodel,\n\u001b[0;32m     32\u001b[0m     optimizer\u001b[39m=\u001b[39;49moptimizer,\n\u001b[0;32m     33\u001b[0m     loss_func\u001b[39m=\u001b[39;49mloss_func,\n\u001b[0;32m     34\u001b[0m     train_dataloader\u001b[39m=\u001b[39;49mtrain_dataloader,\n\u001b[0;32m     35\u001b[0m     device\u001b[39m=\u001b[39;49mdevice,\n\u001b[0;32m     36\u001b[0m )\n\u001b[0;32m     37\u001b[0m metrics_map \u001b[39m=\u001b[39m model_evaluate(\n\u001b[0;32m     38\u001b[0m     model\u001b[39m=\u001b[39mmodel,\n\u001b[0;32m     39\u001b[0m     encoder\u001b[39m=\u001b[39mencoder,\n\u001b[1;32m   (...)\u001b[0m\n\u001b[0;32m     42\u001b[0m     use_pick_best\u001b[39m=\u001b[39muse_pick_best,\n\u001b[0;32m     43\u001b[0m )\n\u001b[0;32m     45\u001b[0m cur_map \u001b[39m=\u001b[39m metrics_map[\u001b[39m\"\u001b[39m\u001b[39mmap\u001b[39m\u001b[39m\"\u001b[39m]\n",
            "File \u001b[1;32mc:\\Users\\123\\Desktop\\torch cuda\\ssd\\train_one_loop.py:24\u001b[0m, in \u001b[0;36mtrain_one_loop\u001b[1;34m(model, optimizer, loss_func, train_dataloader, device)\u001b[0m\n\u001b[0;32m     22\u001b[0m \u001b[39m# print(ploc.device, plabel.device, gloc.device, glabel.device)\u001b[39;00m\n\u001b[0;32m     23\u001b[0m loss \u001b[39m=\u001b[39m loss_func(ploc\u001b[39m=\u001b[39mploc, plabel\u001b[39m=\u001b[39mplabel, gloc\u001b[39m=\u001b[39mgloc, glabel\u001b[39m=\u001b[39mglabel)\n\u001b[1;32m---> 24\u001b[0m loss_sum \u001b[39m+\u001b[39m\u001b[39m=\u001b[39m loss\u001b[39m.\u001b[39mitem()\n\u001b[0;32m     25\u001b[0m loss\u001b[39m.\u001b[39mbackward()\n\u001b[0;32m     26\u001b[0m optimizer\u001b[39m.\u001b[39mstep()\n",
            "\u001b[1;31mKeyboardInterrupt\u001b[0m: "
          ]
        }
      ],
      "source": [
        "train_model(\n",
        "    model=model,\n",
        "    encoder = encoder,\n",
        "    num_epoch=80,\n",
        "    optimizer=optimizer,\n",
        "    loss_func = loss_func,\n",
        "    train_dataloader = train_dataloader,\n",
        "    val_dataloader = val_dataloader,\n",
        "    device  = device,\n",
        "    scheduler=scheduler,\n",
        "    path_to_save=Configs.path_to_save_state_model,\n",
        "    use_pick_best=Configs.use_pick_best_in_eval\n",
        ")"
      ]
    },
    {
      "cell_type": "code",
      "execution_count": null,
      "metadata": {},
      "outputs": [],
      "source": []
    },
    {
      "cell_type": "code",
      "execution_count": null,
      "metadata": {},
      "outputs": [],
      "source": []
    },
    {
      "cell_type": "code",
      "execution_count": 8,
      "metadata": {},
      "outputs": [
        {
          "name": "stdout",
          "output_type": "stream",
          "text": [
            "Evaluating\n"
          ]
        },
        {
          "name": "stderr",
          "output_type": "stream",
          "text": [
            "100%|\u2588\u2588\u2588\u2588\u2588\u2588\u2588\u2588\u2588\u2588| 47/47 [18:14<00:00, 23.29s/it]\n",
            "c:\\Users\\123\\Desktop\\torch cuda\\.venv\\lib\\site-packages\\torchmetrics\\utilities\\prints.py:42: UserWarning: Encountered more than 100 detections in a single image. This means that certain detections with the lowest scores will be ignored, that may have an undesirable impact on performance. Please consider adjusting the `max_detection_threshold` to suit your use case. To disable this warning, set attribute class `warn_on_many_detections=False`, after initializing the metric.\n",
            "  warnings.warn(*args, **kwargs)  # noqa: B028\n"
          ]
        }
      ],
      "source": [
        "x = model_evaluate(\n",
        "    model = model,\n",
        "    encoder = encoder,\n",
        "    val_dataloader = val_dataloader,\n",
        "    device=device,\n",
        "    use_pick_best=False,\n",
        "    threshold = Configs.decode_result[\"pic_threshold\"]\n",
        ")"
      ]
    },
    {
      "cell_type": "code",
      "execution_count": 9,
      "metadata": {},
      "outputs": [
        {
          "data": {
            "text/plain": [
              "{'map': tensor(0.1424),\n",
              " 'map_50': tensor(0.3463),\n",
              " 'map_75': tensor(0.0972),\n",
              " 'map_small': tensor(0.0155),\n",
              " 'map_medium': tensor(0.1636),\n",
              " 'map_large': tensor(0.3422),\n",
              " 'mar_1': tensor(0.0230),\n",
              " 'mar_10': tensor(0.1355),\n",
              " 'mar_100': tensor(0.2137),\n",
              " 'mar_small': tensor(0.0521),\n",
              " 'mar_medium': tensor(0.2502),\n",
              " 'mar_large': tensor(0.4414),\n",
              " 'map_per_class': tensor(-1.),\n",
              " 'mar_100_per_class': tensor(-1.),\n",
              " 'classes': tensor([1, 2], dtype=torch.int32)}"
            ]
          },
          "execution_count": 9,
          "metadata": {},
          "output_type": "execute_result"
        }
      ],
      "source": []
    },
    {
      "cell_type": "code",
      "execution_count": null,
      "metadata": {},
      "outputs": [],
      "source": []
    },
    {
      "cell_type": "code",
      "execution_count": null,
      "metadata": {},
      "outputs": [],
      "source": []
    },
    {
      "cell_type": "code",
      "execution_count": null,
      "metadata": {},
      "outputs": [],
      "source": []
    },
    {
      "cell_type": "code",
      "execution_count": null,
      "metadata": {},
      "outputs": [],
      "source": []
    }
  ],
  "metadata": {
    "kernelspec": {
      "display_name": ".venv",
      "language": "python",
      "name": "python3"
    },
    "language_info": {
      "codemirror_mode": {
        "name": "ipython",
        "version": 3
      },
      "file_extension": ".py",
      "mimetype": "text/x-python",
      "name": "python",
      "nbconvert_exporter": "python",
      "pygments_lexer": "ipython3",
      "version": "3.9.0"
    },
    "orig_nbformat": 4
  },
  "nbformat": 4,
  "nbformat_minor": 2
}
