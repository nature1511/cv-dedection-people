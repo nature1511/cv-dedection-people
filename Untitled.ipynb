{
 "cells": [
  {
   "cell_type": "code",
   "execution_count": 1,
   "id": "534fd838",
   "metadata": {},
   "outputs": [],
   "source": [
    "from ssd.model import  ResNet\n",
    "import torch.nn as nn\n",
    "import torch\n",
    "from torchvision.models.resnet import  resnet50\n",
    "from torchsummary import summary\n",
    "from ssd.model import SSD300"
   ]
  },
  {
   "cell_type": "code",
   "execution_count": 22,
   "id": "976b4fe9",
   "metadata": {},
   "outputs": [
    {
     "name": "stdout",
     "output_type": "stream",
     "text": [
      "torch.Size([1, 16, 38, 38])\n",
      "torch.Size([1, 256, 1, 1])\n"
     ]
    }
   ],
   "source": [
    "class SSD300(nn.Module):\n",
    "    def __init__(self, backbone=ResNet(\"resnet50\")):\n",
    "        super().__init__()\n",
    "        self.feature_extractor = backbone\n",
    "\n",
    "        self.label_num = 81  # number of COCO classes\n",
    "        self._build_additional_features(self.feature_extractor.out_channels)\n",
    "        self.num_defaults = [4, 6, 6, 6, 4, 4]\n",
    "        self.loc = []  # get loc from feat map\n",
    "        self.conf = []  # get prob class\n",
    "\n",
    "        for nd, oc in zip(self.num_defaults, self.feature_extractor.out_channels):\n",
    "            self.loc.append(nn.Conv2d(oc, nd * 4, kernel_size=3, padding=1))\n",
    "            self.conf.append(\n",
    "                nn.Conv2d(oc, nd * self.label_num, kernel_size=3, padding=1)\n",
    "            )\n",
    "\n",
    "        self.loc = nn.ModuleList(self.loc)\n",
    "        self.conf = nn.ModuleList(self.conf)\n",
    "        \n",
    "\n",
    "    def _build_additional_features(self, input_size):\n",
    "        self.additional_blocks = []\n",
    "        for i, (input_size, output_size, channels) in enumerate(\n",
    "            zip(input_size[:-1], input_size[1:], [256, 256, 128, 128, 128])\n",
    "        ):\n",
    "            if i < 3:\n",
    "                layer = nn.Sequential(\n",
    "                    nn.Conv2d(input_size, channels, kernel_size=1, bias=False),\n",
    "                    nn.BatchNorm2d(channels),\n",
    "                    nn.ReLU(inplace=True),\n",
    "                    nn.Conv2d(\n",
    "                        channels,\n",
    "                        output_size,\n",
    "                        kernel_size=3,\n",
    "                        padding=1,\n",
    "                        stride=2,\n",
    "                        bias=False,\n",
    "                    ),\n",
    "                    nn.BatchNorm2d(output_size),\n",
    "                    nn.ReLU(inplace=True),\n",
    "                )\n",
    "            else:\n",
    "                layer = nn.Sequential(\n",
    "                    nn.Conv2d(input_size, channels, kernel_size=1, bias=False),\n",
    "                    nn.BatchNorm2d(channels),\n",
    "                    nn.ReLU(inplace=True),\n",
    "                    nn.Conv2d(channels, output_size,\n",
    "                              kernel_size=3, bias=False),\n",
    "                    nn.BatchNorm2d(output_size),\n",
    "                    nn.ReLU(inplace=True),\n",
    "                )\n",
    "\n",
    "            self.additional_blocks.append(layer)\n",
    "        self.additional_blocks = nn.ModuleList(self.additional_blocks)\n",
    "    \n",
    "    def bbox_view(self, src, loc, conf):\n",
    "        ret = []\n",
    "        for s, l, c in zip(src, loc, conf):\n",
    "            print(l(s).shape)\n",
    "            ret.append(\n",
    "                (\n",
    "                    l(s).reshape(s.size(0), 4, -1),\n",
    "                    c(s).reshape(s.size(0), self.label_num, -1),\n",
    "                )\n",
    "            )\n",
    "            break\n",
    "\n",
    "\n",
    "\n",
    "\n",
    "    def forward(self, x):\n",
    "        x = self.feature_extractor(x)\n",
    "\n",
    "        detection_feed = [x]\n",
    "        for l in self.additional_blocks:\n",
    "            x = l(x)\n",
    "            detection_feed.append(x)  # fter con layer\n",
    "\n",
    "        # Feature Map 38x38x4, 19x19x6, 10x10x6, 5x5x6, 3x3x4, 1x1x4\n",
    "        \n",
    "        self.bbox_view(detection_feed, self.loc, self.conf)\n",
    "        # For SSD 300, shall return nbatch x 8732 x {nlabels, nlocs} results\n",
    "        return detection_feed\n",
    "    \n",
    "model = SSD300()\n",
    "\n",
    "model.eval()\n",
    "inp = torch.rand((1,3,300,300))\n",
    "d1 = model(inp)\n",
    "print(d1[5].shape)"
   ]
  },
  {
   "cell_type": "code",
   "execution_count": 23,
   "id": "5ea97064",
   "metadata": {},
   "outputs": [
    {
     "data": {
      "text/plain": [
       "5776.0"
      ]
     },
     "execution_count": 23,
     "metadata": {},
     "output_type": "execute_result"
    }
   ],
   "source": [
    "38 * 38 * 16 / 4"
   ]
  },
  {
   "cell_type": "code",
   "execution_count": 18,
   "id": "1cd0c8ba",
   "metadata": {},
   "outputs": [
    {
     "name": "stdout",
     "output_type": "stream",
     "text": [
      "torch.Size([1, 256, 1, 1])\n"
     ]
    }
   ],
   "source": [
    "model = SSD300()\n",
    "\n",
    "model.eval()\n",
    "inp = torch.rand((1,3,300,300))\n",
    "d1 = model(inp)\n",
    "print(d1[5].shape)"
   ]
  },
  {
   "cell_type": "code",
   "execution_count": null,
   "id": "25ca397c",
   "metadata": {},
   "outputs": [],
   "source": [
    "model.additional_blocks"
   ]
  },
  {
   "cell_type": "code",
   "execution_count": null,
   "id": "12d2e11e",
   "metadata": {},
   "outputs": [],
   "source": []
  },
  {
   "cell_type": "code",
   "execution_count": null,
   "id": "a1906b0c",
   "metadata": {},
   "outputs": [],
   "source": [
    "#model.feature_extractor\n",
    "#summary(model.feature_extractor, (3, 300, 300))"
   ]
  },
  {
   "cell_type": "code",
   "execution_count": null,
   "id": "9a4e9a57",
   "metadata": {},
   "outputs": [],
   "source": [
    "backbone = ResNet()\n",
    "\n",
    "\n",
    "summary(backbone, (3, 300, 300))"
   ]
  },
  {
   "cell_type": "code",
   "execution_count": null,
   "id": "15998db4",
   "metadata": {},
   "outputs": [],
   "source": [
    "backbone1 = resnet50()\n",
    "feature_extractor = nn.Sequential(*list(backbone1.children())[:7])\n",
    "summary(feature_extractor, (3, 300, 300))"
   ]
  },
  {
   "cell_type": "code",
   "execution_count": null,
   "id": "2dcdb1c2",
   "metadata": {},
   "outputs": [],
   "source": []
  }
 ],
 "metadata": {
  "kernelspec": {
   "display_name": "Python 3 (ipykernel)",
   "language": "python",
   "name": "python3"
  },
  "language_info": {
   "codemirror_mode": {
    "name": "ipython",
    "version": 3
   },
   "file_extension": ".py",
   "mimetype": "text/x-python",
   "name": "python",
   "nbconvert_exporter": "python",
   "pygments_lexer": "ipython3",
   "version": "3.9.0"
  }
 },
 "nbformat": 4,
 "nbformat_minor": 5
}
