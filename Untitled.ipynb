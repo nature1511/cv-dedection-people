{
  "cells": [
    {
      "cell_type": "code",
      "execution_count": 1,
      "id": "534fd838",
      "metadata": {},
      "outputs": [
        {
          "name": "stderr",
          "output_type": "stream",
          "text": [
            "c:\\Users\\123\\Desktop\\torch cuda\\.venv\\lib\\site-packages\\torchaudio\\backend\\utils.py:74: UserWarning: No audio backend is available.\n",
            "  warnings.warn(\"No audio backend is available.\")\n",
            "c:\\Users\\123\\Desktop\\torch cuda\\.venv\\lib\\site-packages\\tqdm\\auto.py:21: TqdmWarning: IProgress not found. Please update jupyter and ipywidgets. See https://ipywidgets.readthedocs.io/en/stable/user_install.html\n",
            "  from .autonotebook import tqdm as notebook_tqdm\n"
          ]
        }
      ],
      "source": [
        "import numpy as np\n",
        "import torch\n",
        "\n",
        "from config.config import Configs\n",
        "\n",
        "import json\n",
        "import cv2\n",
        "from ssd.utils_ssd300 import dboxes300_coco\n",
        "from ssd.train_loader import  CocoDataReader\n",
        "from ssd.utils_ssd300 import calc_iou_tensor\n",
        "from ssd.create_model import nvidia_ssd\n",
        "from ssd.utils_ssd300 import Encoder\n",
        "from ssd.model import Loss\n",
        "from ssd.SSD_Transformers import SSDTransformer\n",
        "\n",
        "from PIL import ImageDraw, Image\n",
        "\n",
        "\n",
        "from torch.autograd import Variable\n",
        "from torch.utils.data import DataLoader\n",
        "\n",
        "\n",
        "from torchmetrics.detection.mean_ap import MeanAveragePrecision\n",
        "from tqdm import tqdm\n",
        "\n",
        "from ssd.train_one_loop import train_one_loop\n",
        "from ssd.model_eval import model_evaluate\n",
        "\n",
        "import time\n",
        "from utils.utils import save_model\n",
        "from train_model import train_model\n"
      ]
    },
    {
      "cell_type": "code",
      "execution_count": 2,
      "id": "ffd3d514",
      "metadata": {},
      "outputs": [
        {
          "name": "stdout",
          "output_type": "stream",
          "text": [
            "cuda\n",
            "load cuda\n",
            "Adjusting learning rate of group 0 to 5.0000e-04.\n"
          ]
        }
      ],
      "source": [
        "batch_size = 32\n",
        "device = 'cuda'\n",
        "model = nvidia_ssd(device=device, pretrainded_custom=False, pretrained_default=True)\n",
        "\n",
        "for param in model.parameters():\n",
        "    param.requires_grad = True\n",
        "    \n",
        "for param in model.feature_extractor.parameters():\n",
        "    param.requires_grad = False\n",
        "\n",
        "dboxes = dboxes300_coco()\n",
        "encoder = Encoder(dboxes)\n",
        "\n",
        "\n",
        "loss_func = Loss(dboxes, device=device)\n",
        "\n",
        "transformers_ssd_train = SSDTransformer(dboxes, size=(300, 300), val=False)\n",
        "\n",
        "transformers_ssd_val= SSDTransformer(dboxes,  size=(300, 300), val=True)\n",
        "\n",
        "\n",
        "annotate_file = 'COCOdata\\\\annotations\\\\instances_val2017.json'\n",
        "data_train = CocoDataReader(\n",
        "                    img_folder='COCOdata\\\\val2017\\\\',\n",
        "                    annotate_file=annotate_file,\n",
        "                    transform=transformers_ssd_train )\n",
        "\n",
        "train_dataloader = DataLoader(data_train ,\n",
        "                                batch_size=batch_size,\n",
        "                                \n",
        "                                shuffle=True,  # Note: distributed sampler is shuffled :(\n",
        "                             )\n",
        "\n",
        "data_val = CocoDataReader(\n",
        "                    img_folder='COCOdata\\\\val2017\\\\',\n",
        "                    annotate_file=annotate_file,\n",
        "                    transform=transformers_ssd_val )\n",
        "\n",
        "val_dataloader = DataLoader(data_val ,\n",
        "                                batch_size=batch_size,\n",
        "                                shuffle=False,  # Note: distributed sampler is shuffled :(\n",
        "                             )\n",
        "   # https://www.kaggle.com/code/billiemage/understand-lr-scheduler-with-simple-examples\n",
        "params = [p for p in model.parameters() if p.requires_grad]\n",
        "optimizer = torch.optim.SGD(\n",
        "        params, lr=0.0005, momentum=0.9, nesterov=True\n",
        "    )\n",
        "\n",
        "scheduler = torch.optim.lr_scheduler.StepLR  (\n",
        "        optimizer=optimizer, step_size=15, gamma=0.1, verbose=True\n",
        "    )"
      ]
    },
    {
      "cell_type": "code",
      "execution_count": 3,
      "id": "7ff323ce",
      "metadata": {},
      "outputs": [],
      "source": [
        "from train_model import train_model"
      ]
    },
    {
      "cell_type": "code",
      "execution_count": 3,
      "id": "26ab8780",
      "metadata": {},
      "outputs": [
        {
          "name": "stdout",
          "output_type": "stream",
          "text": [
            "\n",
            "EPOCH 1 of 2\n",
            "Training\n"
          ]
        },
        {
          "name": "stderr",
          "output_type": "stream",
          "text": [
            "100%|\u2588\u2588\u2588\u2588\u2588\u2588\u2588\u2588\u2588\u2588| 155/155 [03:49<00:00,  1.48s/it]\n"
          ]
        },
        {
          "name": "stdout",
          "output_type": "stream",
          "text": [
            "Evaluating\n"
          ]
        },
        {
          "name": "stderr",
          "output_type": "stream",
          "text": [
            "  6%|\u258b         | 10/155 [00:30<07:20,  3.03s/it]\n",
            "c:\\Users\\123\\Desktop\\torch cuda\\.venv\\lib\\site-packages\\torchmetrics\\utilities\\prints.py:42: UserWarning: Encountered more than 100 detections in a single image. This means that certain detections with the lowest scores will be ignored, that may have an undesirable impact on performance. Please consider adjusting the `max_detection_threshold` to suit your use case. To disable this warning, set attribute class `warn_on_many_detections=False`, after initializing the metric.\n",
            "  warnings.warn(*args, **kwargs)  # noqa: B028\n"
          ]
        },
        {
          "name": "stdout",
          "output_type": "stream",
          "text": [
            "Epoch #1 train loss: 3.716\n",
            "Epoch #1 mAP: 0.31395190954208374\n",
            "Epoch #1 mAP_50: 0.5039829015731812\n",
            "Epoch #1 beset mAP: 0.31395190954208374\n",
            "Took 4.373 minutes for epoch 0\n",
            "Adjusting learning rate of group 0 to 5.0000e-04.\n",
            "\n",
            "EPOCH 2 of 2\n",
            "Training\n"
          ]
        },
        {
          "name": "stderr",
          "output_type": "stream",
          "text": [
            " 17%|\u2588\u258b        | 26/155 [00:36<03:03,  1.42s/it]\n"
          ]
        },
        {
          "ename": "KeyboardInterrupt",
          "evalue": "",
          "output_type": "error",
          "traceback": [
            "\u001b[1;31m---------------------------------------------------------------------------\u001b[0m",
            "\u001b[1;31mKeyboardInterrupt\u001b[0m                         Traceback (most recent call last)",
            "Cell \u001b[1;32mIn[3], line 1\u001b[0m\n\u001b[1;32m----> 1\u001b[0m train_model(\n\u001b[0;32m      2\u001b[0m     model\u001b[39m=\u001b[39;49mmodel,\n\u001b[0;32m      3\u001b[0m     encoder\u001b[39m=\u001b[39;49mencoder,\n\u001b[0;32m      4\u001b[0m     num_epoch\u001b[39m=\u001b[39;49m\u001b[39m2\u001b[39;49m,\n\u001b[0;32m      5\u001b[0m     optimizer\u001b[39m=\u001b[39;49moptimizer,\n\u001b[0;32m      6\u001b[0m     loss_func\u001b[39m=\u001b[39;49mloss_func,\n\u001b[0;32m      7\u001b[0m     train_dataloader\u001b[39m=\u001b[39;49mtrain_dataloader,\n\u001b[0;32m      8\u001b[0m     val_dataloader\u001b[39m=\u001b[39;49mval_dataloader,\n\u001b[0;32m      9\u001b[0m     device\u001b[39m=\u001b[39;49mdevice,\n\u001b[0;32m     10\u001b[0m     scheduler\u001b[39m=\u001b[39;49mscheduler\n\u001b[0;32m     11\u001b[0m )\n",
            "File \u001b[1;32mc:\\Users\\123\\Desktop\\torch cuda\\train_model.py:53\u001b[0m, in \u001b[0;36mtrain_model\u001b[1;34m(model, encoder, num_epoch, optimizer, loss_func, train_dataloader, val_dataloader, device, scheduler, path_to_save)\u001b[0m\n\u001b[0;32m     51\u001b[0m \u001b[39mprint\u001b[39m(\u001b[39mf\u001b[39m\u001b[39m\"\u001b[39m\u001b[39m\\n\u001b[39;00m\u001b[39mEPOCH \u001b[39m\u001b[39m{\u001b[39;00mepoch\u001b[39m+\u001b[39m\u001b[39m1\u001b[39m\u001b[39m}\u001b[39;00m\u001b[39m of \u001b[39m\u001b[39m{\u001b[39;00mnum_epoch\u001b[39m}\u001b[39;00m\u001b[39m\"\u001b[39m)\n\u001b[0;32m     52\u001b[0m start \u001b[39m=\u001b[39m time\u001b[39m.\u001b[39mtime()\n\u001b[1;32m---> 53\u001b[0m losses \u001b[39m=\u001b[39m train_one_loop(\n\u001b[0;32m     54\u001b[0m     model\u001b[39m=\u001b[39mmodel,\n\u001b[0;32m     55\u001b[0m     optimizer\u001b[39m=\u001b[39moptimizer,\n\u001b[0;32m     56\u001b[0m     loss_func\u001b[39m=\u001b[39mloss_func,\n\u001b[0;32m     57\u001b[0m     train_dataloader\u001b[39m=\u001b[39mtrain_dataloader,\n\u001b[0;32m     58\u001b[0m     device\u001b[39m=\u001b[39mdevice,\n\u001b[0;32m     59\u001b[0m )\n\u001b[0;32m     60\u001b[0m metrics_map \u001b[39m=\u001b[39m model_evaluate(\n\u001b[0;32m     61\u001b[0m     model\u001b[39m=\u001b[39mmodel, encoder\u001b[39m=\u001b[39mencoder, val_dataloader\u001b[39m=\u001b[39mval_dataloader, device\u001b[39m=\u001b[39mdevice\n\u001b[0;32m     62\u001b[0m )\n\u001b[0;32m     64\u001b[0m cur_map \u001b[39m=\u001b[39m metrics_map[\u001b[39m\"\u001b[39m\u001b[39mmap\u001b[39m\u001b[39m\"\u001b[39m]\n",
            "File \u001b[1;32mc:\\Users\\123\\Desktop\\torch cuda\\ssd\\train_one_loop.py:9\u001b[0m, in \u001b[0;36mtrain_one_loop\u001b[1;34m(model, optimizer, loss_func, train_dataloader, device)\u001b[0m\n\u001b[0;32m      7\u001b[0m loss_sum \u001b[39m=\u001b[39m \u001b[39m0\u001b[39m\n\u001b[0;32m      8\u001b[0m i \u001b[39m=\u001b[39m \u001b[39m0\u001b[39m\n\u001b[1;32m----> 9\u001b[0m \u001b[39mfor\u001b[39;00m data \u001b[39min\u001b[39;00m tqdm(train_dataloader, total\u001b[39m=\u001b[39m\u001b[39mlen\u001b[39m(train_dataloader)):\n\u001b[0;32m     10\u001b[0m     \u001b[39m# for nbatch, data in enumerate(train_dataloader):\u001b[39;00m\n\u001b[0;32m     11\u001b[0m     i \u001b[39m+\u001b[39m\u001b[39m=\u001b[39m \u001b[39m1\u001b[39m\n\u001b[0;32m     12\u001b[0m     optimizer\u001b[39m.\u001b[39mzero_grad()\n",
            "File \u001b[1;32mc:\\Users\\123\\Desktop\\torch cuda\\.venv\\lib\\site-packages\\tqdm\\std.py:1182\u001b[0m, in \u001b[0;36mtqdm.__iter__\u001b[1;34m(self)\u001b[0m\n\u001b[0;32m   1179\u001b[0m time \u001b[39m=\u001b[39m \u001b[39mself\u001b[39m\u001b[39m.\u001b[39m_time\n\u001b[0;32m   1181\u001b[0m \u001b[39mtry\u001b[39;00m:\n\u001b[1;32m-> 1182\u001b[0m     \u001b[39mfor\u001b[39;00m obj \u001b[39min\u001b[39;00m iterable:\n\u001b[0;32m   1183\u001b[0m         \u001b[39myield\u001b[39;00m obj\n\u001b[0;32m   1184\u001b[0m         \u001b[39m# Update and possibly print the progressbar.\u001b[39;00m\n\u001b[0;32m   1185\u001b[0m         \u001b[39m# Note: does not call self.update(1) for speed optimisation.\u001b[39;00m\n",
            "File \u001b[1;32mc:\\Users\\123\\Desktop\\torch cuda\\.venv\\lib\\site-packages\\torch\\utils\\data\\dataloader.py:633\u001b[0m, in \u001b[0;36m_BaseDataLoaderIter.__next__\u001b[1;34m(self)\u001b[0m\n\u001b[0;32m    630\u001b[0m \u001b[39mif\u001b[39;00m \u001b[39mself\u001b[39m\u001b[39m.\u001b[39m_sampler_iter \u001b[39mis\u001b[39;00m \u001b[39mNone\u001b[39;00m:\n\u001b[0;32m    631\u001b[0m     \u001b[39m# TODO(https://github.com/pytorch/pytorch/issues/76750)\u001b[39;00m\n\u001b[0;32m    632\u001b[0m     \u001b[39mself\u001b[39m\u001b[39m.\u001b[39m_reset()  \u001b[39m# type: ignore[call-arg]\u001b[39;00m\n\u001b[1;32m--> 633\u001b[0m data \u001b[39m=\u001b[39m \u001b[39mself\u001b[39;49m\u001b[39m.\u001b[39;49m_next_data()\n\u001b[0;32m    634\u001b[0m \u001b[39mself\u001b[39m\u001b[39m.\u001b[39m_num_yielded \u001b[39m+\u001b[39m\u001b[39m=\u001b[39m \u001b[39m1\u001b[39m\n\u001b[0;32m    635\u001b[0m \u001b[39mif\u001b[39;00m \u001b[39mself\u001b[39m\u001b[39m.\u001b[39m_dataset_kind \u001b[39m==\u001b[39m _DatasetKind\u001b[39m.\u001b[39mIterable \u001b[39mand\u001b[39;00m \\\n\u001b[0;32m    636\u001b[0m         \u001b[39mself\u001b[39m\u001b[39m.\u001b[39m_IterableDataset_len_called \u001b[39mis\u001b[39;00m \u001b[39mnot\u001b[39;00m \u001b[39mNone\u001b[39;00m \u001b[39mand\u001b[39;00m \\\n\u001b[0;32m    637\u001b[0m         \u001b[39mself\u001b[39m\u001b[39m.\u001b[39m_num_yielded \u001b[39m>\u001b[39m \u001b[39mself\u001b[39m\u001b[39m.\u001b[39m_IterableDataset_len_called:\n",
            "File \u001b[1;32mc:\\Users\\123\\Desktop\\torch cuda\\.venv\\lib\\site-packages\\torch\\utils\\data\\dataloader.py:677\u001b[0m, in \u001b[0;36m_SingleProcessDataLoaderIter._next_data\u001b[1;34m(self)\u001b[0m\n\u001b[0;32m    675\u001b[0m \u001b[39mdef\u001b[39;00m \u001b[39m_next_data\u001b[39m(\u001b[39mself\u001b[39m):\n\u001b[0;32m    676\u001b[0m     index \u001b[39m=\u001b[39m \u001b[39mself\u001b[39m\u001b[39m.\u001b[39m_next_index()  \u001b[39m# may raise StopIteration\u001b[39;00m\n\u001b[1;32m--> 677\u001b[0m     data \u001b[39m=\u001b[39m \u001b[39mself\u001b[39;49m\u001b[39m.\u001b[39;49m_dataset_fetcher\u001b[39m.\u001b[39;49mfetch(index)  \u001b[39m# may raise StopIteration\u001b[39;00m\n\u001b[0;32m    678\u001b[0m     \u001b[39mif\u001b[39;00m \u001b[39mself\u001b[39m\u001b[39m.\u001b[39m_pin_memory:\n\u001b[0;32m    679\u001b[0m         data \u001b[39m=\u001b[39m _utils\u001b[39m.\u001b[39mpin_memory\u001b[39m.\u001b[39mpin_memory(data, \u001b[39mself\u001b[39m\u001b[39m.\u001b[39m_pin_memory_device)\n",
            "File \u001b[1;32mc:\\Users\\123\\Desktop\\torch cuda\\.venv\\lib\\site-packages\\torch\\utils\\data\\_utils\\fetch.py:51\u001b[0m, in \u001b[0;36m_MapDatasetFetcher.fetch\u001b[1;34m(self, possibly_batched_index)\u001b[0m\n\u001b[0;32m     49\u001b[0m         data \u001b[39m=\u001b[39m \u001b[39mself\u001b[39m\u001b[39m.\u001b[39mdataset\u001b[39m.\u001b[39m__getitems__(possibly_batched_index)\n\u001b[0;32m     50\u001b[0m     \u001b[39melse\u001b[39;00m:\n\u001b[1;32m---> 51\u001b[0m         data \u001b[39m=\u001b[39m [\u001b[39mself\u001b[39m\u001b[39m.\u001b[39mdataset[idx] \u001b[39mfor\u001b[39;00m idx \u001b[39min\u001b[39;00m possibly_batched_index]\n\u001b[0;32m     52\u001b[0m \u001b[39melse\u001b[39;00m:\n\u001b[0;32m     53\u001b[0m     data \u001b[39m=\u001b[39m \u001b[39mself\u001b[39m\u001b[39m.\u001b[39mdataset[possibly_batched_index]\n",
            "File \u001b[1;32mc:\\Users\\123\\Desktop\\torch cuda\\.venv\\lib\\site-packages\\torch\\utils\\data\\_utils\\fetch.py:51\u001b[0m, in \u001b[0;36m<listcomp>\u001b[1;34m(.0)\u001b[0m\n\u001b[0;32m     49\u001b[0m         data \u001b[39m=\u001b[39m \u001b[39mself\u001b[39m\u001b[39m.\u001b[39mdataset\u001b[39m.\u001b[39m__getitems__(possibly_batched_index)\n\u001b[0;32m     50\u001b[0m     \u001b[39melse\u001b[39;00m:\n\u001b[1;32m---> 51\u001b[0m         data \u001b[39m=\u001b[39m [\u001b[39mself\u001b[39;49m\u001b[39m.\u001b[39;49mdataset[idx] \u001b[39mfor\u001b[39;00m idx \u001b[39min\u001b[39;00m possibly_batched_index]\n\u001b[0;32m     52\u001b[0m \u001b[39melse\u001b[39;00m:\n\u001b[0;32m     53\u001b[0m     data \u001b[39m=\u001b[39m \u001b[39mself\u001b[39m\u001b[39m.\u001b[39mdataset[possibly_batched_index]\n",
            "File \u001b[1;32mc:\\Users\\123\\Desktop\\torch cuda\\ssd\\train_loader.py:85\u001b[0m, in \u001b[0;36mCocoDataReader.__getitem__\u001b[1;34m(self, idx)\u001b[0m\n\u001b[0;32m     81\u001b[0m \u001b[39m# img.show()\u001b[39;00m\n\u001b[0;32m     83\u001b[0m \u001b[39mif\u001b[39;00m \u001b[39mself\u001b[39m\u001b[39m.\u001b[39mtransform \u001b[39mis\u001b[39;00m \u001b[39mnot\u001b[39;00m \u001b[39mNone\u001b[39;00m:\n\u001b[0;32m     84\u001b[0m     img, (htot, wtot), bbox_sizes, bbox_labels \u001b[39m=\u001b[39m \\\n\u001b[1;32m---> 85\u001b[0m         \u001b[39mself\u001b[39;49m\u001b[39m.\u001b[39;49mtransform(img, (htot, wtot), bbox_sizes, bbox_labels)\n\u001b[0;32m     87\u001b[0m \u001b[39melse\u001b[39;00m:\n\u001b[0;32m     88\u001b[0m     \u001b[39mpass\u001b[39;00m\n",
            "File \u001b[1;32mc:\\Users\\123\\Desktop\\torch cuda\\ssd\\SSD_Transformers.py:172\u001b[0m, in \u001b[0;36mSSDTransformer.__call__\u001b[1;34m(self, img, img_size, bbox, label, max_num)\u001b[0m\n\u001b[0;32m    169\u001b[0m     label_out[:label\u001b[39m.\u001b[39msize(\u001b[39m0\u001b[39m)] \u001b[39m=\u001b[39m label\n\u001b[0;32m    170\u001b[0m     \u001b[39mreturn\u001b[39;00m \u001b[39mself\u001b[39m\u001b[39m.\u001b[39mtrans_val(img), img_size, bbox_out, label_out\n\u001b[1;32m--> 172\u001b[0m img, img_size, bbox, label \u001b[39m=\u001b[39m \u001b[39mself\u001b[39;49m\u001b[39m.\u001b[39;49mcrop(img, img_size, bbox, label)\n\u001b[0;32m    173\u001b[0m img, bbox \u001b[39m=\u001b[39m \u001b[39mself\u001b[39m\u001b[39m.\u001b[39mhflip(img, bbox)\n\u001b[0;32m    175\u001b[0m img \u001b[39m=\u001b[39m \u001b[39mself\u001b[39m\u001b[39m.\u001b[39mimg_trans(img)\u001b[39m.\u001b[39mcontiguous()\n",
            "File \u001b[1;32mc:\\Users\\123\\Desktop\\torch cuda\\ssd\\SSD_Transformers.py:79\u001b[0m, in \u001b[0;36mSSDCropping.__call__\u001b[1;34m(self, img, img_size, bboxes, labels)\u001b[0m\n\u001b[0;32m     76\u001b[0m right \u001b[39m=\u001b[39m left \u001b[39m+\u001b[39m w\n\u001b[0;32m     77\u001b[0m bottom \u001b[39m=\u001b[39m top \u001b[39m+\u001b[39m h\n\u001b[1;32m---> 79\u001b[0m ious \u001b[39m=\u001b[39m calc_iou_tensor(bboxes, torch\u001b[39m.\u001b[39;49mtensor(\n\u001b[0;32m     80\u001b[0m     [[left, top, right, bottom]]))\n\u001b[0;32m     82\u001b[0m \u001b[39m# tailor all the bboxes and return\u001b[39;00m\n\u001b[0;32m     83\u001b[0m \u001b[39mif\u001b[39;00m \u001b[39mnot\u001b[39;00m ((ious \u001b[39m>\u001b[39m min_iou) \u001b[39m&\u001b[39m (ious \u001b[39m<\u001b[39m max_iou))\u001b[39m.\u001b[39mall():\n",
            "File \u001b[1;32mc:\\Users\\123\\Desktop\\torch cuda\\ssd\\utils_ssd300.py:34\u001b[0m, in \u001b[0;36mcalc_iou_tensor\u001b[1;34m(box1, box2)\u001b[0m\n\u001b[0;32m     30\u001b[0m \u001b[39m# mask2 = (be1[:,:, 2] < be2[:,:, 2]) ^ (be1[:,:, 3] < be2[:,:, 3])\u001b[39;00m\n\u001b[0;32m     31\u001b[0m \u001b[39m# mask2 = ~mask2\u001b[39;00m\n\u001b[0;32m     33\u001b[0m delta \u001b[39m=\u001b[39m rb \u001b[39m-\u001b[39m lt\n\u001b[1;32m---> 34\u001b[0m delta[delta \u001b[39m<\u001b[39;49m \u001b[39m0\u001b[39;49m] \u001b[39m=\u001b[39m \u001b[39m0\u001b[39m\n\u001b[0;32m     35\u001b[0m intersect \u001b[39m=\u001b[39m delta[:, :, \u001b[39m0\u001b[39m] \u001b[39m*\u001b[39m delta[:, :, \u001b[39m1\u001b[39m]\n\u001b[0;32m     36\u001b[0m \u001b[39m# *mask1.float()*mask2.float()\u001b[39;00m\n",
            "\u001b[1;31mKeyboardInterrupt\u001b[0m: "
          ]
        }
      ],
      "source": [
        "train_model(\n",
        "    model=model,\n",
        "    encoder=encoder,\n",
        "    num_epoch=2,\n",
        "    optimizer=optimizer,\n",
        "    loss_func=loss_func,\n",
        "    train_dataloader=train_dataloader,\n",
        "    val_dataloader=val_dataloader,\n",
        "    device=device,\n",
        "    scheduler=scheduler\n",
        ")"
      ]
    },
    {
      "cell_type": "code",
      "execution_count": null,
      "id": "ccf2aaca",
      "metadata": {},
      "outputs": [],
      "source": []
    },
    {
      "cell_type": "code",
      "execution_count": null,
      "id": "8c83b749",
      "metadata": {},
      "outputs": [],
      "source": []
    },
    {
      "cell_type": "code",
      "execution_count": null,
      "id": "b417c738",
      "metadata": {},
      "outputs": [],
      "source": []
    },
    {
      "cell_type": "code",
      "execution_count": 5,
      "id": "d90bc750",
      "metadata": {},
      "outputs": [
        {
          "name": "stdout",
          "output_type": "stream",
          "text": [
            "\n",
            "EPOCH 1 of 2\n",
            "Training\n"
          ]
        },
        {
          "name": "stderr",
          "output_type": "stream",
          "text": [
            "  6%|\u258c         | 9/155 [00:15<04:07,  1.69s/it]\n"
          ]
        },
        {
          "name": "stdout",
          "output_type": "stream",
          "text": [
            "Evaluating\n"
          ]
        },
        {
          "name": "stderr",
          "output_type": "stream",
          "text": [
            " 10%|\u2589         | 15/155 [00:42<06:38,  2.85s/it]\n"
          ]
        },
        {
          "name": "stdout",
          "output_type": "stream",
          "text": [
            "Epoch #1 train loss: 0.236\n",
            "Epoch #1 mAP: 0.29772624373435974\n",
            "Epoch #1 mAP_50: 0.4810028672218323\n",
            "Epoch #1 train loss: 0.236\n",
            "Epoch #1 mAP: 0.29772624373435974\n",
            "Epoch #1 mAP_50: 0.4810028672218323\n",
            "Epoch #1 beset mAP: 0.29772624373435974\n",
            "Took 1.020 minutes for epoch 0\n",
            "Adjusting learning rate of group 0 to 5.0000e-04.\n",
            "\n",
            "EPOCH 2 of 2\n",
            "Training\n"
          ]
        },
        {
          "name": "stderr",
          "output_type": "stream",
          "text": [
            "  6%|\u258c         | 9/155 [00:15<04:11,  1.72s/it]\n"
          ]
        },
        {
          "name": "stdout",
          "output_type": "stream",
          "text": [
            "Evaluating\n"
          ]
        },
        {
          "name": "stderr",
          "output_type": "stream",
          "text": [
            " 10%|\u2589         | 15/155 [00:43<06:49,  2.93s/it]\n"
          ]
        },
        {
          "name": "stdout",
          "output_type": "stream",
          "text": [
            "Epoch #2 train loss: 0.237\n",
            "Epoch #2 mAP: 0.2973070442676544\n",
            "Epoch #2 mAP_50: 0.4827316999435425\n",
            "Epoch #2 train loss: 0.237\n",
            "Epoch #2 mAP: 0.2973070442676544\n",
            "Epoch #2 mAP_50: 0.4827316999435425\n",
            "Epoch #2 beset mAP: 0.29772624373435974\n",
            "Took 1.042 minutes for epoch 1\n",
            "Adjusting learning rate of group 0 to 5.0000e-04.\n"
          ]
        }
      ],
      "source": [
        "num_epoch = 2\n",
        "loss_mas = []\n",
        "map50 = []\n",
        "map = []\n",
        "bes_map = 0\n",
        "for epoch in range(num_epoch):\n",
        "    print(f\"\\nEPOCH {epoch+1} of {num_epoch}\")\n",
        "    start = time.time()\n",
        "    losses = train_one_loop(model=model, optimizer=optimizer,loss_func=loss_func, train_dataloader=train_dataloader, device=device)\n",
        "    metrics_map = model_evaluate(model=model,encoder=encoder,val_dataloader=val_dataloader,device=device)\n",
        "    \n",
        "    print(f\"Epoch #{epoch+1} train loss: {losses:.3f}\")   \n",
        "    print(f\"Epoch #{epoch+1} mAP: {metrics_map['map']}\") \n",
        "    print(f\"Epoch #{epoch+1} mAP_50: {metrics_map['map_50']}\")\n",
        "    cur_map = metrics_map['map']\n",
        "    \n",
        "    if cur_map > bes_map:\n",
        "        bes_map = cur_map\n",
        "        save_model(\n",
        "                model = model, optimizer=None, model_name=\"best_model_at_\" + str(epoch), path=\"weight\",\n",
        "            lr_scheduler=None)\n",
        "        \n",
        "    print(f\"Epoch #{epoch+1} train loss: {losses:.3f}\")   \n",
        "    print(f\"Epoch #{epoch+1} mAP: {metrics_map['map']}\") \n",
        "    print(f\"Epoch #{epoch+1} mAP_50: {metrics_map['map_50']}\")  \n",
        "    print(f\"Epoch #{epoch+1} beset mAP: {bes_map}\")    \n",
        "        \n",
        "    \n",
        "    loss_mas.append(losses)\n",
        "    map50.append(metrics_map['map_50'])\n",
        "    map.append(metrics_map['map'])\n",
        "    end = time.time()\n",
        "    print(f\"Took {((end - start) / 60):.3f} minutes for epoch {epoch}\")  \n",
        "    \n",
        "    if scheduler is not None:\n",
        "        scheduler.step()\n",
        "    \n",
        "save_model(model = model, optimizer=optimizer, model_name=\"end_state\" , path=\"weight\",\n",
        "            lr_scheduler=None) \n",
        "    \n",
        "    \n",
        "with open('train_results.txt', 'w') as file_handler:\n",
        "    file_handler.write(\"loss\\n\")\n",
        "    for item in loss_mas:\n",
        "        file_handler.write(\"{}\\t\".format(item))\n",
        "        \n",
        "    file_handler.write(\"\\nmap\\n\")\n",
        "    for item in map50:\n",
        "        file_handler.write(\"{}\\t\".format(item))\n",
        "        \n",
        "    file_handler.write(\"\\nmap_50\\n\")\n",
        "    for item in map:\n",
        "        file_handler.write(\"{}\\t\".format(item))"
      ]
    },
    {
      "cell_type": "code",
      "execution_count": null,
      "id": "43c6727c",
      "metadata": {},
      "outputs": [],
      "source": []
    },
    {
      "cell_type": "code",
      "execution_count": null,
      "id": "84cb0c3f",
      "metadata": {},
      "outputs": [],
      "source": []
    },
    {
      "cell_type": "code",
      "execution_count": null,
      "id": "aec633b1",
      "metadata": {},
      "outputs": [],
      "source": []
    },
    {
      "cell_type": "code",
      "execution_count": null,
      "id": "a9c03b49",
      "metadata": {},
      "outputs": [],
      "source": []
    },
    {
      "cell_type": "code",
      "execution_count": null,
      "id": "070c3886",
      "metadata": {},
      "outputs": [],
      "source": []
    },
    {
      "cell_type": "code",
      "execution_count": null,
      "id": "6849e712",
      "metadata": {},
      "outputs": [],
      "source": []
    },
    {
      "cell_type": "code",
      "execution_count": null,
      "id": "fe8e6257",
      "metadata": {},
      "outputs": [],
      "source": []
    },
    {
      "cell_type": "code",
      "execution_count": null,
      "id": "78a39446",
      "metadata": {},
      "outputs": [],
      "source": []
    },
    {
      "cell_type": "code",
      "execution_count": null,
      "id": "5352ffea",
      "metadata": {},
      "outputs": [],
      "source": []
    },
    {
      "cell_type": "code",
      "execution_count": 4,
      "id": "f30fcc87",
      "metadata": {},
      "outputs": [
        {
          "name": "stdout",
          "output_type": "stream",
          "text": [
            "Training\n"
          ]
        },
        {
          "name": "stderr",
          "output_type": "stream",
          "text": [
            "  1%|\u258f         | 2/155 [00:16<21:29,  8.43s/it]\n"
          ]
        },
        {
          "ename": "KeyboardInterrupt",
          "evalue": "",
          "output_type": "error",
          "traceback": [
            "\u001b[1;31m---------------------------------------------------------------------------\u001b[0m",
            "\u001b[1;31mKeyboardInterrupt\u001b[0m                         Traceback (most recent call last)",
            "Cell \u001b[1;32mIn[4], line 1\u001b[0m\n\u001b[1;32m----> 1\u001b[0m losses \u001b[39m=\u001b[39m train_one_loop(model\u001b[39m=\u001b[39;49mmodel, optimizer\u001b[39m=\u001b[39;49moptimizer,loss_func\u001b[39m=\u001b[39;49mloss_func, train_dataloader\u001b[39m=\u001b[39;49mtrain_dataloader, device\u001b[39m=\u001b[39;49mdevice)\n\u001b[0;32m      3\u001b[0m metrics_map \u001b[39m=\u001b[39m model_evaluate(model\u001b[39m=\u001b[39mmodel,encoder\u001b[39m=\u001b[39mencoder,val_dataloader\u001b[39m=\u001b[39mval_dataloader,device\u001b[39m=\u001b[39mdevice)\n",
            "File \u001b[1;32mc:\\Users\\123\\Desktop\\torch cuda\\ssd\\train_one_loop.py:8\u001b[0m, in \u001b[0;36mtrain_one_loop\u001b[1;34m(model, optimizer, loss_func, train_dataloader, device)\u001b[0m\n\u001b[0;32m      6\u001b[0m \u001b[39mprint\u001b[39m(\u001b[39m\"\u001b[39m\u001b[39mTraining\u001b[39m\u001b[39m\"\u001b[39m)\n\u001b[0;32m      7\u001b[0m loss_sum \u001b[39m=\u001b[39m \u001b[39m0\u001b[39m\n\u001b[1;32m----> 8\u001b[0m \u001b[39mfor\u001b[39;00m data \u001b[39min\u001b[39;00m tqdm(train_dataloader, total\u001b[39m=\u001b[39m\u001b[39mlen\u001b[39m(train_dataloader)):\n\u001b[0;32m      9\u001b[0m     \u001b[39m# for nbatch, data in enumerate(train_dataloader):\u001b[39;00m\n\u001b[0;32m     11\u001b[0m     optimizer\u001b[39m.\u001b[39mzero_grad()\n\u001b[0;32m     13\u001b[0m     img, _, _, bbox_data, bbox_labels \u001b[39m=\u001b[39m data\n",
            "File \u001b[1;32mc:\\Users\\123\\Desktop\\torch cuda\\.venv\\lib\\site-packages\\tqdm\\std.py:1182\u001b[0m, in \u001b[0;36mtqdm.__iter__\u001b[1;34m(self)\u001b[0m\n\u001b[0;32m   1179\u001b[0m time \u001b[39m=\u001b[39m \u001b[39mself\u001b[39m\u001b[39m.\u001b[39m_time\n\u001b[0;32m   1181\u001b[0m \u001b[39mtry\u001b[39;00m:\n\u001b[1;32m-> 1182\u001b[0m     \u001b[39mfor\u001b[39;00m obj \u001b[39min\u001b[39;00m iterable:\n\u001b[0;32m   1183\u001b[0m         \u001b[39myield\u001b[39;00m obj\n\u001b[0;32m   1184\u001b[0m         \u001b[39m# Update and possibly print the progressbar.\u001b[39;00m\n\u001b[0;32m   1185\u001b[0m         \u001b[39m# Note: does not call self.update(1) for speed optimisation.\u001b[39;00m\n",
            "File \u001b[1;32mc:\\Users\\123\\Desktop\\torch cuda\\.venv\\lib\\site-packages\\torch\\utils\\data\\dataloader.py:633\u001b[0m, in \u001b[0;36m_BaseDataLoaderIter.__next__\u001b[1;34m(self)\u001b[0m\n\u001b[0;32m    630\u001b[0m \u001b[39mif\u001b[39;00m \u001b[39mself\u001b[39m\u001b[39m.\u001b[39m_sampler_iter \u001b[39mis\u001b[39;00m \u001b[39mNone\u001b[39;00m:\n\u001b[0;32m    631\u001b[0m     \u001b[39m# TODO(https://github.com/pytorch/pytorch/issues/76750)\u001b[39;00m\n\u001b[0;32m    632\u001b[0m     \u001b[39mself\u001b[39m\u001b[39m.\u001b[39m_reset()  \u001b[39m# type: ignore[call-arg]\u001b[39;00m\n\u001b[1;32m--> 633\u001b[0m data \u001b[39m=\u001b[39m \u001b[39mself\u001b[39;49m\u001b[39m.\u001b[39;49m_next_data()\n\u001b[0;32m    634\u001b[0m \u001b[39mself\u001b[39m\u001b[39m.\u001b[39m_num_yielded \u001b[39m+\u001b[39m\u001b[39m=\u001b[39m \u001b[39m1\u001b[39m\n\u001b[0;32m    635\u001b[0m \u001b[39mif\u001b[39;00m \u001b[39mself\u001b[39m\u001b[39m.\u001b[39m_dataset_kind \u001b[39m==\u001b[39m _DatasetKind\u001b[39m.\u001b[39mIterable \u001b[39mand\u001b[39;00m \\\n\u001b[0;32m    636\u001b[0m         \u001b[39mself\u001b[39m\u001b[39m.\u001b[39m_IterableDataset_len_called \u001b[39mis\u001b[39;00m \u001b[39mnot\u001b[39;00m \u001b[39mNone\u001b[39;00m \u001b[39mand\u001b[39;00m \\\n\u001b[0;32m    637\u001b[0m         \u001b[39mself\u001b[39m\u001b[39m.\u001b[39m_num_yielded \u001b[39m>\u001b[39m \u001b[39mself\u001b[39m\u001b[39m.\u001b[39m_IterableDataset_len_called:\n",
            "File \u001b[1;32mc:\\Users\\123\\Desktop\\torch cuda\\.venv\\lib\\site-packages\\torch\\utils\\data\\dataloader.py:677\u001b[0m, in \u001b[0;36m_SingleProcessDataLoaderIter._next_data\u001b[1;34m(self)\u001b[0m\n\u001b[0;32m    675\u001b[0m \u001b[39mdef\u001b[39;00m \u001b[39m_next_data\u001b[39m(\u001b[39mself\u001b[39m):\n\u001b[0;32m    676\u001b[0m     index \u001b[39m=\u001b[39m \u001b[39mself\u001b[39m\u001b[39m.\u001b[39m_next_index()  \u001b[39m# may raise StopIteration\u001b[39;00m\n\u001b[1;32m--> 677\u001b[0m     data \u001b[39m=\u001b[39m \u001b[39mself\u001b[39;49m\u001b[39m.\u001b[39;49m_dataset_fetcher\u001b[39m.\u001b[39;49mfetch(index)  \u001b[39m# may raise StopIteration\u001b[39;00m\n\u001b[0;32m    678\u001b[0m     \u001b[39mif\u001b[39;00m \u001b[39mself\u001b[39m\u001b[39m.\u001b[39m_pin_memory:\n\u001b[0;32m    679\u001b[0m         data \u001b[39m=\u001b[39m _utils\u001b[39m.\u001b[39mpin_memory\u001b[39m.\u001b[39mpin_memory(data, \u001b[39mself\u001b[39m\u001b[39m.\u001b[39m_pin_memory_device)\n",
            "File \u001b[1;32mc:\\Users\\123\\Desktop\\torch cuda\\.venv\\lib\\site-packages\\torch\\utils\\data\\_utils\\fetch.py:51\u001b[0m, in \u001b[0;36m_MapDatasetFetcher.fetch\u001b[1;34m(self, possibly_batched_index)\u001b[0m\n\u001b[0;32m     49\u001b[0m         data \u001b[39m=\u001b[39m \u001b[39mself\u001b[39m\u001b[39m.\u001b[39mdataset\u001b[39m.\u001b[39m__getitems__(possibly_batched_index)\n\u001b[0;32m     50\u001b[0m     \u001b[39melse\u001b[39;00m:\n\u001b[1;32m---> 51\u001b[0m         data \u001b[39m=\u001b[39m [\u001b[39mself\u001b[39m\u001b[39m.\u001b[39mdataset[idx] \u001b[39mfor\u001b[39;00m idx \u001b[39min\u001b[39;00m possibly_batched_index]\n\u001b[0;32m     52\u001b[0m \u001b[39melse\u001b[39;00m:\n\u001b[0;32m     53\u001b[0m     data \u001b[39m=\u001b[39m \u001b[39mself\u001b[39m\u001b[39m.\u001b[39mdataset[possibly_batched_index]\n",
            "File \u001b[1;32mc:\\Users\\123\\Desktop\\torch cuda\\.venv\\lib\\site-packages\\torch\\utils\\data\\_utils\\fetch.py:51\u001b[0m, in \u001b[0;36m<listcomp>\u001b[1;34m(.0)\u001b[0m\n\u001b[0;32m     49\u001b[0m         data \u001b[39m=\u001b[39m \u001b[39mself\u001b[39m\u001b[39m.\u001b[39mdataset\u001b[39m.\u001b[39m__getitems__(possibly_batched_index)\n\u001b[0;32m     50\u001b[0m     \u001b[39melse\u001b[39;00m:\n\u001b[1;32m---> 51\u001b[0m         data \u001b[39m=\u001b[39m [\u001b[39mself\u001b[39;49m\u001b[39m.\u001b[39;49mdataset[idx] \u001b[39mfor\u001b[39;00m idx \u001b[39min\u001b[39;00m possibly_batched_index]\n\u001b[0;32m     52\u001b[0m \u001b[39melse\u001b[39;00m:\n\u001b[0;32m     53\u001b[0m     data \u001b[39m=\u001b[39m \u001b[39mself\u001b[39m\u001b[39m.\u001b[39mdataset[possibly_batched_index]\n",
            "File \u001b[1;32mc:\\Users\\123\\Desktop\\torch cuda\\ssd\\train_loader.py:63\u001b[0m, in \u001b[0;36mCocoDataReader.__getitem__\u001b[1;34m(self, idx)\u001b[0m\n\u001b[0;32m     61\u001b[0m fn \u001b[39m=\u001b[39m img_data[\u001b[39m0\u001b[39m]\n\u001b[0;32m     62\u001b[0m img_path \u001b[39m=\u001b[39m os\u001b[39m.\u001b[39mpath\u001b[39m.\u001b[39mjoin(\u001b[39mself\u001b[39m\u001b[39m.\u001b[39mimg_folder, fn)\n\u001b[1;32m---> 63\u001b[0m img \u001b[39m=\u001b[39m Image\u001b[39m.\u001b[39;49mopen(img_path)\u001b[39m.\u001b[39;49mconvert(\u001b[39m\"\u001b[39;49m\u001b[39mRGB\u001b[39;49m\u001b[39m\"\u001b[39;49m)\n\u001b[0;32m     64\u001b[0m htot, wtot \u001b[39m=\u001b[39m img_data[\u001b[39m1\u001b[39m]\n\u001b[0;32m     65\u001b[0m bbox_sizes \u001b[39m=\u001b[39m []\n",
            "File \u001b[1;32mc:\\Users\\123\\Desktop\\torch cuda\\.venv\\lib\\site-packages\\PIL\\Image.py:921\u001b[0m, in \u001b[0;36mImage.convert\u001b[1;34m(self, mode, matrix, dither, palette, colors)\u001b[0m\n\u001b[0;32m    873\u001b[0m \u001b[39mdef\u001b[39;00m \u001b[39mconvert\u001b[39m(\n\u001b[0;32m    874\u001b[0m     \u001b[39mself\u001b[39m, mode\u001b[39m=\u001b[39m\u001b[39mNone\u001b[39;00m, matrix\u001b[39m=\u001b[39m\u001b[39mNone\u001b[39;00m, dither\u001b[39m=\u001b[39m\u001b[39mNone\u001b[39;00m, palette\u001b[39m=\u001b[39mPalette\u001b[39m.\u001b[39mWEB, colors\u001b[39m=\u001b[39m\u001b[39m256\u001b[39m\n\u001b[0;32m    875\u001b[0m ):\n\u001b[0;32m    876\u001b[0m \u001b[39m    \u001b[39m\u001b[39m\"\"\"\u001b[39;00m\n\u001b[0;32m    877\u001b[0m \u001b[39m    Returns a converted copy of this image. For the \"P\" mode, this\u001b[39;00m\n\u001b[0;32m    878\u001b[0m \u001b[39m    method translates pixels through the palette.  If mode is\u001b[39;00m\n\u001b[1;32m   (...)\u001b[0m\n\u001b[0;32m    918\u001b[0m \u001b[39m    :returns: An :py:class:`~PIL.Image.Image` object.\u001b[39;00m\n\u001b[0;32m    919\u001b[0m \u001b[39m    \"\"\"\u001b[39;00m\n\u001b[1;32m--> 921\u001b[0m     \u001b[39mself\u001b[39;49m\u001b[39m.\u001b[39;49mload()\n\u001b[0;32m    923\u001b[0m     has_transparency \u001b[39m=\u001b[39m \u001b[39mself\u001b[39m\u001b[39m.\u001b[39minfo\u001b[39m.\u001b[39mget(\u001b[39m\"\u001b[39m\u001b[39mtransparency\u001b[39m\u001b[39m\"\u001b[39m) \u001b[39mis\u001b[39;00m \u001b[39mnot\u001b[39;00m \u001b[39mNone\u001b[39;00m\n\u001b[0;32m    924\u001b[0m     \u001b[39mif\u001b[39;00m \u001b[39mnot\u001b[39;00m mode \u001b[39mand\u001b[39;00m \u001b[39mself\u001b[39m\u001b[39m.\u001b[39mmode \u001b[39m==\u001b[39m \u001b[39m\"\u001b[39m\u001b[39mP\u001b[39m\u001b[39m\"\u001b[39m:\n\u001b[0;32m    925\u001b[0m         \u001b[39m# determine default mode\u001b[39;00m\n",
            "File \u001b[1;32mc:\\Users\\123\\Desktop\\torch cuda\\.venv\\lib\\site-packages\\PIL\\ImageFile.py:260\u001b[0m, in \u001b[0;36mImageFile.load\u001b[1;34m(self)\u001b[0m\n\u001b[0;32m    254\u001b[0m         \u001b[39mraise\u001b[39;00m \u001b[39mOSError\u001b[39;00m(\n\u001b[0;32m    255\u001b[0m             \u001b[39m\"\u001b[39m\u001b[39mimage file is truncated \u001b[39m\u001b[39m\"\u001b[39m\n\u001b[0;32m    256\u001b[0m             \u001b[39mf\u001b[39m\u001b[39m\"\u001b[39m\u001b[39m(\u001b[39m\u001b[39m{\u001b[39;00m\u001b[39mlen\u001b[39m(b)\u001b[39m}\u001b[39;00m\u001b[39m bytes not processed)\u001b[39m\u001b[39m\"\u001b[39m\n\u001b[0;32m    257\u001b[0m         )\n\u001b[0;32m    259\u001b[0m b \u001b[39m=\u001b[39m b \u001b[39m+\u001b[39m s\n\u001b[1;32m--> 260\u001b[0m n, err_code \u001b[39m=\u001b[39m decoder\u001b[39m.\u001b[39;49mdecode(b)\n\u001b[0;32m    261\u001b[0m \u001b[39mif\u001b[39;00m n \u001b[39m<\u001b[39m \u001b[39m0\u001b[39m:\n\u001b[0;32m    262\u001b[0m     \u001b[39mbreak\u001b[39;00m\n",
            "\u001b[1;31mKeyboardInterrupt\u001b[0m: "
          ]
        }
      ],
      "source": [
        "#losses = train_one_loop(model=model, optimizer=optimizer,loss_func=loss_func, train_dataloader=train_dataloader, device=device)\n",
        "\n",
        "metrics_map = model_evaluate(model=model,encoder=encoder,val_dataloader=val_dataloader,device=device)"
      ]
    },
    {
      "cell_type": "code",
      "execution_count": 7,
      "id": "638b3e2e",
      "metadata": {},
      "outputs": [],
      "source": [
        "#metrics_map = model_evaluate(model=model,encoder=encoder,val_dataloader=val_dataloader,device=device)"
      ]
    },
    {
      "cell_type": "code",
      "execution_count": 4,
      "id": "de9c26bd",
      "metadata": {},
      "outputs": [
        {
          "data": {
            "text/plain": [
              "{'map': tensor(0.3213),\n",
              " 'map_50': tensor(0.5015),\n",
              " 'map_75': tensor(0.3389),\n",
              " 'map_small': tensor(0.0736),\n",
              " 'map_medium': tensor(0.3580),\n",
              " 'map_large': tensor(0.4853),\n",
              " 'mar_1': tensor(0.2878),\n",
              " 'mar_10': tensor(0.3897),\n",
              " 'mar_100': tensor(0.3977),\n",
              " 'mar_small': tensor(0.1122),\n",
              " 'mar_medium': tensor(0.4475),\n",
              " 'mar_large': tensor(0.5705),\n",
              " 'map_per_class': tensor(-1.),\n",
              " 'mar_100_per_class': tensor(-1.),\n",
              " 'classes': tensor([ 1,  2,  3,  4,  5,  6,  7,  8,  9, 10, 11, 12, 13, 14, 15, 16, 17, 18,\n",
              "         19, 20, 21, 22, 23, 24, 25, 26, 27, 28, 29, 30, 31, 32, 33, 34, 35, 36,\n",
              "         37, 38, 39, 40, 41, 42, 43, 44, 45, 46, 47, 48, 49, 50, 51, 52, 54, 55,\n",
              "         56, 57, 58, 59, 60, 61, 62, 63, 64, 65, 66, 67, 68, 69, 70, 71, 72, 73,\n",
              "         74, 75, 76, 77, 78, 80], dtype=torch.int32)}"
            ]
          },
          "execution_count": 4,
          "metadata": {},
          "output_type": "execute_result"
        }
      ],
      "source": [
        "metrics_map"
      ]
    },
    {
      "cell_type": "code",
      "execution_count": null,
      "id": "f874855a",
      "metadata": {},
      "outputs": [],
      "source": []
    },
    {
      "cell_type": "code",
      "execution_count": null,
      "id": "86782663",
      "metadata": {},
      "outputs": [
        {
          "name": "stdout",
          "output_type": "stream",
          "text": [
            "Training\n"
          ]
        },
        {
          "name": "stderr",
          "output_type": "stream",
          "text": [
            "100%|\u2588\u2588\u2588\u2588\u2588\u2588\u2588\u2588\u2588\u2588| 155/155 [03:54<00:00,  1.51s/it]"
          ]
        },
        {
          "name": "stdout",
          "output_type": "stream",
          "text": [
            "loss = 3.7094279981428575\n"
          ]
        },
        {
          "name": "stderr",
          "output_type": "stream",
          "text": [
            "\n"
          ]
        }
      ],
      "source": [
        "#prog_bar = tqdm(train_dataloader, total=len(train_dataloader))\n",
        "print('Training')\n",
        "loss_sum = 0\n",
        "for i, data in enumerate(tqdm(train_dataloader, total=len(train_dataloader))):\n",
        "#for nbatch, data in enumerate(train_dataloader):\n",
        "    \n",
        "    optimizer.zero_grad()\n",
        "    \n",
        "    img, img_id, images_sizes,  bbox_data, bbox_labels = data\n",
        "    \n",
        "    \n",
        "    gloc = Variable(bbox_data.transpose(1, 2).contiguous(), requires_grad=False).to('cuda')\n",
        "    glabel = Variable(bbox_labels, requires_grad=False).to('cuda')\n",
        "   # \n",
        "    ploc, plabel = model(img.to('cuda'))\n",
        "    #print(ploc.device, plabel.device, gloc.device, glabel.device)\n",
        "    loss = loss_func(ploc=ploc, plabel=plabel, gloc=gloc, glabel=glabel )\n",
        "    loss_sum += loss.item()\n",
        "    loss.backward()\n",
        "    optimizer.step()\n",
        "    \n",
        "    #prog_bar.update(i)\n",
        "    #(desc=f\"Loss: {1:.4f}\"\n",
        "#print('loss =', loss_sum / len(train_dataloader))"
      ]
    },
    {
      "cell_type": "code",
      "execution_count": null,
      "id": "fe05024c",
      "metadata": {},
      "outputs": [
        {
          "name": "stderr",
          "output_type": "stream",
          "text": [
            "  0%|          | 0/155 [00:00<?, ?it/s]"
          ]
        },
        {
          "name": "stderr",
          "output_type": "stream",
          "text": [
            " 70%|\u2588\u2588\u2588\u2588\u2588\u2588\u2589   | 108/155 [05:11<02:15,  2.88s/it]\n"
          ]
        },
        {
          "ename": "KeyboardInterrupt",
          "evalue": "",
          "output_type": "error",
          "traceback": [
            "\u001b[1;31m---------------------------------------------------------------------------\u001b[0m",
            "\u001b[1;31mKeyboardInterrupt\u001b[0m                         Traceback (most recent call last)",
            "Cell \u001b[1;32mIn[10], line 9\u001b[0m\n\u001b[0;32m      7\u001b[0m \u001b[39mwith\u001b[39;00m torch\u001b[39m.\u001b[39mno_grad():\n\u001b[0;32m      8\u001b[0m     ploc, plabel \u001b[39m=\u001b[39m model(img\u001b[39m.\u001b[39mto(\u001b[39m'\u001b[39m\u001b[39mcuda\u001b[39m\u001b[39m'\u001b[39m))\n\u001b[1;32m----> 9\u001b[0m     detections \u001b[39m=\u001b[39m encoder\u001b[39m.\u001b[39;49mdecode_batch(ploc, plabel, \u001b[39m0.5\u001b[39;49m, \u001b[39m200\u001b[39;49m)\n\u001b[0;32m     12\u001b[0m \u001b[39mfor\u001b[39;00m idx \u001b[39min\u001b[39;00m \u001b[39mrange\u001b[39m(ploc\u001b[39m.\u001b[39mshape[\u001b[39m0\u001b[39m]):\n\u001b[0;32m     13\u001b[0m     true_dict \u001b[39m=\u001b[39m \u001b[39mdict\u001b[39m()\n",
            "File \u001b[1;32mc:\\Users\\123\\Desktop\\torch cuda\\ssd\\utils_ssd300.py:154\u001b[0m, in \u001b[0;36mEncoder.decode_batch\u001b[1;34m(self, bboxes_in, scores_in, criteria, max_output)\u001b[0m\n\u001b[0;32m    152\u001b[0m     bbox \u001b[39m=\u001b[39m bbox\u001b[39m.\u001b[39msqueeze(\u001b[39m0\u001b[39m)  \u001b[39m# [1, 8732,4]) -> [ 8732, 4])\u001b[39;00m\n\u001b[0;32m    153\u001b[0m     prob \u001b[39m=\u001b[39m prob\u001b[39m.\u001b[39msqueeze(\u001b[39m0\u001b[39m)  \u001b[39m# [1, 8732, 81] -> [ 8732, 81]\u001b[39;00m\n\u001b[1;32m--> 154\u001b[0m     output\u001b[39m.\u001b[39mappend(\u001b[39mself\u001b[39;49m\u001b[39m.\u001b[39;49mdecode_single(bbox, prob, criteria, max_output))\n\u001b[0;32m    155\u001b[0m \u001b[39mreturn\u001b[39;00m output\n",
            "File \u001b[1;32mc:\\Users\\123\\Desktop\\torch cuda\\ssd\\utils_ssd300.py:192\u001b[0m, in \u001b[0;36mEncoder.decode_single\u001b[1;34m(self, bboxes_in, scores_in, criteria, max_output, max_num)\u001b[0m\n\u001b[0;32m    190\u001b[0m     iou_sorted \u001b[39m=\u001b[39m calc_iou_tensor(bboxes_sorted, bboxes_idx)\u001b[39m.\u001b[39msqueeze()\n\u001b[0;32m    191\u001b[0m     \u001b[39m# we only need iou < criteria\u001b[39;00m\n\u001b[1;32m--> 192\u001b[0m     score_idx_sorted \u001b[39m=\u001b[39m score_idx_sorted[iou_sorted \u001b[39m<\u001b[39;49m criteria]\n\u001b[0;32m    193\u001b[0m     candidates\u001b[39m.\u001b[39mappend(idx)\n\u001b[0;32m    195\u001b[0m bboxes_out\u001b[39m.\u001b[39mappend(bboxes[candidates, :])\n",
            "\u001b[1;31mKeyboardInterrupt\u001b[0m: "
          ]
        }
      ],
      "source": [
        "target = []\n",
        "preds = []\n",
        "\n",
        "for nbatch, data in enumerate(tqdm(val_dataloader, total=len(val_dataloader))):\n",
        "    model.eval()\n",
        "    img, img_id, images_sizes,  bbox_data, bbox_labels = data\n",
        "    with torch.no_grad():\n",
        "        ploc, plabel = model(img.to('cuda'))\n",
        "        detections = encoder.decode_batch(ploc, plabel, 0.5, 200)\n",
        "        \n",
        "   \n",
        "    for idx in range(ploc.shape[0]):\n",
        "        true_dict = dict()\n",
        "        preds_dict = dict()\n",
        "        htot, wtot = images_sizes[0][idx].item(), images_sizes[1][idx].item()   \n",
        "        pred_bbx = detections[idx][0]\n",
        "        prob = detections[idx][2]\n",
        "        tr_bbx = bbox_labels[idx] > 0\n",
        "        bbx_target = []\n",
        "        for j in range(len(bbox_data[idx][tr_bbx ])):\n",
        "            l,t,r,b = bbox_data[idx][tr_bbx ][j].detach().cpu().numpy()\n",
        "            bbx_target.append([l* wtot,t* htot,r* wtot,b* htot])\n",
        "\n",
        "        bbx_pred = []  \n",
        "        for j in range(pred_bbx.shape[0]):\n",
        "            l,t,r,b = pred_bbx[j].detach().cpu().numpy()\n",
        "            bbx_pred.append([l* wtot,t* htot,r* wtot,b* htot])\n",
        "\n",
        "        true_dict['boxes'] = torch.tensor(bbx_target).detach().cpu()\n",
        "        true_dict['labels'] = bbox_labels[idx][tr_bbx].detach().cpu()\n",
        "        preds_dict['boxes'] = torch.tensor(bbx_pred).detach().cpu()\n",
        "        preds_dict['scores'] = detections[idx][2].detach().cpu()\n",
        "        preds_dict['labels'] = detections[idx][1].detach().cpu()\n",
        "        preds.append(preds_dict)\n",
        "        target.append(true_dict)\n",
        "        \n",
        "        if nbatch == 15:\n",
        "            break\n",
        "\n",
        "metric = MeanAveragePrecision()\n",
        "metric.update(preds, target)\n",
        "metric_summary = metric.compute();\n",
        " "
      ]
    },
    {
      "cell_type": "code",
      "execution_count": null,
      "id": "86696c4f",
      "metadata": {},
      "outputs": [
        {
          "name": "stdout",
          "output_type": "stream",
          "text": [
            "Epoch #0 train loss: 3.709\n"
          ]
        }
      ],
      "source": [
        "print(f\"Epoch #{0} train loss: {loss_sum / len(train_dataloader):.3f}\")   \n",
        "#print(f\"Epoch #{0} mAP: {metric_summary['map']}\") \n",
        "#print('loss =', loss_sum / len(train_dataloader))"
      ]
    },
    {
      "cell_type": "code",
      "execution_count": null,
      "id": "7213b742",
      "metadata": {},
      "outputs": [],
      "source": []
    },
    {
      "cell_type": "code",
      "execution_count": null,
      "id": "445d1c5a",
      "metadata": {},
      "outputs": [
        {
          "ename": "SyntaxError",
          "evalue": "unmatched ')' (4047458937.py, line 8)",
          "output_type": "error",
          "traceback": [
            "\u001b[1;36m  Cell \u001b[1;32mIn[22], line 8\u001b[1;36m\u001b[0m\n\u001b[1;33m    ploc, plabel = model(img.to('cuda')))\u001b[0m\n\u001b[1;37m                                        ^\u001b[0m\n\u001b[1;31mSyntaxError\u001b[0m\u001b[1;31m:\u001b[0m unmatched ')'\n"
          ]
        }
      ],
      "source": [
        "target = []\n",
        "preds = []\n",
        "\n",
        "for nbatch, data in enumerate(tqdm(val_dataloader, total=len(val_dataloader))):\n",
        "    model.eval()\n",
        "    img, img_id, images_sizes,  bbox_data, bbox_labels = data\n",
        "    with torch.no_grad():\n",
        "        ploc, plabel = model(img.to('cuda')))\n",
        "        detections = encoder.decode_batch(ploc, plabel, 0.5, 200)   \n",
        "    \n",
        " \n",
        "\n",
        "    \n",
        "    import torchvision.transforms as T\n",
        "    \n",
        "    for idx in range(ploc.shape[0]):\n",
        "        true_dict = dict()\n",
        "        preds_dict = dict()\n",
        "        \n",
        "        htot, wtot = images_sizes[0][idx].item(), images_sizes[1][idx].item()\n",
        "        \n",
        "        pred_bbx = detections[idx][0]\n",
        "       # print(detections[idx][1])\n",
        "        prob = detections[idx][2]\n",
        "        #pred_bbx = pred_bbx[prob > 0.1]\n",
        "\n",
        "        # true bbx\n",
        "        tr_bbx = bbox_labels[idx] > 0\n",
        "        \n",
        "        \n",
        "        bbx_target = []\n",
        "        for j in range(len(bbox_data[idx][tr_bbx ])):\n",
        "            l,t,r,b = bbox_data[idx][tr_bbx ][j].detach().cpu().numpy()\n",
        "            bbx_target.append([l* wtot,t* htot,r* wtot,b* htot])\n",
        "          \n",
        "        #ped bbx  \n",
        "        bbx_pred = []  \n",
        "        for j in range(pred_bbx.shape[0]):\n",
        "            l,t,r,b = pred_bbx[j].detach().cpu().numpy()\n",
        "            bbx_pred.append([l* wtot,t* htot,r* wtot,b* htot])\n",
        "            \n",
        "        \n",
        "        true_dict['boxes'] = torch.tensor(bbx_target).detach().cpu()\n",
        "        true_dict['labels'] = bbox_labels[idx][tr_bbx].detach().cpu()\n",
        "        \n",
        "       \n",
        "        preds_dict['boxes'] = torch.tensor(bbx_pred).detach().cpu()\n",
        "        preds_dict['scores'] = detections[idx][2].detach().cpu()\n",
        "        preds_dict['labels'] = detections[idx][1].detach().cpu()\n",
        "        preds.append(preds_dict)\n",
        "        target.append(true_dict)\n",
        "\n",
        "    if nbatch == 300:\n",
        "        break\n",
        "        \n",
        "            \n",
        "            \n",
        "            \n",
        "      \n",
        "        \n",
        "    "
      ]
    },
    {
      "cell_type": "code",
      "execution_count": null,
      "id": "02aa3d32",
      "metadata": {},
      "outputs": [
        {
          "data": {
            "text/plain": [
              "300"
            ]
          },
          "execution_count": 299,
          "metadata": {},
          "output_type": "execute_result"
        }
      ],
      "source": [
        "nbatch"
      ]
    },
    {
      "cell_type": "code",
      "execution_count": null,
      "id": "09395677",
      "metadata": {},
      "outputs": [
        {
          "name": "stderr",
          "output_type": "stream",
          "text": [
            "c:\\Users\\123\\Desktop\\computer_vision\\cv-dedection-people\\.venv\\lib\\site-packages\\torchmetrics\\utilities\\prints.py:42: UserWarning: Encountered more than 100 detections in a single image. This means that certain detections with the lowest scores will be ignored, that may have an undesirable impact on performance. Please consider adjusting the `max_detection_threshold` to suit your use case. To disable this warning, set attribute class `warn_on_many_detections=False`, after initializing the metric.\n",
            "  warnings.warn(*args, **kwargs)  # noqa: B028\n"
          ]
        },
        {
          "data": {
            "text/plain": [
              "{'map': tensor(0.2627),\n",
              " 'map_50': tensor(0.4435),\n",
              " 'map_75': tensor(0.2725),\n",
              " 'map_small': tensor(0.0437),\n",
              " 'map_medium': tensor(0.2429),\n",
              " 'map_large': tensor(0.3938),\n",
              " 'mar_1': tensor(0.2423),\n",
              " 'mar_10': tensor(0.3550),\n",
              " 'mar_100': tensor(0.3740),\n",
              " 'mar_small': tensor(0.0841),\n",
              " 'mar_medium': tensor(0.3699),\n",
              " 'mar_large': tensor(0.5276),\n",
              " 'map_per_class': tensor(-1.),\n",
              " 'mar_100_per_class': tensor(-1.),\n",
              " 'classes': tensor([ 1,  2,  3,  4,  5,  6,  7,  8,  9, 10, 11, 12, 13, 14, 15, 16, 17, 18,\n",
              "         19, 20, 21, 22, 23, 24, 25, 26, 27, 28, 29, 30, 31, 32, 33, 34, 35, 36,\n",
              "         37, 38, 39, 40, 41, 42, 43, 44, 45, 46, 47, 48, 49, 50, 51, 52, 53, 54,\n",
              "         55, 56, 57, 58, 59, 60, 61, 62, 63, 64, 65, 66, 67, 68, 69, 70, 71, 72,\n",
              "         73, 74, 75, 76, 77, 78, 79, 80], dtype=torch.int32)}"
            ]
          },
          "execution_count": 12,
          "metadata": {},
          "output_type": "execute_result"
        }
      ],
      "source": [
        "metric = MeanAveragePrecision()\n",
        "metric.update(preds, target)\n",
        "metric_summary = metric.compute();\n",
        "metric_summary"
      ]
    },
    {
      "cell_type": "code",
      "execution_count": null,
      "id": "9bafbe33",
      "metadata": {},
      "outputs": [],
      "source": [
        "{\"ID\": \"284193,1c88700092bff1e9\", \"gtboxes\": [{\"fbox\": [-4, 331, 35, 114], \"tag\": \"person\", \"hbox\": [1, 334, 12, 17], \"extra\": {\"box_id\": 0, \"occ\": 0}, \"vbox\": [0, 331, 31, 114], \"head_attr\": {\"ignore\": 0, \"occ\": 0, \"unsure\": 0}}, {\"fbox\": [45, 336, 25, 81], \"tag\": \"person\", \"hbox\": [53, 340, 11, 13], \"extra\": {\"box_id\": 1, \"occ\": 1}, \"vbox\": [48, 336, 22, 28], \"head_attr\": {\"ignore\": 0, \"occ\": 1, \"unsure\": 0}}, {\"fbox\": [64, 348, 28, 52], \"tag\": \"person\", \"hbox\": [80, 350, 6, 7], \"extra\": {\"box_id\": 2, \"occ\": 1}, \"vbox\": [65, 349, 28, 50], \"head_attr\": {\"ignore\": 0, \"occ\": 1, \"unsure\": 0}}, {\"fbox\": [86, 351, 21, 47], \"tag\": \"person\", \"hbox\": [86, 351, 21, 47], \"extra\": {\"box_id\": 3, \"ignore\": 1}, \"vbox\": [86, 351, 21, 47], \"head_attr\": {}}, {\"fbox\": [95, 344, 21, 54], \"tag\": \"person\", \"hbox\": [105, 345, 6, 7], \"extra\": {\"box_id\": 4, \"occ\": 1}, \"vbox\": [95, 344, 18, 53], \"head_attr\": {\"ignore\": 0, \"occ\": 1, \"unsure\": 0}}, {\"fbox\": [263, 339, 117, 200], \"tag\": \"person\", \"hbox\": [287, 351, 33, 28], \"extra\": {\"box_id\": 5, \"occ\": 0}, \"vbox\": [263, 339, 117, 141], \"head_attr\": {\"ignore\": 0, \"occ\": 1, \"unsure\": 0}}, {\"fbox\": [165, 343, 91, 192], \"tag\": \"person\", \"hbox\": [187, 353, 29, 31], \"extra\": {\"box_id\": 6, \"occ\": 0}, \"vbox\": [165, 343, 91, 137], \"head_attr\": {\"ignore\": 0, \"occ\": 0, \"unsure\": 0}}, {\"fbox\": [129, 343, 90, 175], \"tag\": \"person\", \"hbox\": [149, 348, 24, 28], \"extra\": {\"box_id\": 7, \"occ\": 1}, \"vbox\": [132, 343, 50, 107], \"head_attr\": {\"ignore\": 0, \"occ\": 0, \"unsure\": 0}}, {\"fbox\": [102, 341, 77, 136], \"tag\": \"person\", \"hbox\": [120, 343, 23, 24], \"extra\": {\"box_id\": 8, \"occ\": 1}, \"vbox\": [105, 341, 37, 91], \"head_attr\": {\"ignore\": 0, \"occ\": 1, \"unsure\": 0}}, {\"fbox\": [335, 352, 17, 29], \"tag\": \"person\", \"hbox\": [338, 354, 5, 5], \"extra\": {\"box_id\": 9, \"occ\": 0}, \"vbox\": [335, 352, 17, 29], \"head_attr\": {\"ignore\": 0, \"occ\": 1, \"unsure\": 0}}, {\"fbox\": [346, 353, 13, 26], \"tag\": \"person\", \"hbox\": [353, 355, 4, 4], \"extra\": {\"box_id\": 10, \"occ\": 1}, \"vbox\": [348, 353, 11, 25], \"head_attr\": {\"ignore\": 0, \"occ\": 1, \"unsure\": 0}}, {\"fbox\": [357, 354, 10, 26], \"tag\": \"person\", \"hbox\": [361, 356, 5, 5], \"extra\": {\"box_id\": 11, \"occ\": 0}, \"vbox\": [357, 354, 10, 26], \"head_attr\": {\"ignore\": 0, \"occ\": 1, \"unsure\": 0}}, {\"fbox\": [408, 351, 12, 27], \"tag\": \"person\", \"hbox\": [408, 351, 12, 27], \"extra\": {\"box_id\": 12, \"ignore\": 1}, \"vbox\": [408, 351, 12, 27], \"head_attr\": {}}, {\"fbox\": [482, 338, 30, 68], \"tag\": \"person\", \"hbox\": [494, 339, 10, 10], \"extra\": {\"box_id\": 13, \"occ\": 1}, \"vbox\": [485, 340, 26, 66], \"head_attr\": {\"ignore\": 0, \"occ\": 0, \"unsure\": 0}}, {\"fbox\": [527, 343, 16, 35], \"tag\": \"person\", \"hbox\": [532, 345, 5, 6], \"extra\": {\"box_id\": 14, \"occ\": 1}, \"vbox\": [528, 344, 15, 34], \"head_attr\": {\"ignore\": 0, \"occ\": 1, \"unsure\": 0}}, {\"fbox\": [635, 327, 45, 133], \"tag\": \"person\", \"hbox\": [651, 329, 15, 17], \"extra\": {\"box_id\": 15, \"occ\": 1}, \"vbox\": [636, 327, 44, 131], \"head_attr\": {\"ignore\": 0, \"occ\": 0, \"unsure\": 0}}, {\"fbox\": [668, 335, 42, 123], \"tag\": \"person\", \"hbox\": [678, 337, 17, 17], \"extra\": {\"box_id\": 16, \"occ\": 0}, \"vbox\": [668, 335, 42, 123], \"head_attr\": {\"ignore\": 0, \"occ\": 0, \"unsure\": 0}}, {\"fbox\": [661, 336, 23, 40], \"tag\": \"person\", \"hbox\": [666, 339, 7, 7], \"extra\": {\"box_id\": 17, \"occ\": 1}, \"vbox\": [664, 337, 21, 40], \"head_attr\": {\"ignore\": 0, \"occ\": 1, \"unsure\": 0}}, {\"fbox\": [832, 332, 24, 50], \"tag\": \"person\", \"hbox\": [842, 334, 7, 7], \"extra\": {\"box_id\": 18, \"occ\": 1}, \"vbox\": [835, 332, 17, 49], \"head_attr\": {\"ignore\": 0, \"occ\": 1, \"unsure\": 0}}, {\"fbox\": [788, 332, 17, 54], \"tag\": \"person\", \"hbox\": [792, 333, 7, 7], \"extra\": {\"box_id\": 19, \"occ\": 1}, \"vbox\": [789, 333, 16, 53], \"head_attr\": {\"ignore\": 0, \"occ\": 0, \"unsure\": 0}}, {\"fbox\": [773, 342, 22, 42], \"tag\": \"person\", \"hbox\": [778, 344, 7, 7], \"extra\": {\"box_id\": 20, \"occ\": 1}, \"vbox\": [776, 343, 19, 41], \"head_attr\": {\"ignore\": 0, \"occ\": 1, \"unsure\": 0}}, {\"fbox\": [759, 337, 32, 48], \"tag\": \"person\", \"hbox\": [770, 339, 8, 8], \"extra\": {\"box_id\": 21, \"occ\": 0}, \"vbox\": [759, 337, 32, 48], \"head_attr\": {\"ignore\": 0, \"occ\": 1, \"unsure\": 0}}, {\"fbox\": [19, 335, 35, 68], \"tag\": \"mask\", \"hbox\": [19, 335, 35, 68], \"extra\": {\"ignore\": 1}, \"vbox\": [19, 335, 35, 68], \"head_attr\": {}}, {\"fbox\": [63, 343, 15, 48], \"tag\": \"mask\", \"hbox\": [63, 343, 15, 48], \"extra\": {\"ignore\": 1}, \"vbox\": [63, 343, 15, 48], \"head_attr\": {}}, {\"fbox\": [86, 348, 8, 29], \"tag\": \"mask\", \"hbox\": [86, 348, 8, 29], \"extra\": {\"ignore\": 1}, \"vbox\": [86, 348, 8, 29], \"head_attr\": {}}, {\"fbox\": [110, 339, 17, 32], \"tag\": \"mask\", \"hbox\": [110, 339, 17, 32], \"extra\": {\"ignore\": 1}, \"vbox\": [110, 339, 17, 32], \"head_attr\": {}}, {\"fbox\": [129, 343, 19, 39], \"tag\": \"mask\", \"hbox\": [129, 343, 19, 39], \"extra\": {\"ignore\": 1}, \"vbox\": [129, 343, 19, 39], \"head_attr\": {}}, {\"fbox\": [170, 352, 13, 27], \"tag\": \"mask\", \"hbox\": [170, 352, 13, 27], \"extra\": {\"ignore\": 1}, \"vbox\": [170, 352, 13, 27], \"head_attr\": {}}, {\"fbox\": [211, 345, 12, 39], \"tag\": \"mask\", \"hbox\": [211, 345, 12, 39], \"extra\": {\"ignore\": 1}, \"vbox\": [211, 345, 12, 39], \"head_attr\": {}}, {\"fbox\": [211, 216, 48, 64], \"tag\": \"mask\", \"hbox\": [211, 216, 48, 64], \"extra\": {\"ignore\": 1}, \"vbox\": [211, 216, 48, 64], \"head_attr\": {}}, {\"fbox\": [287, 251, 36, 49], \"tag\": \"mask\", \"hbox\": [287, 251, 36, 49], \"extra\": {\"ignore\": 1}, \"vbox\": [287, 251, 36, 49], \"head_attr\": {}}, {\"fbox\": [233, 346, 52, 36], \"tag\": \"mask\", \"hbox\": [233, 346, 52, 36], \"extra\": {\"ignore\": 1}, \"vbox\": [233, 346, 52, 36], \"head_attr\": {}}, {\"fbox\": [386, 352, 15, 28], \"tag\": \"mask\", \"hbox\": [386, 352, 15, 28], \"extra\": {\"ignore\": 1}, \"vbox\": [386, 352, 15, 28], \"head_attr\": {}}, {\"fbox\": [451, 350, 15, 28], \"tag\": \"mask\", \"hbox\": [451, 350, 15, 28], \"extra\": {\"ignore\": 1}, \"vbox\": [451, 350, 15, 28], \"head_attr\": {}}, {\"fbox\": [536, 344, 7, 10], \"tag\": \"mask\", \"hbox\": [536, 344, 7, 10], \"extra\": {\"ignore\": 1}, \"vbox\": [536, 344, 7, 10], \"head_attr\": {}}, {\"fbox\": [546, 342, 96, 33], \"tag\": \"mask\", \"hbox\": [546, 342, 96, 33], \"extra\": {\"ignore\": 1}, \"vbox\": [546, 342, 96, 33], \"head_attr\": {}}, {\"fbox\": [694, 330, 75, 46], \"tag\": \"mask\", \"hbox\": [694, 330, 75, 46], \"extra\": {\"ignore\": 1}, \"vbox\": [694, 330, 75, 46], \"head_attr\": {}}, {\"fbox\": [768, 333, 23, 18], \"tag\": \"mask\", \"hbox\": [768, 333, 23, 18], \"extra\": {\"ignore\": 1}, \"vbox\": [768, 333, 23, 18], \"head_attr\": {}}, {\"fbox\": [796, 324, 36, 57], \"tag\": \"mask\", \"hbox\": [796, 324, 36, 57], \"extra\": {\"ignore\": 1}, \"vbox\": [796, 324, 36, 57], \"head_attr\": {}}, {\"fbox\": [845, 320, 9, 25], \"tag\": \"mask\", \"hbox\": [845, 320, 9, 25], \"extra\": {\"ignore\": 1}, \"vbox\": [845, 320, 9, 25], \"head_attr\": {}}]}"
      ]
    },
    {
      "cell_type": "code",
      "execution_count": null,
      "id": "b606d2c5",
      "metadata": {},
      "outputs": [],
      "source": []
    },
    {
      "cell_type": "code",
      "execution_count": null,
      "id": "351ee0f6",
      "metadata": {},
      "outputs": [
        {
          "data": {
            "text/plain": [
              "{'boxes': tensor([[289.1390, 252.3710, 308.5259, 270.9455],\n",
              "         [211.2121, 206.1612, 241.8972, 219.8664],\n",
              "         [403.1069, 238.3774, 423.8143, 259.7459],\n",
              "         [172.2977, 174.4394, 183.6966, 192.7408],\n",
              "         [152.9007, 191.4473, 176.8827, 209.5964],\n",
              "         [274.2797, 165.6423, 285.4447, 181.8887],\n",
              "         [105.1875, 280.3208, 114.4473, 286.3444],\n",
              "         [174.7280, 185.4683, 187.7749, 207.2405],\n",
              "         [189.3316, 260.3939, 239.2760, 281.5376],\n",
              "         [342.8775, 151.9134, 487.2823, 256.2133],\n",
              "         [314.1092, 204.0212, 340.9726, 218.0405],\n",
              "         [448.2860, 295.9073, 607.7550, 332.0896],\n",
              "         [333.9937, 314.9082, 362.3904, 350.2684],\n",
              "         [158.6172, 175.4697, 182.1319, 195.7374],\n",
              "         [360.7279, 313.5639, 378.2633, 343.2836],\n",
              "         [262.6660, 192.0515, 298.5731, 206.7117],\n",
              "         [416.4047, 276.2730, 618.3924, 366.9688],\n",
              "         [227.0838, 220.0301, 243.8979, 231.2897],\n",
              "         [100.1689, 171.2339, 143.9916, 210.6805],\n",
              "         [305.9978, 195.8760, 341.8511, 207.9531],\n",
              "         [ 77.8270, 267.1965, 116.8765, 282.5196],\n",
              "         [305.8639, 176.9378, 390.6369, 199.6610],\n",
              "         [406.5828, 277.1136, 608.1617, 317.7247],\n",
              "         [248.8452, 208.5349, 285.5158, 224.1262],\n",
              "         [  8.5984, 253.1866,  34.0587, 270.1646],\n",
              "         [310.3361, 193.1025, 374.0057, 207.8051],\n",
              "         [217.6672, 218.9018, 234.5295, 231.1168],\n",
              "         [441.1457, 242.4324, 473.3009, 258.0960],\n",
              "         [466.9855, 240.7129, 505.5275, 259.0895],\n",
              "         [ 86.3892, 278.0263, 107.6066, 288.0670],\n",
              "         [160.0043, 171.6117, 174.1745, 202.5342],\n",
              "         [ 89.9015, 281.2705, 111.8215, 287.7646],\n",
              "         [219.9489, 126.8603, 273.5378, 172.9741],\n",
              "         [264.1166, 206.3243, 301.8619, 219.0193],\n",
              "         [ 34.4874, 217.3093,  73.4098, 230.3679],\n",
              "         [ 75.9910, 251.8570, 116.5890, 283.7593],\n",
              "         [252.4400, 140.4388, 270.0873, 160.1860],\n",
              "         [  1.6834, 204.6001,  92.8971, 222.4364],\n",
              "         [274.8388, 290.6903, 311.3584, 332.8459],\n",
              "         [ 85.1939, 272.6664, 104.8407, 283.6175],\n",
              "         [256.7928, 246.7970, 274.4731, 277.9919],\n",
              "         [413.4720, 213.8920, 456.5450, 235.2231],\n",
              "         [173.4616, 173.1368, 186.9241, 199.8675],\n",
              "         [320.8670, 167.2942, 445.9487, 271.2548],\n",
              "         [452.0537, 241.3715, 494.7606, 258.0949],\n",
              "         [214.1866, 200.3209, 284.7628, 220.6049],\n",
              "         [ 12.8596, 249.6482,  53.4623, 274.6299],\n",
              "         [232.9680, 190.6642, 297.5275, 209.5817],\n",
              "         [352.7074, 169.2113, 422.0957, 227.3186],\n",
              "         [253.7150, 278.8785, 310.6494, 331.0761],\n",
              "         [235.1377, 203.7014, 296.6560, 219.9455],\n",
              "         [226.1528, 136.6014, 246.3923, 161.9505],\n",
              "         [510.7284, 212.1273, 531.7226, 244.4403],\n",
              "         [522.7451, 206.0248, 603.0682, 265.9521],\n",
              "         [255.3329, 222.2787, 270.3131, 250.0716],\n",
              "         [179.5862, 229.5536, 191.6462, 252.4762],\n",
              "         [ 41.2044, 228.7102,  56.1196, 249.7369],\n",
              "         [229.1626, 236.2690, 241.8292, 256.5150],\n",
              "         [291.2988, 219.7043, 351.4260, 322.2616],\n",
              "         [325.4425, 218.9151, 340.6367, 242.3137],\n",
              "         [ 19.7978, 229.7639,  30.6574, 244.2379],\n",
              "         [ 40.9899, 229.6731,  48.9660, 243.7329],\n",
              "         [ -1.0191, 269.8000, 147.6211, 368.5103],\n",
              "         [175.7688, 227.3638, 185.6136, 243.4957],\n",
              "         [615.7185, 215.3661, 630.8360, 243.2873],\n",
              "         [440.0639, 221.8813, 458.5001, 254.5183],\n",
              "         [-10.0084, 218.0612, 404.4282, 315.9602],\n",
              "         [492.3579, 212.0253, 515.6844, 264.9214],\n",
              "         [259.2134, 220.9971, 272.8586, 242.5179],\n",
              "         [590.8190, 215.6061, 612.4274, 233.9625],\n",
              "         [ 11.4210, 224.9138,  69.9363, 276.4671],\n",
              "         [314.7320, 169.6067, 434.9234, 215.1775],\n",
              "         [120.5782, 227.4854, 134.5615, 259.5573],\n",
              "         [ 60.5542, 241.1317,  73.2424, 260.1773],\n",
              "         [547.6843, 209.3419, 563.4549, 228.1132],\n",
              "         [352.9356, 224.9296, 377.4460, 271.0843],\n",
              "         [573.6557, 224.6787, 605.7084, 264.1435],\n",
              "         [356.7351, 220.4136, 373.5605, 256.0885],\n",
              "         [243.1627, 182.1338, 648.0550, 271.4017],\n",
              "         [588.5915, 221.9677, 621.3611, 265.2396],\n",
              "         [211.6259, 224.0126, 221.4217, 241.6729],\n",
              "         [593.1006, 215.6744, 620.5462, 248.2360],\n",
              "         [197.8222, 229.5657, 208.3876, 251.4538],\n",
              "         [ 54.4011, 234.9489,  63.8187, 256.3875],\n",
              "         [210.9426, 241.6227, 216.4788, 255.7510],\n",
              "         [211.4688, 237.3472, 222.9178, 258.7794],\n",
              "         [342.5315, 218.3104, 360.3830, 257.6196],\n",
              "         [ 56.5463, 238.4756,  67.7975, 262.9344],\n",
              "         [310.7731, 226.7045, 328.4533, 266.5586],\n",
              "         [543.9229, 208.9585, 574.0211, 243.6420],\n",
              "         [ 19.2257, 228.9259,  32.6974, 253.7137],\n",
              "         [ 40.1316, 231.4217,  50.6662, 253.9513],\n",
              "         [509.3631, 207.9154, 568.5956, 267.3353],\n",
              "         [344.4051, 210.5998, 358.1636, 244.1190],\n",
              "         [199.2162, 236.7943, 209.5207, 259.8538],\n",
              "         [169.7930, 202.1818, 448.0885, 344.2296],\n",
              "         [ -1.4944, 206.4476,  35.1886, 324.4351],\n",
              "         [342.3914, 212.6327, 399.6211, 319.5942],\n",
              "         [507.8781, 212.7319, 536.3568, 267.2617],\n",
              "         [292.0796, 218.8911, 307.0167, 252.0049],\n",
              "         [175.5386, 234.7298, 189.3454, 262.3493],\n",
              "         [242.1943, 226.5657, 253.3458, 253.6021],\n",
              "         [618.2787, 223.9351, 636.2642, 269.0563],\n",
              "         [  2.5415, 212.3278,  23.9255, 267.3018],\n",
              "         [457.4768, 210.0597, 483.6710, 259.5081],\n",
              "         [  5.2727, 207.6553, 507.5109, 275.4541],\n",
              "         [570.7032, 212.3456, 619.2776, 266.1991],\n",
              "         [318.0687, 227.6282, 339.0644, 266.1003],\n",
              "         [541.1792, 210.3243, 570.4515, 265.2940],\n",
              "         [223.7039, 224.5586, 236.8142, 257.3957],\n",
              "         [ -0.8590, 229.5275,  20.2030, 294.2533],\n",
              "         [521.4474, 213.4630, 552.5162, 266.0301],\n",
              "         [418.1774, 297.6738, 632.6853, 414.7792],\n",
              "         [299.6760, 186.5994, 442.3241, 357.8308],\n",
              "         [209.0092, 228.0625, 220.5493, 256.9897],\n",
              "         [192.8196, 228.9961, 203.6984, 257.4759],\n",
              "         [ 29.7060, 236.3027,  50.3197, 274.1457],\n",
              "         [626.5431, 221.9695, 639.6100, 270.1339],\n",
              "         [554.8343, 209.7996, 584.4533, 266.8711],\n",
              "         [140.6279, 235.0118, 155.4525, 263.9451],\n",
              "         [322.5309, 219.1728, 341.5912, 258.8971],\n",
              "         [ 68.1608, 235.4657,  84.3367, 271.4245],\n",
              "         [ 44.7192, 190.3396, 603.2915, 315.2693],\n",
              "         [425.6954, 211.0490, 446.5704, 261.8336],\n",
              "         [308.0648, 218.4223, 323.5001, 258.8816],\n",
              "         [296.4479, 315.0443, 364.6021, 361.8799],\n",
              "         [160.0824, 233.4548, 172.5363, 266.9834],\n",
              "         [234.1790, 135.8115, 260.9967, 161.1326],\n",
              "         [166.2876, 115.5183, 214.9418, 144.2371],\n",
              "         [171.5587, 229.9465, 185.8908, 267.6784],\n",
              "         [408.2623, 216.9379, 431.7259, 263.2180],\n",
              "         [347.7067, 200.4018, 421.6132, 359.3199],\n",
              "         [254.4353, 275.8291, 311.2466, 332.5326],\n",
              "         [ 80.4888, 238.1000, 114.5644, 283.3687],\n",
              "         [258.3750, 222.9237, 303.2724, 314.0437]], dtype=torch.float64)}"
            ]
          },
          "execution_count": 250,
          "metadata": {},
          "output_type": "execute_result"
        }
      ],
      "source": [
        "true_dict"
      ]
    },
    {
      "cell_type": "code",
      "execution_count": null,
      "id": "bb2821bd",
      "metadata": {},
      "outputs": [
        {
          "data": {
            "text/plain": [
              "tensor([[[ 7.8789e+00,  7.9900e+00,  7.9046e+00,  ...,  6.2718e+00,\n",
              "           6.5717e+00,  6.3975e+00],\n",
              "         [ 1.9557e+00,  2.2101e+00,  2.0473e+00,  ...,  2.0530e+00,\n",
              "           2.0681e+00,  2.1723e+00],\n",
              "         [-1.8214e-01,  3.9990e-02,  1.8266e-01,  ..., -1.5935e-01,\n",
              "          -1.4367e-01, -1.5316e-01],\n",
              "         ...,\n",
              "         [-4.3708e-01, -4.2389e-01, -4.1271e-01,  ...,  1.5653e-01,\n",
              "           1.0740e-02,  1.3684e-01],\n",
              "         [-8.9916e-01, -9.0540e-01, -6.4122e-01,  ..., -7.8573e-01,\n",
              "          -7.8231e-01, -7.8420e-01],\n",
              "         [-3.2039e-01, -5.3829e-01, -5.9477e-01,  ..., -3.5390e-01,\n",
              "          -3.8509e-01, -2.8818e-01]],\n",
              "\n",
              "        [[ 7.9637e+00,  8.2926e+00,  8.0334e+00,  ...,  7.0202e+00,\n",
              "           7.0389e+00,  6.8604e+00],\n",
              "         [ 9.4671e-01,  1.0599e+00,  1.2081e+00,  ...,  2.6190e+00,\n",
              "           2.7694e+00,  2.7887e+00],\n",
              "         [-4.8606e-01, -4.0981e-01, -2.6360e-01,  ..., -6.6245e-01,\n",
              "          -6.1814e-01, -5.7342e-01],\n",
              "         ...,\n",
              "         [-3.6136e-01, -5.2666e-01, -4.7511e-01,  ..., -1.4875e-01,\n",
              "          -2.3566e-01, -5.4364e-02],\n",
              "         [-5.1081e-01, -5.7641e-01, -4.9442e-01,  ..., -6.6494e-01,\n",
              "          -6.5927e-01, -6.5540e-01],\n",
              "         [-1.7186e-02,  3.4140e-02,  1.6075e-01,  ..., -1.2456e-01,\n",
              "          -1.1157e-01, -2.9242e-02]],\n",
              "\n",
              "        [[ 7.9420e+00,  8.2654e+00,  8.1102e+00,  ...,  7.4575e+00,\n",
              "           7.4541e+00,  7.5023e+00],\n",
              "         [ 2.1491e+00,  2.4365e+00,  2.7085e+00,  ...,  2.4521e+00,\n",
              "           2.6287e+00,  2.3841e+00],\n",
              "         [-2.8302e-01, -1.2473e-01, -8.3508e-02,  ..., -4.6956e-01,\n",
              "          -3.9850e-01, -3.7155e-01],\n",
              "         ...,\n",
              "         [-1.0719e+00, -1.3085e+00, -1.0908e+00,  ..., -3.8812e-01,\n",
              "          -4.3821e-01, -3.6132e-01],\n",
              "         [-4.5767e-01, -5.1373e-01, -5.8485e-01,  ..., -5.9255e-01,\n",
              "          -6.1619e-01, -5.7945e-01],\n",
              "         [-3.7764e-01, -4.0000e-01, -1.8833e-01,  ..., -3.7589e-01,\n",
              "          -4.1112e-01, -3.3025e-01]],\n",
              "\n",
              "        [[ 8.0619e+00,  8.1108e+00,  7.9281e+00,  ...,  7.3709e+00,\n",
              "           7.3869e+00,  7.8335e+00],\n",
              "         [ 1.3481e+00,  1.0988e+00,  1.3355e+00,  ...,  4.4157e+00,\n",
              "           4.4866e+00,  4.6309e+00],\n",
              "         [-5.2329e-01, -4.2550e-01, -2.7727e-01,  ..., -7.2395e-04,\n",
              "          -7.3193e-02,  4.2875e-02],\n",
              "         ...,\n",
              "         [-4.7674e-01, -6.7195e-01, -6.3175e-01,  ..., -4.3723e-01,\n",
              "          -4.5745e-01, -3.4479e-01],\n",
              "         [-3.9795e-01, -3.0168e-01, -3.4498e-01,  ..., -4.8276e-01,\n",
              "          -5.3256e-01, -4.8263e-01],\n",
              "         [-3.2478e-02, -1.2242e-01, -1.2738e-02,  ..., -3.8222e-01,\n",
              "          -3.9162e-01, -3.1376e-01]]])"
            ]
          },
          "execution_count": 246,
          "metadata": {},
          "output_type": "execute_result"
        }
      ],
      "source": [
        "plabel"
      ]
    },
    {
      "cell_type": "code",
      "execution_count": null,
      "id": "f6cb8067",
      "metadata": {},
      "outputs": [
        {
          "ename": "IndexError",
          "evalue": "tuple index out of range",
          "output_type": "error",
          "traceback": [
            "\u001b[1;31m---------------------------------------------------------------------------\u001b[0m",
            "\u001b[1;31mIndexError\u001b[0m                                Traceback (most recent call last)",
            "Cell \u001b[1;32mIn[245], line 1\u001b[0m\n\u001b[1;32m----> 1\u001b[0m detections[\u001b[39m0\u001b[39;49m][\u001b[39m3\u001b[39;49m]\n",
            "\u001b[1;31mIndexError\u001b[0m: tuple index out of range"
          ]
        }
      ],
      "source": [
        "detections[0][3]"
      ]
    },
    {
      "cell_type": "code",
      "execution_count": null,
      "id": "4f4d986b",
      "metadata": {},
      "outputs": [],
      "source": [
        "with torch.no_grad():\n",
        "        ploc, plabel = model(img)"
      ]
    },
    {
      "cell_type": "code",
      "execution_count": null,
      "id": "42a8e610",
      "metadata": {},
      "outputs": [
        {
          "data": {
            "text/plain": [
              "tensor([[[ 7.8789e+00,  7.9900e+00,  7.9046e+00,  ...,  6.2718e+00,\n",
              "           6.5717e+00,  6.3975e+00],\n",
              "         [ 1.9557e+00,  2.2101e+00,  2.0473e+00,  ...,  2.0530e+00,\n",
              "           2.0681e+00,  2.1723e+00],\n",
              "         [-1.8214e-01,  3.9990e-02,  1.8266e-01,  ..., -1.5935e-01,\n",
              "          -1.4367e-01, -1.5316e-01],\n",
              "         ...,\n",
              "         [-4.3708e-01, -4.2389e-01, -4.1271e-01,  ...,  1.5653e-01,\n",
              "           1.0740e-02,  1.3684e-01],\n",
              "         [-8.9916e-01, -9.0540e-01, -6.4122e-01,  ..., -7.8573e-01,\n",
              "          -7.8231e-01, -7.8420e-01],\n",
              "         [-3.2039e-01, -5.3829e-01, -5.9477e-01,  ..., -3.5390e-01,\n",
              "          -3.8509e-01, -2.8818e-01]],\n",
              "\n",
              "        [[ 7.9637e+00,  8.2926e+00,  8.0334e+00,  ...,  7.0202e+00,\n",
              "           7.0389e+00,  6.8604e+00],\n",
              "         [ 9.4671e-01,  1.0599e+00,  1.2081e+00,  ...,  2.6190e+00,\n",
              "           2.7694e+00,  2.7887e+00],\n",
              "         [-4.8606e-01, -4.0981e-01, -2.6360e-01,  ..., -6.6245e-01,\n",
              "          -6.1814e-01, -5.7342e-01],\n",
              "         ...,\n",
              "         [-3.6136e-01, -5.2666e-01, -4.7511e-01,  ..., -1.4875e-01,\n",
              "          -2.3566e-01, -5.4364e-02],\n",
              "         [-5.1081e-01, -5.7641e-01, -4.9442e-01,  ..., -6.6494e-01,\n",
              "          -6.5927e-01, -6.5540e-01],\n",
              "         [-1.7186e-02,  3.4140e-02,  1.6075e-01,  ..., -1.2456e-01,\n",
              "          -1.1157e-01, -2.9242e-02]],\n",
              "\n",
              "        [[ 7.9420e+00,  8.2654e+00,  8.1102e+00,  ...,  7.4575e+00,\n",
              "           7.4541e+00,  7.5023e+00],\n",
              "         [ 2.1491e+00,  2.4365e+00,  2.7085e+00,  ...,  2.4521e+00,\n",
              "           2.6287e+00,  2.3841e+00],\n",
              "         [-2.8302e-01, -1.2473e-01, -8.3508e-02,  ..., -4.6956e-01,\n",
              "          -3.9850e-01, -3.7155e-01],\n",
              "         ...,\n",
              "         [-1.0719e+00, -1.3085e+00, -1.0908e+00,  ..., -3.8812e-01,\n",
              "          -4.3821e-01, -3.6132e-01],\n",
              "         [-4.5767e-01, -5.1373e-01, -5.8485e-01,  ..., -5.9255e-01,\n",
              "          -6.1619e-01, -5.7945e-01],\n",
              "         [-3.7764e-01, -4.0000e-01, -1.8833e-01,  ..., -3.7589e-01,\n",
              "          -4.1112e-01, -3.3025e-01]],\n",
              "\n",
              "        [[ 8.0619e+00,  8.1108e+00,  7.9281e+00,  ...,  7.3709e+00,\n",
              "           7.3869e+00,  7.8335e+00],\n",
              "         [ 1.3481e+00,  1.0988e+00,  1.3355e+00,  ...,  4.4157e+00,\n",
              "           4.4866e+00,  4.6309e+00],\n",
              "         [-5.2329e-01, -4.2550e-01, -2.7727e-01,  ..., -7.2395e-04,\n",
              "          -7.3193e-02,  4.2875e-02],\n",
              "         ...,\n",
              "         [-4.7674e-01, -6.7195e-01, -6.3175e-01,  ..., -4.3723e-01,\n",
              "          -4.5745e-01, -3.4479e-01],\n",
              "         [-3.9795e-01, -3.0168e-01, -3.4498e-01,  ..., -4.8276e-01,\n",
              "          -5.3256e-01, -4.8263e-01],\n",
              "         [-3.2478e-02, -1.2242e-01, -1.2738e-02,  ..., -3.8222e-01,\n",
              "          -3.9162e-01, -3.1376e-01]]])"
            ]
          },
          "execution_count": 214,
          "metadata": {},
          "output_type": "execute_result"
        }
      ],
      "source": [
        "plabel"
      ]
    },
    {
      "cell_type": "code",
      "execution_count": null,
      "id": "6b1d151a",
      "metadata": {},
      "outputs": [
        {
          "data": {
            "text/plain": [
              "tensor([57, 57, 42, 27, 57, 46, 70, 57, 74, 42, 42, 42, 61, 46, 45, 46, 42, 46,\n",
              "        29, 57, 10, 42, 42, 57, 57, 77, 74, 29, 72, 40, 61, 42, 57, 45, 72, 54,\n",
              "        70, 74, 47, 27, 40, 42, 46, 57, 42, 46, 42, 46, 61, 45, 40, 57, 40, 61,\n",
              "        57, 46, 28, 45, 57, 57, 42, 42, 61,  1, 70, 29, 27,  1,  1,  1, 42,  1,\n",
              "         1,  1,  1,  1,  1,  1, 57,  1, 61,  1, 40, 45,  1, 42,  1,  1,  1, 29,\n",
              "         1, 40,  1, 45,  1,  1,  1,  1,  1,  1,  1,  1,  1,  1,  1,  1,  1, 54,\n",
              "         1,  1,  1,  1,  1,  1, 70,  1, 72, 40,  1, 57, 72, 25,  1, 42,  1,  1,\n",
              "        57,  1,  1, 70, 42, 45, 40, 61,  1,  1, 42,  1,  1, 46, 42, 42,  1,  1,\n",
              "         1,  1, 61,  1, 46, 46, 46,  1])"
            ]
          },
          "execution_count": 210,
          "metadata": {},
          "output_type": "execute_result"
        }
      ],
      "source": [
        "detections[0][1]"
      ]
    },
    {
      "cell_type": "code",
      "execution_count": null,
      "id": "3863b1e0",
      "metadata": {},
      "outputs": [],
      "source": [
        "            true_dict = dict()\n",
        "            preds_dict = dict()\n",
        "            true_dict['boxes'] = targets[i]['boxes'].detach().cpu()\n",
        "            true_dict['labels'] = targets[i]['labels'].detach().cpu()\n",
        "            preds_dict['boxes'] = outputs[i]['boxes'].detach().cpu()\n",
        "            preds_dict['scores'] = outputs[i]['scores'].detach().cpu()\n",
        "            preds_dict['labels'] = outputs[i]['labels'].detach().cpu()\n",
        "            preds.append(preds_dict)\n",
        "            target.append(true_dict)"
      ]
    },
    {
      "cell_type": "code",
      "execution_count": null,
      "id": "0d6c7498",
      "metadata": {},
      "outputs": [],
      "source": []
    },
    {
      "cell_type": "code",
      "execution_count": null,
      "id": "355e37c7",
      "metadata": {},
      "outputs": [
        {
          "data": {
            "text/plain": [
              "<torch.utils.data.dataloader.DataLoader at 0x2c2f0fd5c10>"
            ]
          },
          "execution_count": 119,
          "metadata": {},
          "output_type": "execute_result"
        }
      ],
      "source": [
        "val_"
      ]
    },
    {
      "cell_type": "code",
      "execution_count": null,
      "id": "fa9d3d1f",
      "metadata": {},
      "outputs": [
        {
          "data": {
            "text/plain": [
              "<torch.utils.data.dataloader.DataLoader at 0x2c2f0fd5c10>"
            ]
          },
          "execution_count": 115,
          "metadata": {},
          "output_type": "execute_result"
        }
      ],
      "source": [
        "val_dataloader.ima"
      ]
    },
    {
      "cell_type": "code",
      "execution_count": null,
      "id": "2e0920f5",
      "metadata": {},
      "outputs": [
        {
          "data": {
            "text/plain": [
              "tensor([[ 0.4518,  0.5257,  0.4822,  0.5644],\n",
              "        [ 0.5574,  0.6089,  0.5941,  0.6754],\n",
              "        [ 0.6297,  0.4966,  0.6623,  0.5411],\n",
              "        [ 0.3299,  0.4295,  0.3780,  0.4580],\n",
              "        [ 0.2389,  0.3988,  0.2765,  0.4366],\n",
              "        [ 0.2958,  0.5425,  0.3740,  0.5865],\n",
              "        [ 0.2692,  0.3634,  0.2870,  0.4015],\n",
              "        [ 0.5660,  0.3491,  0.6670,  0.4734],\n",
              "        [ 0.2730,  0.3864,  0.2934,  0.4317],\n",
              "        [ 0.7001,  0.6165,  0.9498,  0.6920],\n",
              "        [ 0.4286,  0.3451,  0.4460,  0.3789],\n",
              "        [ 0.1644,  0.5840,  0.1788,  0.5965],\n",
              "        [ 0.4907,  0.4250,  0.5328,  0.4542],\n",
              "        [ 0.5360,  0.3169,  0.7613,  0.5337],\n",
              "        [ 0.2477,  0.3656,  0.2846,  0.4077],\n",
              "        [ 0.4103,  0.4001,  0.4666,  0.4306],\n",
              "        [ 0.5219,  0.6560,  0.5662,  0.7297],\n",
              "        [ 0.3547,  0.4584,  0.3811,  0.4818],\n",
              "        [ 0.5637,  0.6532,  0.5910,  0.7151],\n",
              "        [ 0.1565,  0.3567,  0.2251,  0.4388],\n",
              "        [ 0.6510,  0.5756,  0.9662,  0.7645],\n",
              "        [ 0.1213,  0.5566,  0.1827,  0.5885],\n",
              "        [ 0.4780,  0.4081,  0.5342,  0.4332],\n",
              "        [ 0.4776,  0.3686,  0.6106,  0.4159],\n",
              "        [ 0.3888,  0.4344,  0.4462,  0.4669],\n",
              "        [ 0.0133,  0.5275,  0.0533,  0.5628],\n",
              "        [ 0.6351,  0.5773,  0.9507,  0.6619],\n",
              "        [ 0.4847,  0.4023,  0.5846,  0.4329],\n",
              "        [ 0.3400,  0.4560,  0.3665,  0.4815],\n",
              "        [ 0.6891,  0.5051,  0.7396,  0.5376],\n",
              "        [ 0.1350,  0.5792,  0.1683,  0.6001],\n",
              "        [ 0.7295,  0.5015,  0.7900,  0.5397],\n",
              "        [ 0.1403,  0.5859,  0.1748,  0.5995],\n",
              "        [ 0.4125,  0.4298,  0.4718,  0.4563],\n",
              "        [ 0.0537,  0.4527,  0.1148,  0.4799],\n",
              "        [ 0.3438,  0.2643,  0.4275,  0.3604],\n",
              "        [ 0.2500,  0.3575,  0.2721,  0.4219],\n",
              "        [ 0.1187,  0.5247,  0.1823,  0.5911],\n",
              "        [ 0.3944,  0.2926,  0.4221,  0.3337],\n",
              "        [ 0.0023,  0.4262,  0.1454,  0.4634],\n",
              "        [ 0.4295,  0.6056,  0.4864,  0.6934],\n",
              "        [ 0.1331,  0.5680,  0.1638,  0.5908],\n",
              "        [ 0.4013,  0.5141,  0.4288,  0.5791],\n",
              "        [ 0.6458,  0.4456,  0.7135,  0.4900],\n",
              "        [ 0.7061,  0.5029,  0.7732,  0.5376],\n",
              "        [ 0.2711,  0.3607,  0.2921,  0.4163],\n",
              "        [ 0.5016,  0.3488,  0.6965,  0.5653],\n",
              "        [ 0.0199,  0.5201,  0.0837,  0.5721],\n",
              "        [ 0.3344,  0.4173,  0.4451,  0.4595],\n",
              "        [ 0.3638,  0.3972,  0.4651,  0.4366],\n",
              "        [ 0.3966,  0.5811,  0.4856,  0.6897],\n",
              "        [ 0.3672,  0.4244,  0.4637,  0.4582],\n",
              "        [ 0.3534,  0.2846,  0.3850,  0.3373],\n",
              "        [ 0.7980,  0.4419,  0.8308,  0.5092],\n",
              "        [ 0.3581,  0.4922,  0.3779,  0.5343],\n",
              "        [ 0.3990,  0.4631,  0.4224,  0.5209],\n",
              "        [ 0.5085,  0.4561,  0.5322,  0.5047],\n",
              "        [ 0.8170,  0.4290,  0.9424,  0.5544],\n",
              "        [ 0.6876,  0.4623,  0.7164,  0.5301],\n",
              "        [ 0.0310,  0.4786,  0.0479,  0.5088],\n",
              "        [ 0.0641,  0.4785,  0.0765,  0.5077],\n",
              "        [ 0.2747,  0.4736,  0.2900,  0.5072],\n",
              "        [ 0.9230,  0.4492,  0.9570,  0.4874],\n",
              "        [ 0.9621,  0.4487,  0.9857,  0.5068],\n",
              "        [ 0.7693,  0.4417,  0.8057,  0.5518],\n",
              "        [ 0.4552,  0.4577,  0.5491,  0.6715],\n",
              "        [ 0.4050,  0.4604,  0.4263,  0.5052],\n",
              "        [ 0.0946,  0.5023,  0.1145,  0.5419],\n",
              "        [-0.0153,  0.4538,  0.6312,  0.6580],\n",
              "        [-0.0011,  0.5621,  0.2302,  0.7675],\n",
              "        [ 0.0180,  0.4685,  0.1095,  0.5759],\n",
              "        [ 0.4920,  0.3534,  0.6795,  0.4486],\n",
              "        [ 0.1884,  0.4739,  0.2102,  0.5406],\n",
              "        [ 0.8558,  0.4361,  0.8804,  0.4752],\n",
              "        [ 0.5574,  0.4592,  0.5837,  0.5334],\n",
              "        [ 0.5515,  0.4686,  0.5897,  0.5647],\n",
              "        [ 0.8964,  0.4681,  0.9464,  0.5502],\n",
              "        [ 0.3806,  0.3787,  1.0131,  0.5652],\n",
              "        [ 0.3091,  0.4782,  0.3257,  0.5238],\n",
              "        [ 0.3295,  0.5034,  0.3382,  0.5328],\n",
              "        [ 0.9197,  0.4624,  0.9709,  0.5525],\n",
              "        [ 0.3307,  0.4667,  0.3460,  0.5034],\n",
              "        [ 0.9267,  0.4493,  0.9696,  0.5171],\n",
              "        [ 0.3304,  0.4944,  0.3484,  0.5390],\n",
              "        [ 0.0850,  0.4895,  0.0997,  0.5341],\n",
              "        [ 0.5352,  0.4548,  0.5631,  0.5366],\n",
              "        [ 0.0884,  0.4968,  0.1059,  0.5477],\n",
              "        [ 0.8499,  0.4353,  0.8970,  0.5075],\n",
              "        [ 0.4856,  0.4723,  0.5132,  0.5552],\n",
              "        [ 0.0301,  0.4769,  0.0511,  0.5285],\n",
              "        [ 0.3113,  0.4933,  0.3274,  0.5413],\n",
              "        [ 0.0627,  0.4821,  0.0792,  0.5290],\n",
              "        [ 0.5382,  0.4387,  0.5596,  0.5085],\n",
              "        [ 0.7960,  0.4331,  0.8886,  0.5569],\n",
              "        [-0.0022,  0.4301,  0.0550,  0.6755],\n",
              "        [ 0.2653,  0.4207,  0.7010,  0.7169],\n",
              "        [ 0.7936,  0.4432,  0.8380,  0.5567],\n",
              "        [ 0.4564,  0.4560,  0.4797,  0.5249],\n",
              "        [ 0.5351,  0.4430,  0.6244,  0.6660],\n",
              "        [ 0.2743,  0.4890,  0.2959,  0.5464],\n",
              "        [ 0.3785,  0.4720,  0.3958,  0.5282],\n",
              "        [ 0.9661,  0.4665,  0.9942,  0.5605],\n",
              "        [ 0.0040,  0.4423,  0.0374,  0.5568],\n",
              "        [ 0.7148,  0.4376,  0.7557,  0.5405],\n",
              "        [ 0.8918,  0.4424,  0.9678,  0.5546],\n",
              "        [ 0.0071,  0.4324,  0.7941,  0.5740],\n",
              "        [ 0.4970,  0.4742,  0.5298,  0.5543],\n",
              "        [ 0.8456,  0.4382,  0.8913,  0.5526],\n",
              "        [ 0.3496,  0.4678,  0.3700,  0.5361],\n",
              "        [-0.0013,  0.4782,  0.0315,  0.6129],\n",
              "        [ 0.8148,  0.4447,  0.8633,  0.5541],\n",
              "        [ 0.6529,  0.6196,  0.9896,  0.8642],\n",
              "        [ 0.4681,  0.3883,  0.6917,  0.7453],\n",
              "        [ 0.3266,  0.4751,  0.3446,  0.5353],\n",
              "        [ 0.3013,  0.4771,  0.3183,  0.5363],\n",
              "        [ 0.0465,  0.4923,  0.0786,  0.5710],\n",
              "        [ 0.9790,  0.4624,  0.9994,  0.5627],\n",
              "        [ 0.8670,  0.4371,  0.9132,  0.5559],\n",
              "        [ 0.2198,  0.4896,  0.2429,  0.5498],\n",
              "        [ 0.5040,  0.4566,  0.5337,  0.5393],\n",
              "        [ 0.1065,  0.4905,  0.1318,  0.5653],\n",
              "        [ 0.0728,  0.3945,  0.9442,  0.6570],\n",
              "        [ 0.6652,  0.4397,  0.6977,  0.5454],\n",
              "        [ 0.4814,  0.4550,  0.5055,  0.5392],\n",
              "        [ 0.4633,  0.6564,  0.5698,  0.7539],\n",
              "        [ 0.2502,  0.4864,  0.2696,  0.5561],\n",
              "        [ 0.3659,  0.2829,  0.4079,  0.3356],\n",
              "        [ 0.2598,  0.2407,  0.3360,  0.3004],\n",
              "        [ 0.2681,  0.4791,  0.2904,  0.5575],\n",
              "        [ 0.6380,  0.4519,  0.6745,  0.5483],\n",
              "        [ 0.5433,  0.4175,  0.6588,  0.7479],\n",
              "        [ 0.3977,  0.5747,  0.4865,  0.6927],\n",
              "        [ 0.1258,  0.4960,  0.1789,  0.5902],\n",
              "        [ 0.4039,  0.4644,  0.4738,  0.6546]])"
            ]
          },
          "execution_count": 112,
          "metadata": {},
          "output_type": "execute_result"
        }
      ],
      "source": [
        "bbx"
      ]
    },
    {
      "cell_type": "code",
      "execution_count": null,
      "id": "4b2b72e9",
      "metadata": {},
      "outputs": [],
      "source": [
        "from ssd.decode_results import Processing as processing\n",
        "with torch.no_grad():\n",
        "    detections = model(img)\n",
        "\n",
        "results_per_inputs = processing.decode_results(\n",
        "        predictions=detections,\n",
        "        criteria=.5,\n",
        "        max_output=100,\n",
        "    )\n"
      ]
    },
    {
      "cell_type": "code",
      "execution_count": null,
      "id": "3eeaef18",
      "metadata": {},
      "outputs": [],
      "source": []
    },
    {
      "cell_type": "code",
      "execution_count": null,
      "id": "3e5d49a5",
      "metadata": {},
      "outputs": [],
      "source": []
    },
    {
      "cell_type": "code",
      "execution_count": null,
      "id": "71613758",
      "metadata": {},
      "outputs": [
        {
          "data": {
            "text/plain": [
              "[(tensor([[ 6.1276e-01,  4.2599e-01,  8.0127e-01,  7.5199e-01],\n",
              "          [ 9.6533e-01,  8.3229e-01,  1.0001e+00,  9.9713e-01],\n",
              "          [ 3.3259e-01,  6.6834e-01,  3.9315e-01,  7.5043e-01],\n",
              "          [ 7.7006e-01,  4.5981e-01,  9.0801e-01,  7.2300e-01],\n",
              "          [ 3.8036e-01,  4.4255e-01,  5.6315e-01,  9.1908e-01],\n",
              "          [ 1.2822e-01,  5.6296e-01,  2.2196e-01,  6.8246e-01],\n",
              "          [ 1.8790e-01,  6.0991e-01,  2.7853e-01,  7.0757e-01],\n",
              "          [ 5.5640e-01,  4.9235e-01,  6.2572e-01,  6.3830e-01],\n",
              "          [ 8.8190e-01,  5.5262e-01,  9.8001e-01,  6.5568e-01],\n",
              "          [ 7.7535e-01,  5.2045e-01,  8.8139e-01,  7.9882e-01],\n",
              "          [ 5.5577e-01,  4.6483e-01,  6.2474e-01,  6.3195e-01],\n",
              "          [ 5.7574e-01,  4.9926e-01,  6.2265e-01,  5.3800e-01],\n",
              "          [ 5.8470e-02,  7.5788e-01,  1.7593e-01,  9.1012e-01],\n",
              "          [ 4.7279e-01,  4.4053e-01,  5.1677e-01,  4.8856e-01],\n",
              "          [ 5.0676e-01,  4.0332e-01,  5.7436e-01,  4.7156e-01],\n",
              "          [ 1.6843e-01,  7.2205e-01,  2.4517e-01,  7.9902e-01],\n",
              "          [ 9.4008e-01,  6.0863e-01,  1.0012e+00,  8.1576e-01],\n",
              "          [ 6.3888e-01,  3.1020e-01,  7.3385e-01,  4.4566e-01],\n",
              "          [ 3.1043e-01,  3.0599e-01,  3.9589e-01,  4.4830e-01],\n",
              "          [ 4.9268e-02,  8.5806e-01,  1.4298e-01,  9.0828e-01],\n",
              "          [ 2.2598e-01,  3.8836e-01,  2.8650e-01,  4.3550e-01],\n",
              "          [ 5.4380e-02,  4.6484e-01,  2.0687e-01,  6.6236e-01],\n",
              "          [ 3.1048e-02,  7.8597e-01,  2.1098e-01,  8.8109e-01],\n",
              "          [ 2.1987e-01,  7.0650e-01,  3.6004e-01,  8.0978e-01],\n",
              "          [ 3.1131e-01,  6.4939e-01,  3.5625e-01,  7.0507e-01],\n",
              "          [ 1.9462e-01,  6.4101e-01,  2.3824e-01,  6.7620e-01],\n",
              "          [ 1.0103e-01,  7.6831e-01,  2.9647e-01,  8.9175e-01],\n",
              "          [ 2.6054e-01,  1.5636e-01,  2.8800e-01,  2.3106e-01],\n",
              "          [ 2.1761e-01,  7.2813e-01,  2.7748e-01,  8.0774e-01],\n",
              "          [ 1.5219e-01,  5.6580e-01,  2.1008e-01,  6.4450e-01],\n",
              "          [ 1.7354e-01,  7.5275e-01,  2.4616e-01,  8.1832e-01],\n",
              "          [ 1.3121e-01,  9.8053e-03,  2.9770e-01,  2.7966e-01],\n",
              "          [ 7.6910e-01,  3.3910e-01,  8.8462e-01,  3.6774e-01],\n",
              "          [-1.4716e-03,  5.4620e-01,  3.5546e-01,  8.6117e-01],\n",
              "          [-5.8916e-04,  1.2986e-02,  9.5703e-02,  3.4954e-01],\n",
              "          [-5.8445e-04,  7.3333e-01,  4.7260e-01,  9.9939e-01],\n",
              "          [ 5.7516e-01,  4.8182e-01,  6.1876e-01,  5.6426e-01],\n",
              "          [ 2.7812e-01,  6.2850e-01,  3.2993e-01,  6.9367e-01],\n",
              "          [ 8.5820e-01,  6.1138e-01,  9.5503e-01,  7.5597e-01],\n",
              "          [ 5.5915e-01,  4.7178e-01,  5.9808e-01,  6.1410e-01],\n",
              "          [ 6.1792e-01,  2.6549e-01,  7.3069e-01,  4.9780e-01],\n",
              "          [ 3.1972e-01,  6.2309e-01,  3.6203e-01,  6.8976e-01],\n",
              "          [ 9.0462e-01,  6.1267e-01,  9.9088e-01,  7.6355e-01],\n",
              "          [ 8.1288e-01,  4.5938e-01,  9.2903e-01,  4.8769e-01],\n",
              "          [ 9.2467e-02,  6.8073e-01,  2.0305e-01,  7.4350e-01],\n",
              "          [-1.0235e-02,  1.9461e-01,  6.4998e-01,  8.4305e-01],\n",
              "          [ 1.9898e-01,  7.4937e-01,  2.6396e-01,  8.2042e-01],\n",
              "          [ 3.6126e-01,  5.6667e-01,  3.9910e-01,  6.4924e-01],\n",
              "          [ 4.6237e-02,  6.8903e-01,  2.1032e-01,  8.4390e-01],\n",
              "          [ 2.7793e-01,  3.1345e-01,  3.0637e-01,  4.1599e-01],\n",
              "          [ 3.5806e-01,  4.2467e-01,  8.1280e-01,  7.4893e-01],\n",
              "          [ 3.7620e-02,  4.9593e-01,  1.7255e-01,  5.8967e-01],\n",
              "          [ 3.2756e-01,  5.0724e-01,  3.9265e-01,  7.0431e-01],\n",
              "          [ 9.5467e-04,  7.1093e-01,  1.4439e-01,  8.4521e-01],\n",
              "          [ 4.6228e-01,  5.9519e-01,  5.3919e-01,  9.4692e-01],\n",
              "          [ 5.7957e-01,  4.6990e-01,  6.1580e-01,  6.2780e-01],\n",
              "          [-6.5900e-03,  6.7023e-01,  4.2860e-01,  9.5913e-01],\n",
              "          [ 3.2982e-01,  7.0191e-01,  4.0254e-01,  7.6141e-01],\n",
              "          [ 6.6090e-01,  2.5734e-01,  7.6589e-01,  4.8594e-01],\n",
              "          [ 2.1110e-01,  6.0676e-01,  2.4235e-01,  7.0273e-01],\n",
              "          [ 3.3717e-01,  6.4973e-01,  3.9854e-01,  6.9745e-01],\n",
              "          [ 5.0124e-01,  4.2193e-01,  5.5252e-01,  4.9135e-01],\n",
              "          [ 3.7915e-02,  8.0540e-01,  1.1401e-01,  8.6952e-01],\n",
              "          [ 6.8826e-02,  4.3990e-01,  3.1011e-01,  6.7416e-01],\n",
              "          [ 1.1286e-01,  6.9909e-01,  2.2037e-01,  7.9723e-01],\n",
              "          [ 2.1210e-01,  1.9334e-02,  2.8153e-01,  2.6104e-01],\n",
              "          [ 5.1384e-01,  3.9536e-01,  5.4618e-01,  4.8968e-01],\n",
              "          [ 1.8738e-01,  6.3387e-01,  2.2388e-01,  6.8898e-01],\n",
              "          [ 2.0362e-01,  6.3706e-01,  2.7210e-01,  6.8347e-01],\n",
              "          [ 1.5039e-01,  5.4553e-01,  2.5356e-01,  6.6324e-01],\n",
              "          [ 2.1104e-01,  5.2753e-02,  2.5576e-01,  1.8051e-01],\n",
              "          [ 4.2539e-03,  8.0322e-01,  7.4237e-02,  8.7047e-01],\n",
              "          [ 1.4604e-01,  3.6496e-02,  2.0584e-01,  1.7520e-01],\n",
              "          [ 3.6196e-01,  5.2325e-01,  3.8179e-01,  5.8195e-01],\n",
              "          [ 1.0349e-02,  5.2098e-01,  1.4121e-01,  6.1614e-01],\n",
              "          [ 2.8420e-01,  3.2172e-01,  3.1358e-01,  4.3624e-01],\n",
              "          [ 6.7871e-01,  2.8754e-01,  7.1282e-01,  4.3037e-01],\n",
              "          [ 6.4298e-01,  2.1861e-01,  6.6550e-01,  2.8705e-01],\n",
              "          [ 5.2056e-01,  1.4318e-01,  5.3997e-01,  1.7622e-01],\n",
              "          [ 2.5973e-01,  6.4259e-01,  3.1676e-01,  7.0841e-01],\n",
              "          [ 6.6711e-01,  2.0272e-01,  6.8742e-01,  2.6179e-01],\n",
              "          [ 1.7077e-01,  4.2773e-02,  2.1915e-01,  1.7617e-01],\n",
              "          [ 6.3806e-01,  3.6872e-01,  7.3390e-01,  4.6670e-01],\n",
              "          [ 7.9229e-01,  4.9488e-01,  9.4983e-01,  5.3364e-01],\n",
              "          [ 3.3078e-01,  7.3640e-02,  9.2277e-01,  2.7378e-01],\n",
              "          [ 3.8452e-01,  3.9254e-01,  5.9738e-01,  8.4212e-01],\n",
              "          [ 4.9225e-01,  1.5565e-01,  5.0542e-01,  1.8058e-01],\n",
              "          [ 6.4278e-01,  1.6024e-01,  7.3555e-01,  2.8433e-01],\n",
              "          [ 3.9961e-01,  6.3667e-01,  4.3919e-01,  6.9578e-01],\n",
              "          [ 6.2195e-01,  2.0026e-01,  6.4729e-01,  2.5831e-01],\n",
              "          [ 1.3634e-01,  1.4406e-02,  2.2512e-01,  2.7846e-01],\n",
              "          [ 4.2888e-01,  4.0117e-01,  6.3654e-01,  4.9136e-01],\n",
              "          [ 6.4762e-01,  1.8955e-01,  6.6660e-01,  2.6892e-01],\n",
              "          [ 5.0417e-01,  2.2727e-01,  5.8690e-01,  3.4763e-01],\n",
              "          [ 6.8237e-01,  1.7617e-01,  7.3576e-01,  2.6451e-01],\n",
              "          [ 8.5719e-01,  5.8031e-01,  9.5596e-01,  6.8068e-01],\n",
              "          [ 2.5888e-01,  5.4774e-01,  5.2570e-01,  7.6960e-01],\n",
              "          [ 2.6467e-01,  6.2695e-01,  2.9387e-01,  6.9507e-01],\n",
              "          [ 6.0358e-01,  1.1459e-01,  7.2390e-01,  2.7096e-01],\n",
              "          [ 7.1923e-01,  1.9484e-01,  7.6393e-01,  3.0175e-01],\n",
              "          [ 3.6792e-01,  4.7828e-01,  5.5994e-01,  6.0217e-01],\n",
              "          [ 1.9238e-01,  6.4580e-01,  2.2868e-01,  7.0949e-01],\n",
              "          [-7.0188e-03,  4.9563e-01,  2.7765e-01,  6.1522e-01],\n",
              "          [ 7.0982e-01,  1.8446e-01,  7.5737e-01,  2.6031e-01],\n",
              "          [ 3.2340e-01,  4.1496e-01,  5.4583e-01,  6.1296e-01],\n",
              "          [ 3.6428e-01,  5.3122e-01,  3.9362e-01,  6.1821e-01],\n",
              "          [-3.9364e-04,  4.4517e-01,  3.1356e-01,  6.6824e-01],\n",
              "          [ 5.0794e-01,  1.2699e-01,  7.0941e-01,  2.4639e-01],\n",
              "          [ 6.5716e-01,  1.6515e-01,  7.8671e-01,  3.2388e-01],\n",
              "          [ 5.3709e-01,  1.4463e-01,  5.5565e-01,  1.8386e-01],\n",
              "          [ 2.4060e-01,  4.5095e-01,  7.6782e-01,  9.6937e-01],\n",
              "          [ 3.8061e-01,  1.4116e-01,  7.0485e-01,  8.2916e-01],\n",
              "          [ 3.3981e-01,  5.9289e-01,  4.0670e-01,  7.0054e-01],\n",
              "          [ 4.6141e-01,  1.4195e-01,  4.7833e-01,  1.9404e-01],\n",
              "          [ 5.3509e-01,  2.0382e-01,  5.7520e-01,  2.8525e-01],\n",
              "          [ 5.7037e-01,  1.4525e-01,  5.9016e-01,  1.8906e-01],\n",
              "          [ 3.9990e-01,  1.3106e-01,  8.2489e-01,  4.2199e-01],\n",
              "          [ 4.6988e-01,  1.4826e-01,  4.8686e-01,  1.8948e-01],\n",
              "          [ 4.7316e-01,  1.3685e-01,  4.8773e-01,  1.7260e-01],\n",
              "          [ 4.9870e-01,  1.4702e-01,  5.1584e-01,  1.8430e-01],\n",
              "          [ 6.8284e-01,  1.5364e-01,  7.7242e-01,  2.6824e-01],\n",
              "          [ 4.6442e-01,  1.3272e-01,  4.8057e-01,  1.8103e-01],\n",
              "          [ 5.6966e-01,  1.9670e-01,  6.4912e-01,  3.1994e-01],\n",
              "          [ 6.9100e-04,  5.7638e-01,  1.2960e-01,  7.4390e-01],\n",
              "          [ 5.3449e-01,  1.7609e-01,  7.0041e-01,  4.3453e-01],\n",
              "          [ 6.1833e-01,  1.7549e-01,  6.4224e-01,  2.7012e-01],\n",
              "          [ 7.0489e-01,  1.6729e-01,  7.5278e-01,  2.3654e-01],\n",
              "          [ 7.3919e-01,  1.9400e-01,  7.9604e-01,  2.8153e-01],\n",
              "          [ 5.1265e-01,  1.4237e-01,  5.2995e-01,  1.8238e-01],\n",
              "          [ 5.6249e-01,  2.3274e-01,  6.4055e-01,  5.4177e-01],\n",
              "          [ 7.6740e-01,  5.1425e-01,  9.7440e-01,  8.1554e-01],\n",
              "          [ 5.3257e-01,  1.4885e-01,  6.0955e-01,  2.6276e-01],\n",
              "          [ 5.8586e-01,  1.0934e-01,  6.0745e-01,  1.9514e-01],\n",
              "          [ 8.1791e-01,  5.8932e-01,  9.5510e-01,  7.9913e-01],\n",
              "          [ 3.6025e-03,  7.1349e-01,  1.2973e-01,  8.2820e-01],\n",
              "          [ 5.5609e-01,  1.3733e-01,  6.3894e-01,  2.6505e-01],\n",
              "          [ 5.2584e-01,  2.6516e-01,  6.1399e-01,  3.9169e-01],\n",
              "          [ 4.8947e-01,  1.3478e-01,  5.0859e-01,  1.7942e-01],\n",
              "          [ 6.2011e-01,  2.1855e-01,  6.4271e-01,  2.9484e-01],\n",
              "          [ 5.3889e-01,  1.7007e-01,  5.6616e-01,  2.3320e-01],\n",
              "          [ 4.4622e-01,  2.0755e-01,  5.4945e-01,  3.6979e-01],\n",
              "          [ 4.9586e-01,  1.3720e-01,  5.1326e-01,  1.7390e-01],\n",
              "          [ 6.0859e-01,  1.0388e-01,  6.4439e-01,  2.6132e-01],\n",
              "          [ 5.1375e-01,  1.8996e-01,  5.8916e-01,  3.1268e-01],\n",
              "          [ 4.5895e-03,  7.8306e-01,  1.0599e-01,  8.8205e-01],\n",
              "          [ 5.8664e-01,  1.3288e-01,  6.1093e-01,  2.2235e-01],\n",
              "          [ 5.8805e-01,  9.9290e-02,  6.5406e-01,  3.0001e-01],\n",
              "          [ 7.8417e-01,  4.6803e-01,  9.7153e-01,  5.5041e-01],\n",
              "          [ 7.9003e-01,  9.1740e-04,  8.4208e-01,  1.0358e-01],\n",
              "          [ 7.9634e-01,  4.8128e-01,  9.4029e-01,  5.2168e-01],\n",
              "          [ 8.6998e-01,  5.5237e-01,  9.7203e-01,  8.0008e-01],\n",
              "          [ 6.3994e-01,  2.6851e-01,  7.3050e-01,  4.0604e-01],\n",
              "          [ 5.2119e-01,  1.6957e-01,  6.1112e-01,  3.5148e-01],\n",
              "          [ 3.5433e-01,  4.5038e-01,  5.9333e-01,  6.6526e-01],\n",
              "          [ 5.7688e-01,  1.9130e-01,  6.2222e-01,  2.8313e-01],\n",
              "          [ 4.5150e-01,  3.5820e-01,  5.2511e-01,  4.6446e-01],\n",
              "          [ 5.2293e-01,  3.9159e-01,  5.5748e-01,  4.8514e-01],\n",
              "          [ 5.8534e-01,  1.6487e-01,  6.1429e-01,  2.4303e-01],\n",
              "          [ 5.5551e-01,  1.6321e-01,  5.8675e-01,  2.3705e-01],\n",
              "          [ 1.2690e-01,  5.3926e-01,  5.3554e-01,  8.4825e-01],\n",
              "          [ 2.4068e-01,  6.2335e-01,  2.6522e-01,  6.9982e-01],\n",
              "          [ 1.7788e-01,  7.1407e-01,  2.7648e-01,  8.1519e-01],\n",
              "          [ 7.6276e-01,  5.0359e-01,  9.7056e-01,  8.0327e-01],\n",
              "          [ 3.4635e-01,  5.4383e-01,  3.8486e-01,  6.6677e-01],\n",
              "          [ 5.4430e-01,  1.8715e-01,  5.8593e-01,  2.7379e-01],\n",
              "          [ 7.2974e-01,  2.0250e-01,  8.0062e-01,  3.2347e-01],\n",
              "          [ 1.9860e-01,  6.3917e-01,  2.5626e-01,  7.1293e-01],\n",
              "          [ 4.9425e-01,  2.7945e-01,  5.7593e-01,  3.8073e-01],\n",
              "          [ 4.0012e-01,  6.1899e-01,  4.5629e-01,  6.6801e-01],\n",
              "          [ 2.2659e-01,  6.3967e-01,  2.7363e-01,  7.1082e-01],\n",
              "          [ 5.4966e-01,  1.9716e-01,  6.1973e-01,  3.2364e-01],\n",
              "          [ 4.6334e-01,  2.7287e-01,  6.1186e-01,  4.7805e-01],\n",
              "          [ 3.5236e-01,  6.1000e-01,  4.0299e-01,  7.0062e-01],\n",
              "          [ 5.1092e-01,  2.2346e-01,  6.7347e-01,  7.8269e-01],\n",
              "          [-1.2351e-03,  6.0887e-01,  1.0395e-01,  7.1108e-01],\n",
              "          [ 6.0852e-01,  1.7938e-01,  7.8475e-01,  4.8587e-01],\n",
              "          [-3.1830e-02,  5.5507e-01,  5.4318e-01,  9.9608e-01],\n",
              "          [ 5.5700e-01,  1.9617e-01,  6.2860e-01,  4.1679e-01],\n",
              "          [ 1.4090e-02,  7.5086e-01,  1.4644e-01,  8.8457e-01],\n",
              "          [ 9.5466e-02,  6.7958e-01,  2.0764e-01,  7.6433e-01],\n",
              "          [ 4.8443e-02,  8.1007e-01,  1.5298e-01,  9.0133e-01],\n",
              "          [ 5.9449e-01,  1.5915e-01,  7.8872e-01,  8.2055e-01]]),\n",
              "  tensor([57, 57, 42, 70, 57, 57, 42, 27, 57, 70, 74, 74, 46, 42, 42, 45, 57, 27,\n",
              "          42, 46, 46, 29, 46, 45, 42, 42, 46, 10, 45, 57, 45, 77, 72, 61, 47, 70,\n",
              "          74, 42, 57, 74, 27, 42, 57, 72, 54, 61, 45, 40, 46, 40, 61, 29, 40, 46,\n",
              "          57, 74, 61, 46, 27, 42, 42, 42, 46, 70, 46, 45, 42, 42, 42, 57, 45, 46,\n",
              "          45, 40, 29, 40, 28,  1,  1, 42,  1, 45, 27, 72,  1, 70,  1,  1, 42,  1,\n",
              "          45, 61,  1,  1,  1, 57, 61, 42,  1,  1, 70, 42, 29,  1, 70, 40, 29,  1,\n",
              "           1,  1, 61,  1, 40,  1,  1,  1,  1,  1,  1,  1,  1,  1,  1,  1,  1,  1,\n",
              "           1,  1,  1,  1, 57,  1,  1, 57, 54,  1,  1,  1,  1,  1,  1,  1,  1,  1,\n",
              "          46,  1,  1, 72, 40, 72, 57, 25,  1, 70,  1,  1, 42,  1,  1, 61, 42, 45,\n",
              "          70, 40,  1,  1, 42,  1, 46, 42,  1,  1, 42,  1,  1,  1, 61,  1, 46, 46,\n",
              "          46,  1]),\n",
              "  tensor([0.0501, 0.0504, 0.0509, 0.0509, 0.0510, 0.0510, 0.0510, 0.0520, 0.0521,\n",
              "          0.0521, 0.0524, 0.0525, 0.0530, 0.0531, 0.0531, 0.0538, 0.0538, 0.0538,\n",
              "          0.0539, 0.0540, 0.0545, 0.0548, 0.0551, 0.0552, 0.0552, 0.0555, 0.0556,\n",
              "          0.0564, 0.0565, 0.0565, 0.0566, 0.0567, 0.0568, 0.0569, 0.0571, 0.0572,\n",
              "          0.0575, 0.0579, 0.0581, 0.0584, 0.0587, 0.0587, 0.0589, 0.0589, 0.0591,\n",
              "          0.0592, 0.0592, 0.0596, 0.0608, 0.0615, 0.0615, 0.0618, 0.0623, 0.0624,\n",
              "          0.0627, 0.0628, 0.0633, 0.0639, 0.0645, 0.0652, 0.0654, 0.0664, 0.0664,\n",
              "          0.0668, 0.0671, 0.0678, 0.0682, 0.0688, 0.0690, 0.0692, 0.0694, 0.0695,\n",
              "          0.0700, 0.0703, 0.0705, 0.0706, 0.0716, 0.0720, 0.0724, 0.0725, 0.0729,\n",
              "          0.0732, 0.0732, 0.0733, 0.0734, 0.0737, 0.0739, 0.0740, 0.0742, 0.0746,\n",
              "          0.0748, 0.0748, 0.0752, 0.0753, 0.0757, 0.0757, 0.0760, 0.0762, 0.0765,\n",
              "          0.0766, 0.0768, 0.0771, 0.0772, 0.0774, 0.0775, 0.0787, 0.0797, 0.0801,\n",
              "          0.0807, 0.0808, 0.0811, 0.0812, 0.0818, 0.0820, 0.0824, 0.0832, 0.0838,\n",
              "          0.0855, 0.0862, 0.0864, 0.0879, 0.0885, 0.0887, 0.0887, 0.0888, 0.0897,\n",
              "          0.0899, 0.0902, 0.0908, 0.0916, 0.0921, 0.0924, 0.0931, 0.0943, 0.0949,\n",
              "          0.0949, 0.0950, 0.0952, 0.0954, 0.0958, 0.0965, 0.0966, 0.1009, 0.1010,\n",
              "          0.1013, 0.1037, 0.1042, 0.1043, 0.1044, 0.1048, 0.1056, 0.1067, 0.1069,\n",
              "          0.1069, 0.1078, 0.1104, 0.1121, 0.1134, 0.1142, 0.1157, 0.1177, 0.1199,\n",
              "          0.1219, 0.1239, 0.1245, 0.1301, 0.1313, 0.1359, 0.1468, 0.1489, 0.1497,\n",
              "          0.1844, 0.1860, 0.1871, 0.1937, 0.2108, 0.2694, 0.2755, 0.3106, 0.5327,\n",
              "          0.8374, 0.9982])),\n",
              " (tensor([[0.5946, 0.5756, 0.6547, 0.6155],\n",
              "          [0.1404, 0.3834, 0.2491, 0.7242],\n",
              "          [0.4165, 0.6050, 0.4962, 0.6333],\n",
              "          [0.5828, 0.7812, 0.6869, 0.8815],\n",
              "          [0.5321, 0.4816, 0.6609, 0.6398],\n",
              "          [0.5858, 0.8113, 0.6198, 0.8561],\n",
              "          [0.7153, 0.5493, 0.8024, 0.5960],\n",
              "          [0.2849, 0.5435, 0.3033, 0.6333],\n",
              "          [0.5160, 0.4901, 0.5436, 0.5641],\n",
              "          [0.3777, 0.4235, 0.5244, 0.5768],\n",
              "          [0.2514, 0.8818, 0.5772, 0.9948],\n",
              "          [0.1258, 0.7079, 0.7014, 0.9470],\n",
              "          [0.7035, 0.5759, 0.8408, 0.6011],\n",
              "          [0.7864, 0.4807, 0.8239, 0.5641],\n",
              "          [0.6670, 0.8374, 0.7117, 0.9122],\n",
              "          [0.4919, 0.4966, 0.5122, 0.5515],\n",
              "          [0.5711, 0.5559, 0.6446, 0.5895],\n",
              "          [0.5985, 0.5578, 0.6509, 0.5840],\n",
              "          [0.4951, 0.5412, 0.5113, 0.5930],\n",
              "          [0.4594, 0.6724, 0.8534, 1.0112],\n",
              "          [0.2896, 0.5153, 0.3191, 0.5853],\n",
              "          [0.8483, 0.3768, 0.9217, 0.7505],\n",
              "          [0.5010, 0.5228, 0.5193, 0.5765],\n",
              "          [0.4916, 0.4702, 0.5149, 0.5186],\n",
              "          [0.2491, 0.5072, 0.3235, 0.6633],\n",
              "          [0.7919, 0.5810, 0.8693, 0.6067],\n",
              "          [0.5106, 0.4702, 0.5382, 0.5504],\n",
              "          [0.6506, 0.5422, 0.8727, 0.6014],\n",
              "          [0.4050, 0.5849, 0.4919, 0.6140],\n",
              "          [0.1137, 0.6025, 0.8901, 1.0020],\n",
              "          [0.6278, 0.8297, 0.7279, 0.9464],\n",
              "          [0.6173, 0.7951, 0.6493, 0.8455],\n",
              "          [0.5320, 0.4852, 0.5564, 0.5801],\n",
              "          [0.4831, 0.4578, 0.5024, 0.4938],\n",
              "          [0.6035, 0.5278, 0.6517, 0.5793],\n",
              "          [0.5486, 0.5778, 0.6586, 0.6084],\n",
              "          [0.5854, 0.8185, 0.6373, 0.8688],\n",
              "          [0.7590, 0.5598, 0.8549, 0.5980],\n",
              "          [0.0488, 0.7966, 0.6895, 0.9973],\n",
              "          [0.6378, 0.7783, 0.6899, 0.8467],\n",
              "          [0.2728, 0.5085, 0.3263, 0.7522],\n",
              "          [0.5380, 0.5063, 0.5617, 0.5870],\n",
              "          [0.7593, 0.5784, 0.8618, 0.6015],\n",
              "          [0.4770, 0.4900, 0.6522, 0.7684],\n",
              "          [0.4827, 0.4585, 0.5078, 0.5519],\n",
              "          [0.5714, 0.5226, 0.6452, 0.5794],\n",
              "          [0.5401, 0.5028, 0.6532, 0.5956],\n",
              "          [0.6750, 0.8263, 0.7284, 0.9116],\n",
              "          [0.7864, 0.4807, 0.8239, 0.5641],\n",
              "          [0.6157, 0.8703, 0.6541, 0.9236],\n",
              "          [0.4951, 0.5018, 0.5131, 0.5896],\n",
              "          [0.2945, 0.5267, 0.3136, 0.6204],\n",
              "          [0.6648, 0.8744, 0.7087, 0.9409],\n",
              "          [0.4894, 0.4702, 0.5111, 0.5827],\n",
              "          [0.3537, 0.3031, 0.5539, 0.8460],\n",
              "          [0.6629, 0.5563, 0.8363, 0.5939],\n",
              "          [0.6260, 0.8106, 0.6683, 0.8706],\n",
              "          [0.5073, 0.4923, 0.5330, 0.5937],\n",
              "          [0.5851, 0.8264, 0.6257, 0.8996],\n",
              "          [0.6229, 0.8326, 0.6646, 0.9000],\n",
              "          [0.6226, 0.8693, 0.6701, 0.9324],\n",
              "          [0.6044, 0.8274, 0.6560, 0.8963],\n",
              "          [0.2027, 0.7647, 0.8527, 0.9946],\n",
              "          [0.5790, 0.7896, 0.7337, 0.9472],\n",
              "          [0.5847, 0.8084, 0.6810, 0.9253],\n",
              "          [0.3874, 0.5527, 0.5580, 0.8393],\n",
              "          [0.8399, 0.3212, 0.9975, 0.9988]]),\n",
              "  tensor([72, 73, 72, 50, 70, 50, 72, 59, 40, 73, 61, 61, 72, 76, 50, 40, 72, 72,\n",
              "          40, 61, 59, 73, 40, 40, 59, 72, 40, 72, 72, 61, 50, 50, 40, 40, 69, 72,\n",
              "          50, 72, 58, 50, 59, 40, 72, 70, 40, 69, 69, 47, 42, 50, 40, 59, 50, 40,\n",
              "          73, 72, 50, 40, 50, 50, 50, 50, 61, 50, 50, 70, 73]),\n",
              "  tensor([0.0502, 0.0505, 0.0507, 0.0511, 0.0514, 0.0518, 0.0526, 0.0528, 0.0535,\n",
              "          0.0539, 0.0545, 0.0551, 0.0553, 0.0565, 0.0567, 0.0569, 0.0572, 0.0573,\n",
              "          0.0576, 0.0580, 0.0594, 0.0595, 0.0595, 0.0597, 0.0599, 0.0611, 0.0616,\n",
              "          0.0618, 0.0630, 0.0663, 0.0666, 0.0667, 0.0676, 0.0736, 0.0780, 0.0815,\n",
              "          0.0818, 0.0821, 0.0822, 0.0824, 0.0838, 0.0853, 0.0907, 0.0907, 0.0910,\n",
              "          0.0928, 0.0928, 0.0947, 0.1059, 0.1100, 0.1127, 0.1130, 0.1132, 0.1138,\n",
              "          0.1228, 0.1244, 0.1293, 0.1317, 0.1390, 0.1475, 0.1735, 0.1738, 0.2106,\n",
              "          0.2170, 0.2422, 0.5733, 0.8757])),\n",
              " (tensor([[0.0322, 0.2684, 0.1037, 0.5485],\n",
              "          [0.8436, 0.4591, 0.8570, 0.4862],\n",
              "          [0.3202, 0.5165, 0.5035, 0.7605],\n",
              "          [0.4459, 0.7155, 0.4961, 0.8227],\n",
              "          [0.8339, 0.5091, 0.8502, 0.5891],\n",
              "          [0.6034, 0.2995, 1.0100, 0.7831],\n",
              "          [0.8108, 0.3538, 0.8313, 0.4394],\n",
              "          [0.8338, 0.3571, 0.8565, 0.4028],\n",
              "          [0.8459, 0.4842, 0.8547, 0.5054],\n",
              "          [0.6578, 0.1316, 0.6931, 0.2575],\n",
              "          [0.3888, 0.5543, 0.4881, 0.7155],\n",
              "          [0.9293, 0.2179, 0.9968, 0.2935],\n",
              "          [0.8503, 0.5096, 0.8578, 0.5300],\n",
              "          [0.8331, 0.4550, 0.9295, 0.6951],\n",
              "          [0.5375, 0.0575, 0.5608, 0.1069],\n",
              "          [0.8396, 0.5110, 0.8476, 0.5365],\n",
              "          [0.8497, 0.3713, 0.9248, 0.5077],\n",
              "          [0.8077, 0.3803, 0.8677, 0.7363],\n",
              "          [0.3167, 0.5328, 0.5145, 0.8778],\n",
              "          [0.8445, 0.5893, 0.9347, 0.7093],\n",
              "          [0.8476, 0.4823, 0.8622, 0.5064],\n",
              "          [0.5225, 0.4008, 0.6142, 0.5436],\n",
              "          [0.6236, 0.0759, 0.6965, 0.2816],\n",
              "          [0.8916, 0.3773, 0.9784, 0.7215],\n",
              "          [0.5608, 0.1093, 0.6654, 0.2450],\n",
              "          [0.3334, 0.6234, 0.4342, 0.7314],\n",
              "          [0.4886, 0.0563, 0.6633, 0.6331],\n",
              "          [0.5613, 0.0761, 0.6053, 0.1031],\n",
              "          [0.5315, 0.1196, 0.5844, 0.2308],\n",
              "          [0.5678, 0.1246, 0.6254, 0.2355],\n",
              "          [0.8364, 0.4892, 0.8448, 0.5136],\n",
              "          [0.4607, 0.5606, 0.5282, 0.8619],\n",
              "          [0.4257, 0.7034, 0.5105, 0.8374],\n",
              "          [0.8396, 0.4589, 0.8541, 0.5016],\n",
              "          [0.8331, 0.3392, 0.8997, 0.4530],\n",
              "          [0.3749, 0.7337, 0.4935, 0.8549],\n",
              "          [0.1226, 0.4296, 0.1418, 0.4623],\n",
              "          [0.8165, 0.3530, 0.8841, 0.4679],\n",
              "          [0.5747, 0.4246, 0.6325, 0.7658],\n",
              "          [0.1156, 0.4302, 0.1359, 0.4666],\n",
              "          [0.8268, 0.5619, 0.9118, 0.6930],\n",
              "          [0.8366, 0.3587, 0.8709, 0.4232],\n",
              "          [0.0837, 0.3931, 0.1974, 0.6833],\n",
              "          [0.3200, 0.6023, 0.3962, 0.7266],\n",
              "          [0.8441, 0.4854, 0.8561, 0.5142],\n",
              "          [0.8436, 0.3540, 0.8850, 0.4411],\n",
              "          [0.3035, 0.5643, 0.4078, 0.8280],\n",
              "          [0.4153, 0.0644, 0.6343, 0.2697],\n",
              "          [0.8772, 0.3550, 0.9072, 0.4782],\n",
              "          [0.8349, 0.3735, 0.8630, 0.4605],\n",
              "          [0.8308, 0.3910, 0.9285, 0.7078],\n",
              "          [0.8366, 0.5000, 0.8511, 0.5514],\n",
              "          [0.3061, 0.5515, 0.3854, 0.6654],\n",
              "          [0.3799, 0.6305, 0.5088, 0.8633],\n",
              "          [0.3880, 0.5285, 0.4918, 0.6871],\n",
              "          [0.6297, 0.1208, 0.6799, 0.2493],\n",
              "          [0.3038, 0.5354, 0.5130, 0.8784],\n",
              "          [0.8390, 0.4848, 0.8516, 0.5236],\n",
              "          [0.8906, 0.2131, 1.0009, 0.3391],\n",
              "          [0.5027, 0.3847, 0.6240, 0.8543],\n",
              "          [0.5273, 0.1067, 0.6282, 0.2392],\n",
              "          [0.0171, 0.3899, 0.2133, 0.9296],\n",
              "          [0.8013, 0.3791, 0.9873, 0.8991]]),\n",
              "  tensor([74, 68, 25, 57, 68,  1,  1,  1, 68, 10,  1, 26, 68, 27, 10, 68,  1,  1,\n",
              "           1, 27, 68,  1, 10,  1, 10,  1, 10, 10, 10, 10, 68,  1, 57, 68,  1, 57,\n",
              "          68,  1,  1, 68, 27,  1,  1,  1, 68,  1,  1, 10,  1,  1,  1, 68, 25, 57,\n",
              "          25, 10, 57, 68, 26,  1, 10,  1,  1]),\n",
              "  tensor([0.0503, 0.0505, 0.0507, 0.0508, 0.0509, 0.0510, 0.0510, 0.0511, 0.0515,\n",
              "          0.0520, 0.0520, 0.0524, 0.0528, 0.0529, 0.0534, 0.0540, 0.0546, 0.0550,\n",
              "          0.0561, 0.0563, 0.0567, 0.0567, 0.0570, 0.0575, 0.0582, 0.0585, 0.0593,\n",
              "          0.0594, 0.0606, 0.0609, 0.0619, 0.0620, 0.0621, 0.0623, 0.0632, 0.0637,\n",
              "          0.0645, 0.0653, 0.0654, 0.0654, 0.0668, 0.0689, 0.0716, 0.0721, 0.0731,\n",
              "          0.0760, 0.0768, 0.0781, 0.0816, 0.0821, 0.0874, 0.0902, 0.0918, 0.0957,\n",
              "          0.1056, 0.1070, 0.1090, 0.1196, 0.1592, 0.5478, 0.6110, 0.8881, 0.9976])),\n",
              " (tensor([[ 6.2981e-01,  4.9666e-01,  6.6231e-01,  5.4105e-01],\n",
              "          [ 6.1185e-01,  5.0575e-01,  6.4534e-01,  5.6990e-01],\n",
              "          [ 6.9905e-01,  6.1673e-01,  9.5028e-01,  6.9182e-01],\n",
              "          [ 3.3003e-01,  4.2954e-01,  3.7809e-01,  4.5800e-01],\n",
              "          [ 1.0863e-01,  5.5036e-01,  1.2862e-01,  5.8201e-01],\n",
              "          [ 5.5733e-01,  6.0883e-01,  5.9408e-01,  6.7538e-01],\n",
              "          [ 2.3901e-01,  3.9879e-01,  2.7649e-01,  4.3655e-01],\n",
              "          [ 2.9598e-01,  5.4245e-01,  3.7394e-01,  5.8640e-01],\n",
              "          [ 5.3653e-01,  3.1941e-01,  7.6018e-01,  5.3146e-01],\n",
              "          [ 4.9079e-01,  4.2507e-01,  5.3290e-01,  4.5419e-01],\n",
              "          [ 2.6921e-01,  3.6337e-01,  2.8703e-01,  4.0145e-01],\n",
              "          [ 2.7301e-01,  3.8636e-01,  2.9340e-01,  4.3166e-01],\n",
              "          [ 4.2856e-01,  3.4504e-01,  4.4602e-01,  3.7885e-01],\n",
              "          [ 1.6434e-01,  5.8393e-01,  1.7882e-01,  5.9647e-01],\n",
              "          [ 2.4781e-01,  3.6559e-01,  2.8467e-01,  4.0772e-01],\n",
              "          [ 4.1041e-01,  4.0013e-01,  4.6667e-01,  4.3058e-01],\n",
              "          [ 3.5484e-01,  4.5842e-01,  3.8119e-01,  4.8181e-01],\n",
              "          [ 1.5665e-01,  3.5675e-01,  2.2512e-01,  4.3875e-01],\n",
              "          [ 6.3468e-01,  5.7728e-01,  9.5204e-01,  6.6189e-01],\n",
              "          [ 1.2142e-01,  5.5666e-01,  1.8278e-01,  5.8851e-01],\n",
              "          [ 4.7809e-01,  4.0809e-01,  5.3428e-01,  4.3318e-01],\n",
              "          [ 5.2185e-01,  6.5602e-01,  5.6623e-01,  7.2963e-01],\n",
              "          [ 3.8900e-01,  4.3439e-01,  4.4624e-01,  4.6677e-01],\n",
              "          [ 5.6363e-01,  6.5322e-01,  5.9105e-01,  7.1510e-01],\n",
              "          [ 4.7782e-01,  3.6867e-01,  6.1059e-01,  4.1588e-01],\n",
              "          [ 1.3423e-02,  5.2749e-01,  5.3309e-02,  5.6279e-01],\n",
              "          [ 4.8485e-01,  4.0233e-01,  5.8458e-01,  4.3287e-01],\n",
              "          [ 3.4012e-01,  4.5608e-01,  3.6656e-01,  4.8144e-01],\n",
              "          [ 6.8925e-01,  5.0509e-01,  7.3967e-01,  5.3764e-01],\n",
              "          [ 7.2964e-01,  5.0153e-01,  7.9003e-01,  5.3969e-01],\n",
              "          [ 1.3508e-01,  5.7913e-01,  1.6833e-01,  6.0002e-01],\n",
              "          [ 1.4034e-01,  5.8596e-01,  1.7479e-01,  5.9946e-01],\n",
              "          [ 4.1269e-01,  4.2987e-01,  4.7181e-01,  4.5623e-01],\n",
              "          [ 5.3834e-02,  4.5275e-01,  1.1485e-01,  4.7988e-01],\n",
              "          [ 3.4384e-01,  2.6433e-01,  4.2756e-01,  3.6058e-01],\n",
              "          [ 1.1882e-01,  5.2467e-01,  1.8238e-01,  5.9098e-01],\n",
              "          [ 2.5000e-01,  3.5749e-01,  2.7215e-01,  4.2185e-01],\n",
              "          [ 3.9454e-01,  2.9253e-01,  4.2216e-01,  3.3363e-01],\n",
              "          [ 2.4984e-03,  4.2628e-01,  1.4539e-01,  4.6334e-01],\n",
              "          [ 4.2940e-01,  6.0560e-01,  4.8647e-01,  6.9330e-01],\n",
              "          [ 6.6787e-01,  5.9314e-01,  9.6689e-01,  7.7004e-01],\n",
              "          [ 1.3310e-01,  5.6799e-01,  1.6382e-01,  5.9079e-01],\n",
              "          [ 4.0123e-01,  5.1411e-01,  4.2884e-01,  5.7901e-01],\n",
              "          [ 6.4601e-01,  4.4566e-01,  7.1354e-01,  4.8996e-01],\n",
              "          [ 7.0629e-01,  5.0289e-01,  7.7322e-01,  5.3763e-01],\n",
              "          [ 5.0199e-01,  3.5076e-01,  6.9507e-01,  5.6259e-01],\n",
              "          [ 2.7103e-01,  3.6066e-01,  2.9208e-01,  4.1629e-01],\n",
              "          [ 2.0054e-02,  5.2018e-01,  8.3717e-02,  5.7203e-01],\n",
              "          [ 3.3464e-01,  4.1740e-01,  4.4515e-01,  4.5951e-01],\n",
              "          [ 3.6398e-01,  3.9726e-01,  4.6509e-01,  4.3655e-01],\n",
              "          [ 5.5125e-01,  3.5259e-01,  6.5977e-01,  4.7376e-01],\n",
              "          [ 3.9667e-01,  5.8121e-01,  4.8573e-01,  6.9000e-01],\n",
              "          [ 3.6738e-01,  4.2442e-01,  4.6372e-01,  4.5814e-01],\n",
              "          [ 3.5335e-01,  2.8455e-01,  3.8499e-01,  3.3732e-01],\n",
              "          [-1.0381e-04,  5.6368e-01,  2.2807e-01,  7.6510e-01],\n",
              "          [ 3.8418e-01,  4.7269e-01,  3.9927e-01,  5.0556e-01],\n",
              "          [ 4.5539e-01,  4.5789e-01,  5.4908e-01,  6.6971e-01],\n",
              "          [-1.6135e-02,  4.5290e-01,  6.3526e-01,  6.5687e-01],\n",
              "          [ 8.1695e-01,  4.2937e-01,  9.4249e-01,  5.5402e-01],\n",
              "          [ 7.9802e-01,  4.4189e-01,  8.3083e-01,  5.0912e-01],\n",
              "          [ 9.2313e-01,  4.4922e-01,  9.5702e-01,  4.8735e-01],\n",
              "          [ 3.9895e-01,  4.6303e-01,  4.2236e-01,  5.2082e-01],\n",
              "          [ 9.4754e-02,  5.0228e-01,  1.1458e-01,  5.4185e-01],\n",
              "          [ 5.0850e-01,  4.5602e-01,  5.3224e-01,  5.0467e-01],\n",
              "          [ 1.8089e-02,  4.6859e-01,  1.0965e-01,  5.7622e-01],\n",
              "          [ 6.8758e-01,  4.6224e-01,  7.1637e-01,  5.3009e-01],\n",
              "          [ 3.0938e-02,  4.7862e-01,  4.7912e-02,  5.0873e-01],\n",
              "          [ 6.4046e-02,  4.7843e-01,  7.6510e-02,  5.0768e-01],\n",
              "          [ 7.6931e-01,  4.4172e-01,  8.0574e-01,  5.5175e-01],\n",
              "          [ 9.6206e-01,  4.4865e-01,  9.8569e-01,  5.0673e-01],\n",
              "          [ 2.7465e-01,  4.7362e-01,  2.9003e-01,  5.0717e-01],\n",
              "          [ 4.0501e-01,  4.6036e-01,  4.2633e-01,  5.0511e-01],\n",
              "          [ 4.9206e-01,  3.5370e-01,  6.7956e-01,  4.4870e-01],\n",
              "          [ 1.8840e-01,  4.7390e-01,  2.1025e-01,  5.4059e-01],\n",
              "          [ 8.5576e-01,  4.3609e-01,  8.8042e-01,  4.7515e-01],\n",
              "          [ 3.7806e-01,  3.7850e-01,  1.0192e+00,  5.6374e-01],\n",
              "          [ 5.5145e-01,  4.6856e-01,  5.8975e-01,  5.6459e-01],\n",
              "          [ 3.0923e-01,  4.7820e-01,  3.2575e-01,  5.2366e-01],\n",
              "          [ 5.5739e-01,  4.5914e-01,  5.8369e-01,  5.3334e-01],\n",
              "          [ 8.9632e-01,  4.6808e-01,  9.4643e-01,  5.5019e-01],\n",
              "          [ 6.9883e-03,  3.4135e-01,  6.6289e-01,  7.2556e-01],\n",
              "          [ 3.2962e-01,  5.0341e-01,  3.3831e-01,  5.3275e-01],\n",
              "          [ 3.3055e-01,  4.9442e-01,  3.4843e-01,  5.3893e-01],\n",
              "          [ 9.1966e-01,  4.6243e-01,  9.7088e-01,  5.5247e-01],\n",
              "          [ 8.5001e-01,  4.3533e-01,  8.9705e-01,  5.0742e-01],\n",
              "          [ 9.2672e-01,  4.4929e-01,  9.6962e-01,  5.1704e-01],\n",
              "          [ 3.3067e-01,  4.6663e-01,  3.4597e-01,  5.0336e-01],\n",
              "          [ 8.4998e-02,  4.8943e-01,  9.9719e-02,  5.3401e-01],\n",
              "          [ 5.3519e-01,  4.5478e-01,  5.6309e-01,  5.3653e-01],\n",
              "          [ 3.1140e-01,  4.9326e-01,  3.2751e-01,  5.4116e-01],\n",
              "          [-1.9891e-03,  4.3080e-01,  5.4966e-02,  6.7324e-01],\n",
              "          [ 8.8352e-02,  4.9677e-01,  1.0593e-01,  5.4762e-01],\n",
              "          [ 4.8558e-01,  4.7227e-01,  5.1319e-01,  5.5519e-01],\n",
              "          [ 3.0043e-02,  4.7689e-01,  5.1090e-02,  5.2843e-01],\n",
              "          [ 7.9605e-01,  4.3315e-01,  8.8869e-01,  5.5721e-01],\n",
              "          [ 2.6160e-01,  4.2083e-01,  7.0504e-01,  7.1504e-01],\n",
              "          [ 6.2709e-02,  4.8208e-01,  7.9169e-02,  5.2892e-01],\n",
              "          [ 5.3813e-01,  4.3871e-01,  5.5963e-01,  5.0842e-01],\n",
              "          [ 5.3520e-01,  4.4352e-01,  6.2442e-01,  6.6410e-01],\n",
              "          [ 2.7441e-01,  4.8897e-01,  2.9600e-01,  5.4634e-01],\n",
              "          [ 7.9357e-01,  4.4320e-01,  8.3805e-01,  5.5662e-01],\n",
              "          [ 4.5637e-01,  4.5598e-01,  4.7970e-01,  5.2485e-01],\n",
              "          [ 6.5060e-01,  6.1994e-01,  9.9560e-01,  8.6275e-01],\n",
              "          [ 3.7842e-01,  4.7196e-01,  3.9585e-01,  5.2818e-01],\n",
              "          [ 9.6606e-01,  4.6652e-01,  9.9416e-01,  5.6040e-01],\n",
              "          [ 3.9729e-03,  4.4233e-01,  3.7376e-02,  5.5674e-01],\n",
              "          [ 7.1480e-01,  4.3763e-01,  7.5570e-01,  5.4044e-01],\n",
              "          [ 8.9191e-01,  4.4241e-01,  9.6788e-01,  5.5487e-01],\n",
              "          [-9.3549e-04,  4.3244e-01,  8.0631e-01,  5.7295e-01],\n",
              "          [ 4.9697e-01,  4.7420e-01,  5.2977e-01,  5.5423e-01],\n",
              "          [ 8.4559e-01,  4.3819e-01,  8.9133e-01,  5.5254e-01],\n",
              "          [ 3.4953e-01,  4.6780e-01,  3.7002e-01,  5.3607e-01],\n",
              "          [-1.3397e-03,  4.7818e-01,  3.1547e-02,  6.1287e-01],\n",
              "          [ 4.6578e-01,  3.8900e-01,  6.9519e-01,  7.4336e-01],\n",
              "          [ 8.1476e-01,  4.4472e-01,  8.6330e-01,  5.5407e-01],\n",
              "          [ 3.2658e-01,  4.7509e-01,  3.4461e-01,  5.3522e-01],\n",
              "          [ 4.6420e-02,  4.9228e-01,  7.8606e-02,  5.7094e-01],\n",
              "          [ 3.0129e-01,  4.7703e-01,  3.1829e-01,  5.3624e-01],\n",
              "          [ 9.7897e-01,  4.6241e-01,  9.9941e-01,  5.6268e-01],\n",
              "          [ 8.6692e-01,  4.3709e-01,  9.1321e-01,  5.5582e-01],\n",
              "          [ 2.1973e-01,  4.8956e-01,  2.4290e-01,  5.4973e-01],\n",
              "          [ 5.0395e-01,  4.5658e-01,  5.3373e-01,  5.3919e-01],\n",
              "          [ 1.0650e-01,  4.9050e-01,  1.3177e-01,  5.6527e-01],\n",
              "          [ 6.6514e-01,  4.3970e-01,  6.9774e-01,  5.4528e-01],\n",
              "          [ 7.3534e-02,  3.9261e-01,  9.4877e-01,  6.5659e-01],\n",
              "          [ 4.8135e-01,  4.5501e-01,  5.0546e-01,  5.3917e-01],\n",
              "          [ 4.6340e-01,  6.5648e-01,  5.6981e-01,  7.5414e-01],\n",
              "          [ 3.6599e-01,  2.8291e-01,  4.0796e-01,  3.3559e-01],\n",
              "          [ 2.5014e-01,  4.8633e-01,  2.6960e-01,  5.5605e-01],\n",
              "          [ 2.5998e-01,  2.4067e-01,  3.3594e-01,  3.0033e-01],\n",
              "          [ 2.6806e-01,  4.7903e-01,  2.9046e-01,  5.5747e-01],\n",
              "          [ 6.3791e-01,  4.5192e-01,  6.7455e-01,  5.4818e-01],\n",
              "          [ 5.4916e-01,  4.1922e-01,  6.5744e-01,  7.4324e-01],\n",
              "          [ 3.9779e-01,  5.7487e-01,  4.8675e-01,  6.9306e-01],\n",
              "          [ 1.2574e-01,  4.9600e-01,  1.7896e-01,  5.9016e-01],\n",
              "          [ 4.0417e-01,  4.6476e-01,  4.7370e-01,  6.5298e-01]]),\n",
              "  tensor([27, 27, 14, 26,  2, 37, 10, 14,  5, 26, 10, 10, 10, 37, 10, 26, 26, 10,\n",
              "          14,  2, 26, 37, 26, 37, 26,  3, 26, 26,  3,  3, 37, 37, 26, 26, 75,  2,\n",
              "          10, 75, 26,  2, 14, 37, 27, 26,  3,  5, 10,  3, 26, 26,  5,  4, 26, 75,\n",
              "          14,  1,  1,  1,  1,  1,  1,  1,  1,  1,  1,  1,  1,  1,  1,  1,  1,  1,\n",
              "           5,  1,  1,  1,  1,  1,  1,  1,  1,  1,  1,  1,  1,  1,  1,  1,  1,  1,\n",
              "           1,  1,  1,  1,  1,  1,  1,  1,  1,  1,  1,  1, 14,  1,  1,  1,  1,  1,\n",
              "           1,  1,  1,  1,  1,  1,  1,  1,  1,  1,  1,  1,  1,  1,  1,  1,  1,  1,\n",
              "          37, 75,  1, 75,  1,  1,  1,  2,  1,  1]),\n",
              "  tensor([0.0501, 0.0501, 0.0502, 0.0504, 0.0508, 0.0509, 0.0514, 0.0515, 0.0522,\n",
              "          0.0524, 0.0528, 0.0533, 0.0535, 0.0538, 0.0544, 0.0545, 0.0550, 0.0552,\n",
              "          0.0555, 0.0558, 0.0560, 0.0562, 0.0562, 0.0565, 0.0566, 0.0569, 0.0575,\n",
              "          0.0577, 0.0585, 0.0592, 0.0596, 0.0608, 0.0614, 0.0617, 0.0621, 0.0626,\n",
              "          0.0629, 0.0631, 0.0640, 0.0658, 0.0673, 0.0679, 0.0682, 0.0702, 0.0718,\n",
              "          0.0736, 0.0742, 0.0746, 0.0755, 0.0781, 0.0801, 0.0816, 0.0836, 0.0872,\n",
              "          0.0926, 0.0934, 0.0944, 0.0944, 0.0947, 0.0954, 0.0960, 0.0961, 0.0962,\n",
              "          0.0979, 0.0980, 0.0982, 0.0984, 0.0985, 0.0990, 0.0990, 0.0992, 0.1000,\n",
              "          0.1004, 0.1030, 0.1035, 0.1038, 0.1042, 0.1042, 0.1043, 0.1047, 0.1048,\n",
              "          0.1067, 0.1079, 0.1100, 0.1107, 0.1112, 0.1114, 0.1131, 0.1152, 0.1153,\n",
              "          0.1153, 0.1159, 0.1166, 0.1184, 0.1192, 0.1202, 0.1212, 0.1227, 0.1266,\n",
              "          0.1267, 0.1278, 0.1291, 0.1298, 0.1427, 0.1450, 0.1457, 0.1498, 0.1498,\n",
              "          0.1499, 0.1644, 0.1654, 0.1746, 0.1757, 0.1775, 0.1911, 0.2056, 0.2058,\n",
              "          0.2059, 0.2139, 0.2243, 0.2396, 0.2538, 0.2572, 0.2699, 0.2771, 0.2778,\n",
              "          0.3002, 0.3260, 0.3270, 0.3303, 0.3417, 0.5239, 0.5482, 0.8619, 0.8773,\n",
              "          0.9242]))]"
            ]
          },
          "execution_count": 96,
          "metadata": {},
          "output_type": "execute_result"
        }
      ],
      "source": [
        "detections"
      ]
    },
    {
      "cell_type": "code",
      "execution_count": null,
      "id": "136bbf6a",
      "metadata": {},
      "outputs": [],
      "source": [
        "a = np.array([[1,2,4], [5,6,7]])"
      ]
    },
    {
      "cell_type": "code",
      "execution_count": null,
      "id": "28662685",
      "metadata": {},
      "outputs": [
        {
          "data": {
            "text/plain": [
              "array([1, 1], dtype=int64)"
            ]
          },
          "execution_count": 94,
          "metadata": {},
          "output_type": "execute_result"
        }
      ],
      "source": [
        "np.argwhere(a>5)[:,0]"
      ]
    },
    {
      "cell_type": "code",
      "execution_count": null,
      "id": "ac6f60d5",
      "metadata": {},
      "outputs": [],
      "source": []
    },
    {
      "cell_type": "code",
      "execution_count": null,
      "id": "dbe5ffad",
      "metadata": {},
      "outputs": [],
      "source": [
        "ploc_i = ploc[0, :, :].unsqueeze(0)\n",
        "plabel_i = plabel[0, :, :].unsqueeze(0)\n",
        "r1 = encoder.decode_batch(ploc_i, plabel_i, 0.50, 200)[0]"
      ]
    },
    {
      "cell_type": "code",
      "execution_count": null,
      "id": "3a1f2b5b",
      "metadata": {},
      "outputs": [],
      "source": [
        "x = torch.abs(encoder.decode_batch(ploc, plabel, 0.50, 200)[0][0] - r1[0])"
      ]
    },
    {
      "cell_type": "code",
      "execution_count": null,
      "id": "a1239df1",
      "metadata": {},
      "outputs": [
        {
          "data": {
            "text/plain": [
              "tensor([True, True, True, True, True, True, True, True, True, True, True, True,\n",
              "        True, True, True, True, True, True, True, True, True, True, True, True,\n",
              "        True, True, True, True, True, True, True, True, True, True, True, True,\n",
              "        True, True, True, True, True, True, True, True, True, True, True, True,\n",
              "        True, True, True, True, True, True, True, True, True, True, True, True,\n",
              "        True, True, True, True, True, True, True, True, True, True, True, True,\n",
              "        True, True, True, True, True, True, True, True, True, True, True, True,\n",
              "        True, True, True, True, True, True, True, True, True, True, True, True,\n",
              "        True, True, True, True, True, True, True, True, True, True, True, True,\n",
              "        True, True, True, True, True, True, True, True, True, True, True, True,\n",
              "        True, True, True, True, True, True, True, True, True, True, True, True,\n",
              "        True, True, True, True, True, True, True, True, True, True, True, True,\n",
              "        True, True, True, True, True, True, True, True, True, True, True, True,\n",
              "        True, True, True, True, True, True, True, True, True, True, True, True,\n",
              "        True, True, True, True, True, True, True, True, True, True, True, True,\n",
              "        True, True, True, True, True, True, True, True, True, True, True, True,\n",
              "        True, True, True, True, True, True, True, True])"
            ]
          },
          "execution_count": 84,
          "metadata": {},
          "output_type": "execute_result"
        }
      ],
      "source": [
        "encoder.decode_batch(ploc, plabel, 0.50, 200)[0][2] == r1[2]"
      ]
    },
    {
      "cell_type": "code",
      "execution_count": null,
      "id": "afee4f58",
      "metadata": {},
      "outputs": [
        {
          "data": {
            "text/plain": [
              "tensor([74, 61, 46, 40, 27, 42, 46, 42, 57, 72, 42, 46, 46, 70, 25, 42, 72, 45,\n",
              "        61, 42, 57, 40, 45, 46, 46, 45, 40, 29, 40, 28, 57, 29, 42, 42,  1, 45,\n",
              "        27,  1, 29, 70,  1, 42,  1, 45, 61, 46,  1,  1,  1,  1,  1, 57, 70, 61,\n",
              "        42,  1,  1,  1, 70, 42, 29, 70, 45, 61,  1, 40, 57, 40, 42, 29,  1, 70,\n",
              "         1,  1,  1, 61,  1, 40, 46,  1,  1,  1,  1,  1,  1,  1,  1,  1, 70,  1,\n",
              "         1,  1, 57,  1, 40,  1, 46, 42,  1,  1,  1, 46,  1,  1,  1, 46,  1,  1,\n",
              "        57, 61,  1,  1,  1, 61,  1, 72,  1, 54,  1,  1,  1,  1, 46, 70, 57, 61,\n",
              "        46,  1,  1, 46,  1,  1, 72,  1, 40, 72,  1, 57,  1, 25,  1, 70, 46,  1,\n",
              "        46, 42,  1,  1, 61, 42, 42,  1, 42, 45, 46, 46, 70, 46, 40,  1,  1, 61,\n",
              "         1, 42, 46,  1,  1,  1,  1, 46, 46,  1, 42,  1,  1,  1,  1, 46,  1,  1,\n",
              "         1,  1, 46,  1, 42,  1, 46,  1,  1,  1, 46, 61,  1, 46, 46, 46, 46, 46,\n",
              "        46,  1])"
            ]
          },
          "execution_count": 82,
          "metadata": {},
          "output_type": "execute_result"
        }
      ],
      "source": [
        "r1[1]"
      ]
    },
    {
      "cell_type": "code",
      "execution_count": null,
      "id": "4bb8c560",
      "metadata": {},
      "outputs": [],
      "source": []
    },
    {
      "cell_type": "code",
      "execution_count": null,
      "id": "0f8a051a",
      "metadata": {},
      "outputs": [],
      "source": []
    },
    {
      "cell_type": "code",
      "execution_count": null,
      "id": "265a53cc",
      "metadata": {},
      "outputs": [],
      "source": []
    },
    {
      "cell_type": "code",
      "execution_count": null,
      "id": "980e59b7",
      "metadata": {},
      "outputs": [
        {
          "data": {
            "text/plain": [
              "tensor([[ 0.5748,  0.4690,  0.6309,  0.5802],\n",
              "        [ 0.2536,  0.4641,  0.7277,  0.9609],\n",
              "        [ 0.3244,  0.6973,  0.4002,  0.7791],\n",
              "        [ 0.3349,  0.6022,  0.3884,  0.7164],\n",
              "        [ 0.6753,  0.2618,  0.7764,  0.5519],\n",
              "        [ 0.2016,  0.6022,  0.2537,  0.7164],\n",
              "        [ 0.0676,  0.6802,  0.1737,  0.8004],\n",
              "        [ 0.3093,  0.6547,  0.4169,  0.7118],\n",
              "        [ 0.8837,  0.5908,  0.9687,  0.6708],\n",
              "        [ 0.8398,  0.4672,  0.9641,  0.5824],\n",
              "        [ 0.4842,  0.4309,  0.5626,  0.5084],\n",
              "        [ 0.0312,  0.8038,  0.1026,  0.8874],\n",
              "        [ 0.0943,  0.7866,  0.2010,  0.9095],\n",
              "        [ 0.1232,  0.4420,  0.3623,  0.6977],\n",
              "        [ 0.6536,  0.2542,  0.7732,  0.3644],\n",
              "        [ 0.2816,  0.6288,  0.3345,  0.7437],\n",
              "        [ 0.8132,  0.4406,  0.9368,  0.5551],\n",
              "        [ 0.1958, -0.0039,  0.2876,  0.2704],\n",
              "        [ 0.1477,  0.3586,  0.6112,  0.8446],\n",
              "        [ 0.1761,  0.6281,  0.2808,  0.6848],\n",
              "        [ 0.1476,  0.5471,  0.2554,  0.6641],\n",
              "        [ 0.2922,  0.5008,  0.4073,  0.7471],\n",
              "        [ 0.2016,  0.0695,  0.2537,  0.1719],\n",
              "        [ 0.0045,  0.8038,  0.0756,  0.8874],\n",
              "        [ 0.3776,  0.5908,  0.4543,  0.6708],\n",
              "        [ 0.1483,  0.0695,  0.1998,  0.1719],\n",
              "        [ 0.3349,  0.4957,  0.3884,  0.6075],\n",
              "        [ 0.0410,  0.5205,  0.1465,  0.6369],\n",
              "        [ 0.2816,  0.3359,  0.3345,  0.4441],\n",
              "        [ 0.6814,  0.3093,  0.7387,  0.4169],\n",
              "        [ 0.8398,  0.6269,  0.9641,  0.7459],\n",
              "        [ 0.0026,  0.4818,  0.1574,  0.6527],\n",
              "        [ 0.1742,  0.6270,  0.2827,  0.7459],\n",
              "        [ 0.2444,  0.6440,  0.3190,  0.7250],\n",
              "        [ 0.6547,  0.1761,  0.7118,  0.2808],\n",
              "        [ 0.1750,  0.0695,  0.2268,  0.1719],\n",
              "        [ 0.6269,  0.3607,  0.7459,  0.4734],\n",
              "        [ 0.2561,  0.0608,  0.9472,  0.2615],\n",
              "        [ 0.0559,  0.4818,  0.2124,  0.6527],\n",
              "        [ 0.3799,  0.2567,  0.5945,  0.9476],\n",
              "        [ 0.4682,  0.3625,  0.5231,  0.4713],\n",
              "        [ 0.3882,  0.6288,  0.4423,  0.7437],\n",
              "        [ 0.5908,  0.1911,  0.6708,  0.2649],\n",
              "        [ 0.1425, -0.0039,  0.2333,  0.2704],\n",
              "        [ 0.4210,  0.4090,  0.7210,  0.5048],\n",
              "        [ 0.0676,  0.7600,  0.1737,  0.8822],\n",
              "        [ 0.6281,  0.1761,  0.6848,  0.2808],\n",
              "        [ 0.4309,  0.3776,  0.5084,  0.4543],\n",
              "        [ 0.5375,  0.1378,  0.6167,  0.2108],\n",
              "        [ 0.4939,  0.2275,  0.6096,  0.3371],\n",
              "        [ 0.6814,  0.1761,  0.7387,  0.2808],\n",
              "        [ 0.8664,  0.5737,  0.9913,  0.6914],\n",
              "        [ 0.7714,  0.5008,  0.8983,  0.7471],\n",
              "        [ 0.2826,  0.5481,  0.5299,  0.8097],\n",
              "        [ 0.2549,  0.6022,  0.3076,  0.7164],\n",
              "        [ 0.5471,  0.2808,  0.6641,  0.3916],\n",
              "        [ 0.5881,  0.1092,  0.7629,  0.2674],\n",
              "        [ 0.7080,  0.1761,  0.7657,  0.2808],\n",
              "        [ 0.7805,  0.3238,  1.0693,  0.8805],\n",
              "        [ 0.1644,  0.6440,  0.2379,  0.7250],\n",
              "        [-0.0039,  0.5155,  0.2703,  0.6134],\n",
              "        [ 0.2826,  0.3889,  0.5300,  0.6418],\n",
              "        [ 0.2016,  0.7086,  0.2537,  0.8254],\n",
              "        [-0.2164,  0.5862,  0.8242,  0.9416],\n",
              "        [ 0.6536,  0.1742,  0.7732,  0.2827],\n",
              "        [ 0.3616,  0.6022,  0.4153,  0.7164],\n",
              "        [ 0.8539,  0.6413,  1.0384,  0.8179],\n",
              "        [ 0.3616,  0.5223,  0.4153,  0.6347],\n",
              "        [ 0.3349,  0.6288,  0.3884,  0.7437],\n",
              "        [ 0.0167,  0.4420,  0.2507,  0.6977],\n",
              "        [ 0.5008,  0.1324,  0.7471,  0.2438],\n",
              "        [ 0.7239,  0.5127,  1.1377,  0.9081],\n",
              "        [ 0.6413,  0.1624,  0.8180,  0.3224],\n",
              "        [ 0.5215,  0.0961,  0.5770,  0.1991],\n",
              "        [ 0.3946,  0.2922,  0.6355,  0.4073],\n",
              "        [ 0.1907,  0.3991,  0.8999,  1.1433],\n",
              "        [ 0.3359,  0.1041,  0.7553,  0.9796],\n",
              "        [ 0.3074,  0.6003,  0.4189,  0.7186],\n",
              "        [ 0.0943,  0.7068,  0.2010,  0.8277],\n",
              "        [ 0.4672,  0.3074,  0.5824,  0.4189],\n",
              "        [ 0.5481,  0.0961,  0.6040,  0.1991],\n",
              "        [ 0.5109,  0.1644,  0.5896,  0.2379],\n",
              "        [ 0.3238,  0.1437,  0.8804,  0.3963],\n",
              "        [ 0.5737,  0.1476,  0.6914,  0.2554],\n",
              "        [-0.0123,  0.5737,  0.0921,  0.6914],\n",
              "        [ 0.5223,  0.2016,  0.6347,  0.2537],\n",
              "        [ 0.5471,  0.1209,  0.6641,  0.2282],\n",
              "        [ 0.5641,  0.2444,  0.6438,  0.3190],\n",
              "        [ 0.3754,  0.4818,  0.5426,  0.6527],\n",
              "        [ 0.4309,  0.1378,  0.5084,  0.2108],\n",
              "        [ 0.5205,  0.2542,  0.6369,  0.3644],\n",
              "        [ 0.5481,  0.1231,  0.8097,  0.3624],\n",
              "        [ 0.8133,  0.5481,  1.0897,  0.8096],\n",
              "        [ 0.4576,  0.1378,  0.5355,  0.2108],\n",
              "        [ 0.7772,  0.0045,  0.8603,  0.0756],\n",
              "        [ 0.6802,  0.1476,  0.8004,  0.2554],\n",
              "        [ 0.0258,  0.6600,  0.1348,  0.9147],\n",
              "        [ 0.4842,  0.4043,  0.5626,  0.4814],\n",
              "        [ 0.4415,  0.0961,  0.4962,  0.1991],\n",
              "        [ 0.5737,  0.2009,  0.6914,  0.3099],\n",
              "        [ 0.4951,  0.1763,  0.7537,  0.4182],\n",
              "        [ 0.4043,  0.5908,  0.4814,  0.6708],\n",
              "        [ 0.6973,  0.1644,  0.7791,  0.2379],\n",
              "        [ 0.7239,  0.1911,  0.8062,  0.2649],\n",
              "        [ 0.4939,  0.1742,  0.6096,  0.2827],\n",
              "        [ 0.0950,  0.8151,  0.1460,  0.9344],\n",
              "        [ 0.4948,  0.0961,  0.5501,  0.1991],\n",
              "        [ 0.5688,  0.2618,  0.6677,  0.5518],\n",
              "        [ 0.7602,  0.6012,  1.0337,  0.8655],\n",
              "        [-0.0643,  0.5693,  0.3788,  1.0779],\n",
              "        [ 0.4622,  0.1556,  0.5591,  0.4393],\n",
              "        [ 0.0045,  0.6174,  0.0756,  0.6979],\n",
              "        [ 0.5205,  0.1476,  0.6369,  0.2554],\n",
              "        [-0.1133,  0.5533,  1.0976,  1.1684],\n",
              "        [ 0.5748,  0.0961,  0.6309,  0.1991],\n",
              "        [ 0.8151,  0.4948,  0.9344,  0.5501],\n",
              "        [ 0.5375,  0.2178,  0.6167,  0.2920],\n",
              "        [ 0.0143,  0.7068,  0.1193,  0.8277],\n",
              "        [ 0.6014,  0.2027,  0.6579,  0.3080],\n",
              "        [ 0.6753,  0.1555,  0.7764,  0.4392],\n",
              "        [ 0.4286,  0.2157,  0.5976,  0.3774],\n",
              "        [ 0.4576,  0.1111,  0.5355,  0.1838],\n",
              "        [ 0.0559,  0.6413,  0.2124,  0.8180],\n",
              "        [ 0.7602,  0.4949,  1.0337,  0.7537],\n",
              "        [ 0.8246,  0.6070,  0.9529,  0.8588],\n",
              "        [ 0.0080,  0.6744,  0.5262,  0.9570],\n",
              "        [ 0.0410,  0.8398,  0.1465,  0.9641],\n",
              "        [ 0.6014,  0.1228,  0.6579,  0.2263],\n",
              "        [ 0.5375,  0.1644,  0.6167,  0.2379],\n",
              "        [-0.0123,  0.7866,  0.0921,  0.9095],\n",
              "        [ 0.4818,  0.1624,  0.6527,  0.3224],\n",
              "        [ 0.5585,  0.0756,  0.6800,  0.3009],\n",
              "        [ 0.7388,  0.4622,  1.0598,  0.5591],\n",
              "        [ 0.5641,  0.1911,  0.6438,  0.2649],\n",
              "        [ 0.7879,  0.0162,  0.8465,  0.1175],\n",
              "        [ 0.8151,  0.4682,  0.9344,  0.5231],\n",
              "        [ 0.5481,  0.2295,  0.8097,  0.4740],\n",
              "        [ 0.8882,  0.5269,  0.9938,  0.8339],\n",
              "        [ 0.5471,  0.1742,  0.6641,  0.2827],\n",
              "        [ 0.6270,  0.2808,  0.7459,  0.3916],\n",
              "        [-0.0506,  0.5881,  0.1025,  0.7629],\n",
              "        [ 0.3357,  0.4420,  0.5859,  0.6977],\n",
              "        [ 0.3625,  0.6281,  0.4713,  0.6848],\n",
              "        [ 0.5215,  0.1761,  0.5770,  0.2808],\n",
              "        [ 0.0683,  0.8151,  0.1190,  0.9344],\n",
              "        [ 0.3510,  0.6441,  0.4272,  0.7250],\n",
              "        [ 0.7285,  0.1556,  0.8308,  0.4392],\n",
              "        [ 0.4406,  0.3607,  0.5551,  0.4734],\n",
              "        [ 0.0079,  0.5684,  0.5265,  0.8447],\n",
              "        [ 0.3244,  0.6174,  0.4002,  0.6979],\n",
              "        [ 0.5215,  0.3892,  0.5770,  0.4985],\n",
              "        [ 0.5748,  0.1494,  0.6309,  0.2536],\n",
              "        [ 0.2283,  0.6022,  0.2806,  0.7164],\n",
              "        [ 0.1742,  0.7068,  0.2827,  0.8277],\n",
              "        [ 0.0143,  0.7600,  0.1193,  0.8822],\n",
              "        [ 0.0961,  0.6813,  0.1991,  0.7387],\n",
              "        [ 0.7071,  0.5481,  0.9777,  0.8096],\n",
              "        [ 0.0757,  0.6650,  0.3009,  0.7892],\n",
              "        [ 0.3349,  0.5489,  0.3884,  0.6619],\n",
              "        [ 0.5481,  0.1761,  0.6040,  0.2808],\n",
              "        [ 0.7346,  0.2027,  0.7926,  0.3080],\n",
              "        [ 0.1951,  0.5124,  0.5644,  0.9081],\n",
              "        [ 0.7068,  0.2009,  0.8277,  0.3099],\n",
              "        [ 0.1911,  0.6440,  0.2649,  0.7250],\n",
              "        [ 0.1378,  0.6973,  0.2108,  0.7791],\n",
              "        [ 0.4939,  0.2808,  0.6096,  0.3916],\n",
              "        [ 0.0027,  0.5881,  0.1574,  0.7629],\n",
              "        [-0.0123,  0.6270,  0.0921,  0.7459],\n",
              "        [ 0.5053,  0.1820,  0.6255,  0.4124],\n",
              "        [ 0.4043,  0.6174,  0.4814,  0.6979],\n",
              "        [ 0.0559,  0.7476,  0.2124,  0.9282],\n",
              "        [ 0.4622,  0.2618,  0.5591,  0.5519],\n",
              "        [ 0.2178,  0.6440,  0.2920,  0.7250],\n",
              "        [ 0.5205,  0.2009,  0.6369,  0.3099],\n",
              "        [ 0.3889,  0.2295,  0.6418,  0.4741],\n",
              "        [ 0.5748,  0.2027,  0.6309,  0.3080],\n",
              "        [ 0.5473,  0.1044,  0.9860,  0.9798],\n",
              "        [ 0.1111,  0.6973,  0.1838,  0.7791],\n",
              "        [ 0.5471,  0.2275,  0.6641,  0.3371],\n",
              "        [ 0.4420,  0.2827,  0.6977,  0.5299],\n",
              "        [ 0.4818,  0.2689,  0.6527,  0.4325],\n",
              "        [ 0.4286,  0.3222,  0.5976,  0.4875],\n",
              "        [ 0.0143,  0.8132,  0.1193,  0.9368],\n",
              "        [ 0.5053,  0.2884,  0.6254,  0.5239],\n",
              "        [ 0.3616,  0.6022,  0.4153,  0.7164],\n",
              "        [ 0.4863,  0.1519,  0.7056,  0.8263],\n",
              "        [ 0.0845,  0.8038,  0.1567,  0.8874],\n",
              "        [ 0.0143,  0.6003,  0.1193,  0.7186],\n",
              "        [ 0.6012,  0.1762,  0.8656,  0.4182],\n",
              "        [ 0.5925, -0.0584,  0.8168,  0.5864],\n",
              "        [ 0.0428,  0.8412,  0.1447,  0.9005],\n",
              "        [ 0.0341,  0.4534,  0.6094,  1.0872],\n",
              "        [ 0.5585,  0.1820,  0.6800,  0.4124],\n",
              "        [ 0.0578,  0.8038,  0.1297,  0.8874],\n",
              "        [ 0.0026,  0.7476,  0.1574,  0.9282],\n",
              "        [ 0.1209,  0.6802,  0.2282,  0.8004],\n",
              "        [ 0.0943,  0.6536,  0.2010,  0.7732],\n",
              "        [ 0.0677,  0.8132,  0.1737,  0.9368],\n",
              "        [ 0.0410,  0.7866,  0.1465,  0.9095],\n",
              "        [ 0.5925,  0.1516,  0.8168,  0.8258]])"
            ]
          },
          "execution_count": 64,
          "metadata": {},
          "output_type": "execute_result"
        }
      ],
      "source": [
        "r1[0]"
      ]
    },
    {
      "cell_type": "code",
      "execution_count": null,
      "id": "fe51106e",
      "metadata": {},
      "outputs": [
        {
          "data": {
            "text/plain": [
              "tensor([[ 0.5748,  0.4690,  0.6309,  0.5802],\n",
              "        [ 0.2536,  0.4641,  0.7277,  0.9609],\n",
              "        [ 0.3244,  0.6973,  0.4002,  0.7791],\n",
              "        [ 0.3349,  0.6022,  0.3884,  0.7164],\n",
              "        [ 0.6753,  0.2618,  0.7764,  0.5519],\n",
              "        [ 0.2016,  0.6022,  0.2537,  0.7164],\n",
              "        [ 0.0676,  0.6802,  0.1737,  0.8004],\n",
              "        [ 0.3093,  0.6547,  0.4169,  0.7118],\n",
              "        [ 0.8837,  0.5908,  0.9687,  0.6708],\n",
              "        [ 0.8398,  0.4672,  0.9641,  0.5824],\n",
              "        [ 0.4842,  0.4309,  0.5626,  0.5084],\n",
              "        [ 0.0312,  0.8038,  0.1026,  0.8874],\n",
              "        [ 0.0943,  0.7866,  0.2010,  0.9095],\n",
              "        [ 0.1232,  0.4420,  0.3623,  0.6977],\n",
              "        [ 0.6536,  0.2542,  0.7732,  0.3644],\n",
              "        [ 0.2816,  0.6288,  0.3345,  0.7437],\n",
              "        [ 0.8132,  0.4406,  0.9368,  0.5551],\n",
              "        [ 0.1958, -0.0039,  0.2876,  0.2704],\n",
              "        [ 0.1477,  0.3586,  0.6112,  0.8446],\n",
              "        [ 0.1761,  0.6281,  0.2808,  0.6848],\n",
              "        [ 0.1476,  0.5471,  0.2554,  0.6641],\n",
              "        [ 0.2922,  0.5008,  0.4073,  0.7471],\n",
              "        [ 0.2016,  0.0695,  0.2537,  0.1719],\n",
              "        [ 0.0045,  0.8038,  0.0756,  0.8874],\n",
              "        [ 0.3776,  0.5908,  0.4543,  0.6708],\n",
              "        [ 0.1483,  0.0695,  0.1998,  0.1719],\n",
              "        [ 0.3349,  0.4957,  0.3884,  0.6075],\n",
              "        [ 0.0410,  0.5205,  0.1465,  0.6369],\n",
              "        [ 0.2816,  0.3359,  0.3345,  0.4441],\n",
              "        [ 0.6814,  0.3093,  0.7387,  0.4169],\n",
              "        [ 0.8398,  0.6269,  0.9641,  0.7459],\n",
              "        [ 0.0026,  0.4818,  0.1574,  0.6527],\n",
              "        [ 0.1742,  0.6270,  0.2827,  0.7459],\n",
              "        [ 0.2444,  0.6440,  0.3190,  0.7250],\n",
              "        [ 0.6547,  0.1761,  0.7118,  0.2808],\n",
              "        [ 0.1750,  0.0695,  0.2268,  0.1719],\n",
              "        [ 0.6269,  0.3607,  0.7459,  0.4734],\n",
              "        [ 0.2561,  0.0608,  0.9472,  0.2615],\n",
              "        [ 0.0559,  0.4818,  0.2124,  0.6527],\n",
              "        [ 0.3799,  0.2567,  0.5945,  0.9476],\n",
              "        [ 0.4682,  0.3625,  0.5231,  0.4713],\n",
              "        [ 0.3882,  0.6288,  0.4423,  0.7437],\n",
              "        [ 0.5908,  0.1911,  0.6708,  0.2649],\n",
              "        [ 0.1425, -0.0039,  0.2333,  0.2704],\n",
              "        [ 0.4210,  0.4090,  0.7210,  0.5048],\n",
              "        [ 0.0676,  0.7600,  0.1737,  0.8822],\n",
              "        [ 0.6281,  0.1761,  0.6848,  0.2808],\n",
              "        [ 0.4309,  0.3776,  0.5084,  0.4543],\n",
              "        [ 0.5375,  0.1378,  0.6167,  0.2108],\n",
              "        [ 0.4939,  0.2275,  0.6096,  0.3371],\n",
              "        [ 0.6814,  0.1761,  0.7387,  0.2808],\n",
              "        [ 0.8664,  0.5737,  0.9913,  0.6914],\n",
              "        [ 0.7714,  0.5008,  0.8983,  0.7471],\n",
              "        [ 0.2826,  0.5481,  0.5299,  0.8097],\n",
              "        [ 0.2549,  0.6022,  0.3076,  0.7164],\n",
              "        [ 0.5471,  0.2808,  0.6641,  0.3916],\n",
              "        [ 0.5881,  0.1092,  0.7629,  0.2674],\n",
              "        [ 0.7080,  0.1761,  0.7657,  0.2808],\n",
              "        [ 0.7805,  0.3238,  1.0693,  0.8805],\n",
              "        [ 0.1644,  0.6440,  0.2379,  0.7250],\n",
              "        [-0.0039,  0.5155,  0.2703,  0.6134],\n",
              "        [ 0.2826,  0.3889,  0.5300,  0.6418],\n",
              "        [ 0.2016,  0.7086,  0.2537,  0.8254],\n",
              "        [-0.2164,  0.5862,  0.8242,  0.9416],\n",
              "        [ 0.6536,  0.1742,  0.7732,  0.2827],\n",
              "        [ 0.3616,  0.6022,  0.4153,  0.7164],\n",
              "        [ 0.8539,  0.6413,  1.0384,  0.8179],\n",
              "        [ 0.3616,  0.5223,  0.4153,  0.6347],\n",
              "        [ 0.3349,  0.6288,  0.3884,  0.7437],\n",
              "        [ 0.0167,  0.4420,  0.2507,  0.6977],\n",
              "        [ 0.5008,  0.1324,  0.7471,  0.2438],\n",
              "        [ 0.7239,  0.5127,  1.1377,  0.9081],\n",
              "        [ 0.6413,  0.1624,  0.8180,  0.3224],\n",
              "        [ 0.5215,  0.0961,  0.5770,  0.1991],\n",
              "        [ 0.3946,  0.2922,  0.6355,  0.4073],\n",
              "        [ 0.1907,  0.3991,  0.8999,  1.1433],\n",
              "        [ 0.3359,  0.1041,  0.7553,  0.9796],\n",
              "        [ 0.3074,  0.6003,  0.4189,  0.7186],\n",
              "        [ 0.0943,  0.7068,  0.2010,  0.8277],\n",
              "        [ 0.4672,  0.3074,  0.5824,  0.4189],\n",
              "        [ 0.5481,  0.0961,  0.6040,  0.1991],\n",
              "        [ 0.5109,  0.1644,  0.5896,  0.2379],\n",
              "        [ 0.3238,  0.1437,  0.8804,  0.3963],\n",
              "        [ 0.5737,  0.1476,  0.6914,  0.2554],\n",
              "        [-0.0123,  0.5737,  0.0921,  0.6914],\n",
              "        [ 0.5223,  0.2016,  0.6347,  0.2537],\n",
              "        [ 0.5471,  0.1209,  0.6641,  0.2282],\n",
              "        [ 0.5641,  0.2444,  0.6438,  0.3190],\n",
              "        [ 0.3754,  0.4818,  0.5426,  0.6527],\n",
              "        [ 0.4309,  0.1378,  0.5084,  0.2108],\n",
              "        [ 0.5205,  0.2542,  0.6369,  0.3644],\n",
              "        [ 0.5481,  0.1231,  0.8097,  0.3624],\n",
              "        [ 0.8133,  0.5481,  1.0897,  0.8096],\n",
              "        [ 0.4576,  0.1378,  0.5355,  0.2108],\n",
              "        [ 0.7772,  0.0045,  0.8603,  0.0756],\n",
              "        [ 0.6802,  0.1476,  0.8004,  0.2554],\n",
              "        [ 0.0258,  0.6600,  0.1348,  0.9147],\n",
              "        [ 0.4842,  0.4043,  0.5626,  0.4814],\n",
              "        [ 0.4415,  0.0961,  0.4962,  0.1991],\n",
              "        [ 0.5737,  0.2009,  0.6914,  0.3099],\n",
              "        [ 0.4951,  0.1763,  0.7537,  0.4182],\n",
              "        [ 0.4043,  0.5908,  0.4814,  0.6708],\n",
              "        [ 0.6973,  0.1644,  0.7791,  0.2379],\n",
              "        [ 0.7239,  0.1911,  0.8062,  0.2649],\n",
              "        [ 0.4939,  0.1742,  0.6096,  0.2827],\n",
              "        [ 0.0950,  0.8151,  0.1460,  0.9344],\n",
              "        [ 0.4948,  0.0961,  0.5501,  0.1991],\n",
              "        [ 0.5688,  0.2618,  0.6677,  0.5518],\n",
              "        [ 0.7602,  0.6012,  1.0337,  0.8655],\n",
              "        [-0.0643,  0.5693,  0.3788,  1.0779],\n",
              "        [ 0.4622,  0.1556,  0.5591,  0.4393],\n",
              "        [ 0.0045,  0.6174,  0.0756,  0.6979],\n",
              "        [ 0.5205,  0.1476,  0.6369,  0.2554],\n",
              "        [-0.1133,  0.5533,  1.0976,  1.1684],\n",
              "        [ 0.5748,  0.0961,  0.6309,  0.1991],\n",
              "        [ 0.8151,  0.4948,  0.9344,  0.5501],\n",
              "        [ 0.5375,  0.2178,  0.6167,  0.2920],\n",
              "        [ 0.0143,  0.7068,  0.1193,  0.8277],\n",
              "        [ 0.6014,  0.2027,  0.6579,  0.3080],\n",
              "        [ 0.6753,  0.1555,  0.7764,  0.4392],\n",
              "        [ 0.4286,  0.2157,  0.5976,  0.3774],\n",
              "        [ 0.4576,  0.1111,  0.5355,  0.1838],\n",
              "        [ 0.0559,  0.6413,  0.2124,  0.8180],\n",
              "        [ 0.7602,  0.4949,  1.0337,  0.7537],\n",
              "        [ 0.8246,  0.6070,  0.9529,  0.8588],\n",
              "        [ 0.0080,  0.6744,  0.5262,  0.9570],\n",
              "        [ 0.0410,  0.8398,  0.1465,  0.9641],\n",
              "        [ 0.6014,  0.1228,  0.6579,  0.2263],\n",
              "        [ 0.5375,  0.1644,  0.6167,  0.2379],\n",
              "        [-0.0123,  0.7866,  0.0921,  0.9095],\n",
              "        [ 0.4818,  0.1624,  0.6527,  0.3224],\n",
              "        [ 0.5585,  0.0756,  0.6800,  0.3009],\n",
              "        [ 0.7388,  0.4622,  1.0598,  0.5591],\n",
              "        [ 0.5641,  0.1911,  0.6438,  0.2649],\n",
              "        [ 0.7879,  0.0162,  0.8465,  0.1175],\n",
              "        [ 0.8151,  0.4682,  0.9344,  0.5231],\n",
              "        [ 0.5481,  0.2295,  0.8097,  0.4740],\n",
              "        [ 0.8882,  0.5269,  0.9938,  0.8339],\n",
              "        [ 0.5471,  0.1742,  0.6641,  0.2827],\n",
              "        [ 0.6270,  0.2808,  0.7459,  0.3916],\n",
              "        [-0.0506,  0.5881,  0.1025,  0.7629],\n",
              "        [ 0.3357,  0.4420,  0.5859,  0.6977],\n",
              "        [ 0.3625,  0.6281,  0.4713,  0.6848],\n",
              "        [ 0.5215,  0.1761,  0.5770,  0.2808],\n",
              "        [ 0.0683,  0.8151,  0.1190,  0.9344],\n",
              "        [ 0.3510,  0.6441,  0.4272,  0.7250],\n",
              "        [ 0.7285,  0.1556,  0.8308,  0.4392],\n",
              "        [ 0.4406,  0.3607,  0.5551,  0.4734],\n",
              "        [ 0.0079,  0.5684,  0.5265,  0.8447],\n",
              "        [ 0.3244,  0.6174,  0.4002,  0.6979],\n",
              "        [ 0.5215,  0.3892,  0.5770,  0.4985],\n",
              "        [ 0.5748,  0.1494,  0.6309,  0.2536],\n",
              "        [ 0.2283,  0.6022,  0.2806,  0.7164],\n",
              "        [ 0.1742,  0.7068,  0.2827,  0.8277],\n",
              "        [ 0.0143,  0.7600,  0.1193,  0.8822],\n",
              "        [ 0.0961,  0.6813,  0.1991,  0.7387],\n",
              "        [ 0.7071,  0.5481,  0.9777,  0.8096],\n",
              "        [ 0.0757,  0.6650,  0.3009,  0.7892],\n",
              "        [ 0.3349,  0.5489,  0.3884,  0.6619],\n",
              "        [ 0.5481,  0.1761,  0.6040,  0.2808],\n",
              "        [ 0.7346,  0.2027,  0.7926,  0.3080],\n",
              "        [ 0.1951,  0.5124,  0.5644,  0.9081],\n",
              "        [ 0.7068,  0.2009,  0.8277,  0.3099],\n",
              "        [ 0.1911,  0.6440,  0.2649,  0.7250],\n",
              "        [ 0.1378,  0.6973,  0.2108,  0.7791],\n",
              "        [ 0.4939,  0.2808,  0.6096,  0.3916],\n",
              "        [ 0.0027,  0.5881,  0.1574,  0.7629],\n",
              "        [-0.0123,  0.6270,  0.0921,  0.7459],\n",
              "        [ 0.5053,  0.1820,  0.6255,  0.4124],\n",
              "        [ 0.4043,  0.6174,  0.4814,  0.6979],\n",
              "        [ 0.0559,  0.7476,  0.2124,  0.9282],\n",
              "        [ 0.4622,  0.2618,  0.5591,  0.5519],\n",
              "        [ 0.2178,  0.6440,  0.2920,  0.7250],\n",
              "        [ 0.5205,  0.2009,  0.6369,  0.3099],\n",
              "        [ 0.3889,  0.2295,  0.6418,  0.4741],\n",
              "        [ 0.5748,  0.2027,  0.6309,  0.3080],\n",
              "        [ 0.5473,  0.1044,  0.9860,  0.9798],\n",
              "        [ 0.1111,  0.6973,  0.1838,  0.7791],\n",
              "        [ 0.5471,  0.2275,  0.6641,  0.3371],\n",
              "        [ 0.4420,  0.2827,  0.6977,  0.5299],\n",
              "        [ 0.4818,  0.2689,  0.6527,  0.4325],\n",
              "        [ 0.4286,  0.3222,  0.5976,  0.4875],\n",
              "        [ 0.0143,  0.8132,  0.1193,  0.9368],\n",
              "        [ 0.5053,  0.2884,  0.6254,  0.5239],\n",
              "        [ 0.3616,  0.6022,  0.4153,  0.7164],\n",
              "        [ 0.4863,  0.1519,  0.7056,  0.8263],\n",
              "        [ 0.0845,  0.8038,  0.1567,  0.8874],\n",
              "        [ 0.0143,  0.6003,  0.1193,  0.7186],\n",
              "        [ 0.6012,  0.1762,  0.8656,  0.4182],\n",
              "        [ 0.5925, -0.0584,  0.8168,  0.5864],\n",
              "        [ 0.0428,  0.8412,  0.1447,  0.9005],\n",
              "        [ 0.0341,  0.4534,  0.6094,  1.0872],\n",
              "        [ 0.5585,  0.1820,  0.6800,  0.4124],\n",
              "        [ 0.0578,  0.8038,  0.1297,  0.8874],\n",
              "        [ 0.0026,  0.7476,  0.1574,  0.9282],\n",
              "        [ 0.1209,  0.6802,  0.2282,  0.8004],\n",
              "        [ 0.0943,  0.6536,  0.2010,  0.7732],\n",
              "        [ 0.0677,  0.8132,  0.1737,  0.9368],\n",
              "        [ 0.0410,  0.7866,  0.1465,  0.9095],\n",
              "        [ 0.5925,  0.1516,  0.8168,  0.8258]])"
            ]
          },
          "execution_count": 65,
          "metadata": {},
          "output_type": "execute_result"
        }
      ],
      "source": [
        "r1[0]"
      ]
    },
    {
      "cell_type": "code",
      "execution_count": null,
      "id": "65d75530",
      "metadata": {},
      "outputs": [],
      "source": []
    },
    {
      "cell_type": "code",
      "execution_count": null,
      "id": "43790c84",
      "metadata": {},
      "outputs": [
        {
          "data": {
            "text/plain": [
              "torch.Size([182, 4])"
            ]
          },
          "execution_count": 47,
          "metadata": {},
          "output_type": "execute_result"
        }
      ],
      "source": [
        "detections[0][0].shape"
      ]
    },
    {
      "cell_type": "code",
      "execution_count": null,
      "id": "04e45926",
      "metadata": {},
      "outputs": [
        {
          "data": {
            "text/plain": [
              "torch.Size([200, 4])"
            ]
          },
          "execution_count": 52,
          "metadata": {},
          "output_type": "execute_result"
        }
      ],
      "source": [
        "res[0][0].shape"
      ]
    },
    {
      "cell_type": "code",
      "execution_count": null,
      "id": "cfb158cb",
      "metadata": {},
      "outputs": [
        {
          "data": {
            "text/plain": [
              "torch.Size([182, 4])"
            ]
          },
          "execution_count": 54,
          "metadata": {},
          "output_type": "execute_result"
        }
      ],
      "source": [
        "detections[0][0].shape"
      ]
    },
    {
      "cell_type": "code",
      "execution_count": null,
      "id": "ae152c62",
      "metadata": {},
      "outputs": [],
      "source": []
    },
    {
      "cell_type": "code",
      "execution_count": null,
      "id": "cc3bb797",
      "metadata": {},
      "outputs": [
        {
          "ename": "AttributeError",
          "evalue": "'list' object has no attribute 'shape'",
          "output_type": "error",
          "traceback": [
            "\u001b[1;31m---------------------------------------------------------------------------\u001b[0m",
            "\u001b[1;31mAttributeError\u001b[0m                            Traceback (most recent call last)",
            "Cell \u001b[1;32mIn[33], line 1\u001b[0m\n\u001b[1;32m----> 1\u001b[0m images_sizes\u001b[39m.\u001b[39;49mshape\n",
            "\u001b[1;31mAttributeError\u001b[0m: 'list' object has no attribute 'shape'"
          ]
        }
      ],
      "source": []
    },
    {
      "cell_type": "code",
      "execution_count": null,
      "id": "8d71118a",
      "metadata": {},
      "outputs": [],
      "source": []
    },
    {
      "cell_type": "code",
      "execution_count": null,
      "id": "959ea50e",
      "metadata": {},
      "outputs": [
        {
          "data": {
            "text/plain": [
              "tensor([0.0525, 0.0527, 0.0531, 0.0531, 0.0538, 0.0539, 0.0542, 0.0544, 0.0545,\n",
              "        0.0550, 0.0552, 0.0552, 0.0552, 0.0554, 0.0555, 0.0556, 0.0564, 0.0565,\n",
              "        0.0566, 0.0566, 0.0567, 0.0568, 0.0571, 0.0572, 0.0584, 0.0587, 0.0589,\n",
              "        0.0589, 0.0591, 0.0592, 0.0592, 0.0593, 0.0593, 0.0599, 0.0608, 0.0615,\n",
              "        0.0615, 0.0621, 0.0624, 0.0627, 0.0628, 0.0639, 0.0645, 0.0652, 0.0654,\n",
              "        0.0662, 0.0664, 0.0668, 0.0669, 0.0672, 0.0678, 0.0692, 0.0693, 0.0694,\n",
              "        0.0696, 0.0700, 0.0703, 0.0705, 0.0706, 0.0716, 0.0716, 0.0720, 0.0723,\n",
              "        0.0729, 0.0729, 0.0732, 0.0732, 0.0734, 0.0735, 0.0737, 0.0740, 0.0742,\n",
              "        0.0748, 0.0748, 0.0748, 0.0749, 0.0753, 0.0757, 0.0759, 0.0760, 0.0762,\n",
              "        0.0764, 0.0771, 0.0772, 0.0775, 0.0777, 0.0782, 0.0785, 0.0787, 0.0792,\n",
              "        0.0794, 0.0797, 0.0801, 0.0803, 0.0808, 0.0812, 0.0817, 0.0818, 0.0825,\n",
              "        0.0832, 0.0836, 0.0838, 0.0842, 0.0852, 0.0855, 0.0856, 0.0857, 0.0867,\n",
              "        0.0876, 0.0883, 0.0885, 0.0886, 0.0887, 0.0887, 0.0888, 0.0888, 0.0899,\n",
              "        0.0902, 0.0908, 0.0911, 0.0916, 0.0921, 0.0921, 0.0921, 0.0924, 0.0926,\n",
              "        0.0931, 0.0943, 0.0945, 0.0949, 0.0954, 0.0957, 0.0958, 0.0965, 0.0966,\n",
              "        0.0989, 0.1000, 0.1004, 0.1005, 0.1009, 0.1009, 0.1013, 0.1022, 0.1042,\n",
              "        0.1043, 0.1044, 0.1044, 0.1048, 0.1051, 0.1056, 0.1067, 0.1069, 0.1072,\n",
              "        0.1073, 0.1075, 0.1077, 0.1103, 0.1115, 0.1118, 0.1121, 0.1134, 0.1199,\n",
              "        0.1212, 0.1219, 0.1233, 0.1239, 0.1245, 0.1272, 0.1272, 0.1301, 0.1391,\n",
              "        0.1410, 0.1468, 0.1471, 0.1476, 0.1489, 0.1532, 0.1570, 0.1645, 0.1719,\n",
              "        0.1731, 0.1764, 0.1774, 0.1780, 0.1831, 0.1844, 0.1860, 0.1871, 0.1877,\n",
              "        0.1937, 0.1942, 0.2108, 0.2440, 0.2694, 0.2755, 0.3371, 0.5327, 0.5921,\n",
              "        0.8374, 0.9982])"
            ]
          },
          "execution_count": 30,
          "metadata": {},
          "output_type": "execute_result"
        }
      ],
      "source": [
        "encoder.decode_batch(ploc, plabel)[0][2]"
      ]
    },
    {
      "cell_type": "code",
      "execution_count": null,
      "id": "7e1c8385",
      "metadata": {},
      "outputs": [
        {
          "data": {
            "text/plain": [
              "torch.Size([4, 4, 8732])"
            ]
          },
          "execution_count": 22,
          "metadata": {},
          "output_type": "execute_result"
        }
      ],
      "source": [
        "ploc.shape"
      ]
    },
    {
      "cell_type": "code",
      "execution_count": null,
      "id": "dc3183f7",
      "metadata": {},
      "outputs": [
        {
          "data": {
            "text/plain": [
              "torch.Size([4, 81, 8732])"
            ]
          },
          "execution_count": 26,
          "metadata": {},
          "output_type": "execute_result"
        }
      ],
      "source": [
        "detections[1].shape"
      ]
    },
    {
      "cell_type": "code",
      "execution_count": null,
      "id": "0664d27f",
      "metadata": {},
      "outputs": [],
      "source": []
    },
    {
      "cell_type": "code",
      "execution_count": null,
      "id": "c5ee8a9b",
      "metadata": {},
      "outputs": [],
      "source": [
        "for nbatch, data in enumerate(train_dataloader):\n",
        "    "
      ]
    },
    {
      "cell_type": "code",
      "execution_count": null,
      "id": "13b99016",
      "metadata": {},
      "outputs": [],
      "source": []
    },
    {
      "cell_type": "code",
      "execution_count": null,
      "id": "bd802e2c",
      "metadata": {},
      "outputs": [],
      "source": []
    },
    {
      "cell_type": "code",
      "execution_count": null,
      "id": "6da442b8",
      "metadata": {},
      "outputs": [],
      "source": []
    },
    {
      "cell_type": "code",
      "execution_count": null,
      "id": "8e509cfa",
      "metadata": {},
      "outputs": [],
      "source": []
    },
    {
      "cell_type": "code",
      "execution_count": null,
      "id": "6bcde2c0",
      "metadata": {},
      "outputs": [
        {
          "data": {
            "text/plain": [
              "tensor([40, 61,  1, 44, 46, 46, 70,  1, 42, 42, 46, 46, 51, 45, 51, 51, 70, 52,\n",
              "        72,  0,  0,  0,  0,  0,  0,  0,  0,  0,  0,  0,  0,  0,  0,  0,  0,  0,\n",
              "         0,  0,  0,  0,  0,  0,  0,  0,  0,  0,  0,  0,  0,  0,  0,  0,  0,  0,\n",
              "         0,  0,  0,  0,  0,  0,  0,  0,  0,  0,  0,  0,  0,  0,  0,  0,  0,  0,\n",
              "         0,  0,  0,  0,  0,  0,  0,  0,  0,  0,  0,  0,  0,  0,  0,  0,  0,  0,\n",
              "         0,  0,  0,  0,  0,  0,  0,  0,  0,  0,  0,  0,  0,  0,  0,  0,  0,  0,\n",
              "         0,  0,  0,  0,  0,  0,  0,  0,  0,  0,  0,  0,  0,  0,  0,  0,  0,  0,\n",
              "         0,  0,  0,  0,  0,  0,  0,  0,  0,  0,  0,  0,  0,  0,  0,  0,  0,  0,\n",
              "         0,  0,  0,  0,  0,  0,  0,  0,  0,  0,  0,  0,  0,  0,  0,  0,  0,  0,\n",
              "         0,  0,  0,  0,  0,  0,  0,  0,  0,  0,  0,  0,  0,  0,  0,  0,  0,  0,\n",
              "         0,  0,  0,  0,  0,  0,  0,  0,  0,  0,  0,  0,  0,  0,  0,  0,  0,  0,\n",
              "         0,  0])"
            ]
          },
          "execution_count": 12,
          "metadata": {},
          "output_type": "execute_result"
        }
      ],
      "source": [
        "data_val[0][4]"
      ]
    },
    {
      "cell_type": "code",
      "execution_count": null,
      "id": "80988d64",
      "metadata": {},
      "outputs": [],
      "source": []
    },
    {
      "cell_type": "code",
      "execution_count": null,
      "id": "58201e5d",
      "metadata": {},
      "outputs": [
        {
          "data": {
            "text/plain": [
              "tensor([[40, 61,  1,  ...,  0,  0,  0],\n",
              "        [59, 57, 57,  ...,  0,  0,  0],\n",
              "        [ 1,  1,  1,  ...,  0,  0,  0],\n",
              "        ...,\n",
              "        [ 3,  4,  6,  ...,  0,  0,  0],\n",
              "        [ 3,  3,  3,  ...,  0,  0,  0],\n",
              "        [ 3,  3,  3,  ...,  0,  0,  0]])"
            ]
          },
          "execution_count": 9,
          "metadata": {},
          "output_type": "execute_result"
        }
      ],
      "source": [
        "next(iter(val_dataloader))[4]"
      ]
    },
    {
      "cell_type": "code",
      "execution_count": null,
      "id": "0b2b2474",
      "metadata": {},
      "outputs": [
        {
          "data": {
            "text/plain": [
              "tensor([1, 2, 3, 0, 0, 0, 0, 0, 0, 0, 0, 0, 0, 0, 0, 0, 0, 0, 0, 0, 0, 0, 0, 0,\n",
              "        0, 0, 0, 0, 0, 0, 0, 0, 0, 0, 0, 0, 0, 0, 0, 0, 0, 0, 0, 0, 0, 0, 0, 0,\n",
              "        0, 0, 0, 0, 0, 0, 0, 0, 0, 0, 0, 0, 0, 0, 0, 0, 0, 0, 0, 0, 0, 0, 0, 0,\n",
              "        0, 0, 0, 0, 0, 0, 0, 0, 0, 0, 0, 0, 0, 0, 0, 0, 0, 0, 0, 0, 0, 0, 0, 0,\n",
              "        0, 0, 0, 0, 0, 0, 0, 0, 0, 0, 0, 0, 0, 0, 0, 0, 0, 0, 0, 0, 0, 0, 0, 0,\n",
              "        0, 0, 0, 0, 0, 0, 0, 0, 0, 0, 0, 0, 0, 0, 0, 0, 0, 0, 0, 0, 0, 0, 0, 0,\n",
              "        0, 0, 0, 0, 0, 0, 0, 0, 0, 0, 0, 0, 0, 0, 0, 0, 0, 0, 0, 0, 0, 0, 0, 0,\n",
              "        0, 0, 0, 0, 0, 0, 0, 0, 0, 0, 0, 0, 0, 0, 0, 0, 0, 0, 0, 0, 0, 0, 0, 0,\n",
              "        0, 0, 0, 0, 0, 0, 0, 0, 0, 0, 0, 0, 0, 0, 0, 0, 0, 0, 0, 0, 0, 0, 0, 0,\n",
              "        0, 0, 0, 0, 0, 0, 0, 0, 0, 0, 0, 0, 0, 0, 0, 0, 0, 0, 0, 0, 0, 0, 0, 0,\n",
              "        0, 0, 0, 0, 0, 0, 0, 0, 0, 0, 0, 0, 0, 0, 0, 0, 0, 0, 0, 0, 0, 0, 0, 0,\n",
              "        0, 0, 0, 0, 0, 0, 0, 0, 0, 0, 0, 0, 0, 0, 0, 0, 0, 0, 0, 0, 0, 0, 0, 0,\n",
              "        0, 0, 0, 0, 0, 0, 0, 0, 0, 0, 0, 0, 0, 0, 0, 0, 0, 0, 0, 0, 0, 0, 0, 0,\n",
              "        0, 0, 0, 0, 0, 0, 0, 0, 0, 0, 0, 0, 0, 0, 0, 0, 0, 0, 0, 0, 0, 0, 0, 0,\n",
              "        0, 0, 0, 0, 0, 0, 0, 0, 0, 0, 0, 0, 0, 0, 0, 0, 0, 0, 0, 0, 0, 0, 0, 0,\n",
              "        0, 0, 0, 0, 0, 0, 0, 0, 0, 0, 0, 0, 0, 0, 0, 0, 0, 0, 0, 0, 0, 0, 0, 0,\n",
              "        0, 0, 0, 0, 0, 0, 0, 0, 0, 0, 0, 0, 0, 0, 0, 0, 0, 0, 0, 0, 0, 0, 0, 0,\n",
              "        0, 0, 0, 0, 0, 0, 0, 0, 0, 0, 0, 0, 0, 0, 0, 0, 0, 0, 0, 0, 0, 0, 0, 0,\n",
              "        0, 0, 0, 0, 0, 0, 0, 0, 0, 0, 0, 0, 0, 0, 0, 0, 0, 0, 0, 0, 0, 0, 0, 0,\n",
              "        0, 0, 0, 0, 0, 0, 0, 0, 0, 0, 0, 0, 0, 0, 0, 0, 0, 0, 0, 0, 0, 0, 0, 0,\n",
              "        0, 0, 0, 0, 0, 0, 0, 0, 0, 0, 0, 0, 0, 0, 0, 0, 0, 0, 0, 0, 0, 0, 0, 0,\n",
              "        0, 0, 0, 0, 0, 0, 0, 0, 0, 0, 0, 0, 0, 0, 0, 0, 0, 0, 0, 0, 0, 0, 0, 0,\n",
              "        0, 0, 0, 0, 0, 0, 0, 0, 0, 0, 0, 0, 0, 0, 0, 0, 0, 0, 0, 0, 0, 0, 0, 0,\n",
              "        0, 0, 0, 0, 0, 0, 0, 0, 0, 0, 0, 0, 0, 0, 0, 0, 0, 0, 0, 0, 0, 0, 0, 0,\n",
              "        0, 0, 0, 0, 0, 0, 0, 0, 0, 0, 0, 0, 0, 0, 0, 0, 0, 0, 0, 0, 0, 0, 0, 0,\n",
              "        0, 0, 0, 0, 0, 0, 0, 0, 0, 0, 0, 0, 0, 0, 0, 0, 0, 0, 0, 0, 0, 0, 0, 0,\n",
              "        0, 0, 0, 0, 0, 0, 0, 0, 0, 0, 0, 0, 0, 0, 0, 0, 0, 0, 0, 0, 0, 0, 0, 0,\n",
              "        0, 0, 0, 0, 0, 0, 0, 0, 0, 0, 0, 0, 0, 0, 0, 0, 0, 0, 0, 0, 0, 0, 0, 0,\n",
              "        0, 0, 0, 0, 0, 0, 0, 0, 0, 0, 0, 0, 0, 0, 0, 0, 0, 0, 0, 0, 0, 0, 0, 0,\n",
              "        0, 0, 0, 0, 0, 0, 0, 0, 0, 0, 0, 0, 0, 0, 0, 0, 0, 0, 0, 0, 0, 0, 0, 0,\n",
              "        0, 0, 0, 0, 0, 0, 0, 0, 0, 0, 0, 0, 0, 0, 0, 0, 0, 0, 0, 0, 0, 0, 0, 0,\n",
              "        0, 0, 0, 0, 0, 0, 0, 0, 0, 0, 0, 0, 0, 0, 0, 0, 0, 0, 0, 0, 0, 0, 0, 0,\n",
              "        0, 0, 0, 0, 0, 0, 0, 0, 0, 0, 0, 0, 0, 0, 0, 0, 0, 0, 0, 0, 0, 0, 0, 0,\n",
              "        0, 0, 0, 0, 0, 0, 0, 0, 0, 0, 0, 0, 0, 0, 0, 0, 0, 0, 0, 0, 0, 0, 0, 0,\n",
              "        0, 0, 0, 0, 0, 0, 0, 0, 0, 0, 0, 0, 0, 0, 0, 0, 0, 0, 0, 0, 0, 0, 0, 0,\n",
              "        0, 0, 0, 0, 0, 0, 0, 0, 0, 0, 0, 0, 0, 0, 0, 0, 0, 0, 0, 0, 0, 0, 0, 0,\n",
              "        0, 0, 0, 0, 0, 0, 0, 0, 0, 0, 0, 0, 0, 0, 0, 0, 0, 0, 0, 0, 0, 0, 0, 0,\n",
              "        0, 0, 0, 0, 0, 0, 0, 0, 0, 0, 0, 0, 0, 0, 0, 0, 0, 0, 0, 0, 0, 0, 0, 0,\n",
              "        0, 0, 0, 0, 0, 0, 0, 0, 0, 0, 0, 0, 0, 0, 0, 0, 0, 0, 0, 0, 0, 0, 0, 0,\n",
              "        0, 0, 0, 0, 0, 0, 0, 0, 0, 0, 0, 0, 0, 0, 0, 0, 0, 0, 0, 0, 0, 0, 0, 0,\n",
              "        0, 0, 0, 0, 0, 0, 0, 0, 0, 0, 0, 0, 0, 0, 0, 0, 0, 0, 0, 0, 0, 0, 0, 0,\n",
              "        0, 0, 0, 0, 0, 0, 0, 0, 0, 0, 0, 0, 0, 0, 0, 0])"
            ]
          },
          "execution_count": 6,
          "metadata": {},
          "output_type": "execute_result"
        }
      ],
      "source": [
        "label_out = torch.zeros(1000, dtype=torch.long)\n",
        "label = torch.tensor([1,2,3])\n",
        "label_out[:label.size(0)] = label\n",
        "label_out "
      ]
    },
    {
      "cell_type": "code",
      "execution_count": null,
      "id": "66f1934e",
      "metadata": {},
      "outputs": [
        {
          "data": {
            "text/plain": [
              "tensor([[0, 0, 0,  ..., 0, 0, 0],\n",
              "        [0, 0, 0,  ..., 0, 0, 0],\n",
              "        [0, 0, 0,  ..., 0, 0, 0]])"
            ]
          },
          "execution_count": 88,
          "metadata": {},
          "output_type": "execute_result"
        }
      ],
      "source": [
        "a[4]"
      ]
    },
    {
      "cell_type": "code",
      "execution_count": null,
      "id": "7b37a29b",
      "metadata": {},
      "outputs": [],
      "source": [
        "b= next(iter(train_dataloader2))"
      ]
    },
    {
      "cell_type": "code",
      "execution_count": null,
      "id": "eb7cef52",
      "metadata": {},
      "outputs": [
        {
          "data": {
            "text/plain": [
              "(tensor([0, 0, 0,  ..., 0, 0, 0]),\n",
              " tensor([0, 0, 0,  ..., 0, 0, 0]),\n",
              " tensor([0, 0, 0,  ..., 0, 0, 0]))"
            ]
          },
          "execution_count": 90,
          "metadata": {},
          "output_type": "execute_result"
        }
      ],
      "source": [
        "b[4]"
      ]
    },
    {
      "cell_type": "code",
      "execution_count": null,
      "id": "907ee44f",
      "metadata": {},
      "outputs": [],
      "source": []
    },
    {
      "cell_type": "code",
      "execution_count": null,
      "id": "fc28b3f2",
      "metadata": {},
      "outputs": [],
      "source": []
    },
    {
      "cell_type": "code",
      "execution_count": null,
      "id": "e4fcc5f8",
      "metadata": {},
      "outputs": [],
      "source": []
    },
    {
      "cell_type": "code",
      "execution_count": null,
      "id": "52e518c5",
      "metadata": {},
      "outputs": [],
      "source": [
        "for nbatch, data in enumerate(train_dataloader):\n",
        "    \n",
        "    #optimizer.zero_grad()\n",
        "    \n",
        "    img, img_id, images_sizes,  bbox_data, bbox_labels = data\n",
        "    \n",
        "    gloc = Variable(bbox_data.transpose(1, 2).contiguous(), requires_grad=False)\n",
        "    glabel = Variable(bbox_labels, requires_grad=False)\n",
        "    \n",
        "    ploc, plabel = model(img)\n",
        "    loss = loss_func(ploc=ploc, plabel=plabel, gloc=gloc, glabel=glabel ) \n",
        "    \n",
        "    break"
      ]
    },
    {
      "cell_type": "code",
      "execution_count": null,
      "id": "32078740",
      "metadata": {},
      "outputs": [
        {
          "data": {
            "text/plain": [
              "tensor(3.9616, grad_fn=<MeanBackward1>)"
            ]
          },
          "execution_count": 9,
          "metadata": {},
          "output_type": "execute_result"
        }
      ],
      "source": [
        "loss"
      ]
    },
    {
      "cell_type": "code",
      "execution_count": null,
      "id": "89ed46e9",
      "metadata": {},
      "outputs": [],
      "source": []
    },
    {
      "cell_type": "code",
      "execution_count": null,
      "id": "f13ad885",
      "metadata": {},
      "outputs": [],
      "source": []
    },
    {
      "cell_type": "code",
      "execution_count": null,
      "id": "9fc99de6",
      "metadata": {},
      "outputs": [],
      "source": []
    },
    {
      "cell_type": "code",
      "execution_count": null,
      "id": "315ee657",
      "metadata": {},
      "outputs": [
        {
          "data": {
            "text/plain": [
              "torch.Size([4, 4, 8732])"
            ]
          },
          "execution_count": 45,
          "metadata": {},
          "output_type": "execute_result"
        }
      ],
      "source": [
        "ploc.shape"
      ]
    },
    {
      "cell_type": "code",
      "execution_count": null,
      "id": "f8e47ac0",
      "metadata": {},
      "outputs": [
        {
          "data": {
            "text/plain": [
              "torch.Size([4, 81, 8732])"
            ]
          },
          "execution_count": 46,
          "metadata": {},
          "output_type": "execute_result"
        }
      ],
      "source": [
        "plabel.shape"
      ]
    },
    {
      "cell_type": "code",
      "execution_count": null,
      "id": "17566512",
      "metadata": {},
      "outputs": [],
      "source": []
    },
    {
      "cell_type": "code",
      "execution_count": null,
      "id": "6c54be24",
      "metadata": {},
      "outputs": [],
      "source": []
    },
    {
      "cell_type": "code",
      "execution_count": null,
      "id": "8e738626",
      "metadata": {},
      "outputs": [
        {
          "data": {
            "text/plain": [
              "[tensor([189, 600, 426, 437]), tensor([197, 227, 640, 183])]"
            ]
          },
          "execution_count": 43,
          "metadata": {},
          "output_type": "execute_result"
        }
      ],
      "source": [
        "images_sizes"
      ]
    },
    {
      "cell_type": "code",
      "execution_count": null,
      "id": "688226c1",
      "metadata": {},
      "outputs": [
        {
          "data": {
            "text/plain": [
              "tensor([404484, 263644,  43816, 412286])"
            ]
          },
          "execution_count": 39,
          "metadata": {},
          "output_type": "execute_result"
        }
      ],
      "source": [
        "img_id"
      ]
    },
    {
      "cell_type": "code",
      "execution_count": null,
      "id": "92dcf175",
      "metadata": {},
      "outputs": [
        {
          "data": {
            "text/plain": [
              "tensor([[[0.0133, 0.0133, 0.0700, 0.0700],\n",
              "         [0.0400, 0.0133, 0.0700, 0.0700],\n",
              "         [0.0667, 0.0133, 0.0700, 0.0700],\n",
              "         ...,\n",
              "         [0.5000, 0.5000, 0.9558, 0.9558],\n",
              "         [0.5000, 0.5000, 1.0000, 0.6152],\n",
              "         [0.5000, 0.5000, 0.6152, 1.0000]],\n",
              "\n",
              "        [[0.0133, 0.0133, 0.0700, 0.0700],\n",
              "         [0.0400, 0.0133, 0.0700, 0.0700],\n",
              "         [0.0667, 0.0133, 0.0700, 0.0700],\n",
              "         ...,\n",
              "         [0.5000, 0.5000, 0.9558, 0.9558],\n",
              "         [0.5000, 0.5000, 1.0000, 0.6152],\n",
              "         [0.5000, 0.5000, 0.6152, 1.0000]],\n",
              "\n",
              "        [[0.0133, 0.0133, 0.0700, 0.0700],\n",
              "         [0.0400, 0.0133, 0.0700, 0.0700],\n",
              "         [0.0667, 0.0133, 0.0700, 0.0700],\n",
              "         ...,\n",
              "         [0.5000, 0.5000, 0.9558, 0.9558],\n",
              "         [0.5000, 0.5000, 1.0000, 0.6152],\n",
              "         [0.5000, 0.5000, 0.6152, 1.0000]],\n",
              "\n",
              "        [[0.0133, 0.0133, 0.0700, 0.0700],\n",
              "         [0.0400, 0.0133, 0.0700, 0.0700],\n",
              "         [0.0667, 0.0133, 0.0700, 0.0700],\n",
              "         ...,\n",
              "         [0.5000, 0.5000, 0.9558, 0.9558],\n",
              "         [0.5000, 0.5000, 1.0000, 0.6152],\n",
              "         [0.5000, 0.5000, 0.6152, 1.0000]]])"
            ]
          },
          "execution_count": 42,
          "metadata": {},
          "output_type": "execute_result"
        }
      ],
      "source": [
        "bbox_sizes"
      ]
    },
    {
      "cell_type": "code",
      "execution_count": null,
      "id": "b7e86108",
      "metadata": {},
      "outputs": [
        {
          "data": {
            "text/plain": [
              "[tensor([189, 600, 426, 437]), tensor([197, 227, 640, 183])]"
            ]
          },
          "execution_count": 41,
          "metadata": {},
          "output_type": "execute_result"
        }
      ],
      "source": [
        "images_sizes"
      ]
    },
    {
      "cell_type": "code",
      "execution_count": null,
      "id": "fb727376",
      "metadata": {},
      "outputs": [],
      "source": []
    },
    {
      "cell_type": "code",
      "execution_count": null,
      "id": "215ee4b9",
      "metadata": {},
      "outputs": [],
      "source": []
    },
    {
      "cell_type": "code",
      "execution_count": null,
      "id": "39809b52",
      "metadata": {},
      "outputs": [],
      "source": []
    },
    {
      "cell_type": "code",
      "execution_count": null,
      "id": "2e6eb95d",
      "metadata": {},
      "outputs": [
        {
          "data": {
            "text/plain": [
              "torch.Size([4, 3, 300, 300])"
            ]
          },
          "execution_count": 26,
          "metadata": {},
          "output_type": "execute_result"
        }
      ],
      "source": [
        "data[0].shape"
      ]
    },
    {
      "cell_type": "code",
      "execution_count": null,
      "id": "27f40293",
      "metadata": {},
      "outputs": [],
      "source": []
    },
    {
      "cell_type": "code",
      "execution_count": null,
      "id": "7f83f0e0",
      "metadata": {},
      "outputs": [],
      "source": []
    },
    {
      "cell_type": "code",
      "execution_count": null,
      "id": "4e08e118",
      "metadata": {},
      "outputs": [],
      "source": []
    },
    {
      "cell_type": "code",
      "execution_count": null,
      "id": "38ff19bd",
      "metadata": {},
      "outputs": [
        {
          "data": {
            "text/plain": [
              "tensor([[2.2489, 2.2489, 2.2489,  ..., 2.2489, 2.2489, 2.2489],\n",
              "        [2.2489, 2.2489, 2.2489,  ..., 2.2489, 2.2489, 2.2489],\n",
              "        [2.2489, 2.2489, 2.2489,  ..., 2.2489, 2.2489, 2.2489],\n",
              "        ...,\n",
              "        [1.7180, 1.8037, 1.8722,  ..., 2.0777, 2.0948, 2.0948],\n",
              "        [1.6324, 1.8208, 1.9064,  ..., 2.0777, 2.0948, 2.0948],\n",
              "        [1.5982, 1.8379, 1.8722,  ..., 2.0948, 2.0777, 2.0777]])"
            ]
          },
          "execution_count": 21,
          "metadata": {},
          "output_type": "execute_result"
        }
      ],
      "source": [
        "i[0][0][0]"
      ]
    },
    {
      "cell_type": "code",
      "execution_count": null,
      "id": "094b9c07",
      "metadata": {},
      "outputs": [
        {
          "data": {
            "text/plain": [
              "tensor([[ 0.7591,  0.7933,  0.8789,  ...,  1.6153,  1.5639,  1.6495],\n",
              "        [ 0.7762,  0.7762,  0.8276,  ...,  1.5125,  1.4783,  1.4783],\n",
              "        [ 0.1597,  0.2282,  0.2796,  ...,  1.4098,  1.3755,  1.3070],\n",
              "        ...,\n",
              "        [-1.7754, -1.6213, -1.7240,  ..., -1.1589, -1.1247, -1.0048],\n",
              "        [-1.8782, -1.6727, -1.6384,  ..., -1.2788, -1.1075, -0.9705],\n",
              "        [-1.9124, -1.8782, -1.6555,  ..., -1.2788, -1.1075, -1.1075]])"
            ]
          },
          "execution_count": 23,
          "metadata": {},
          "output_type": "execute_result"
        }
      ],
      "source": [
        "i[0][2][0]"
      ]
    },
    {
      "cell_type": "code",
      "execution_count": null,
      "id": "5cac7eaa",
      "metadata": {},
      "outputs": [],
      "source": []
    },
    {
      "cell_type": "code",
      "execution_count": null,
      "id": "1d17f3ae",
      "metadata": {},
      "outputs": [],
      "source": []
    },
    {
      "cell_type": "code",
      "execution_count": null,
      "id": "f0c940a8",
      "metadata": {},
      "outputs": [
        {
          "name": "stdout",
          "output_type": "stream",
          "text": [
            "---loading model weights and saving to ssd folder--- \n",
            "---loading model complete--- \n"
          ]
        }
      ],
      "source": [
        "model = nvidia_ssd()"
      ]
    },
    {
      "cell_type": "code",
      "execution_count": null,
      "id": "f780affc",
      "metadata": {},
      "outputs": [],
      "source": [
        "for param in model.parameters():\n",
        "    param.requires_grad = True\n",
        "    \n",
        "for param in model.feature_extractor.parameters():\n",
        "    param.requires_grad = False"
      ]
    },
    {
      "cell_type": "code",
      "execution_count": null,
      "id": "d1b5151a",
      "metadata": {},
      "outputs": [],
      "source": []
    },
    {
      "cell_type": "code",
      "execution_count": null,
      "id": "074f024c",
      "metadata": {},
      "outputs": [],
      "source": []
    },
    {
      "cell_type": "code",
      "execution_count": null,
      "id": "fa53045b",
      "metadata": {},
      "outputs": [],
      "source": []
    },
    {
      "cell_type": "code",
      "execution_count": null,
      "id": "f9dbf669",
      "metadata": {},
      "outputs": [
        {
          "data": {
            "text/plain": [
              "<generator object Module.parameters at 0x000002097D8A37B0>"
            ]
          },
          "execution_count": 9,
          "metadata": {},
          "output_type": "execute_result"
        }
      ],
      "source": [
        "model.feature_extractor.parameters()"
      ]
    },
    {
      "cell_type": "code",
      "execution_count": null,
      "id": "70732601",
      "metadata": {},
      "outputs": [],
      "source": []
    },
    {
      "cell_type": "code",
      "execution_count": null,
      "id": "70377a55",
      "metadata": {},
      "outputs": [
        {
          "data": {
            "text/plain": [
              "<utils.utils.SSDTransformer at 0x269ad2b5ca0>"
            ]
          },
          "execution_count": 20,
          "metadata": {},
          "output_type": "execute_result"
        }
      ],
      "source": [
        "datareader.transform"
      ]
    },
    {
      "cell_type": "code",
      "execution_count": null,
      "id": "019f219a",
      "metadata": {},
      "outputs": [],
      "source": []
    },
    {
      "cell_type": "code",
      "execution_count": null,
      "id": "82847c07",
      "metadata": {},
      "outputs": [],
      "source": []
    },
    {
      "cell_type": "code",
      "execution_count": null,
      "id": "aa6ab315",
      "metadata": {},
      "outputs": [
        {
          "data": {
            "text/plain": [
              "Compose(\n",
              "    Resize(size=(300, 300), interpolation=bilinear, max_size=None, antialias=warn)\n",
              "    ColorJitter(brightness=(0.875, 1.125), contrast=(0.5, 1.5), saturation=(0.5, 1.5), hue=(-0.05, 0.05))\n",
              "    ToTensor()\n",
              ")"
            ]
          },
          "execution_count": 4,
          "metadata": {},
          "output_type": "execute_result"
        }
      ],
      "source": [
        "transformers_ssd_train.img_trans"
      ]
    },
    {
      "cell_type": "code",
      "execution_count": null,
      "id": "3f0f8d7b",
      "metadata": {},
      "outputs": [],
      "source": []
    },
    {
      "cell_type": "code",
      "execution_count": null,
      "id": "dfb3da2e",
      "metadata": {},
      "outputs": [],
      "source": [
        "torch.manual_seed(0)\n",
        "np.random.seed(seed=0)\n",
        "\n",
        "\n",
        "dboxes = dboxes300_coco()\n",
        "\n",
        "encoder = Encoder(dboxes)\n",
        "    #print(dboxes.dboxes.shape) # \u0441\u043e\u0437\u0434\u0430\u043b \u0434\u0435\u0444\u043e\u043b\u0442\u043d\u044b\u0435 bbx [8732, 4]\n",
        "annotate_file = 'COCOdata\\\\annotations\\\\instances_val2017.json'\n",
        "datareader = CocoDataReader(\n",
        "        img_folder='COCOdata\\\\val2017\\\\',\n",
        "        annotate_file=annotate_file)\n"
      ]
    },
    {
      "cell_type": "code",
      "execution_count": null,
      "id": "fa938856",
      "metadata": {},
      "outputs": [],
      "source": []
    },
    {
      "cell_type": "code",
      "execution_count": null,
      "id": "4e40bbf4",
      "metadata": {},
      "outputs": [],
      "source": []
    },
    {
      "cell_type": "code",
      "execution_count": null,
      "id": "b496fe73",
      "metadata": {},
      "outputs": [
        {
          "name": "stdout",
          "output_type": "stream",
          "text": [
            "---loading model weights and saving to ssd folder--- \n",
            "---loading model complete--- \n"
          ]
        }
      ],
      "source": [
        "model = nvidia_ssd(\n",
        "        pretrained_default=True,\n",
        "        pretrainded_custom=False,\n",
        "    )"
      ]
    },
    {
      "cell_type": "code",
      "execution_count": null,
      "id": "12c6098e",
      "metadata": {},
      "outputs": [],
      "source": []
    },
    {
      "cell_type": "code",
      "execution_count": null,
      "id": "4edc25a4",
      "metadata": {},
      "outputs": [],
      "source": []
    },
    {
      "cell_type": "code",
      "execution_count": null,
      "id": "379aa012",
      "metadata": {},
      "outputs": [],
      "source": []
    },
    {
      "cell_type": "code",
      "execution_count": null,
      "id": "2dcdb1c2",
      "metadata": {},
      "outputs": [
        {
          "name": "stdout",
          "output_type": "stream",
          "text": [
            "72\n"
          ]
        }
      ],
      "source": [
        "configs = Configs()\n",
        "torch.manual_seed(configs.random_seed)\n",
        "np.random.seed(seed=configs.random_seed)\n",
        "    #cocoGt =  get_coco_ground_truth()\n",
        "    #print(cocoGt) # coco \u0430\u043d\u043d\u043e\u0442\u0430\u0446\u0438\u0438, \u043f\u043e\u043a\u0430 \u0440\u0435\u0448\u0438\u043b \u0441\u0434\u0435\u043b\u0430\u0442\u044c \u0432\u0441\u0435 \u043a\u0430\u043a \u0432 \u0438\u0441\u0445\u043e\u0434\u043d\u0438\u043a\u0435\n",
        "    \n",
        "dboxes_class = dboxes300_coco()\n",
        "    #print(dboxes.dboxes.shape) # \u0441\u043e\u0437\u0434\u0430\u043b \u0434\u0435\u0444\u043e\u043b\u0442\u043d\u044b\u0435 bbx [8732, 4]\n",
        "annotate_file = 'COCOdata\\\\annotations\\\\instances_val2017.json'\n",
        "datareader = CocoDataReader(\n",
        "img_folder='COCOdata\\\\val2017\\\\',\n",
        "annotate_file=annotate_file)\n",
        "    \n",
        "    #print(datareader.img_keys)\n",
        "    \n",
        "     #input ltrb format, output xywh format\n",
        "img, img_id, size_image, bbox_sizes, bbox_labels = datareader[0]\n",
        "\n",
        "\n",
        "dboxes_xywh = dboxes_class(order=\"xywh\").unsqueeze(dim=0)\n",
        "dboxes = dboxes_class(\"ltrb\")\n",
        "nboxes = dboxes.size(0)\n",
        "scale_xy = dboxes_class.scale_xy\n",
        "scale_wh = dboxes_class.scale_wh"
      ]
    },
    {
      "cell_type": "code",
      "execution_count": null,
      "id": "25060682",
      "metadata": {},
      "outputs": [],
      "source": [
        "ious = calc_iou_tensor(bbox_sizes, dboxes) # [n_boxes, 8732]\n",
        "\n"
      ]
    },
    {
      "cell_type": "code",
      "execution_count": null,
      "id": "2984b85b",
      "metadata": {},
      "outputs": [
        {
          "data": {
            "text/plain": [
              "torch.Size([8732])"
            ]
          },
          "execution_count": 81,
          "metadata": {},
          "output_type": "execute_result"
        }
      ],
      "source": [
        " criteria = 0.5\n",
        "\n",
        "best_dbox_ious, best_dbox_idx  = ious.max(dim =0) # \u0432\u044b\u0434\u0430\u0435\u0442 \u043d\u043e\u043c\u0435\u0440\u0430 (\u0441\u0442\u0440\u043e\u043a) \u0431\u0431\u043e\u0445, \u043a\u043e\u0442\u043e\u0440\u044b\u0435 \u043d\u0430\u0431\u0438\u043b\u0435\u0435 \u044e\u043b\u0438\u0437\u043a\u0438 \u043a \u044f\u043a\u043e\u0440\u043d\u044b\u043c, \u043c\u0430\u0441\u0441\u0438\u0432 \u0440\u0430\u0437\u043c\u0435\u0440\u0430 8732\n",
        "\n",
        "best_bbox_ious, best_bbox_idx = ious.max(dim = 1) # \u043d\u043e\u043c\u0435\u0440 (\u0441\u0442\u043e\u043b\u0431\u0446\u043e\u0432) \u044f\u043a\u043e\u0440\u043d\u044b\u0445 \u0431\u0431\u0445, \u0431\u043b\u0438\u0437\u043a\u0438\u0445 \u043a \u043f\u0435\u0440\u0435\u0434\u0430\u043d\u043d\u044b\u043c \u0440\u0430\u0437\u043c\u0435\u0440 \u043c\u0430\u0441\u0441\u0438\u0432\u0430 19 \n",
        "\n",
        "#best_bbox_idx = \u043d\u043e\u043c\u0435\u0440\u0430 \u0441\u0442\u043e\u043b\u0431\u0446\u043e\u0432, \u0432 \u043a\u043e\u0442\u043e\u0440\u044b\u0445 \u043c\u0430\u043a\u0441\u0438\u043c\u0443\u043c \u0434\u043b\u044f \u043a\u0430\u0436\u0434\u043e\u0439 \u0438\u0437 \u0441\u0442\u0440\u043e\u043a!!!! \u0442.\u0435. \u043f\u0435\u0440\u0432\u043e\u0435 \u0447\u0438\u0441\u043b\u043e - \u043c\u0430\u043a\u0441\u0438\u043c\u0443\u043c \u0432 \u043f\u0435\u0440\u0432\u043e\u0439 \u0441\u0442\u0440\u043e\u043a\u0435\n",
        "\n",
        "# \u043f\u043e\u043c\u0435\u0449\u0430\u0435\u043c \u043c\u0430\u043a\u0441\u0438\u043c\u0443\u043c ious =2  \u043d\u0430 \u0442\u0435 \u043f\u043e\u0437\u0438\u0446\u0438\u0438 \u0441\u0442\u0440\u043e\u043a, \u0434\u043b\u044f \u043a\u043e\u0442\u043e\u0440\u044b\u0445 axis =1 \u0438\u043c\u0435\u0435\u0442 \u043c\u0430\u043a\u0441\u0438\u043c\u0443\u043c ()\n",
        "best_dbox_ious.index_fill_(0, best_bbox_idx, 2.0)\n",
        "\n",
        "idx = torch.arange(0, best_bbox_idx.size(0), dtype=torch.int64)# \u0442.\u043a. \u0434\u043b\u044f \u043a\u0430\u0436\u0434\u043e\u0439 \u0441\u0442\u0440\u043e\u043a\u0438 \u043c\u044b \u043d\u0430\u0448\u043b\u0438 \u043c\u0430\u043a\u0441\u0438\u043c\u0443\u043c, \u0442\u043e \u043d\u0435\u043e\u0431\u0445\u043e\u0434\u0438\u043c\u043e \u043f\u043e\u043b\u043e\u0436\u0438\u0442\u044c \u043d\u043e\u043c\u0435\u0440\u0430 \u0441\u0442\u0440\u043e\u043a \u0432 \u043f\u0440\u0430\u0432\u0438\u043b\u044c\u043d\u043e\u043c \u043f\u043e\u0440\u044f\u0434\u043a\u0435\n",
        "best_dbox_idx[best_bbox_idx[idx]] = idx #  \u043c\u0430\u043a\u0441\u0438\u043c\u0443\u043c\u044b \u0434\u043b\u044f \u043a\u0430\u0436\u0434\u043e\u0439 \u0438\u0437 \u0441\u0442\u0440\u043e\u043a!!!! \u0442.\u0435. \u043f\u0435\u0440\u0432\u043e\u0435 \u0447\u0438\u0441\u043b\u043e - \u043c\u0430\u043a\u0441\u0438\u043c\u0443\u043c \u0432 \u043f\u0435\u0440\u0432\u043e\u0439 \u0441\u0442\u0440\u043e\u043a\u0435\n",
        "masks = best_dbox_ious > criteria\n",
        "labels_out = torch.zeros(nboxes, dtype=torch.long)\n",
        "\n",
        "\n",
        "\n",
        "\n",
        "best_dbox_idx.shape\n"
      ]
    },
    {
      "cell_type": "code",
      "execution_count": null,
      "id": "cb0bb0fa",
      "metadata": {},
      "outputs": [],
      "source": []
    },
    {
      "cell_type": "code",
      "execution_count": null,
      "id": "efff6664",
      "metadata": {},
      "outputs": [],
      "source": []
    },
    {
      "cell_type": "code",
      "execution_count": null,
      "id": "25c5c024",
      "metadata": {},
      "outputs": [
        {
          "data": {
            "text/plain": [
              "tensor([ 0,  1,  2,  3,  4,  5,  6,  7,  8,  9, 10, 11,  5,  3,  5,  7, 16,  5,\n",
              "        18])"
            ]
          },
          "execution_count": 72,
          "metadata": {},
          "output_type": "execute_result"
        }
      ],
      "source": [
        "labelsbest_dbox_idx[best_bbox_idx[idx]]"
      ]
    },
    {
      "cell_type": "code",
      "execution_count": null,
      "id": "e042be05",
      "metadata": {},
      "outputs": [
        {
          "data": {
            "text/plain": [
              "tensor([5219, 8558, 8488, 5214, 2663, 2475, 6310, 2357, 5289, 5291,  579,  389,\n",
              "        3881, 5177, 3881, 3841, 6348, 3881, 6685])"
            ]
          },
          "execution_count": 74,
          "metadata": {},
          "output_type": "execute_result"
        }
      ],
      "source": [
        "best_bbox_idx "
      ]
    },
    {
      "cell_type": "code",
      "execution_count": null,
      "id": "e278b52c",
      "metadata": {},
      "outputs": [
        {
          "data": {
            "text/plain": [
              "tensor([2., 2., 2., 2., 2., 2., 2., 2., 2., 2., 2., 2., 2., 2., 2., 2., 2., 2.,\n",
              "        2.])"
            ]
          },
          "execution_count": 65,
          "metadata": {},
          "output_type": "execute_result"
        }
      ],
      "source": [
        "best_dbox_ious[best_bbox_idx]"
      ]
    },
    {
      "cell_type": "code",
      "execution_count": null,
      "id": "ca65d7a0",
      "metadata": {},
      "outputs": [
        {
          "data": {
            "text/plain": [
              "tensor([ 0,  1,  2,  3,  4,  5,  6,  7,  8,  9, 10, 11, 17, 13, 17, 15, 16, 17,\n",
              "        18])"
            ]
          },
          "execution_count": 66,
          "metadata": {},
          "output_type": "execute_result"
        }
      ],
      "source": [
        "best_dbox_idx[best_bbox_idx]"
      ]
    },
    {
      "cell_type": "code",
      "execution_count": null,
      "id": "12cf03f7",
      "metadata": {},
      "outputs": [],
      "source": []
    },
    {
      "cell_type": "code",
      "execution_count": null,
      "id": "b782448a",
      "metadata": {},
      "outputs": [],
      "source": [
        "a = best_dbox_idx.clone().detach()"
      ]
    },
    {
      "cell_type": "code",
      "execution_count": null,
      "id": "360a3e24",
      "metadata": {},
      "outputs": [],
      "source": []
    },
    {
      "cell_type": "code",
      "execution_count": null,
      "id": "d578a741",
      "metadata": {},
      "outputs": [
        {
          "data": {
            "text/plain": [
              "torch.Size([8732])"
            ]
          },
          "execution_count": 23,
          "metadata": {},
          "output_type": "execute_result"
        }
      ],
      "source": [
        "best_dbox_ious.shape"
      ]
    },
    {
      "cell_type": "code",
      "execution_count": null,
      "id": "19e00c11",
      "metadata": {},
      "outputs": [
        {
          "data": {
            "text/plain": [
              "tensor([ 389,  579, 2357, 2475, 2663, 3841, 3881, 5177, 5214, 5219, 5289, 5291,\n",
              "        6310, 6348, 6685, 8488, 8558])"
            ]
          },
          "execution_count": 29,
          "metadata": {},
          "output_type": "execute_result"
        }
      ],
      "source": [
        "best_bbox_idx.unique()"
      ]
    },
    {
      "cell_type": "code",
      "execution_count": null,
      "id": "b7449863",
      "metadata": {},
      "outputs": [
        {
          "data": {
            "text/plain": [
              "torch.Size([8732])"
            ]
          },
          "execution_count": 31,
          "metadata": {},
          "output_type": "execute_result"
        }
      ],
      "source": [
        "best_dbox_idx.shape"
      ]
    },
    {
      "cell_type": "code",
      "execution_count": null,
      "id": "7279016d",
      "metadata": {},
      "outputs": [],
      "source": []
    }
  ],
  "metadata": {
    "kernelspec": {
      "display_name": "Python 3 (ipykernel)",
      "language": "python",
      "name": "python3"
    },
    "language_info": {
      "codemirror_mode": {
        "name": "ipython",
        "version": 3
      },
      "file_extension": ".py",
      "mimetype": "text/x-python",
      "name": "python",
      "nbconvert_exporter": "python",
      "pygments_lexer": "ipython3",
      "version": "3.9.0"
    }
  },
  "nbformat": 4,
  "nbformat_minor": 5
}
