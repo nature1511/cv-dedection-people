{
  "cells": [
    {
      "cell_type": "code",
      "execution_count": 9,
      "id": "534fd838",
      "metadata": {},
      "outputs": [],
      "source": [
        "import numpy as np\n",
        "import torch\n",
        "\n",
        "from config.config import Configs\n",
        "from pycocotools.coco import COCO\n",
        "import json\n",
        "import cv2\n",
        "from ssd.utils_ssd300 import dboxes300_coco\n",
        "from train_model.train_loader import  CocoDataReader\n",
        "from ssd.utils_ssd300 import calc_iou_tensor\n",
        "from ssd.create_model import nvidia_ssd"
      ]
    },
    {
      "cell_type": "code",
      "execution_count": 10,
      "id": "b496fe73",
      "metadata": {},
      "outputs": [
        {
          "name": "stdout",
          "output_type": "stream",
          "text": [
            "---loading model weights and saving to ssd folder--- \n"
          ]
        }
      ],
      "source": [
        "model = nvidia_ssd(\n",
        "        pretrained_default=True,\n",
        "        pretrainded_custom=False,\n",
        "    )"
      ]
    },
    {
      "cell_type": "code",
      "execution_count": null,
      "id": "12c6098e",
      "metadata": {},
      "outputs": [],
      "source": []
    },
    {
      "cell_type": "code",
      "execution_count": null,
      "id": "4edc25a4",
      "metadata": {},
      "outputs": [],
      "source": []
    },
    {
      "cell_type": "code",
      "execution_count": null,
      "id": "379aa012",
      "metadata": {},
      "outputs": [],
      "source": []
    },
    {
      "cell_type": "code",
      "execution_count": 10,
      "id": "2dcdb1c2",
      "metadata": {},
      "outputs": [
        {
          "name": "stdout",
          "output_type": "stream",
          "text": [
            "72\n"
          ]
        }
      ],
      "source": [
        "configs = Configs()\n",
        "torch.manual_seed(configs.random_seed)\n",
        "np.random.seed(seed=configs.random_seed)\n",
        "    #cocoGt =  get_coco_ground_truth()\n",
        "    #print(cocoGt) # coco \u0430\u043d\u043d\u043e\u0442\u0430\u0446\u0438\u0438, \u043f\u043e\u043a\u0430 \u0440\u0435\u0448\u0438\u043b \u0441\u0434\u0435\u043b\u0430\u0442\u044c \u0432\u0441\u0435 \u043a\u0430\u043a \u0432 \u0438\u0441\u0445\u043e\u0434\u043d\u0438\u043a\u0435\n",
        "    \n",
        "dboxes_class = dboxes300_coco()\n",
        "    #print(dboxes.dboxes.shape) # \u0441\u043e\u0437\u0434\u0430\u043b \u0434\u0435\u0444\u043e\u043b\u0442\u043d\u044b\u0435 bbx [8732, 4]\n",
        "annotate_file = 'COCOdata\\\\annotations\\\\instances_val2017.json'\n",
        "datareader = CocoDataReader(\n",
        "img_folder='COCOdata\\\\val2017\\\\',\n",
        "annotate_file=annotate_file)\n",
        "    \n",
        "    #print(datareader.img_keys)\n",
        "    \n",
        "     #input ltrb format, output xywh format\n",
        "img, img_id, size_image, bbox_sizes, bbox_labels = datareader[0]\n",
        "\n",
        "\n",
        "dboxes_xywh = dboxes_class(order=\"xywh\").unsqueeze(dim=0)\n",
        "dboxes = dboxes_class(\"ltrb\")\n",
        "nboxes = dboxes.size(0)\n",
        "scale_xy = dboxes_class.scale_xy\n",
        "scale_wh = dboxes_class.scale_wh"
      ]
    },
    {
      "cell_type": "code",
      "execution_count": 58,
      "id": "25060682",
      "metadata": {},
      "outputs": [],
      "source": [
        "ious = calc_iou_tensor(bbox_sizes, dboxes) # [n_boxes, 8732]\n",
        "\n"
      ]
    },
    {
      "cell_type": "code",
      "execution_count": 81,
      "id": "2984b85b",
      "metadata": {},
      "outputs": [
        {
          "data": {
            "text/plain": [
              "torch.Size([8732])"
            ]
          },
          "execution_count": 81,
          "metadata": {},
          "output_type": "execute_result"
        }
      ],
      "source": [
        " criteria = 0.5\n",
        "\n",
        "best_dbox_ious, best_dbox_idx  = ious.max(dim =0) # \u0432\u044b\u0434\u0430\u0435\u0442 \u043d\u043e\u043c\u0435\u0440\u0430 (\u0441\u0442\u0440\u043e\u043a) \u0431\u0431\u043e\u0445, \u043a\u043e\u0442\u043e\u0440\u044b\u0435 \u043d\u0430\u0431\u0438\u043b\u0435\u0435 \u044e\u043b\u0438\u0437\u043a\u0438 \u043a \u044f\u043a\u043e\u0440\u043d\u044b\u043c, \u043c\u0430\u0441\u0441\u0438\u0432 \u0440\u0430\u0437\u043c\u0435\u0440\u0430 8732\n",
        "\n",
        "best_bbox_ious, best_bbox_idx = ious.max(dim = 1) # \u043d\u043e\u043c\u0435\u0440 (\u0441\u0442\u043e\u043b\u0431\u0446\u043e\u0432) \u044f\u043a\u043e\u0440\u043d\u044b\u0445 \u0431\u0431\u0445, \u0431\u043b\u0438\u0437\u043a\u0438\u0445 \u043a \u043f\u0435\u0440\u0435\u0434\u0430\u043d\u043d\u044b\u043c \u0440\u0430\u0437\u043c\u0435\u0440 \u043c\u0430\u0441\u0441\u0438\u0432\u0430 19 \n",
        "\n",
        "#best_bbox_idx = \u043d\u043e\u043c\u0435\u0440\u0430 \u0441\u0442\u043e\u043b\u0431\u0446\u043e\u0432, \u0432 \u043a\u043e\u0442\u043e\u0440\u044b\u0445 \u043c\u0430\u043a\u0441\u0438\u043c\u0443\u043c \u0434\u043b\u044f \u043a\u0430\u0436\u0434\u043e\u0439 \u0438\u0437 \u0441\u0442\u0440\u043e\u043a!!!! \u0442.\u0435. \u043f\u0435\u0440\u0432\u043e\u0435 \u0447\u0438\u0441\u043b\u043e - \u043c\u0430\u043a\u0441\u0438\u043c\u0443\u043c \u0432 \u043f\u0435\u0440\u0432\u043e\u0439 \u0441\u0442\u0440\u043e\u043a\u0435\n",
        "\n",
        "# \u043f\u043e\u043c\u0435\u0449\u0430\u0435\u043c \u043c\u0430\u043a\u0441\u0438\u043c\u0443\u043c ious =2  \u043d\u0430 \u0442\u0435 \u043f\u043e\u0437\u0438\u0446\u0438\u0438 \u0441\u0442\u0440\u043e\u043a, \u0434\u043b\u044f \u043a\u043e\u0442\u043e\u0440\u044b\u0445 axis =1 \u0438\u043c\u0435\u0435\u0442 \u043c\u0430\u043a\u0441\u0438\u043c\u0443\u043c ()\n",
        "best_dbox_ious.index_fill_(0, best_bbox_idx, 2.0)\n",
        "\n",
        "idx = torch.arange(0, best_bbox_idx.size(0), dtype=torch.int64)# \u0442.\u043a. \u0434\u043b\u044f \u043a\u0430\u0436\u0434\u043e\u0439 \u0441\u0442\u0440\u043e\u043a\u0438 \u043c\u044b \u043d\u0430\u0448\u043b\u0438 \u043c\u0430\u043a\u0441\u0438\u043c\u0443\u043c, \u0442\u043e \u043d\u0435\u043e\u0431\u0445\u043e\u0434\u0438\u043c\u043e \u043f\u043e\u043b\u043e\u0436\u0438\u0442\u044c \u043d\u043e\u043c\u0435\u0440\u0430 \u0441\u0442\u0440\u043e\u043a \u0432 \u043f\u0440\u0430\u0432\u0438\u043b\u044c\u043d\u043e\u043c \u043f\u043e\u0440\u044f\u0434\u043a\u0435\n",
        "best_dbox_idx[best_bbox_idx[idx]] = idx #  \u043c\u0430\u043a\u0441\u0438\u043c\u0443\u043c\u044b \u0434\u043b\u044f \u043a\u0430\u0436\u0434\u043e\u0439 \u0438\u0437 \u0441\u0442\u0440\u043e\u043a!!!! \u0442.\u0435. \u043f\u0435\u0440\u0432\u043e\u0435 \u0447\u0438\u0441\u043b\u043e - \u043c\u0430\u043a\u0441\u0438\u043c\u0443\u043c \u0432 \u043f\u0435\u0440\u0432\u043e\u0439 \u0441\u0442\u0440\u043e\u043a\u0435\n",
        "masks = best_dbox_ious > criteria\n",
        "labels_out = torch.zeros(nboxes, dtype=torch.long)\n",
        "\n",
        "\n",
        "\n",
        "\n",
        "best_dbox_idx.shape\n"
      ]
    },
    {
      "cell_type": "code",
      "execution_count": null,
      "id": "cb0bb0fa",
      "metadata": {},
      "outputs": [],
      "source": []
    },
    {
      "cell_type": "code",
      "execution_count": null,
      "id": "efff6664",
      "metadata": {},
      "outputs": [],
      "source": []
    },
    {
      "cell_type": "code",
      "execution_count": 72,
      "id": "25c5c024",
      "metadata": {},
      "outputs": [
        {
          "data": {
            "text/plain": [
              "tensor([ 0,  1,  2,  3,  4,  5,  6,  7,  8,  9, 10, 11,  5,  3,  5,  7, 16,  5,\n",
              "        18])"
            ]
          },
          "execution_count": 72,
          "metadata": {},
          "output_type": "execute_result"
        }
      ],
      "source": [
        "labelsbest_dbox_idx[best_bbox_idx[idx]]"
      ]
    },
    {
      "cell_type": "code",
      "execution_count": 74,
      "id": "e042be05",
      "metadata": {},
      "outputs": [
        {
          "data": {
            "text/plain": [
              "tensor([5219, 8558, 8488, 5214, 2663, 2475, 6310, 2357, 5289, 5291,  579,  389,\n",
              "        3881, 5177, 3881, 3841, 6348, 3881, 6685])"
            ]
          },
          "execution_count": 74,
          "metadata": {},
          "output_type": "execute_result"
        }
      ],
      "source": [
        "best_bbox_idx "
      ]
    },
    {
      "cell_type": "code",
      "execution_count": 65,
      "id": "e278b52c",
      "metadata": {},
      "outputs": [
        {
          "data": {
            "text/plain": [
              "tensor([2., 2., 2., 2., 2., 2., 2., 2., 2., 2., 2., 2., 2., 2., 2., 2., 2., 2.,\n",
              "        2.])"
            ]
          },
          "execution_count": 65,
          "metadata": {},
          "output_type": "execute_result"
        }
      ],
      "source": [
        "best_dbox_ious[best_bbox_idx]"
      ]
    },
    {
      "cell_type": "code",
      "execution_count": 66,
      "id": "ca65d7a0",
      "metadata": {},
      "outputs": [
        {
          "data": {
            "text/plain": [
              "tensor([ 0,  1,  2,  3,  4,  5,  6,  7,  8,  9, 10, 11, 17, 13, 17, 15, 16, 17,\n",
              "        18])"
            ]
          },
          "execution_count": 66,
          "metadata": {},
          "output_type": "execute_result"
        }
      ],
      "source": [
        "best_dbox_idx[best_bbox_idx]"
      ]
    },
    {
      "cell_type": "code",
      "execution_count": null,
      "id": "12cf03f7",
      "metadata": {},
      "outputs": [],
      "source": []
    },
    {
      "cell_type": "code",
      "execution_count": 35,
      "id": "b782448a",
      "metadata": {},
      "outputs": [],
      "source": [
        "a = best_dbox_idx.clone().detach()"
      ]
    },
    {
      "cell_type": "code",
      "execution_count": null,
      "id": "360a3e24",
      "metadata": {},
      "outputs": [],
      "source": []
    },
    {
      "cell_type": "code",
      "execution_count": 23,
      "id": "d578a741",
      "metadata": {},
      "outputs": [
        {
          "data": {
            "text/plain": [
              "torch.Size([8732])"
            ]
          },
          "execution_count": 23,
          "metadata": {},
          "output_type": "execute_result"
        }
      ],
      "source": [
        "best_dbox_ious.shape"
      ]
    },
    {
      "cell_type": "code",
      "execution_count": 29,
      "id": "19e00c11",
      "metadata": {},
      "outputs": [
        {
          "data": {
            "text/plain": [
              "tensor([ 389,  579, 2357, 2475, 2663, 3841, 3881, 5177, 5214, 5219, 5289, 5291,\n",
              "        6310, 6348, 6685, 8488, 8558])"
            ]
          },
          "execution_count": 29,
          "metadata": {},
          "output_type": "execute_result"
        }
      ],
      "source": [
        "best_bbox_idx.unique()"
      ]
    },
    {
      "cell_type": "code",
      "execution_count": 31,
      "id": "b7449863",
      "metadata": {},
      "outputs": [
        {
          "data": {
            "text/plain": [
              "torch.Size([8732])"
            ]
          },
          "execution_count": 31,
          "metadata": {},
          "output_type": "execute_result"
        }
      ],
      "source": [
        "best_dbox_idx.shape"
      ]
    },
    {
      "cell_type": "code",
      "execution_count": null,
      "id": "7279016d",
      "metadata": {},
      "outputs": [],
      "source": []
    }
  ],
  "metadata": {
    "kernelspec": {
      "display_name": "Python 3 (ipykernel)",
      "language": "python",
      "name": "python3"
    },
    "language_info": {
      "codemirror_mode": {
        "name": "ipython",
        "version": 3
      },
      "file_extension": ".py",
      "mimetype": "text/x-python",
      "name": "python",
      "nbconvert_exporter": "python",
      "pygments_lexer": "ipython3",
      "version": "3.9.0"
    }
  },
  "nbformat": 4,
  "nbformat_minor": 5
}
