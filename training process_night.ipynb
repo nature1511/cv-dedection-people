{
  "cells": [
    {
      "cell_type": "code",
      "execution_count": 1,
      "metadata": {},
      "outputs": [
        {
          "name": "stderr",
          "output_type": "stream",
          "text": [
            "c:\\Users\\123\\Desktop\\torch cuda\\.venv\\lib\\site-packages\\torchaudio\\backend\\utils.py:74: UserWarning: No audio backend is available.\n",
            "  warnings.warn(\"No audio backend is available.\")\n",
            "c:\\Users\\123\\Desktop\\torch cuda\\.venv\\lib\\site-packages\\tqdm\\auto.py:21: TqdmWarning: IProgress not found. Please update jupyter and ipywidgets. See https://ipywidgets.readthedocs.io/en/stable/user_install.html\n",
            "  from .autonotebook import tqdm as notebook_tqdm\n"
          ]
        }
      ],
      "source": [
        "import numpy as np\n",
        "import torch\n",
        "\n",
        "from ssd.utils_ssd300 import dboxes300_coco\n",
        "from ssd.create_model import nvidia_ssd\n",
        "from ssd.utils_ssd300 import Encoder\n",
        "from ssd.model import Loss, SSD300\n",
        "from ssd.SSD_Transformers import SSDTransformer\n",
        "from utils.utils import set_seed\n",
        "from train_model import train_model\n",
        "\n",
        "\n",
        "from torch.utils.data import DataLoader\n",
        "\n",
        "from config.config import Configs\n",
        "from ssd.model_eval import model_evaluate\n",
        "\n",
        "from ssd.decode_results import Processing as processing\n",
        "from ssd.loaser_crowdhuman import CrowdHuman\n"
      ]
    },
    {
      "cell_type": "code",
      "execution_count": 3,
      "metadata": {},
      "outputs": [
        {
          "data": {
            "text/plain": [
              "<All keys matched successfully>"
            ]
          },
          "execution_count": 3,
          "metadata": {},
          "output_type": "execute_result"
        }
      ],
      "source": [
        "device = 'cuda'\n",
        "ssd_300 = nvidia_ssd(device=device, pretrainded_custom=False, pretrained_default=True)\n",
        "\n",
        "feat_ext_w = ssd_300.feature_extractor.state_dict()\n",
        "\n",
        "model = SSD300(label_num=3)\n",
        "model = model.cuda()\n",
        "\n",
        "model.feature_extractor.load_state_dict(feat_ext_w)\n"
      ]
    },
    {
      "cell_type": "code",
      "execution_count": 2,
      "metadata": {},
      "outputs": [
        {
          "ename": "NameError",
          "evalue": "name 'model' is not defined",
          "output_type": "error",
          "traceback": [
            "\u001b[1;31m---------------------------------------------------------------------------\u001b[0m",
            "\u001b[1;31mNameError\u001b[0m                                 Traceback (most recent call last)",
            "Cell \u001b[1;32mIn[2], line 4\u001b[0m\n\u001b[0;32m      1\u001b[0m batch_size \u001b[39m=\u001b[39m \u001b[39m32\u001b[39m\n\u001b[0;32m      2\u001b[0m device \u001b[39m=\u001b[39m \u001b[39m\"\u001b[39m\u001b[39mcuda\u001b[39m\u001b[39m\"\u001b[39m\n\u001b[1;32m----> 4\u001b[0m \u001b[39mfor\u001b[39;00m param \u001b[39min\u001b[39;00m model\u001b[39m.\u001b[39mparameters():\n\u001b[0;32m      5\u001b[0m     param\u001b[39m.\u001b[39mrequires_grad \u001b[39m=\u001b[39m \u001b[39mTrue\u001b[39;00m\n\u001b[0;32m      7\u001b[0m \u001b[39mfor\u001b[39;00m param \u001b[39min\u001b[39;00m model\u001b[39m.\u001b[39mfeature_extractor\u001b[39m.\u001b[39mparameters():\n",
            "\u001b[1;31mNameError\u001b[0m: name 'model' is not defined"
          ]
        }
      ],
      "source": [
        "batch_size = 32\n",
        "device = \"cuda\"\n",
        "\n",
        "for param in model.parameters():\n",
        "    param.requires_grad = True\n",
        "\n",
        "for param in model.feature_extractor.parameters():\n",
        "    param.requires_grad = False\n",
        "\n",
        "dboxes = dboxes300_coco()\n",
        "encoder = Encoder(dboxes)\n",
        "\n",
        "loss_func = Loss(dboxes, device=device)\n",
        "transformers_ssd_train = SSDTransformer(dboxes, size=(300, 300), val=False)\n",
        "transformers_ssd_val = SSDTransformer(dboxes, size=(300, 300), val=True)\n",
        "set_seed()\n",
        "data_train = CrowdHuman(\n",
        "    img_folder=\"data\\\\train\\\\\",\n",
        "    annotate_file=\"data\\\\annotation_train.json\",\n",
        "    transform=transformers_ssd_train,\n",
        "    use_head_bbx=True,\n",
        ")\n",
        "\n",
        "\n",
        "train_dataloader = DataLoader(\n",
        "    data_train,\n",
        "    batch_size=batch_size,\n",
        "    shuffle=True \n",
        ")\n",
        "\n",
        "\n",
        "data_val = CrowdHuman(\n",
        "    img_folder=\"data\\\\val\\\\\",\n",
        "    annotate_file=\"data\\\\annotation_val.json\",\n",
        "    transform=transformers_ssd_val,\n",
        "    use_head_bbx=True,\n",
        ")\n",
        "\n",
        "val_dataloader = DataLoader(\n",
        "    data_val,\n",
        "    batch_size=batch_size,\n",
        "    shuffle=False,  \n",
        ")\n",
        "\n",
        "\n",
        "# https://www.kaggle.com/code/billiemage/understand-lr-scheduler-with-simple-examples\n",
        "params = [p for p in model.parameters() if p.requires_grad]\n",
        "optimizer = torch.optim.SGD(params, lr=2.6e-3, momentum=0.9, nesterov=True)\n",
        "\n",
        "scheduler = torch.optim.lr_scheduler.StepLR(\n",
        "    optimizer=optimizer, step_size=15, gamma=0.1, verbose=True\n",
        ")"
      ]
    },
    {
      "cell_type": "code",
      "execution_count": 4,
      "metadata": {},
      "outputs": [
        {
          "name": "stdout",
          "output_type": "stream",
          "text": [
            "\n",
            "EPOCH 1 of 60\n",
            "Training\n"
          ]
        },
        {
          "name": "stderr",
          "output_type": "stream",
          "text": [
            "100%|\u2588\u2588\u2588\u2588\u2588\u2588\u2588\u2588\u2588\u2588| 235/235 [08:01<00:00,  2.05s/it]\n"
          ]
        },
        {
          "name": "stdout",
          "output_type": "stream",
          "text": [
            "Evaluating\n"
          ]
        },
        {
          "name": "stderr",
          "output_type": "stream",
          "text": [
            "100%|\u2588\u2588\u2588\u2588\u2588\u2588\u2588\u2588\u2588\u2588| 47/47 [04:26<00:00,  5.67s/it]\n",
            "c:\\Users\\123\\Desktop\\torch cuda\\.venv\\lib\\site-packages\\torchmetrics\\utilities\\prints.py:42: UserWarning: Encountered more than 100 detections in a single image. This means that certain detections with the lowest scores will be ignored, that may have an undesirable impact on performance. Please consider adjusting the `max_detection_threshold` to suit your use case. To disable this warning, set attribute class `warn_on_many_detections=False`, after initializing the metric.\n",
            "  warnings.warn(*args, **kwargs)  # noqa: B028\n"
          ]
        },
        {
          "name": "stdout",
          "output_type": "stream",
          "text": [
            "Epoch #1 train loss: 5.910\n",
            "Epoch #1 mAP: 0.08702201396226883\n",
            "Epoch #1 mAP_50: 0.2631731331348419\n",
            "Epoch #1 best mAP: 0.08702201396226883 at epoch = 1\n",
            "Took 13.548 minutes for epoch 1\n",
            "Adjusting learning rate of group 0 to 2.6000e-03.\n",
            "\n",
            "EPOCH 2 of 60\n",
            "Training\n"
          ]
        },
        {
          "name": "stderr",
          "output_type": "stream",
          "text": [
            "100%|\u2588\u2588\u2588\u2588\u2588\u2588\u2588\u2588\u2588\u2588| 235/235 [09:02<00:00,  2.31s/it]\n"
          ]
        },
        {
          "name": "stdout",
          "output_type": "stream",
          "text": [
            "Evaluating\n"
          ]
        },
        {
          "name": "stderr",
          "output_type": "stream",
          "text": [
            "100%|\u2588\u2588\u2588\u2588\u2588\u2588\u2588\u2588\u2588\u2588| 47/47 [04:26<00:00,  5.68s/it]\n"
          ]
        },
        {
          "name": "stdout",
          "output_type": "stream",
          "text": [
            "Epoch #2 train loss: 4.720\n",
            "Epoch #2 mAP: 0.1004694476723671\n",
            "Epoch #2 mAP_50: 0.28193238377571106\n",
            "Epoch #2 best mAP: 0.1004694476723671 at epoch = 2\n",
            "Took 14.563 minutes for epoch 2\n",
            "Adjusting learning rate of group 0 to 2.6000e-03.\n",
            "\n",
            "EPOCH 3 of 60\n",
            "Training\n"
          ]
        },
        {
          "name": "stderr",
          "output_type": "stream",
          "text": [
            "100%|\u2588\u2588\u2588\u2588\u2588\u2588\u2588\u2588\u2588\u2588| 235/235 [08:12<00:00,  2.10s/it]\n"
          ]
        },
        {
          "name": "stdout",
          "output_type": "stream",
          "text": [
            "Evaluating\n"
          ]
        },
        {
          "name": "stderr",
          "output_type": "stream",
          "text": [
            "100%|\u2588\u2588\u2588\u2588\u2588\u2588\u2588\u2588\u2588\u2588| 47/47 [04:17<00:00,  5.47s/it]\n"
          ]
        },
        {
          "name": "stdout",
          "output_type": "stream",
          "text": [
            "Epoch #3 train loss: 4.503\n",
            "Epoch #3 mAP: 0.10651034861803055\n",
            "Epoch #3 mAP_50: 0.28934186697006226\n",
            "Epoch #3 best mAP: 0.10651034861803055 at epoch = 3\n",
            "Took 13.535 minutes for epoch 3\n",
            "Adjusting learning rate of group 0 to 2.6000e-03.\n",
            "\n",
            "EPOCH 4 of 60\n",
            "Training\n"
          ]
        },
        {
          "name": "stderr",
          "output_type": "stream",
          "text": [
            "100%|\u2588\u2588\u2588\u2588\u2588\u2588\u2588\u2588\u2588\u2588| 235/235 [08:12<00:00,  2.10s/it]\n"
          ]
        },
        {
          "name": "stdout",
          "output_type": "stream",
          "text": [
            "Evaluating\n"
          ]
        },
        {
          "name": "stderr",
          "output_type": "stream",
          "text": [
            "100%|\u2588\u2588\u2588\u2588\u2588\u2588\u2588\u2588\u2588\u2588| 47/47 [04:13<00:00,  5.40s/it]\n"
          ]
        },
        {
          "name": "stdout",
          "output_type": "stream",
          "text": [
            "Epoch #4 train loss: 4.415\n",
            "Epoch #4 mAP: 0.11293190717697144\n",
            "Epoch #4 mAP_50: 0.3024168908596039\n",
            "Epoch #4 best mAP: 0.11293190717697144 at epoch = 4\n",
            "Took 13.496 minutes for epoch 4\n",
            "Adjusting learning rate of group 0 to 2.6000e-03.\n",
            "\n",
            "EPOCH 5 of 60\n",
            "Training\n"
          ]
        },
        {
          "name": "stderr",
          "output_type": "stream",
          "text": [
            "100%|\u2588\u2588\u2588\u2588\u2588\u2588\u2588\u2588\u2588\u2588| 235/235 [08:18<00:00,  2.12s/it]\n"
          ]
        },
        {
          "name": "stdout",
          "output_type": "stream",
          "text": [
            "Evaluating\n"
          ]
        },
        {
          "name": "stderr",
          "output_type": "stream",
          "text": [
            "100%|\u2588\u2588\u2588\u2588\u2588\u2588\u2588\u2588\u2588\u2588| 47/47 [04:19<00:00,  5.51s/it]\n"
          ]
        },
        {
          "name": "stdout",
          "output_type": "stream",
          "text": [
            "Epoch #5 train loss: 4.339\n",
            "Epoch #5 mAP: 0.11312147229909897\n",
            "Epoch #5 mAP_50: 0.29988348484039307\n",
            "Epoch #5 best mAP: 0.11312147229909897 at epoch = 5\n",
            "Took 13.682 minutes for epoch 5\n",
            "Adjusting learning rate of group 0 to 2.6000e-03.\n",
            "\n",
            "EPOCH 6 of 60\n",
            "Training\n"
          ]
        },
        {
          "name": "stderr",
          "output_type": "stream",
          "text": [
            "100%|\u2588\u2588\u2588\u2588\u2588\u2588\u2588\u2588\u2588\u2588| 235/235 [08:05<00:00,  2.06s/it]\n"
          ]
        },
        {
          "name": "stdout",
          "output_type": "stream",
          "text": [
            "Evaluating\n"
          ]
        },
        {
          "name": "stderr",
          "output_type": "stream",
          "text": [
            "100%|\u2588\u2588\u2588\u2588\u2588\u2588\u2588\u2588\u2588\u2588| 47/47 [04:11<00:00,  5.35s/it]\n"
          ]
        },
        {
          "name": "stdout",
          "output_type": "stream",
          "text": [
            "Epoch #6 train loss: 4.311\n",
            "Epoch #6 mAP: 0.11849954724311829\n",
            "Epoch #6 mAP_50: 0.3135037422180176\n",
            "Epoch #6 best mAP: 0.11849954724311829 at epoch = 6\n",
            "Took 13.330 minutes for epoch 6\n",
            "Adjusting learning rate of group 0 to 2.6000e-03.\n",
            "\n",
            "EPOCH 7 of 60\n",
            "Training\n"
          ]
        },
        {
          "name": "stderr",
          "output_type": "stream",
          "text": [
            "100%|\u2588\u2588\u2588\u2588\u2588\u2588\u2588\u2588\u2588\u2588| 235/235 [08:16<00:00,  2.11s/it]\n"
          ]
        },
        {
          "name": "stdout",
          "output_type": "stream",
          "text": [
            "Evaluating\n"
          ]
        },
        {
          "name": "stderr",
          "output_type": "stream",
          "text": [
            "100%|\u2588\u2588\u2588\u2588\u2588\u2588\u2588\u2588\u2588\u2588| 47/47 [04:19<00:00,  5.52s/it]\n"
          ]
        },
        {
          "name": "stdout",
          "output_type": "stream",
          "text": [
            "Epoch #7 train loss: 4.251\n",
            "Epoch #7 mAP: 0.11875589191913605\n",
            "Epoch #7 mAP_50: 0.3108709156513214\n",
            "Epoch #7 best mAP: 0.11875589191913605 at epoch = 7\n",
            "Took 13.615 minutes for epoch 7\n",
            "Adjusting learning rate of group 0 to 2.6000e-03.\n",
            "\n",
            "EPOCH 8 of 60\n",
            "Training\n"
          ]
        },
        {
          "name": "stderr",
          "output_type": "stream",
          "text": [
            "100%|\u2588\u2588\u2588\u2588\u2588\u2588\u2588\u2588\u2588\u2588| 235/235 [07:55<00:00,  2.02s/it]\n"
          ]
        },
        {
          "name": "stdout",
          "output_type": "stream",
          "text": [
            "Evaluating\n"
          ]
        },
        {
          "name": "stderr",
          "output_type": "stream",
          "text": [
            "100%|\u2588\u2588\u2588\u2588\u2588\u2588\u2588\u2588\u2588\u2588| 47/47 [04:08<00:00,  5.28s/it]\n"
          ]
        },
        {
          "name": "stdout",
          "output_type": "stream",
          "text": [
            "Epoch #8 train loss: 4.237\n",
            "Epoch #8 mAP: 0.12148811668157578\n",
            "Epoch #8 mAP_50: 0.3175870478153229\n",
            "Epoch #8 best mAP: 0.12148811668157578 at epoch = 8\n",
            "Took 13.113 minutes for epoch 8\n",
            "Adjusting learning rate of group 0 to 2.6000e-03.\n",
            "\n",
            "EPOCH 9 of 60\n",
            "Training\n"
          ]
        },
        {
          "name": "stderr",
          "output_type": "stream",
          "text": [
            "100%|\u2588\u2588\u2588\u2588\u2588\u2588\u2588\u2588\u2588\u2588| 235/235 [08:14<00:00,  2.10s/it]\n"
          ]
        },
        {
          "name": "stdout",
          "output_type": "stream",
          "text": [
            "Evaluating\n"
          ]
        },
        {
          "name": "stderr",
          "output_type": "stream",
          "text": [
            "100%|\u2588\u2588\u2588\u2588\u2588\u2588\u2588\u2588\u2588\u2588| 47/47 [04:17<00:00,  5.48s/it]\n"
          ]
        },
        {
          "name": "stdout",
          "output_type": "stream",
          "text": [
            "Epoch #9 train loss: 4.200\n",
            "Epoch #9 mAP: 0.11835592240095139\n",
            "Epoch #9 mAP_50: 0.3074338436126709\n",
            "Epoch #9 best mAP: 0.12148811668157578 at epoch = 8\n",
            "Took 13.567 minutes for epoch 9\n",
            "Adjusting learning rate of group 0 to 2.6000e-03.\n",
            "\n",
            "EPOCH 10 of 60\n",
            "Training\n"
          ]
        },
        {
          "name": "stderr",
          "output_type": "stream",
          "text": [
            " 63%|\u2588\u2588\u2588\u2588\u2588\u2588\u258e   | 149/235 [05:13<03:12,  2.24s/it]"
          ]
        }
      ],
      "source": [
        "train_model(\n",
        "    model=model,\n",
        "    encoder = encoder,\n",
        "    num_epoch=60,\n",
        "    optimizer=optimizer,\n",
        "    loss_func = loss_func,\n",
        "    train_dataloader = train_dataloader,\n",
        "    val_dataloader = val_dataloader,\n",
        "    device  = device,\n",
        "    scheduler=scheduler,\n",
        "    path_to_save=Configs.path_to_save_state_model,\n",
        "    use_pick_best=Configs.use_pick_best_in_eval\n",
        ")"
      ]
    },
    {
      "cell_type": "code",
      "execution_count": null,
      "metadata": {},
      "outputs": [],
      "source": []
    },
    {
      "cell_type": "markdown",
      "metadata": {},
      "source": [
        "# \u0422\u0443\u0442 \u043f\u0440\u043e\u0438\u0437\u043e\u0448\u0435\u043b \u043e\u0431\u0440\u044b\u0432 \u0432 \u043e\u0431\u0443\u0447\u0435\u043d\u0438\u0438, \u043f\u0440\u0438\u0448\u043b\u043e\u0441\u044c "
      ]
    },
    {
      "cell_type": "code",
      "execution_count": 5,
      "metadata": {},
      "outputs": [],
      "source": [
        "checkpoint = torch.load('weight\\state best_model_at_8.pth')\n",
        "model.load_state_dict(checkpoint['model_state'])\n",
        "#optimizer.load_state_dict(checkpoint['optimizer_state'])\n",
        "#scheduler.load_state_dict(checkpoint['lr_scheduler_state'])\n",
        "for param in model.parameters():\n",
        "    param.requires_grad = True\n",
        "\n",
        "for param in model.feature_extractor.parameters():\n",
        "    param.requires_grad = False"
      ]
    },
    {
      "cell_type": "code",
      "execution_count": 6,
      "metadata": {},
      "outputs": [
        {
          "name": "stdout",
          "output_type": "stream",
          "text": [
            "Adjusting learning rate of group 0 to 2.6000e-03.\n"
          ]
        }
      ],
      "source": [
        "params = [p for p in model.parameters() if p.requires_grad]\n",
        "optimizer = torch.optim.SGD(params, lr=2.6e-3, momentum=0.9, nesterov=True)\n",
        "#\n",
        "\n",
        "scheduler = torch.optim.lr_scheduler.StepLR(\n",
        "    optimizer=optimizer, step_size=15, gamma=0.1, verbose=True\n",
        ")"
      ]
    },
    {
      "cell_type": "code",
      "execution_count": 7,
      "metadata": {},
      "outputs": [
        {
          "name": "stdout",
          "output_type": "stream",
          "text": [
            "\n",
            "EPOCH 1 of 50\n",
            "Training\n"
          ]
        },
        {
          "name": "stderr",
          "output_type": "stream",
          "text": [
            "100%|\u2588\u2588\u2588\u2588\u2588\u2588\u2588\u2588\u2588\u2588| 235/235 [07:41<00:00,  1.96s/it]\n"
          ]
        },
        {
          "name": "stdout",
          "output_type": "stream",
          "text": [
            "Evaluating\n"
          ]
        },
        {
          "name": "stderr",
          "output_type": "stream",
          "text": [
            "100%|\u2588\u2588\u2588\u2588\u2588\u2588\u2588\u2588\u2588\u2588| 47/47 [04:10<00:00,  5.34s/it]\n",
            "c:\\Users\\123\\Desktop\\torch cuda\\.venv\\lib\\site-packages\\torchmetrics\\utilities\\prints.py:42: UserWarning: Encountered more than 100 detections in a single image. This means that certain detections with the lowest scores will be ignored, that may have an undesirable impact on performance. Please consider adjusting the `max_detection_threshold` to suit your use case. To disable this warning, set attribute class `warn_on_many_detections=False`, after initializing the metric.\n",
            "  warnings.warn(*args, **kwargs)  # noqa: B028\n"
          ]
        },
        {
          "name": "stdout",
          "output_type": "stream",
          "text": [
            "Epoch #1 train loss: 4.313\n",
            "Epoch #1 mAP: 0.12167863547801971\n",
            "Epoch #1 mAP_50: 0.3182244598865509\n",
            "Epoch #1 best mAP: 0.12167863547801971 at epoch = 1\n",
            "Took 12.869 minutes for epoch 1\n",
            "Adjusting learning rate of group 0 to 2.6000e-03.\n",
            "\n",
            "EPOCH 2 of 50\n",
            "Training\n"
          ]
        },
        {
          "name": "stderr",
          "output_type": "stream",
          "text": [
            "100%|\u2588\u2588\u2588\u2588\u2588\u2588\u2588\u2588\u2588\u2588| 235/235 [07:54<00:00,  2.02s/it]\n"
          ]
        },
        {
          "name": "stdout",
          "output_type": "stream",
          "text": [
            "Evaluating\n"
          ]
        },
        {
          "name": "stderr",
          "output_type": "stream",
          "text": [
            "100%|\u2588\u2588\u2588\u2588\u2588\u2588\u2588\u2588\u2588\u2588| 47/47 [04:14<00:00,  5.41s/it]\n"
          ]
        },
        {
          "name": "stdout",
          "output_type": "stream",
          "text": [
            "Epoch #2 train loss: 4.198\n",
            "Epoch #2 mAP: 0.12038984894752502\n",
            "Epoch #2 mAP_50: 0.3113306760787964\n",
            "Epoch #2 best mAP: 0.12167863547801971 at epoch = 1\n",
            "Took 13.133 minutes for epoch 2\n",
            "Adjusting learning rate of group 0 to 2.6000e-03.\n",
            "\n",
            "EPOCH 3 of 50\n",
            "Training\n"
          ]
        },
        {
          "name": "stderr",
          "output_type": "stream",
          "text": [
            "100%|\u2588\u2588\u2588\u2588\u2588\u2588\u2588\u2588\u2588\u2588| 235/235 [08:05<00:00,  2.06s/it]\n"
          ]
        },
        {
          "name": "stdout",
          "output_type": "stream",
          "text": [
            "Evaluating\n"
          ]
        },
        {
          "name": "stderr",
          "output_type": "stream",
          "text": [
            "100%|\u2588\u2588\u2588\u2588\u2588\u2588\u2588\u2588\u2588\u2588| 47/47 [04:12<00:00,  5.38s/it]\n"
          ]
        },
        {
          "name": "stdout",
          "output_type": "stream",
          "text": [
            "Epoch #3 train loss: 4.153\n",
            "Epoch #3 mAP: 0.12180629372596741\n",
            "Epoch #3 mAP_50: 0.3117699921131134\n",
            "Epoch #3 best mAP: 0.12180629372596741 at epoch = 3\n",
            "Took 13.268 minutes for epoch 3\n",
            "Adjusting learning rate of group 0 to 2.6000e-03.\n",
            "\n",
            "EPOCH 4 of 50\n",
            "Training\n"
          ]
        },
        {
          "name": "stderr",
          "output_type": "stream",
          "text": [
            "100%|\u2588\u2588\u2588\u2588\u2588\u2588\u2588\u2588\u2588\u2588| 235/235 [08:07<00:00,  2.07s/it]\n"
          ]
        },
        {
          "name": "stdout",
          "output_type": "stream",
          "text": [
            "Evaluating\n"
          ]
        },
        {
          "name": "stderr",
          "output_type": "stream",
          "text": [
            "100%|\u2588\u2588\u2588\u2588\u2588\u2588\u2588\u2588\u2588\u2588| 47/47 [04:09<00:00,  5.30s/it]\n"
          ]
        },
        {
          "name": "stdout",
          "output_type": "stream",
          "text": [
            "Epoch #4 train loss: 4.146\n",
            "Epoch #4 mAP: 0.12509219348430634\n",
            "Epoch #4 mAP_50: 0.32072851061820984\n",
            "Epoch #4 best mAP: 0.12509219348430634 at epoch = 4\n",
            "Took 13.272 minutes for epoch 4\n",
            "Adjusting learning rate of group 0 to 2.6000e-03.\n",
            "\n",
            "EPOCH 5 of 50\n",
            "Training\n"
          ]
        },
        {
          "name": "stderr",
          "output_type": "stream",
          "text": [
            "100%|\u2588\u2588\u2588\u2588\u2588\u2588\u2588\u2588\u2588\u2588| 235/235 [08:11<00:00,  2.09s/it]\n"
          ]
        },
        {
          "name": "stdout",
          "output_type": "stream",
          "text": [
            "Evaluating\n"
          ]
        },
        {
          "name": "stderr",
          "output_type": "stream",
          "text": [
            "100%|\u2588\u2588\u2588\u2588\u2588\u2588\u2588\u2588\u2588\u2588| 47/47 [04:13<00:00,  5.39s/it]\n"
          ]
        },
        {
          "name": "stdout",
          "output_type": "stream",
          "text": [
            "Epoch #5 train loss: 4.122\n",
            "Epoch #5 mAP: 0.12351910024881363\n",
            "Epoch #5 mAP_50: 0.3173872232437134\n",
            "Epoch #5 best mAP: 0.12509219348430634 at epoch = 4\n",
            "Took 13.411 minutes for epoch 5\n",
            "Adjusting learning rate of group 0 to 2.6000e-03.\n",
            "\n",
            "EPOCH 6 of 50\n",
            "Training\n"
          ]
        },
        {
          "name": "stderr",
          "output_type": "stream",
          "text": [
            "100%|\u2588\u2588\u2588\u2588\u2588\u2588\u2588\u2588\u2588\u2588| 235/235 [08:05<00:00,  2.07s/it]\n"
          ]
        },
        {
          "name": "stdout",
          "output_type": "stream",
          "text": [
            "Evaluating\n"
          ]
        },
        {
          "name": "stderr",
          "output_type": "stream",
          "text": [
            "100%|\u2588\u2588\u2588\u2588\u2588\u2588\u2588\u2588\u2588\u2588| 47/47 [04:08<00:00,  5.29s/it]\n"
          ]
        },
        {
          "name": "stdout",
          "output_type": "stream",
          "text": [
            "Epoch #6 train loss: 4.126\n",
            "Epoch #6 mAP: 0.12841829657554626\n",
            "Epoch #6 mAP_50: 0.32646703720092773\n",
            "Epoch #6 best mAP: 0.12841829657554626 at epoch = 6\n",
            "Took 13.255 minutes for epoch 6\n",
            "Adjusting learning rate of group 0 to 2.6000e-03.\n",
            "\n",
            "EPOCH 7 of 50\n",
            "Training\n"
          ]
        },
        {
          "name": "stderr",
          "output_type": "stream",
          "text": [
            "100%|\u2588\u2588\u2588\u2588\u2588\u2588\u2588\u2588\u2588\u2588| 235/235 [08:11<00:00,  2.09s/it]\n"
          ]
        },
        {
          "name": "stdout",
          "output_type": "stream",
          "text": [
            "Evaluating\n"
          ]
        },
        {
          "name": "stderr",
          "output_type": "stream",
          "text": [
            "100%|\u2588\u2588\u2588\u2588\u2588\u2588\u2588\u2588\u2588\u2588| 47/47 [04:15<00:00,  5.43s/it]\n"
          ]
        },
        {
          "name": "stdout",
          "output_type": "stream",
          "text": [
            "Epoch #7 train loss: 4.090\n",
            "Epoch #7 mAP: 0.1267322152853012\n",
            "Epoch #7 mAP_50: 0.32146143913269043\n",
            "Epoch #7 best mAP: 0.12841829657554626 at epoch = 6\n",
            "Took 13.426 minutes for epoch 7\n",
            "Adjusting learning rate of group 0 to 2.6000e-03.\n",
            "\n",
            "EPOCH 8 of 50\n",
            "Training\n"
          ]
        },
        {
          "name": "stderr",
          "output_type": "stream",
          "text": [
            "100%|\u2588\u2588\u2588\u2588\u2588\u2588\u2588\u2588\u2588\u2588| 235/235 [08:10<00:00,  2.09s/it]\n"
          ]
        },
        {
          "name": "stdout",
          "output_type": "stream",
          "text": [
            "Evaluating\n"
          ]
        },
        {
          "name": "stderr",
          "output_type": "stream",
          "text": [
            "100%|\u2588\u2588\u2588\u2588\u2588\u2588\u2588\u2588\u2588\u2588| 47/47 [04:05<00:00,  5.22s/it]\n"
          ]
        },
        {
          "name": "stdout",
          "output_type": "stream",
          "text": [
            "Epoch #8 train loss: 4.096\n",
            "Epoch #8 mAP: 0.12884736061096191\n",
            "Epoch #8 mAP_50: 0.32636308670043945\n",
            "Epoch #8 best mAP: 0.12884736061096191 at epoch = 8\n",
            "Took 13.264 minutes for epoch 8\n",
            "Adjusting learning rate of group 0 to 2.6000e-03.\n",
            "\n",
            "EPOCH 9 of 50\n",
            "Training\n"
          ]
        },
        {
          "name": "stderr",
          "output_type": "stream",
          "text": [
            "100%|\u2588\u2588\u2588\u2588\u2588\u2588\u2588\u2588\u2588\u2588| 235/235 [08:03<00:00,  2.06s/it]\n"
          ]
        },
        {
          "name": "stdout",
          "output_type": "stream",
          "text": [
            "Evaluating\n"
          ]
        },
        {
          "name": "stderr",
          "output_type": "stream",
          "text": [
            "100%|\u2588\u2588\u2588\u2588\u2588\u2588\u2588\u2588\u2588\u2588| 47/47 [04:15<00:00,  5.44s/it]\n"
          ]
        },
        {
          "name": "stdout",
          "output_type": "stream",
          "text": [
            "Epoch #9 train loss: 4.092\n",
            "Epoch #9 mAP: 0.12445656955242157\n",
            "Epoch #9 mAP_50: 0.31617218255996704\n",
            "Epoch #9 best mAP: 0.12884736061096191 at epoch = 8\n",
            "Took 13.325 minutes for epoch 9\n",
            "Adjusting learning rate of group 0 to 2.6000e-03.\n",
            "\n",
            "EPOCH 10 of 50\n",
            "Training\n"
          ]
        },
        {
          "name": "stderr",
          "output_type": "stream",
          "text": [
            "100%|\u2588\u2588\u2588\u2588\u2588\u2588\u2588\u2588\u2588\u2588| 235/235 [08:06<00:00,  2.07s/it]\n"
          ]
        },
        {
          "name": "stdout",
          "output_type": "stream",
          "text": [
            "Evaluating\n"
          ]
        },
        {
          "name": "stderr",
          "output_type": "stream",
          "text": [
            "100%|\u2588\u2588\u2588\u2588\u2588\u2588\u2588\u2588\u2588\u2588| 47/47 [04:13<00:00,  5.40s/it]\n"
          ]
        },
        {
          "name": "stdout",
          "output_type": "stream",
          "text": [
            "Epoch #10 train loss: 4.102\n",
            "Epoch #10 mAP: 0.12760677933692932\n",
            "Epoch #10 mAP_50: 0.3237597942352295\n",
            "Epoch #10 best mAP: 0.12884736061096191 at epoch = 8\n",
            "Took 13.311 minutes for epoch 10\n",
            "Adjusting learning rate of group 0 to 2.6000e-03.\n",
            "\n",
            "EPOCH 11 of 50\n",
            "Training\n"
          ]
        },
        {
          "name": "stderr",
          "output_type": "stream",
          "text": [
            "100%|\u2588\u2588\u2588\u2588\u2588\u2588\u2588\u2588\u2588\u2588| 235/235 [08:05<00:00,  2.06s/it]\n"
          ]
        },
        {
          "name": "stdout",
          "output_type": "stream",
          "text": [
            "Evaluating\n"
          ]
        },
        {
          "name": "stderr",
          "output_type": "stream",
          "text": [
            "100%|\u2588\u2588\u2588\u2588\u2588\u2588\u2588\u2588\u2588\u2588| 47/47 [04:07<00:00,  5.27s/it]\n"
          ]
        },
        {
          "name": "stdout",
          "output_type": "stream",
          "text": [
            "Epoch #11 train loss: 4.088\n",
            "Epoch #11 mAP: 0.12760615348815918\n",
            "Epoch #11 mAP_50: 0.3204203248023987\n",
            "Epoch #11 best mAP: 0.12884736061096191 at epoch = 8\n",
            "Took 13.206 minutes for epoch 11\n",
            "Adjusting learning rate of group 0 to 2.6000e-03.\n",
            "\n",
            "EPOCH 12 of 50\n",
            "Training\n"
          ]
        },
        {
          "name": "stderr",
          "output_type": "stream",
          "text": [
            "100%|\u2588\u2588\u2588\u2588\u2588\u2588\u2588\u2588\u2588\u2588| 235/235 [08:07<00:00,  2.07s/it]\n"
          ]
        },
        {
          "name": "stdout",
          "output_type": "stream",
          "text": [
            "Evaluating\n"
          ]
        },
        {
          "name": "stderr",
          "output_type": "stream",
          "text": [
            "100%|\u2588\u2588\u2588\u2588\u2588\u2588\u2588\u2588\u2588\u2588| 47/47 [04:15<00:00,  5.44s/it]\n"
          ]
        },
        {
          "name": "stdout",
          "output_type": "stream",
          "text": [
            "Epoch #12 train loss: 4.064\n",
            "Epoch #12 mAP: 0.12671782076358795\n",
            "Epoch #12 mAP_50: 0.3183445334434509\n",
            "Epoch #12 best mAP: 0.12884736061096191 at epoch = 8\n",
            "Took 13.391 minutes for epoch 12\n",
            "Adjusting learning rate of group 0 to 2.6000e-03.\n",
            "\n",
            "EPOCH 13 of 50\n",
            "Training\n"
          ]
        },
        {
          "name": "stderr",
          "output_type": "stream",
          "text": [
            "100%|\u2588\u2588\u2588\u2588\u2588\u2588\u2588\u2588\u2588\u2588| 235/235 [08:09<00:00,  2.08s/it]\n"
          ]
        },
        {
          "name": "stdout",
          "output_type": "stream",
          "text": [
            "Evaluating\n"
          ]
        },
        {
          "name": "stderr",
          "output_type": "stream",
          "text": [
            "100%|\u2588\u2588\u2588\u2588\u2588\u2588\u2588\u2588\u2588\u2588| 47/47 [04:13<00:00,  5.40s/it]\n"
          ]
        },
        {
          "name": "stdout",
          "output_type": "stream",
          "text": [
            "Epoch #13 train loss: 4.070\n",
            "Epoch #13 mAP: 0.12902116775512695\n",
            "Epoch #13 mAP_50: 0.3264421224594116\n",
            "Epoch #13 best mAP: 0.12902116775512695 at epoch = 13\n",
            "Took 13.384 minutes for epoch 13\n",
            "Adjusting learning rate of group 0 to 2.6000e-03.\n",
            "\n",
            "EPOCH 14 of 50\n",
            "Training\n"
          ]
        },
        {
          "name": "stderr",
          "output_type": "stream",
          "text": [
            "100%|\u2588\u2588\u2588\u2588\u2588\u2588\u2588\u2588\u2588\u2588| 235/235 [08:06<00:00,  2.07s/it]\n"
          ]
        },
        {
          "name": "stdout",
          "output_type": "stream",
          "text": [
            "Evaluating\n"
          ]
        },
        {
          "name": "stderr",
          "output_type": "stream",
          "text": [
            "100%|\u2588\u2588\u2588\u2588\u2588\u2588\u2588\u2588\u2588\u2588| 47/47 [04:13<00:00,  5.40s/it]\n"
          ]
        },
        {
          "name": "stdout",
          "output_type": "stream",
          "text": [
            "Epoch #14 train loss: 4.044\n",
            "Epoch #14 mAP: 0.13059277832508087\n",
            "Epoch #14 mAP_50: 0.32659801840782166\n",
            "Epoch #14 best mAP: 0.13059277832508087 at epoch = 14\n",
            "Took 13.349 minutes for epoch 14\n",
            "Adjusting learning rate of group 0 to 2.6000e-03.\n",
            "\n",
            "EPOCH 15 of 50\n",
            "Training\n"
          ]
        },
        {
          "name": "stderr",
          "output_type": "stream",
          "text": [
            "100%|\u2588\u2588\u2588\u2588\u2588\u2588\u2588\u2588\u2588\u2588| 235/235 [08:01<00:00,  2.05s/it]\n"
          ]
        },
        {
          "name": "stdout",
          "output_type": "stream",
          "text": [
            "Evaluating\n"
          ]
        },
        {
          "name": "stderr",
          "output_type": "stream",
          "text": [
            "100%|\u2588\u2588\u2588\u2588\u2588\u2588\u2588\u2588\u2588\u2588| 47/47 [04:10<00:00,  5.32s/it]\n"
          ]
        },
        {
          "name": "stdout",
          "output_type": "stream",
          "text": [
            "Epoch #15 train loss: 4.038\n",
            "Epoch #15 mAP: 0.13055206835269928\n",
            "Epoch #15 mAP_50: 0.3255055844783783\n",
            "Epoch #15 best mAP: 0.13059277832508087 at epoch = 14\n",
            "Took 13.180 minutes for epoch 15\n",
            "Adjusting learning rate of group 0 to 2.6000e-04.\n",
            "\n",
            "EPOCH 16 of 50\n",
            "Training\n"
          ]
        },
        {
          "name": "stderr",
          "output_type": "stream",
          "text": [
            "100%|\u2588\u2588\u2588\u2588\u2588\u2588\u2588\u2588\u2588\u2588| 235/235 [08:05<00:00,  2.07s/it]\n"
          ]
        },
        {
          "name": "stdout",
          "output_type": "stream",
          "text": [
            "Evaluating\n"
          ]
        },
        {
          "name": "stderr",
          "output_type": "stream",
          "text": [
            "100%|\u2588\u2588\u2588\u2588\u2588\u2588\u2588\u2588\u2588\u2588| 47/47 [04:10<00:00,  5.34s/it]\n"
          ]
        },
        {
          "name": "stdout",
          "output_type": "stream",
          "text": [
            "Epoch #16 train loss: 4.023\n",
            "Epoch #16 mAP: 0.1320512592792511\n",
            "Epoch #16 mAP_50: 0.32742393016815186\n",
            "Epoch #16 best mAP: 0.1320512592792511 at epoch = 16\n",
            "Took 13.264 minutes for epoch 16\n",
            "Adjusting learning rate of group 0 to 2.6000e-04.\n",
            "\n",
            "EPOCH 17 of 50\n",
            "Training\n"
          ]
        },
        {
          "name": "stderr",
          "output_type": "stream",
          "text": [
            "100%|\u2588\u2588\u2588\u2588\u2588\u2588\u2588\u2588\u2588\u2588| 235/235 [08:03<00:00,  2.06s/it]\n"
          ]
        },
        {
          "name": "stdout",
          "output_type": "stream",
          "text": [
            "Evaluating\n"
          ]
        },
        {
          "name": "stderr",
          "output_type": "stream",
          "text": [
            "100%|\u2588\u2588\u2588\u2588\u2588\u2588\u2588\u2588\u2588\u2588| 47/47 [04:06<00:00,  5.25s/it]\n"
          ]
        },
        {
          "name": "stdout",
          "output_type": "stream",
          "text": [
            "Epoch #17 train loss: 4.017\n",
            "Epoch #17 mAP: 0.13218188285827637\n",
            "Epoch #17 mAP_50: 0.3284299075603485\n",
            "Epoch #17 best mAP: 0.13218188285827637 at epoch = 17\n",
            "Took 13.172 minutes for epoch 17\n",
            "Adjusting learning rate of group 0 to 2.6000e-04.\n",
            "\n",
            "EPOCH 18 of 50\n",
            "Training\n"
          ]
        },
        {
          "name": "stderr",
          "output_type": "stream",
          "text": [
            "100%|\u2588\u2588\u2588\u2588\u2588\u2588\u2588\u2588\u2588\u2588| 235/235 [08:14<00:00,  2.10s/it]\n"
          ]
        },
        {
          "name": "stdout",
          "output_type": "stream",
          "text": [
            "Evaluating\n"
          ]
        },
        {
          "name": "stderr",
          "output_type": "stream",
          "text": [
            "100%|\u2588\u2588\u2588\u2588\u2588\u2588\u2588\u2588\u2588\u2588| 47/47 [04:09<00:00,  5.32s/it]\n"
          ]
        },
        {
          "name": "stdout",
          "output_type": "stream",
          "text": [
            "Epoch #18 train loss: 4.028\n",
            "Epoch #18 mAP: 0.1318197250366211\n",
            "Epoch #18 mAP_50: 0.3280569016933441\n",
            "Epoch #18 best mAP: 0.13218188285827637 at epoch = 17\n",
            "Took 13.400 minutes for epoch 18\n",
            "Adjusting learning rate of group 0 to 2.6000e-04.\n",
            "\n",
            "EPOCH 19 of 50\n",
            "Training\n"
          ]
        },
        {
          "name": "stderr",
          "output_type": "stream",
          "text": [
            "100%|\u2588\u2588\u2588\u2588\u2588\u2588\u2588\u2588\u2588\u2588| 235/235 [08:09<00:00,  2.08s/it]\n"
          ]
        },
        {
          "name": "stdout",
          "output_type": "stream",
          "text": [
            "Evaluating\n"
          ]
        },
        {
          "name": "stderr",
          "output_type": "stream",
          "text": [
            "100%|\u2588\u2588\u2588\u2588\u2588\u2588\u2588\u2588\u2588\u2588| 47/47 [04:09<00:00,  5.30s/it]\n"
          ]
        },
        {
          "name": "stdout",
          "output_type": "stream",
          "text": [
            "Epoch #19 train loss: 4.016\n",
            "Epoch #19 mAP: 0.1327987015247345\n",
            "Epoch #19 mAP_50: 0.32934871315956116\n",
            "Epoch #19 best mAP: 0.1327987015247345 at epoch = 19\n",
            "Took 13.296 minutes for epoch 19\n",
            "Adjusting learning rate of group 0 to 2.6000e-04.\n",
            "\n",
            "EPOCH 20 of 50\n",
            "Training\n"
          ]
        },
        {
          "name": "stderr",
          "output_type": "stream",
          "text": [
            "100%|\u2588\u2588\u2588\u2588\u2588\u2588\u2588\u2588\u2588\u2588| 235/235 [08:01<00:00,  2.05s/it]\n"
          ]
        },
        {
          "name": "stdout",
          "output_type": "stream",
          "text": [
            "Evaluating\n"
          ]
        },
        {
          "name": "stderr",
          "output_type": "stream",
          "text": [
            "100%|\u2588\u2588\u2588\u2588\u2588\u2588\u2588\u2588\u2588\u2588| 47/47 [04:09<00:00,  5.31s/it]\n"
          ]
        },
        {
          "name": "stdout",
          "output_type": "stream",
          "text": [
            "Epoch #20 train loss: 4.017\n",
            "Epoch #20 mAP: 0.13228660821914673\n",
            "Epoch #20 mAP_50: 0.328806608915329\n",
            "Epoch #20 best mAP: 0.1327987015247345 at epoch = 19\n",
            "Took 13.162 minutes for epoch 20\n",
            "Adjusting learning rate of group 0 to 2.6000e-04.\n",
            "\n",
            "EPOCH 21 of 50\n",
            "Training\n"
          ]
        },
        {
          "name": "stderr",
          "output_type": "stream",
          "text": [
            "100%|\u2588\u2588\u2588\u2588\u2588\u2588\u2588\u2588\u2588\u2588| 235/235 [08:05<00:00,  2.07s/it]\n"
          ]
        },
        {
          "name": "stdout",
          "output_type": "stream",
          "text": [
            "Evaluating\n"
          ]
        },
        {
          "name": "stderr",
          "output_type": "stream",
          "text": [
            "100%|\u2588\u2588\u2588\u2588\u2588\u2588\u2588\u2588\u2588\u2588| 47/47 [04:08<00:00,  5.30s/it]\n"
          ]
        },
        {
          "name": "stdout",
          "output_type": "stream",
          "text": [
            "Epoch #21 train loss: 4.018\n",
            "Epoch #21 mAP: 0.13241419196128845\n",
            "Epoch #21 mAP_50: 0.32987016439437866\n",
            "Epoch #21 best mAP: 0.1327987015247345 at epoch = 19\n",
            "Took 13.229 minutes for epoch 21\n",
            "Adjusting learning rate of group 0 to 2.6000e-04.\n",
            "\n",
            "EPOCH 22 of 50\n",
            "Training\n"
          ]
        },
        {
          "name": "stderr",
          "output_type": "stream",
          "text": [
            "100%|\u2588\u2588\u2588\u2588\u2588\u2588\u2588\u2588\u2588\u2588| 235/235 [08:04<00:00,  2.06s/it]\n"
          ]
        },
        {
          "name": "stdout",
          "output_type": "stream",
          "text": [
            "Evaluating\n"
          ]
        },
        {
          "name": "stderr",
          "output_type": "stream",
          "text": [
            "100%|\u2588\u2588\u2588\u2588\u2588\u2588\u2588\u2588\u2588\u2588| 47/47 [04:11<00:00,  5.34s/it]\n"
          ]
        },
        {
          "name": "stdout",
          "output_type": "stream",
          "text": [
            "Epoch #22 train loss: 4.018\n",
            "Epoch #22 mAP: 0.1319081038236618\n",
            "Epoch #22 mAP_50: 0.32803842425346375\n",
            "Epoch #22 best mAP: 0.1327987015247345 at epoch = 19\n",
            "Took 13.268 minutes for epoch 22\n",
            "Adjusting learning rate of group 0 to 2.6000e-04.\n",
            "\n",
            "EPOCH 23 of 50\n",
            "Training\n"
          ]
        },
        {
          "name": "stderr",
          "output_type": "stream",
          "text": [
            "100%|\u2588\u2588\u2588\u2588\u2588\u2588\u2588\u2588\u2588\u2588| 235/235 [08:04<00:00,  2.06s/it]\n"
          ]
        },
        {
          "name": "stdout",
          "output_type": "stream",
          "text": [
            "Evaluating\n"
          ]
        },
        {
          "name": "stderr",
          "output_type": "stream",
          "text": [
            "100%|\u2588\u2588\u2588\u2588\u2588\u2588\u2588\u2588\u2588\u2588| 47/47 [04:10<00:00,  5.34s/it]\n"
          ]
        },
        {
          "name": "stdout",
          "output_type": "stream",
          "text": [
            "Epoch #23 train loss: 4.012\n",
            "Epoch #23 mAP: 0.131974995136261\n",
            "Epoch #23 mAP_50: 0.32872357964515686\n",
            "Epoch #23 best mAP: 0.1327987015247345 at epoch = 19\n",
            "Took 13.249 minutes for epoch 23\n",
            "Adjusting learning rate of group 0 to 2.6000e-04.\n",
            "\n",
            "EPOCH 24 of 50\n",
            "Training\n"
          ]
        },
        {
          "name": "stderr",
          "output_type": "stream",
          "text": [
            "100%|\u2588\u2588\u2588\u2588\u2588\u2588\u2588\u2588\u2588\u2588| 235/235 [07:59<00:00,  2.04s/it]\n"
          ]
        },
        {
          "name": "stdout",
          "output_type": "stream",
          "text": [
            "Evaluating\n"
          ]
        },
        {
          "name": "stderr",
          "output_type": "stream",
          "text": [
            "100%|\u2588\u2588\u2588\u2588\u2588\u2588\u2588\u2588\u2588\u2588| 47/47 [04:11<00:00,  5.35s/it]\n"
          ]
        },
        {
          "name": "stdout",
          "output_type": "stream",
          "text": [
            "Epoch #24 train loss: 4.017\n",
            "Epoch #24 mAP: 0.13248887658119202\n",
            "Epoch #24 mAP_50: 0.3292653560638428\n",
            "Epoch #24 best mAP: 0.1327987015247345 at epoch = 19\n",
            "Took 13.190 minutes for epoch 24\n",
            "Adjusting learning rate of group 0 to 2.6000e-04.\n",
            "\n",
            "EPOCH 25 of 50\n",
            "Training\n"
          ]
        },
        {
          "name": "stderr",
          "output_type": "stream",
          "text": [
            "100%|\u2588\u2588\u2588\u2588\u2588\u2588\u2588\u2588\u2588\u2588| 235/235 [07:43<00:00,  1.97s/it]\n"
          ]
        },
        {
          "name": "stdout",
          "output_type": "stream",
          "text": [
            "Evaluating\n"
          ]
        },
        {
          "name": "stderr",
          "output_type": "stream",
          "text": [
            "100%|\u2588\u2588\u2588\u2588\u2588\u2588\u2588\u2588\u2588\u2588| 47/47 [04:10<00:00,  5.33s/it]\n"
          ]
        },
        {
          "name": "stdout",
          "output_type": "stream",
          "text": [
            "Epoch #25 train loss: 4.017\n",
            "Epoch #25 mAP: 0.13298173248767853\n",
            "Epoch #25 mAP_50: 0.33073848485946655\n",
            "Epoch #25 best mAP: 0.13298173248767853 at epoch = 25\n",
            "Took 12.902 minutes for epoch 25\n",
            "Adjusting learning rate of group 0 to 2.6000e-04.\n",
            "\n",
            "EPOCH 26 of 50\n",
            "Training\n"
          ]
        },
        {
          "name": "stderr",
          "output_type": "stream",
          "text": [
            "100%|\u2588\u2588\u2588\u2588\u2588\u2588\u2588\u2588\u2588\u2588| 235/235 [08:06<00:00,  2.07s/it]\n"
          ]
        },
        {
          "name": "stdout",
          "output_type": "stream",
          "text": [
            "Evaluating\n"
          ]
        },
        {
          "name": "stderr",
          "output_type": "stream",
          "text": [
            "100%|\u2588\u2588\u2588\u2588\u2588\u2588\u2588\u2588\u2588\u2588| 47/47 [04:11<00:00,  5.35s/it]\n"
          ]
        },
        {
          "name": "stdout",
          "output_type": "stream",
          "text": [
            "Epoch #26 train loss: 4.013\n",
            "Epoch #26 mAP: 0.131742924451828\n",
            "Epoch #26 mAP_50: 0.3269036114215851\n",
            "Epoch #26 best mAP: 0.13298173248767853 at epoch = 25\n",
            "Took 13.297 minutes for epoch 26\n",
            "Adjusting learning rate of group 0 to 2.6000e-04.\n",
            "\n",
            "EPOCH 27 of 50\n",
            "Training\n"
          ]
        },
        {
          "name": "stderr",
          "output_type": "stream",
          "text": [
            "100%|\u2588\u2588\u2588\u2588\u2588\u2588\u2588\u2588\u2588\u2588| 235/235 [08:06<00:00,  2.07s/it]\n"
          ]
        },
        {
          "name": "stdout",
          "output_type": "stream",
          "text": [
            "Evaluating\n"
          ]
        },
        {
          "name": "stderr",
          "output_type": "stream",
          "text": [
            "100%|\u2588\u2588\u2588\u2588\u2588\u2588\u2588\u2588\u2588\u2588| 47/47 [04:09<00:00,  5.30s/it]\n"
          ]
        },
        {
          "name": "stdout",
          "output_type": "stream",
          "text": [
            "Epoch #27 train loss: 4.027\n",
            "Epoch #27 mAP: 0.13348664343357086\n",
            "Epoch #27 mAP_50: 0.33111250400543213\n",
            "Epoch #27 best mAP: 0.13348664343357086 at epoch = 27\n",
            "Took 13.249 minutes for epoch 27\n",
            "Adjusting learning rate of group 0 to 2.6000e-04.\n",
            "\n",
            "EPOCH 28 of 50\n",
            "Training\n"
          ]
        },
        {
          "name": "stderr",
          "output_type": "stream",
          "text": [
            "100%|\u2588\u2588\u2588\u2588\u2588\u2588\u2588\u2588\u2588\u2588| 235/235 [08:02<00:00,  2.05s/it]\n"
          ]
        },
        {
          "name": "stdout",
          "output_type": "stream",
          "text": [
            "Evaluating\n"
          ]
        },
        {
          "name": "stderr",
          "output_type": "stream",
          "text": [
            "100%|\u2588\u2588\u2588\u2588\u2588\u2588\u2588\u2588\u2588\u2588| 47/47 [04:09<00:00,  5.32s/it]\n"
          ]
        },
        {
          "name": "stdout",
          "output_type": "stream",
          "text": [
            "Epoch #28 train loss: 4.011\n",
            "Epoch #28 mAP: 0.1328125149011612\n",
            "Epoch #28 mAP_50: 0.3298946022987366\n",
            "Epoch #28 best mAP: 0.13348664343357086 at epoch = 27\n",
            "Took 13.189 minutes for epoch 28\n",
            "Adjusting learning rate of group 0 to 2.6000e-04.\n",
            "\n",
            "EPOCH 29 of 50\n",
            "Training\n"
          ]
        },
        {
          "name": "stderr",
          "output_type": "stream",
          "text": [
            "100%|\u2588\u2588\u2588\u2588\u2588\u2588\u2588\u2588\u2588\u2588| 235/235 [08:05<00:00,  2.07s/it]\n"
          ]
        },
        {
          "name": "stdout",
          "output_type": "stream",
          "text": [
            "Evaluating\n"
          ]
        },
        {
          "name": "stderr",
          "output_type": "stream",
          "text": [
            "100%|\u2588\u2588\u2588\u2588\u2588\u2588\u2588\u2588\u2588\u2588| 47/47 [04:09<00:00,  5.30s/it]\n"
          ]
        },
        {
          "name": "stdout",
          "output_type": "stream",
          "text": [
            "Epoch #29 train loss: 4.008\n",
            "Epoch #29 mAP: 0.13258853554725647\n",
            "Epoch #29 mAP_50: 0.3297502100467682\n",
            "Epoch #29 best mAP: 0.13348664343357086 at epoch = 27\n",
            "Took 13.219 minutes for epoch 29\n",
            "Adjusting learning rate of group 0 to 2.6000e-04.\n",
            "\n",
            "EPOCH 30 of 50\n",
            "Training\n"
          ]
        },
        {
          "name": "stderr",
          "output_type": "stream",
          "text": [
            "100%|\u2588\u2588\u2588\u2588\u2588\u2588\u2588\u2588\u2588\u2588| 235/235 [08:06<00:00,  2.07s/it]\n"
          ]
        },
        {
          "name": "stdout",
          "output_type": "stream",
          "text": [
            "Evaluating\n"
          ]
        },
        {
          "name": "stderr",
          "output_type": "stream",
          "text": [
            "100%|\u2588\u2588\u2588\u2588\u2588\u2588\u2588\u2588\u2588\u2588| 47/47 [04:11<00:00,  5.35s/it]\n"
          ]
        },
        {
          "name": "stdout",
          "output_type": "stream",
          "text": [
            "Epoch #30 train loss: 4.018\n",
            "Epoch #30 mAP: 0.13270880281925201\n",
            "Epoch #30 mAP_50: 0.329132616519928\n",
            "Epoch #30 best mAP: 0.13348664343357086 at epoch = 27\n",
            "Took 13.281 minutes for epoch 30\n",
            "Adjusting learning rate of group 0 to 2.6000e-05.\n",
            "\n",
            "EPOCH 31 of 50\n",
            "Training\n"
          ]
        },
        {
          "name": "stderr",
          "output_type": "stream",
          "text": [
            "100%|\u2588\u2588\u2588\u2588\u2588\u2588\u2588\u2588\u2588\u2588| 235/235 [08:08<00:00,  2.08s/it]\n"
          ]
        },
        {
          "name": "stdout",
          "output_type": "stream",
          "text": [
            "Evaluating\n"
          ]
        },
        {
          "name": "stderr",
          "output_type": "stream",
          "text": [
            "100%|\u2588\u2588\u2588\u2588\u2588\u2588\u2588\u2588\u2588\u2588| 47/47 [04:09<00:00,  5.32s/it]\n"
          ]
        },
        {
          "name": "stdout",
          "output_type": "stream",
          "text": [
            "Epoch #31 train loss: 4.006\n",
            "Epoch #31 mAP: 0.13309842348098755\n",
            "Epoch #31 mAP_50: 0.33001774549484253\n",
            "Epoch #31 best mAP: 0.13348664343357086 at epoch = 27\n",
            "Took 13.285 minutes for epoch 31\n",
            "Adjusting learning rate of group 0 to 2.6000e-05.\n",
            "\n",
            "EPOCH 32 of 50\n",
            "Training\n"
          ]
        },
        {
          "name": "stderr",
          "output_type": "stream",
          "text": [
            "100%|\u2588\u2588\u2588\u2588\u2588\u2588\u2588\u2588\u2588\u2588| 235/235 [08:10<00:00,  2.09s/it]\n"
          ]
        },
        {
          "name": "stdout",
          "output_type": "stream",
          "text": [
            "Evaluating\n"
          ]
        },
        {
          "name": "stderr",
          "output_type": "stream",
          "text": [
            "100%|\u2588\u2588\u2588\u2588\u2588\u2588\u2588\u2588\u2588\u2588| 47/47 [04:08<00:00,  5.28s/it]\n"
          ]
        },
        {
          "name": "stdout",
          "output_type": "stream",
          "text": [
            "Epoch #32 train loss: 4.004\n",
            "Epoch #32 mAP: 0.1334514021873474\n",
            "Epoch #32 mAP_50: 0.3305498957633972\n",
            "Epoch #32 best mAP: 0.13348664343357086 at epoch = 27\n",
            "Took 13.312 minutes for epoch 32\n",
            "Adjusting learning rate of group 0 to 2.6000e-05.\n",
            "\n",
            "EPOCH 33 of 50\n",
            "Training\n"
          ]
        },
        {
          "name": "stderr",
          "output_type": "stream",
          "text": [
            "100%|\u2588\u2588\u2588\u2588\u2588\u2588\u2588\u2588\u2588\u2588| 235/235 [08:09<00:00,  2.08s/it]\n"
          ]
        },
        {
          "name": "stdout",
          "output_type": "stream",
          "text": [
            "Evaluating\n"
          ]
        },
        {
          "name": "stderr",
          "output_type": "stream",
          "text": [
            "100%|\u2588\u2588\u2588\u2588\u2588\u2588\u2588\u2588\u2588\u2588| 47/47 [04:09<00:00,  5.31s/it]\n"
          ]
        },
        {
          "name": "stdout",
          "output_type": "stream",
          "text": [
            "Epoch #33 train loss: 4.008\n",
            "Epoch #33 mAP: 0.13299499452114105\n",
            "Epoch #33 mAP_50: 0.3299252688884735\n",
            "Epoch #33 best mAP: 0.13348664343357086 at epoch = 27\n",
            "Took 13.309 minutes for epoch 33\n",
            "Adjusting learning rate of group 0 to 2.6000e-05.\n",
            "\n",
            "EPOCH 34 of 50\n",
            "Training\n"
          ]
        },
        {
          "name": "stderr",
          "output_type": "stream",
          "text": [
            "100%|\u2588\u2588\u2588\u2588\u2588\u2588\u2588\u2588\u2588\u2588| 235/235 [08:05<00:00,  2.07s/it]\n"
          ]
        },
        {
          "name": "stdout",
          "output_type": "stream",
          "text": [
            "Evaluating\n"
          ]
        },
        {
          "name": "stderr",
          "output_type": "stream",
          "text": [
            "100%|\u2588\u2588\u2588\u2588\u2588\u2588\u2588\u2588\u2588\u2588| 47/47 [04:09<00:00,  5.31s/it]\n"
          ]
        },
        {
          "name": "stdout",
          "output_type": "stream",
          "text": [
            "Epoch #34 train loss: 4.017\n",
            "Epoch #34 mAP: 0.13293983042240143\n",
            "Epoch #34 mAP_50: 0.33021050691604614\n",
            "Epoch #34 best mAP: 0.13348664343357086 at epoch = 27\n",
            "Took 13.243 minutes for epoch 34\n",
            "Adjusting learning rate of group 0 to 2.6000e-05.\n",
            "\n",
            "EPOCH 35 of 50\n",
            "Training\n"
          ]
        },
        {
          "name": "stderr",
          "output_type": "stream",
          "text": [
            "100%|\u2588\u2588\u2588\u2588\u2588\u2588\u2588\u2588\u2588\u2588| 235/235 [08:08<00:00,  2.08s/it]\n"
          ]
        },
        {
          "name": "stdout",
          "output_type": "stream",
          "text": [
            "Evaluating\n"
          ]
        },
        {
          "name": "stderr",
          "output_type": "stream",
          "text": [
            "100%|\u2588\u2588\u2588\u2588\u2588\u2588\u2588\u2588\u2588\u2588| 47/47 [04:08<00:00,  5.30s/it]\n"
          ]
        },
        {
          "name": "stdout",
          "output_type": "stream",
          "text": [
            "Epoch #35 train loss: 4.008\n",
            "Epoch #35 mAP: 0.1330150067806244\n",
            "Epoch #35 mAP_50: 0.32992810010910034\n",
            "Epoch #35 best mAP: 0.13348664343357086 at epoch = 27\n",
            "Took 13.267 minutes for epoch 35\n",
            "Adjusting learning rate of group 0 to 2.6000e-05.\n",
            "\n",
            "EPOCH 36 of 50\n",
            "Training\n"
          ]
        },
        {
          "name": "stderr",
          "output_type": "stream",
          "text": [
            "100%|\u2588\u2588\u2588\u2588\u2588\u2588\u2588\u2588\u2588\u2588| 235/235 [08:06<00:00,  2.07s/it]\n"
          ]
        },
        {
          "name": "stdout",
          "output_type": "stream",
          "text": [
            "Evaluating\n"
          ]
        },
        {
          "name": "stderr",
          "output_type": "stream",
          "text": [
            "100%|\u2588\u2588\u2588\u2588\u2588\u2588\u2588\u2588\u2588\u2588| 47/47 [04:09<00:00,  5.30s/it]\n"
          ]
        },
        {
          "name": "stdout",
          "output_type": "stream",
          "text": [
            "Epoch #36 train loss: 3.991\n",
            "Epoch #36 mAP: 0.13283447921276093\n",
            "Epoch #36 mAP_50: 0.3298262655735016\n",
            "Epoch #36 best mAP: 0.13348664343357086 at epoch = 27\n",
            "Took 13.241 minutes for epoch 36\n",
            "Adjusting learning rate of group 0 to 2.6000e-05.\n",
            "\n",
            "EPOCH 37 of 50\n",
            "Training\n"
          ]
        },
        {
          "name": "stderr",
          "output_type": "stream",
          "text": [
            "100%|\u2588\u2588\u2588\u2588\u2588\u2588\u2588\u2588\u2588\u2588| 235/235 [08:06<00:00,  2.07s/it]\n"
          ]
        },
        {
          "name": "stdout",
          "output_type": "stream",
          "text": [
            "Evaluating\n"
          ]
        },
        {
          "name": "stderr",
          "output_type": "stream",
          "text": [
            "100%|\u2588\u2588\u2588\u2588\u2588\u2588\u2588\u2588\u2588\u2588| 47/47 [04:08<00:00,  5.29s/it]\n"
          ]
        },
        {
          "name": "stdout",
          "output_type": "stream",
          "text": [
            "Epoch #37 train loss: 4.015\n",
            "Epoch #37 mAP: 0.13319438695907593\n",
            "Epoch #37 mAP_50: 0.3304695188999176\n",
            "Epoch #37 best mAP: 0.13348664343357086 at epoch = 27\n",
            "Took 13.233 minutes for epoch 37\n",
            "Adjusting learning rate of group 0 to 2.6000e-05.\n",
            "\n",
            "EPOCH 38 of 50\n",
            "Training\n"
          ]
        },
        {
          "name": "stderr",
          "output_type": "stream",
          "text": [
            "100%|\u2588\u2588\u2588\u2588\u2588\u2588\u2588\u2588\u2588\u2588| 235/235 [08:10<00:00,  2.09s/it]\n"
          ]
        },
        {
          "name": "stdout",
          "output_type": "stream",
          "text": [
            "Evaluating\n"
          ]
        },
        {
          "name": "stderr",
          "output_type": "stream",
          "text": [
            "100%|\u2588\u2588\u2588\u2588\u2588\u2588\u2588\u2588\u2588\u2588| 47/47 [04:07<00:00,  5.28s/it]\n"
          ]
        },
        {
          "name": "stdout",
          "output_type": "stream",
          "text": [
            "Epoch #38 train loss: 4.005\n",
            "Epoch #38 mAP: 0.1329508274793625\n",
            "Epoch #38 mAP_50: 0.33007901906967163\n",
            "Epoch #38 best mAP: 0.13348664343357086 at epoch = 27\n",
            "Took 13.289 minutes for epoch 38\n",
            "Adjusting learning rate of group 0 to 2.6000e-05.\n",
            "\n",
            "EPOCH 39 of 50\n",
            "Training\n"
          ]
        },
        {
          "name": "stderr",
          "output_type": "stream",
          "text": [
            "100%|\u2588\u2588\u2588\u2588\u2588\u2588\u2588\u2588\u2588\u2588| 235/235 [08:06<00:00,  2.07s/it]\n"
          ]
        },
        {
          "name": "stdout",
          "output_type": "stream",
          "text": [
            "Evaluating\n"
          ]
        },
        {
          "name": "stderr",
          "output_type": "stream",
          "text": [
            "100%|\u2588\u2588\u2588\u2588\u2588\u2588\u2588\u2588\u2588\u2588| 47/47 [04:09<00:00,  5.31s/it]\n"
          ]
        },
        {
          "name": "stdout",
          "output_type": "stream",
          "text": [
            "Epoch #39 train loss: 4.017\n",
            "Epoch #39 mAP: 0.13297007977962494\n",
            "Epoch #39 mAP_50: 0.33003684878349304\n",
            "Epoch #39 best mAP: 0.13348664343357086 at epoch = 27\n",
            "Took 13.250 minutes for epoch 39\n",
            "Adjusting learning rate of group 0 to 2.6000e-05.\n",
            "\n",
            "EPOCH 40 of 50\n",
            "Training\n"
          ]
        },
        {
          "name": "stderr",
          "output_type": "stream",
          "text": [
            "100%|\u2588\u2588\u2588\u2588\u2588\u2588\u2588\u2588\u2588\u2588| 235/235 [07:53<00:00,  2.02s/it]\n"
          ]
        },
        {
          "name": "stdout",
          "output_type": "stream",
          "text": [
            "Evaluating\n"
          ]
        },
        {
          "name": "stderr",
          "output_type": "stream",
          "text": [
            "100%|\u2588\u2588\u2588\u2588\u2588\u2588\u2588\u2588\u2588\u2588| 47/47 [04:10<00:00,  5.32s/it]\n"
          ]
        },
        {
          "name": "stdout",
          "output_type": "stream",
          "text": [
            "Epoch #40 train loss: 3.997\n",
            "Epoch #40 mAP: 0.13280244171619415\n",
            "Epoch #40 mAP_50: 0.3298020362854004\n",
            "Epoch #40 best mAP: 0.13348664343357086 at epoch = 27\n",
            "Took 13.068 minutes for epoch 40\n",
            "Adjusting learning rate of group 0 to 2.6000e-05.\n",
            "\n",
            "EPOCH 41 of 50\n",
            "Training\n"
          ]
        },
        {
          "name": "stderr",
          "output_type": "stream",
          "text": [
            "100%|\u2588\u2588\u2588\u2588\u2588\u2588\u2588\u2588\u2588\u2588| 235/235 [07:53<00:00,  2.01s/it]\n"
          ]
        },
        {
          "name": "stdout",
          "output_type": "stream",
          "text": [
            "Evaluating\n"
          ]
        },
        {
          "name": "stderr",
          "output_type": "stream",
          "text": [
            "100%|\u2588\u2588\u2588\u2588\u2588\u2588\u2588\u2588\u2588\u2588| 47/47 [04:13<00:00,  5.39s/it]\n"
          ]
        },
        {
          "name": "stdout",
          "output_type": "stream",
          "text": [
            "Epoch #41 train loss: 4.013\n",
            "Epoch #41 mAP: 0.13327331840991974\n",
            "Epoch #41 mAP_50: 0.33089545369148254\n",
            "Epoch #41 best mAP: 0.13348664343357086 at epoch = 27\n",
            "Took 13.115 minutes for epoch 41\n",
            "Adjusting learning rate of group 0 to 2.6000e-05.\n",
            "\n",
            "EPOCH 42 of 50\n",
            "Training\n"
          ]
        },
        {
          "name": "stderr",
          "output_type": "stream",
          "text": [
            "  5%|\u258c         | 12/235 [00:26<08:04,  2.17s/it]\n"
          ]
        },
        {
          "ename": "KeyboardInterrupt",
          "evalue": "",
          "output_type": "error",
          "traceback": [
            "\u001b[1;31m---------------------------------------------------------------------------\u001b[0m",
            "\u001b[1;31mKeyboardInterrupt\u001b[0m                         Traceback (most recent call last)",
            "Cell \u001b[1;32mIn[7], line 1\u001b[0m\n\u001b[1;32m----> 1\u001b[0m train_model(\n\u001b[0;32m      2\u001b[0m     model\u001b[39m=\u001b[39;49mmodel,\n\u001b[0;32m      3\u001b[0m     encoder \u001b[39m=\u001b[39;49m encoder,\n\u001b[0;32m      4\u001b[0m     num_epoch\u001b[39m=\u001b[39;49m\u001b[39m50\u001b[39;49m,\n\u001b[0;32m      5\u001b[0m     optimizer\u001b[39m=\u001b[39;49moptimizer,\n\u001b[0;32m      6\u001b[0m     loss_func \u001b[39m=\u001b[39;49m loss_func,\n\u001b[0;32m      7\u001b[0m     train_dataloader \u001b[39m=\u001b[39;49m train_dataloader,\n\u001b[0;32m      8\u001b[0m     val_dataloader \u001b[39m=\u001b[39;49m val_dataloader,\n\u001b[0;32m      9\u001b[0m     device  \u001b[39m=\u001b[39;49m device,\n\u001b[0;32m     10\u001b[0m     scheduler\u001b[39m=\u001b[39;49mscheduler,\n\u001b[0;32m     11\u001b[0m     path_to_save\u001b[39m=\u001b[39;49mConfigs\u001b[39m.\u001b[39;49mpath_to_save_state_model,\n\u001b[0;32m     12\u001b[0m     use_pick_best\u001b[39m=\u001b[39;49mConfigs\u001b[39m.\u001b[39;49muse_pick_best_in_eval\n\u001b[0;32m     13\u001b[0m )\n",
            "File \u001b[1;32mc:\\Users\\123\\Desktop\\torch cuda\\train_model.py:30\u001b[0m, in \u001b[0;36mtrain_model\u001b[1;34m(model, encoder, num_epoch, optimizer, loss_func, train_dataloader, val_dataloader, device, scheduler, path_to_save, use_pick_best)\u001b[0m\n\u001b[0;32m     28\u001b[0m \u001b[39mprint\u001b[39m(\u001b[39mf\u001b[39m\u001b[39m\"\u001b[39m\u001b[39m\\n\u001b[39;00m\u001b[39mEPOCH \u001b[39m\u001b[39m{\u001b[39;00mepoch\u001b[39m+\u001b[39m\u001b[39m1\u001b[39m\u001b[39m}\u001b[39;00m\u001b[39m of \u001b[39m\u001b[39m{\u001b[39;00mnum_epoch\u001b[39m}\u001b[39;00m\u001b[39m\"\u001b[39m)\n\u001b[0;32m     29\u001b[0m start \u001b[39m=\u001b[39m time\u001b[39m.\u001b[39mtime()\n\u001b[1;32m---> 30\u001b[0m losses \u001b[39m=\u001b[39m train_one_loop(\n\u001b[0;32m     31\u001b[0m     model\u001b[39m=\u001b[39;49mmodel,\n\u001b[0;32m     32\u001b[0m     optimizer\u001b[39m=\u001b[39;49moptimizer,\n\u001b[0;32m     33\u001b[0m     loss_func\u001b[39m=\u001b[39;49mloss_func,\n\u001b[0;32m     34\u001b[0m     train_dataloader\u001b[39m=\u001b[39;49mtrain_dataloader,\n\u001b[0;32m     35\u001b[0m     device\u001b[39m=\u001b[39;49mdevice,\n\u001b[0;32m     36\u001b[0m )\n\u001b[0;32m     37\u001b[0m metrics_map \u001b[39m=\u001b[39m model_evaluate(\n\u001b[0;32m     38\u001b[0m     model\u001b[39m=\u001b[39mmodel,\n\u001b[0;32m     39\u001b[0m     encoder\u001b[39m=\u001b[39mencoder,\n\u001b[1;32m   (...)\u001b[0m\n\u001b[0;32m     42\u001b[0m     use_pick_best\u001b[39m=\u001b[39muse_pick_best,\n\u001b[0;32m     43\u001b[0m )\n\u001b[0;32m     45\u001b[0m cur_map \u001b[39m=\u001b[39m metrics_map[\u001b[39m\"\u001b[39m\u001b[39mmap\u001b[39m\u001b[39m\"\u001b[39m]\n",
            "File \u001b[1;32mc:\\Users\\123\\Desktop\\torch cuda\\ssd\\train_one_loop.py:24\u001b[0m, in \u001b[0;36mtrain_one_loop\u001b[1;34m(model, optimizer, loss_func, train_dataloader, device)\u001b[0m\n\u001b[0;32m     22\u001b[0m \u001b[39m# print(ploc.device, plabel.device, gloc.device, glabel.device)\u001b[39;00m\n\u001b[0;32m     23\u001b[0m loss \u001b[39m=\u001b[39m loss_func(ploc\u001b[39m=\u001b[39mploc, plabel\u001b[39m=\u001b[39mplabel, gloc\u001b[39m=\u001b[39mgloc, glabel\u001b[39m=\u001b[39mglabel)\n\u001b[1;32m---> 24\u001b[0m loss_sum \u001b[39m+\u001b[39m\u001b[39m=\u001b[39m loss\u001b[39m.\u001b[39mitem()\n\u001b[0;32m     25\u001b[0m loss\u001b[39m.\u001b[39mbackward()\n\u001b[0;32m     26\u001b[0m optimizer\u001b[39m.\u001b[39mstep()\n",
            "\u001b[1;31mKeyboardInterrupt\u001b[0m: "
          ]
        }
      ],
      "source": [
        "train_model(\n",
        "    model=model,\n",
        "    encoder = encoder,\n",
        "    num_epoch=50,\n",
        "    optimizer=optimizer,\n",
        "    loss_func = loss_func,\n",
        "    train_dataloader = train_dataloader,\n",
        "    val_dataloader = val_dataloader,\n",
        "    device  = device,\n",
        "    scheduler=scheduler,\n",
        "    path_to_save=Configs.path_to_save_state_model,\n",
        "    use_pick_best=Configs.use_pick_best_in_eval\n",
        ")"
      ]
    },
    {
      "cell_type": "code",
      "execution_count": null,
      "metadata": {},
      "outputs": [],
      "source": []
    },
    {
      "cell_type": "code",
      "execution_count": null,
      "metadata": {},
      "outputs": [],
      "source": []
    },
    {
      "cell_type": "code",
      "execution_count": null,
      "metadata": {},
      "outputs": [],
      "source": []
    }
  ],
  "metadata": {
    "kernelspec": {
      "display_name": ".venv",
      "language": "python",
      "name": "python3"
    },
    "language_info": {
      "codemirror_mode": {
        "name": "ipython",
        "version": 3
      },
      "file_extension": ".py",
      "mimetype": "text/x-python",
      "name": "python",
      "nbconvert_exporter": "python",
      "pygments_lexer": "ipython3",
      "version": "3.9.0"
    },
    "orig_nbformat": 4
  },
  "nbformat": 4,
  "nbformat_minor": 2
}
